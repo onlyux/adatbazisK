{
    "metadata": {
        "kernelspec": {
            "name": "SQL",
            "display_name": "SQL",
            "language": "sql"
        },
        "language_info": {
            "name": "sql",
            "version": ""
        }
    },
    "nbformat_minor": 2,
    "nbformat": 4,
    "cells": [
        {
            "cell_type": "markdown",
            "source": [
                "1. <span style=\"color: rgb(36, 41, 47); font-family: -apple-system, BlinkMacSystemFont, &quot;Segoe UI&quot;, Helvetica, Arial, sans-serif, &quot;Apple Color Emoji&quot;, &quot;Segoe UI Emoji&quot;; font-size: 16px;\">Készítsünk listát éves bontásban norbert2 azonosítójú ügyfél rendeléseinek értékéről!</span>\n",
                "\n",
                "1. A lista megfelelően jelölve tartalmazza a végösszeget is!"
            ],
            "metadata": {
                "azdata_cell_guid": "363cd270-6577-449b-9c89-d4b7c7972d52"
            },
            "attachments": {}
        },
        {
            "cell_type": "code",
            "source": [
                "SELECT IIF(GROUPING_ID(Year(r.REND_DATUM)) = 1, 'Összesen', CAST(YEAR(r.REND_DATUM) as nvarchar(4))),\r\n",
                "        SUM(rt.EGYSEGAR * rt.MENNYISEG)\r\n",
                "FROM Rendeles r JOIN Rendeles_tetel rt ON r.SORSZAM = rt.SORSZAM\r\n",
                "WHERE r.[LOGIN] = 'norbert2'\r\n",
                "GROUP BY ROLLUP(Year(r.REND_DATUM))"
            ],
            "metadata": {
                "azdata_cell_guid": "6ab9f633-a3b5-48c9-a1dc-4fb8235ae85b",
                "language": "sql"
            },
            "outputs": [],
            "execution_count": null
        },
        {
            "cell_type": "markdown",
            "source": [
                "2. <span style=\"color: rgb(36, 41, 47); font-family: -apple-system, BlinkMacSystemFont, &quot;Segoe UI&quot;, Helvetica, Arial, sans-serif, &quot;Apple Color Emoji&quot;, &quot;Segoe UI Emoji&quot;; font-size: 16px;\">Készítsünk listát szállítási dátumonként, azon belül szállítási módonként az egyes rendelések összmennyiségéről!</span>\n",
                "\n",
                "1. Csak azokat a termékeket vegyük figyelembe, amelyek mennyiségi egysége db!\n",
                "2. A listát szűrjük úgy, hogy az csak a részösszeg sorokat és a végösszeget tartalmazza!"
            ],
            "metadata": {
                "azdata_cell_guid": "ea75c103-911f-41a3-a32c-3d40fb3e4e4a"
            },
            "attachments": {}
        },
        {
            "cell_type": "code",
            "source": [
                "SELECT r.SZALL_DATUM,\r\n",
                "        r. SZALL_MOD,\r\n",
                "        -- GROUPING_ID(r.szall_datum, r.szall_mod),\r\n",
                "        COUNT(*)\r\n",
                "FROM Rendeles r \r\n",
                "        JOIN Rendeles_tetel rt ON r.SORSZAM = rt.SORSZAM\r\n",
                "        JOIN Termek t ON rt.TERMEKKOD = t.TERMEKKOD\r\n",
                "WHERE t.MEGYS = 'db'\r\n",
                "GROUP BY ROLLUP(r.SZALL_DATUM, r.SZALL_MOD)\r\n",
                "HAVING GROUPING_ID(r.SZALL_DATUM, r.SZALL_MOD) > 0"
            ],
            "metadata": {
                "azdata_cell_guid": "222b9618-a8e8-42b4-a8e8-d002257122b7",
                "language": "sql"
            },
            "outputs": [],
            "execution_count": null
        },
        {
            "cell_type": "markdown",
            "source": [
                "```\n",
                "3. Hány olyan ügyfél van, aki még nem rendelt semmit?\n",
                "```\n",
                "\n",
                "1. Csoportosítsuk őket nem szerint, azon belül életkor szerint!\n",
                "2. A lista tartalmazza a részösszegeket és a végösszeget is!\n",
                "\n",
                "![](https://moodle.uni-corvinus.hu/theme/image.php/adaptable/atto_h5p/1709548862/icon)"
            ],
            "metadata": {
                "azdata_cell_guid": "d7876bb9-76d0-4d07-baed-3cb17b2f96c3"
            },
            "attachments": {}
        },
        {
            "cell_type": "code",
            "source": [
                "\r\n",
                "FROM Termek"
            ],
            "metadata": {
                "azdata_cell_guid": "56ec19ce-e249-4551-b2a8-f17569765acc",
                "language": "sql",
                "tags": [
                    "hide_input"
                ]
            },
            "outputs": [],
            "execution_count": null
        },
        {
            "cell_type": "markdown",
            "source": [
                "4. <span style=\"color: rgb(36, 41, 47); font-family: -apple-system, BlinkMacSystemFont, &quot;Segoe UI&quot;, Helvetica, Arial, sans-serif, &quot;Apple Color Emoji&quot;, &quot;Segoe UI Emoji&quot;; font-size: 16px;\">Készítsünk listát a megrendelt termékek legkisebb és legnagyobb egységáráról szállítási dátum, azon belül szállítási mód szerinti bontásban!</span>\n",
                "\n",
                "1. A lista csak a 2015 májusi szállításokat tartalmazza!\n",
                "2. Jelenítsük meg a részösszegeket és a végösszeget is!"
            ],
            "metadata": {
                "azdata_cell_guid": "8e7fef82-8022-49a0-8255-fc2846c2134b"
            },
            "attachments": {}
        },
        {
            "cell_type": "code",
            "source": [
                ""
            ],
            "metadata": {
                "azdata_cell_guid": "36f7b396-4a1f-45e5-8720-2302537c91bc",
                "language": "sql"
            },
            "outputs": [],
            "execution_count": null
        },
        {
            "cell_type": "markdown",
            "source": [
                "5. <span style=\"color: rgb(36, 41, 47); font-family: -apple-system, BlinkMacSystemFont, &quot;Segoe UI&quot;, Helvetica, Arial, sans-serif, &quot;Apple Color Emoji&quot;, &quot;Segoe UI Emoji&quot;; font-size: 16px;\">Készítsünk csoportot a termékek listaára alapján a következők szerint:&nbsp;<br></span> <span style=\"color: rgb(36, 41, 47); font-family: -apple-system, BlinkMacSystemFont, &quot;Segoe UI&quot;, Helvetica, Arial, sans-serif, &quot;Apple Color Emoji&quot;, &quot;Segoe UI Emoji&quot;; font-size: 16px;\">Az \"olcsó\" termékek legyenek azok, amelyek listaára 3000 alatt van.<br>&nbsp;A \"drága\" termékek legyenek az 5000 felettiek, a többi legyen \"közepes\".</span>\n",
                "\n",
                "1. Listázzuk az egyes csoportokat, és a csoportokba tartozó termékek darabszámát!\n",
                "2. A lista jelenítse meg a végösszeget is!"
            ],
            "metadata": {
                "azdata_cell_guid": "84239ca2-6b5e-49f5-9860-d44c11d6de32"
            },
            "attachments": {}
        },
        {
            "cell_type": "code",
            "source": [
                ""
            ],
            "metadata": {
                "azdata_cell_guid": "06d9a62b-9430-424b-a135-d80e675f0eb3",
                "language": "sql"
            },
            "outputs": [],
            "execution_count": null
        },
        {
            "cell_type": "markdown",
            "source": [
                "6. <span style=\"font-weight: 600; color: rgb(36, 41, 47); font-family: -apple-system, BlinkMacSystemFont, &quot;Segoe UI&quot;, Helvetica, Arial, sans-serif, &quot;Apple Color Emoji&quot;, &quot;Segoe UI Emoji&quot;; font-size: 16px;\">Készítsünk listát az ügyfelek adatairól név szerinti sorrendben.</span>\n",
                "\n",
                "1. Minden sorban jelenjen meg a sorrend szerint előző, illetve következő ügyfél neve is.\n",
                "2. Ha nincs előző vagy következő ügyfél, akkor a 'Nincs' jelenjen meg!"
            ],
            "metadata": {
                "azdata_cell_guid": "b0d15045-3c43-4f3a-b8d4-76b4f24e5546"
            },
            "attachments": {}
        },
        {
            "cell_type": "code",
            "source": [
                "select *,\r\n",
                "    LAG(Nev, 1, 'Nincs') OVER(Order by Nev),\r\n",
                "    LEAD(Nev, 1, 'Nincs') Over(order by Nev)\r\n",
                "from Ugyfel"
            ],
            "metadata": {
                "azdata_cell_guid": "f2b7400d-1255-40ac-9250-4d57f9da5357",
                "language": "sql"
            },
            "outputs": [
                {
                    "output_type": "display_data",
                    "data": {
                        "text/html": "(200 rows affected)"
                    },
                    "metadata": {}
                },
                {
                    "output_type": "display_data",
                    "data": {
                        "text/html": "Total execution time: 00:00:00.015"
                    },
                    "metadata": {}
                },
                {
                    "output_type": "execute_result",
                    "metadata": {},
                    "execution_count": 36,
                    "data": {
                        "application/vnd.dataresource+json": {
                            "schema": {
                                "fields": [
                                    {
                                        "name": "LOGIN"
                                    },
                                    {
                                        "name": "EMAIL"
                                    },
                                    {
                                        "name": "NEV"
                                    },
                                    {
                                        "name": "SZULEV"
                                    },
                                    {
                                        "name": "NEM"
                                    },
                                    {
                                        "name": "CIM"
                                    },
                                    {
                                        "name": "(No column name)"
                                    },
                                    {
                                        "name": "(No column name)"
                                    }
                                ]
                            },
                            "data": [
                                {
                                    "LOGIN": "david",
                                    "EMAIL": "david@gmail.com",
                                    "NEV": "Ambrus Dávid",
                                    "SZULEV": "1974",
                                    "NEM": "F",
                                    "CIM": "1149 Budapest, Fő út 18.",
                                    "(No column name)": "Andor Ibolya"
                                },
                                {
                                    "LOGIN": "IBOLYAA",
                                    "EMAIL": "ibolya.andor@mail.hu",
                                    "NEV": "Andor Ibolya",
                                    "SZULEV": "1983",
                                    "NEM": "N",
                                    "CIM": "9023 Győr, Posta köz 2.",
                                    "(No column name)": "Antal László"
                                },
                                {
                                    "LOGIN": "LASZLOA",
                                    "EMAIL": "lászló.antal@mail.hu",
                                    "NEV": "Antal László",
                                    "SZULEV": "1969",
                                    "NEM": "F",
                                    "CIM": "2484 Agárd, Bécsi utca 82.",
                                    "(No column name)": "Antal Tamás"
                                },
                                {
                                    "LOGIN": "tamas",
                                    "EMAIL": "tamás.antal@mail.hu",
                                    "NEV": "Antal Tamás",
                                    "SZULEV": "1984",
                                    "NEM": "F",
                                    "CIM": "4440 Tiszavasvári, Posta köz 2.",
                                    "(No column name)": "Back András"
                                },
                                {
                                    "LOGIN": "andras4",
                                    "EMAIL": "andras4@gmail.com",
                                    "NEV": "Back András",
                                    "SZULEV": "1984",
                                    "NEM": "F",
                                    "CIM": "3783 Edelény, Fő út 169.",
                                    "(No column name)": "Bagi Beáta"
                                },
                                {
                                    "LOGIN": "beata4",
                                    "EMAIL": "beáta.bagi@mail.hu",
                                    "NEV": "Bagi Beáta",
                                    "SZULEV": "1994",
                                    "NEM": "N",
                                    "CIM": "8477 Tüskevár, Felszabadulás utca 32.",
                                    "(No column name)": "Bagóczki Alexandra"
                                },
                                {
                                    "LOGIN": "alexandra",
                                    "EMAIL": "alexandra.bagóczki@mail.hu",
                                    "NEV": "Bagóczki Alexandra",
                                    "SZULEV": "1992",
                                    "NEM": "N",
                                    "CIM": "2381 Táborfalva, Petőfi utca 1/2.",
                                    "(No column name)": "Bajusz Bence"
                                },
                                {
                                    "LOGIN": "BENCEB",
                                    "EMAIL": "bence.bajusz@mail.hu",
                                    "NEV": "Bajusz Bence",
                                    "SZULEV": "1973",
                                    "NEM": "F",
                                    "CIM": "8391 Sármellék, Fő utca 56.",
                                    "(No column name)": "Bakó Klaudia"
                                },
                                {
                                    "LOGIN": "klaudia2",
                                    "EMAIL": "klaudia.bakó@mail.hu",
                                    "NEV": "Bakó Klaudia",
                                    "SZULEV": "1982",
                                    "NEM": "N",
                                    "CIM": "8254 Kővágóörs, Kossuth Lajos utca 6.",
                                    "(No column name)": "Bakódy Balázs"
                                },
                                {
                                    "LOGIN": "balazs3",
                                    "EMAIL": "balazs3@gmail.com",
                                    "NEV": "Bakódy Balázs",
                                    "SZULEV": "1986",
                                    "NEM": "F",
                                    "CIM": "2131 Göd, Arany János utca 1.",
                                    "(No column name)": "Balla Miklós"
                                },
                                {
                                    "LOGIN": "MIKLOSB",
                                    "EMAIL": "miklós.balla@mail.hu",
                                    "NEV": "Balla Miklós",
                                    "SZULEV": "1979",
                                    "NEM": "F",
                                    "CIM": "4060 Balmazújváros, Szent István utca 2.",
                                    "(No column name)": "Balogh Eszter"
                                },
                                {
                                    "LOGIN": "eszter2",
                                    "EMAIL": "eszter.balogh@mail.hu",
                                    "NEV": "Balogh Eszter",
                                    "SZULEV": "1998",
                                    "NEM": "N",
                                    "CIM": "6760 Kistelek, Kossuth utca 11.",
                                    "(No column name)": "Barabás Pál"
                                },
                                {
                                    "LOGIN": "pal",
                                    "EMAIL": "pál.barabás@mail.hu",
                                    "NEV": "Barabás Pál",
                                    "SZULEV": "1968",
                                    "NEM": "F",
                                    "CIM": "1183 Budapest, Szolnoki út 8.",
                                    "(No column name)": "Baráth Mária"
                                },
                                {
                                    "LOGIN": "maria1",
                                    "EMAIL": "mária.baráth@mail.hu",
                                    "NEV": "Baráth Mária",
                                    "SZULEV": "1995",
                                    "NEM": "N",
                                    "CIM": "1047 Budapest, Posta köz 2.",
                                    "(No column name)": "Bárci Gusztáv"
                                },
                                {
                                    "LOGIN": "gusztav",
                                    "EMAIL": "gusztav@gmail.com",
                                    "NEV": "Bárci Gusztáv",
                                    "SZULEV": "1967",
                                    "NEM": "F",
                                    "CIM": "3643 Dédestapolcsány, Endrődi Sándor utca 47.",
                                    "(No column name)": "Barkóci Ádám"
                                },
                                {
                                    "LOGIN": "adam3",
                                    "EMAIL": "adam3@gmail.com",
                                    "NEV": "Barkóci Ádám",
                                    "SZULEV": "1970",
                                    "NEM": "F",
                                    "CIM": "3910 Tokaj, Dózsa György utca 37.",
                                    "(No column name)": "Barna Debóra"
                                },
                                {
                                    "LOGIN": "debora",
                                    "EMAIL": "debóra.barna@mail.hu",
                                    "NEV": "Barna Debóra",
                                    "SZULEV": "1976",
                                    "NEM": "N",
                                    "CIM": "1155 Budapest, Fő út 169.",
                                    "(No column name)": "Barna Zoltán"
                                },
                                {
                                    "LOGIN": "zoltan4",
                                    "EMAIL": "zoltan4@gmail.com",
                                    "NEV": "Barna Zoltán",
                                    "SZULEV": "1986",
                                    "NEM": "F",
                                    "CIM": "8313 Balatongyörök, Jászai tér 21.",
                                    "(No column name)": "Baróti Attila"
                                },
                                {
                                    "LOGIN": "attila4",
                                    "EMAIL": "attila.baróti@mail.hu",
                                    "NEV": "Baróti Attila",
                                    "SZULEV": "1975",
                                    "NEM": "F",
                                    "CIM": "7149 Báta, Arany János utca 3.",
                                    "(No column name)": "Barta Zsuzsanna"
                                },
                                {
                                    "LOGIN": "zsuzsanna",
                                    "EMAIL": "zsuzsanna.barta@mail.hu",
                                    "NEV": "Barta Zsuzsanna",
                                    "SZULEV": "1994",
                                    "NEM": "N",
                                    "CIM": "4172 Biharnagybajom, Dózsa György utca 37.",
                                    "(No column name)": "Berendi Péter"
                                },
                                {
                                    "LOGIN": "PETERB",
                                    "EMAIL": "péter.berendi@mail.hu",
                                    "NEV": "Berendi Péter",
                                    "SZULEV": "1969",
                                    "NEM": "F",
                                    "CIM": "3980 Sátoraljaújhely, Vasút utca 4/10.",
                                    "(No column name)": "Béres Norbert"
                                },
                                {
                                    "LOGIN": "norbert5",
                                    "EMAIL": "norbert5@gmail.com",
                                    "NEV": "Béres Norbert",
                                    "SZULEV": "1975",
                                    "NEM": "F",
                                    "CIM": "8640 Fonyód, Bajcsy-Zsilinszky utca 4.",
                                    "(No column name)": "Berta Dávid"
                                },
                                {
                                    "LOGIN": "david4",
                                    "EMAIL": "david4@gmail.com",
                                    "NEV": "Berta Dávid",
                                    "SZULEV": "1990",
                                    "NEM": "F",
                                    "CIM": "3500 Miskolc, Balatoni út 12.",
                                    "(No column name)": "Bieniek Ádám"
                                },
                                {
                                    "LOGIN": "adam4",
                                    "EMAIL": "ádám.bieniek@mail.hu",
                                    "NEV": "Bieniek Ádám",
                                    "SZULEV": "1976",
                                    "NEM": "F",
                                    "CIM": "8630 Balatonboglár, Juhászföldi út 1.",
                                    "(No column name)": "Bíró Ákos"
                                },
                                {
                                    "LOGIN": "akos",
                                    "EMAIL": "ákos.bíró@mail.hu",
                                    "NEV": "Bíró Ákos",
                                    "SZULEV": "1982",
                                    "NEM": "F",
                                    "CIM": "9023 Győr, Kossuth Lajos utca 47/b.",
                                    "(No column name)": "Biró Alexander"
                                },
                                {
                                    "LOGIN": "alexis",
                                    "EMAIL": "alexbiro@gmail.com",
                                    "NEV": "Biró Alexander",
                                    "SZULEV": "2000",
                                    "NEM": "F",
                                    "CIM": "6914 Pitvaros, Deák F. u. 38.",
                                    "(No column name)": "Bíró Péter"
                                },
                                {
                                    "LOGIN": "peter4",
                                    "EMAIL": "péter.bíró@mail.hu",
                                    "NEV": "Bíró Péter",
                                    "SZULEV": "1985",
                                    "NEM": "F",
                                    "CIM": "5137 Jászkisér, Rákóczi utca 67.",
                                    "(No column name)": "Bittmann Edit"
                                },
                                {
                                    "LOGIN": "edit",
                                    "EMAIL": "edit.bittmann@mail.hu",
                                    "NEV": "Bittmann Edit",
                                    "SZULEV": "1984",
                                    "NEM": "N",
                                    "CIM": "6077 Orgovány, Fő utca 60.",
                                    "(No column name)": "Bodor Szabolcs"
                                },
                                {
                                    "LOGIN": "szabolcs",
                                    "EMAIL": "szabolcs.bodor@mail.hu",
                                    "NEV": "Bodor Szabolcs",
                                    "SZULEV": "1990",
                                    "NEM": "F",
                                    "CIM": "6786 Ruzsa, Ady Endre út 27.",
                                    "(No column name)": "Bori Krisztina"
                                },
                                {
                                    "LOGIN": "krisztina1",
                                    "EMAIL": "krisztina.bori@mail.hu",
                                    "NEV": "Bori Krisztina",
                                    "SZULEV": "1969",
                                    "NEM": "N",
                                    "CIM": "2115 Vácszentlászló, Fő utca 47.",
                                    "(No column name)": "Boros Vivien"
                                },
                                {
                                    "LOGIN": "vivien3",
                                    "EMAIL": "vivien3@gmail.com",
                                    "NEV": "Boros Vivien",
                                    "SZULEV": "1991",
                                    "NEM": "N",
                                    "CIM": "2117 Isaszeg, Fő út 122.",
                                    "(No column name)": "Bosnyák Ilona"
                                },
                                {
                                    "LOGIN": "ilona3",
                                    "EMAIL": "ilona3@gmail.com",
                                    "NEV": "Bosnyák Ilona",
                                    "SZULEV": "1990",
                                    "NEM": "N",
                                    "CIM": "2483 Gárdony, Posta köz 2.",
                                    "(No column name)": "Botka Mátyás"
                                },
                                {
                                    "LOGIN": "matyas2",
                                    "EMAIL": "matyas2@gmail.com",
                                    "NEV": "Botka Mátyás",
                                    "SZULEV": "1972",
                                    "NEM": "F",
                                    "CIM": "2700 Cegléd, Kossuth Lajos utca 6.",
                                    "(No column name)": "Bozsik Balázs"
                                },
                                {
                                    "LOGIN": "balazs1",
                                    "EMAIL": "balázs.bozsik@mail.hu",
                                    "NEV": "Bozsik Balázs",
                                    "SZULEV": "1992",
                                    "NEM": "F",
                                    "CIM": "2300 Ráckeve, Bécsi utca 82.",
                                    "(No column name)": "Bozsó Péter"
                                },
                                {
                                    "LOGIN": "peter2",
                                    "EMAIL": "peter2@gmail.com",
                                    "NEV": "Bozsó Péter",
                                    "SZULEV": "1976",
                                    "NEM": "F",
                                    "CIM": "4800 Vásárosnamény, Zombori út 2/A",
                                    "(No column name)": "Böröcz Anikó"
                                },
                                {
                                    "LOGIN": "aniko4",
                                    "EMAIL": "aniko4@gmail.com",
                                    "NEV": "Böröcz Anikó",
                                    "SZULEV": "1978",
                                    "NEM": "N",
                                    "CIM": "2484 Agárd, Petőfi Sándor tér 1.",
                                    "(No column name)": "Bucskó Róza"
                                },
                                {
                                    "LOGIN": "roza2",
                                    "EMAIL": "roza2@gmail.com",
                                    "NEV": "Bucskó Róza",
                                    "SZULEV": "1988",
                                    "NEM": "N",
                                    "CIM": "5661 Újkígyós, Arany János utca 3.",
                                    "(No column name)": "Búza Imre"
                                },
                                {
                                    "LOGIN": "imre",
                                    "EMAIL": "imre.búza@mail.hu",
                                    "NEV": "Búza Imre",
                                    "SZULEV": "1988",
                                    "NEM": "F",
                                    "CIM": "9181 Kimle, Petőfi Sándor tér 1.",
                                    "(No column name)": "Czérna Krisztián"
                                },
                                {
                                    "LOGIN": "krisztian4",
                                    "EMAIL": "krisztián.czérna@mail.hu",
                                    "NEV": "Czérna Krisztián",
                                    "SZULEV": "1970",
                                    "NEM": "F",
                                    "CIM": "1107 Budapest, Dózsa György utca 37.",
                                    "(No column name)": "Csiger Bertalan"
                                },
                                {
                                    "LOGIN": "bertalan",
                                    "EMAIL": "bertalan@gmail.com",
                                    "NEV": "Csiger Bertalan",
                                    "SZULEV": "1977",
                                    "NEM": "F",
                                    "CIM": "1192 Budapest, Fő út 169.",
                                    "(No column name)": "Csóti Attila"
                                },
                                {
                                    "LOGIN": "attila",
                                    "EMAIL": "attila@gmail.com",
                                    "NEV": "Csóti Attila",
                                    "SZULEV": "1979",
                                    "NEM": "F",
                                    "CIM": "3000 Hatvan, Bajcsy-Zsilinszky utca 4.",
                                    "(No column name)": "Dániel Tibor"
                                },
                                {
                                    "LOGIN": "tibor2",
                                    "EMAIL": "tibor2@gmail.com",
                                    "NEV": "Dániel Tibor",
                                    "SZULEV": "1985",
                                    "NEM": "F",
                                    "CIM": "6646 Tömörkény, Árpád utca 23.",
                                    "(No column name)": "Dunai Aladár"
                                },
                                {
                                    "LOGIN": "aladar",
                                    "EMAIL": "aladár.dunai@mail.hu",
                                    "NEV": "Dunai Aladár",
                                    "SZULEV": "1980",
                                    "NEM": "F",
                                    "CIM": "5931 Nagyszénás, Árpád utca 23.",
                                    "(No column name)": "Dusha Tímea"
                                },
                                {
                                    "LOGIN": "timea2",
                                    "EMAIL": "tímea.dusha@mail.hu",
                                    "NEV": "Dusha Tímea",
                                    "SZULEV": "1975",
                                    "NEM": "N",
                                    "CIM": "5920 Csorvás, Kossuth utca 8.",
                                    "(No column name)": "Endresz Bálint"
                                },
                                {
                                    "LOGIN": "balu",
                                    "EMAIL": "bálint.endresz@mail.hu",
                                    "NEV": "Endresz Bálint",
                                    "SZULEV": "1976",
                                    "NEM": "F",
                                    "CIM": "3973 Cigánd, Fő út 169.",
                                    "(No column name)": "Enyedi Éva"
                                },
                                {
                                    "LOGIN": "eva",
                                    "EMAIL": "eva@gmail.com",
                                    "NEV": "Enyedi Éva",
                                    "SZULEV": "1967",
                                    "NEM": "N",
                                    "CIM": "4231 Bököny, Petőfi utca 8.",
                                    "(No column name)": "Erdei András"
                                },
                                {
                                    "LOGIN": "ANDRASE",
                                    "EMAIL": "ANDRASE@gmail.com",
                                    "NEV": "Erdei András",
                                    "SZULEV": "1997",
                                    "NEM": "F",
                                    "CIM": "5071 Besenyszög, Szolnoki út 8.",
                                    "(No column name)": "Érsek Eszter"
                                },
                                {
                                    "LOGIN": "ESZTERE",
                                    "EMAIL": "eszter.érsek@mail.hu",
                                    "NEV": "Érsek Eszter",
                                    "SZULEV": "1978",
                                    "NEM": "N",
                                    "CIM": "6785 Pusztamérges, Kossuth Lajos utca 6.",
                                    "(No column name)": "Farkas Béla"
                                },
                                {
                                    "LOGIN": "BELAF",
                                    "EMAIL": "BELAF@gmail.com",
                                    "NEV": "Farkas Béla",
                                    "SZULEV": "1995",
                                    "NEM": "F",
                                    "CIM": "5530 Vésztő, Petőfi Sándor utca 3.",
                                    "(No column name)": "Farkas László"
                                },
                                {
                                    "LOGIN": "laszlo1",
                                    "EMAIL": "lászló.farkas@mail.hu",
                                    "NEV": "Farkas László",
                                    "SZULEV": "1967",
                                    "NEM": "F",
                                    "CIM": "5200 Törökszentmiklós, Rendeki utca 21.",
                                    "(No column name)": "Farkas Sándor"
                                },
                                {
                                    "LOGIN": "sandor3",
                                    "EMAIL": "sándor.farkas@mail.hu",
                                    "NEV": "Farkas Sándor",
                                    "SZULEV": "1989",
                                    "NEM": "F",
                                    "CIM": "8640 Fonyód, Tanácsköztársaság tér 1.",
                                    "(No column name)": "Farkas Sára"
                                },
                                {
                                    "LOGIN": "sara",
                                    "EMAIL": "sára.farkas@mail.hu",
                                    "NEV": "Farkas Sára",
                                    "SZULEV": "1973",
                                    "NEM": "N",
                                    "CIM": "5940 Tótkomlós, Felszabadulás utca 32.",
                                    "(No column name)": "Fényes Tamás"
                                },
                                {
                                    "LOGIN": "TAMASF",
                                    "EMAIL": "TAMASF@gmail.com",
                                    "NEV": "Fényes Tamás",
                                    "SZULEV": "1997",
                                    "NEM": "F",
                                    "CIM": "9023 Győr, Arany János utca 1.",
                                    "(No column name)": "Ferencz Roland"
                                },
                                {
                                    "LOGIN": "roland1",
                                    "EMAIL": "roland.ferencz@mail.hu",
                                    "NEV": "Ferencz Roland",
                                    "SZULEV": "1985",
                                    "NEM": "F",
                                    "CIM": "2424 Előszállás, Fő út 169.",
                                    "(No column name)": "Feró Valentin"
                                },
                                {
                                    "LOGIN": "valentin",
                                    "EMAIL": "valentin.feró@mail.hu",
                                    "NEV": "Feró Valentin",
                                    "SZULEV": "1986",
                                    "NEM": "F",
                                    "CIM": "3895 Gönc, Búvár utca 4.",
                                    "(No column name)": "Fodor Zoltán"
                                },
                                {
                                    "LOGIN": "zoltan",
                                    "EMAIL": "zoltán.fodor@mail.hu",
                                    "NEV": "Fodor Zoltán",
                                    "SZULEV": "1979",
                                    "NEM": "F",
                                    "CIM": "3441 Mezőkeresztes, Fő utca 23.",
                                    "(No column name)": "Foltényi Sebastián"
                                },
                                {
                                    "LOGIN": "SEBASTIANF",
                                    "EMAIL": "SEBASTIANF@gmail.com",
                                    "NEV": "Foltényi Sebastián",
                                    "SZULEV": "1992",
                                    "NEM": "F",
                                    "CIM": "7960 Sellye, Grassalkovich út 10.",
                                    "(No column name)": "Fő Nándor"
                                },
                                {
                                    "LOGIN": "NANDORF",
                                    "EMAIL": "nándor.fő@mail.hu",
                                    "NEV": "Fő Nándor",
                                    "SZULEV": "1968",
                                    "NEM": "F",
                                    "CIM": "5920 Csorvás, Bécsi utca 82.",
                                    "(No column name)": "Frank Fruzsina"
                                },
                                {
                                    "LOGIN": "fruzsina4",
                                    "EMAIL": "fruzsina4@gmail.com",
                                    "NEV": "Frank Fruzsina",
                                    "SZULEV": "1996",
                                    "NEM": "N",
                                    "CIM": "9700 Szombathely, Szabadság utca 95.",
                                    "(No column name)": "Fülöp Eszter"
                                },
                                {
                                    "LOGIN": "eszter4",
                                    "EMAIL": "eszter.fülöp@mail.hu",
                                    "NEV": "Fülöp Eszter",
                                    "SZULEV": "1993",
                                    "NEM": "N",
                                    "CIM": "3643 Dédestapolcsány, Kossuth Lajos utca 47/b.",
                                    "(No column name)": "Gergely József"
                                },
                                {
                                    "LOGIN": "jozsef",
                                    "EMAIL": "jozsef@gmail.com",
                                    "NEV": "Gergely József",
                                    "SZULEV": "1985",
                                    "NEM": "F",
                                    "CIM": "6050 Lajosmizse, Fő út 18.",
                                    "(No column name)": "Giliga János"
                                },
                                {
                                    "LOGIN": "JANOSG",
                                    "EMAIL": "JANOSG@gmail.com",
                                    "NEV": "Giliga János",
                                    "SZULEV": "1975",
                                    "NEM": "F",
                                    "CIM": "3300 Eger, Deák Ferenc út 5.",
                                    "(No column name)": "Gombos Tibor"
                                },
                                {
                                    "LOGIN": "tibor",
                                    "EMAIL": "tibor.gombos@mail.hu",
                                    "NEV": "Gombos Tibor",
                                    "SZULEV": "1993",
                                    "NEM": "F",
                                    "CIM": "7100 Szekszárd, Kossuth utca 77.",
                                    "(No column name)": "Gondos Katalin"
                                },
                                {
                                    "LOGIN": "kata",
                                    "EMAIL": "katalin.gondos@mail.hu",
                                    "NEV": "Gondos Katalin",
                                    "SZULEV": "1968",
                                    "NEM": "N",
                                    "CIM": "8237 Tihany, Kossuth Lajos utca 6.",
                                    "(No column name)": "Gondos Miklós"
                                },
                                {
                                    "LOGIN": "miklos2",
                                    "EMAIL": "miklos2@gmail.com",
                                    "NEV": "Gondos Miklós",
                                    "SZULEV": "1995",
                                    "NEM": "F",
                                    "CIM": "2100 Gödöllő, Árpád utca 23.",
                                    "(No column name)": "Gulyás Attila"
                                },
                                {
                                    "LOGIN": "attila1",
                                    "EMAIL": "attila.gulyás@mail.hu",
                                    "NEV": "Gulyás Attila",
                                    "SZULEV": "1982",
                                    "NEM": "F",
                                    "CIM": "3881 Abaújszántó, Szolnoki út 8.",
                                    "(No column name)": "Gyárfás Krisztina"
                                },
                                {
                                    "LOGIN": "KRISZTINAG",
                                    "EMAIL": "KRISZTINAG@gmail.com",
                                    "NEV": "Gyárfás Krisztina",
                                    "SZULEV": "1987",
                                    "NEM": "N",
                                    "CIM": "6762 Sándorfalva, Arany János utca 1.",
                                    "(No column name)": "Győrffy Bence"
                                },
                                {
                                    "LOGIN": "bence",
                                    "EMAIL": "bence@gmail.com",
                                    "NEV": "Győrffy Bence",
                                    "SZULEV": "1987",
                                    "NEM": "F",
                                    "CIM": "6900 Makó, Árpád utca 23.",
                                    "(No column name)": "Gyuris József"
                                },
                                {
                                    "LOGIN": "JOZSEFG",
                                    "EMAIL": "józsef.gyuris@mail.hu",
                                    "NEV": "Gyuris József",
                                    "SZULEV": "1975",
                                    "NEM": "F",
                                    "CIM": "2660 Balassagyarmat, Petőfi utca 1/2.",
                                    "(No column name)": "Hamvay-Kovács Anita"
                                },
                                {
                                    "LOGIN": "anita",
                                    "EMAIL": "anita.hamvay-kovács@mail.hu",
                                    "NEV": "Hamvay-Kovács Anita",
                                    "SZULEV": "1971",
                                    "NEM": "N",
                                    "CIM": "7220 Sarkad, Táncsics utca 19.",
                                    "(No column name)": "Harangozó János"
                                },
                                {
                                    "LOGIN": "janos3",
                                    "EMAIL": "janos3@gmail.com",
                                    "NEV": "Harangozó János",
                                    "SZULEV": "1967",
                                    "NEM": "F",
                                    "CIM": "8700 Marcali, Petőfi Sándor tér 1.",
                                    "(No column name)": "Hartyánszky Ágnes"
                                },
                                {
                                    "LOGIN": "agnes3",
                                    "EMAIL": "agnes3@gmail.com",
                                    "NEV": "Hartyánszky Ágnes",
                                    "SZULEV": "1967",
                                    "NEM": "N",
                                    "CIM": "6430 Bácsalmás, Posta köz 2.",
                                    "(No column name)": "Hegedűs Norbert"
                                },
                                {
                                    "LOGIN": "norbert2",
                                    "EMAIL": "norbert.hegedűs@mail.hu",
                                    "NEV": "Hegedűs Norbert",
                                    "SZULEV": "1991",
                                    "NEM": "F",
                                    "CIM": "2081 Piliscsaba, Rendeki utca 21.",
                                    "(No column name)": "Hídasi Judit"
                                },
                                {
                                    "LOGIN": "JUDITH",
                                    "EMAIL": "JUDITH@gmail.com",
                                    "NEV": "Hídasi Judit",
                                    "SZULEV": "1997",
                                    "NEM": "N",
                                    "CIM": "2100 Gödöllő, Fő út 169.",
                                    "(No column name)": "Horváth Ágnes"
                                },
                                {
                                    "LOGIN": "AGNESH",
                                    "EMAIL": "AGNESH@gmail.com",
                                    "NEV": "Horváth Ágnes",
                                    "SZULEV": "1981",
                                    "NEM": "N",
                                    "CIM": "8200 Veszprém, Rákóczi utca 21.",
                                    "(No column name)": "Horváth Árpád"
                                },
                                {
                                    "LOGIN": "ARPADH",
                                    "EMAIL": "árpád.horváth@mail.hu",
                                    "NEV": "Horváth Árpád",
                                    "SZULEV": "1990",
                                    "NEM": "F",
                                    "CIM": "7349 Szászvár, Dózsa György u. 1.",
                                    "(No column name)": "Horváth Bálint"
                                },
                                {
                                    "LOGIN": "balint",
                                    "EMAIL": "balint@gmail.com",
                                    "NEV": "Horváth Bálint",
                                    "SZULEV": "1996",
                                    "NEM": "F",
                                    "CIM": "6646 Tömörkény, Endrődi Sándor utca 47.",
                                    "(No column name)": "Horváth Katalin"
                                },
                                {
                                    "LOGIN": "katalin",
                                    "EMAIL": "katalin.horváth@mail.hu",
                                    "NEV": "Horváth Katalin",
                                    "SZULEV": "1968",
                                    "NEM": "N",
                                    "CIM": "2424 Előszállás, Rákóczi út 200.",
                                    "(No column name)": "Horváth Krisztina"
                                },
                                {
                                    "LOGIN": "kriszti",
                                    "EMAIL": "kriszti@gmail.com",
                                    "NEV": "Horváth Krisztina",
                                    "SZULEV": "1978",
                                    "NEM": "N",
                                    "CIM": "6060 Tiszakécske, Árpád utca 4.",
                                    "(No column name)": "Horváth Márk"
                                },
                                {
                                    "LOGIN": "MARKH",
                                    "EMAIL": "márk.horváth@mail.hu",
                                    "NEV": "Horváth Márk",
                                    "SZULEV": "1997",
                                    "NEM": "F",
                                    "CIM": "4400 Nyíregyháza, Badacsonyi utca 12.",
                                    "(No column name)": "Horváth Nikolett"
                                },
                                {
                                    "LOGIN": "nikolett3",
                                    "EMAIL": "nikolett3@gmail.com",
                                    "NEV": "Horváth Nikolett",
                                    "SZULEV": "1981",
                                    "NEM": "N",
                                    "CIM": "1072 Budapest, Arany János utca 1.",
                                    "(No column name)": "Iván Róbert"
                                },
                                {
                                    "LOGIN": "ROBERTI",
                                    "EMAIL": "róbert.iván@mail.hu",
                                    "NEV": "Iván Róbert",
                                    "SZULEV": "1967",
                                    "NEM": "F",
                                    "CIM": "2377 Örkény, Petőfi Sándor utca 3.",
                                    "(No column name)": "Jakab Áron"
                                },
                                {
                                    "LOGIN": "aron2",
                                    "EMAIL": "aron2@gmail.com",
                                    "NEV": "Jakab Áron",
                                    "SZULEV": "1971",
                                    "NEM": "F",
                                    "CIM": "7133 Fadd, Bajcsy-Zsilinszky utca 4.",
                                    "(No column name)": "Józsa Zsolt"
                                },
                                {
                                    "LOGIN": "ZSOLTJ",
                                    "EMAIL": "ZSOLTJ@gmail.com",
                                    "NEV": "Józsa Zsolt",
                                    "SZULEV": "1983",
                                    "NEM": "F",
                                    "CIM": "8315 Gyenesdiás, Bajcsy-Zsilinszky utca 4.",
                                    "(No column name)": "Juhász Mihály"
                                },
                                {
                                    "LOGIN": "MIHALYJ",
                                    "EMAIL": "mihály.juhász@mail.hu",
                                    "NEV": "Juhász Mihály",
                                    "SZULEV": "1979",
                                    "NEM": "F",
                                    "CIM": "6786 Ruzsa, Rákóczi utca 1.",
                                    "(No column name)": "Kalacsi Márton"
                                },
                                {
                                    "LOGIN": "marton",
                                    "EMAIL": "marton@gmail.com",
                                    "NEV": "Kalacsi Márton",
                                    "SZULEV": "1989",
                                    "NEM": "F",
                                    "CIM": "5137 Jászkisér, Fő út 169.",
                                    "(No column name)": "Karasz Sándor"
                                },
                                {
                                    "LOGIN": "sandor",
                                    "EMAIL": "sandor@gmail.com",
                                    "NEV": "Karasz Sándor",
                                    "SZULEV": "1970",
                                    "NEM": "F",
                                    "CIM": "8283 Káptalantóti, Kossuth Lajos utca 1/a.",
                                    "(No column name)": "Kardos Renáta"
                                },
                                {
                                    "LOGIN": "RENATAK",
                                    "EMAIL": "renáta.kardos@mail.hu",
                                    "NEV": "Kardos Renáta",
                                    "SZULEV": "1988",
                                    "NEM": "N",
                                    "CIM": "7086 Ozora, Bécsi utca 82.",
                                    "(No column name)": "Kazy Tihamér"
                                },
                                {
                                    "LOGIN": "tihamer",
                                    "EMAIL": "tihamér.kazy@mail.hu",
                                    "NEV": "Kazy Tihamér",
                                    "SZULEV": "1991",
                                    "NEM": "F",
                                    "CIM": "2370 Dabas, Fő utca 60.",
                                    "(No column name)": "Kelemen Áron"
                                },
                                {
                                    "LOGIN": "ARONK",
                                    "EMAIL": "áron.kelemen@mail.hu",
                                    "NEV": "Kelemen Áron",
                                    "SZULEV": "1989",
                                    "NEM": "F",
                                    "CIM": "8200 Veszprém, Petőfi utca 8.",
                                    "(No column name)": "Kerényi Beatrix"
                                },
                                {
                                    "LOGIN": "BEATRIXK",
                                    "EMAIL": "beatrix.kerényi@mail.hu",
                                    "NEV": "Kerényi Beatrix",
                                    "SZULEV": "1972",
                                    "NEM": "N",
                                    "CIM": "7396 Magyarszék, Kossuth Lajos utca 47/b.",
                                    "(No column name)": "Keresztúri Viktor"
                                },
                                {
                                    "LOGIN": "VIKTORK",
                                    "EMAIL": "viktor.keresztúri@mail.hu",
                                    "NEV": "Keresztúri Viktor",
                                    "SZULEV": "1989",
                                    "NEM": "F",
                                    "CIM": "2532 Tokodaltáró, Nagy Lajos tér 4.",
                                    "(No column name)": "Kertész Katalin"
                                },
                                {
                                    "LOGIN": "katalin4",
                                    "EMAIL": "katalin4@gmail.com",
                                    "NEV": "Kertész Katalin",
                                    "SZULEV": "1986",
                                    "NEM": "N",
                                    "CIM": "2800 Tatabánya, Búvár utca 4.",
                                    "(No column name)": "Keszler Dániel"
                                },
                                {
                                    "LOGIN": "daniel1",
                                    "EMAIL": "dániel.keszler@mail.hu",
                                    "NEV": "Keszler Dániel",
                                    "SZULEV": "1969",
                                    "NEM": "F",
                                    "CIM": "3580 Tiszaújváros, Kossuth Lajos utca 6.",
                                    "(No column name)": "Kispál Márk"
                                },
                                {
                                    "LOGIN": "mark",
                                    "EMAIL": "márk.kispál@mail.hu",
                                    "NEV": "Kispál Márk",
                                    "SZULEV": "1996",
                                    "NEM": "F",
                                    "CIM": "1086 Budapest, Juhászföldi út 1.",
                                    "(No column name)": "Kiss Ádám"
                                },
                                {
                                    "LOGIN": "adam1",
                                    "EMAIL": "ádám.kiss@mail.hu",
                                    "NEV": "Kiss Ádám",
                                    "SZULEV": "1991",
                                    "NEM": "F",
                                    "CIM": "5630 Békés, Szolnoki út 8.",
                                    "(No column name)": "Kiss Andrea"
                                },
                                {
                                    "LOGIN": "andrea",
                                    "EMAIL": "andrea.kiss@mail.hu",
                                    "NEV": "Kiss Andrea",
                                    "SZULEV": "1993",
                                    "NEM": "N",
                                    "CIM": "1113 Budapest, Petőfi Sándor utca 87.",
                                    "(No column name)": "Kiss Anita"
                                },
                                {
                                    "LOGIN": "kanita12",
                                    "EMAIL": "anita.kiss12@gmail.com",
                                    "NEV": "Kiss Anita",
                                    "SZULEV": "1975",
                                    "NEM": "N",
                                    "CIM": "2230 Gyömrő Fő tér 3.",
                                    "(No column name)": "Kiss Lajos"
                                },
                                {
                                    "LOGIN": "lajos",
                                    "EMAIL": "lajos.kiss@mail.hu",
                                    "NEV": "Kiss Lajos",
                                    "SZULEV": "1978",
                                    "NEM": "F",
                                    "CIM": "1077 Budapest, Dob utca 1",
                                    "(No column name)": "Komjáti András"
                                },
                                {
                                    "LOGIN": "andras41",
                                    "EMAIL": "andras41@gmail.com",
                                    "NEV": "Komjáti András",
                                    "SZULEV": "1997",
                                    "NEM": "F",
                                    "CIM": "5065 Nagykörű, Kossuth út 24.",
                                    "(No column name)": "Kornseé Gyöngyi"
                                },
                                {
                                    "LOGIN": "GYONGYIK",
                                    "EMAIL": "gyöngyi.kornseé@mail.hu",
                                    "NEV": "Kornseé Gyöngyi",
                                    "SZULEV": "1974",
                                    "NEM": "N",
                                    "CIM": "8800 Nagykanizsa, Fő út 60.",
                                    "(No column name)": "Kovács Ágnes"
                                },
                                {
                                    "LOGIN": "AGNESK",
                                    "EMAIL": "AGNESK@gmail.com",
                                    "NEV": "Kovács Ágnes",
                                    "SZULEV": "1988",
                                    "NEM": "N",
                                    "CIM": "1084 Budapest, Endrődi Sándor utca 47.",
                                    "(No column name)": "Kovács Bernadett"
                                },
                                {
                                    "LOGIN": "bernadett2",
                                    "EMAIL": "bernadett.kovács@mail.hu",
                                    "NEV": "Kovács Bernadett",
                                    "SZULEV": "1996",
                                    "NEM": "N",
                                    "CIM": "4200 Hajdúszoboszló, Fő út 122.",
                                    "(No column name)": "Kovács Katalin"
                                },
                                {
                                    "LOGIN": "katka",
                                    "EMAIL": "katalin.kovács@mail.hu",
                                    "NEV": "Kovács Katalin",
                                    "SZULEV": "1975",
                                    "NEM": "N",
                                    "CIM": "8254 Kővágóörs, Petőfi utca 22.",
                                    "(No column name)": "Koza Máté"
                                },
                                {
                                    "LOGIN": "MATEK",
                                    "EMAIL": "máté.koza@mail.hu",
                                    "NEV": "Koza Máté",
                                    "SZULEV": "1997",
                                    "NEM": "F",
                                    "CIM": "1011 Budapest, Központi telep 3.",
                                    "(No column name)": "Kozma Péter"
                                },
                                {
                                    "LOGIN": "peter1",
                                    "EMAIL": "peter1@gmail.com",
                                    "NEV": "Kozma Péter",
                                    "SZULEV": "1976",
                                    "NEM": "F",
                                    "CIM": "6913 Csanádpalota, Központi telep 3.",
                                    "(No column name)": "Kő Nikoletta"
                                },
                                {
                                    "LOGIN": "nikoletta4",
                                    "EMAIL": "nikoletta4@gmail.com",
                                    "NEV": "Kő Nikoletta",
                                    "SZULEV": "1972",
                                    "NEM": "N",
                                    "CIM": "5537 Zsadány, Fő út 18.",
                                    "(No column name)": "Köves Gábor"
                                },
                                {
                                    "LOGIN": "gabor1",
                                    "EMAIL": "gabor1@gmail.com",
                                    "NEV": "Köves Gábor",
                                    "SZULEV": "1973",
                                    "NEM": "F",
                                    "CIM": "6762 Sándorfalva, Árpád utca 23.",
                                    "(No column name)": "Kuruc Emese"
                                },
                                {
                                    "LOGIN": "emese",
                                    "EMAIL": "emese.kuruc@mail.hu",
                                    "NEV": "Kuruc Emese",
                                    "SZULEV": "1989",
                                    "NEM": "N",
                                    "CIM": "6700 Szeged, Rákóczi utca 67.",
                                    "(No column name)": "Lengyel Ágnes"
                                },
                                {
                                    "LOGIN": "agnes",
                                    "EMAIL": "agnes@gmail.com",
                                    "NEV": "Lengyel Ágnes",
                                    "SZULEV": "1979",
                                    "NEM": "N",
                                    "CIM": "5200 Törökszentmiklós, Deák Ferenc út 5.",
                                    "(No column name)": "Lukács Kornél"
                                },
                                {
                                    "LOGIN": "kornel4",
                                    "EMAIL": "kornél.lukács@mail.hu",
                                    "NEV": "Lukács Kornél",
                                    "SZULEV": "1975",
                                    "NEM": "F",
                                    "CIM": "2053 Herceghalom, Bécsi utca 82.",
                                    "(No column name)": "Maródi Andrea"
                                },
                                {
                                    "LOGIN": "andi",
                                    "EMAIL": "andrea.maródi@mail.hu",
                                    "NEV": "Maródi Andrea",
                                    "SZULEV": "1968",
                                    "NEM": "N",
                                    "CIM": "5465 Cserkeszőlő, Árpád utca 4.",
                                    "(No column name)": "Miklós Szabolcs"
                                },
                                {
                                    "LOGIN": "SZABOLCSM",
                                    "EMAIL": "szabolcs.miklós@mail.hu",
                                    "NEV": "Miklós Szabolcs",
                                    "SZULEV": "1980",
                                    "NEM": "F",
                                    "CIM": "1102 Budapest, Fő út 169.",
                                    "(No column name)": "Miklós Tamara"
                                },
                                {
                                    "LOGIN": "tamara2",
                                    "EMAIL": "tamara.miklós@mail.hu",
                                    "NEV": "Miklós Tamara",
                                    "SZULEV": "1980",
                                    "NEM": "N",
                                    "CIM": "3910 Tokaj, Kossuth út 39.",
                                    "(No column name)": "Mile Norbert"
                                },
                                {
                                    "LOGIN": "norbert4",
                                    "EMAIL": "norbert4@gmail.com",
                                    "NEV": "Mile Norbert",
                                    "SZULEV": "1983",
                                    "NEM": "F",
                                    "CIM": "3973 Cigánd, Bajcsy-Zsilinszky utca 4.",
                                    "(No column name)": "Mogyródi Krisztián"
                                },
                                {
                                    "LOGIN": "KRISZTIANM",
                                    "EMAIL": "KRISZTIANM@gmail.com",
                                    "NEV": "Mogyródi Krisztián",
                                    "SZULEV": "1968",
                                    "NEM": "F",
                                    "CIM": "9155 Lébény, Jászai tér 21.",
                                    "(No column name)": "Mohos Mónika"
                                },
                                {
                                    "LOGIN": "MONIKAM",
                                    "EMAIL": "mónika.mohos@mail.hu",
                                    "NEV": "Mohos Mónika",
                                    "SZULEV": "1974",
                                    "NEM": "N",
                                    "CIM": "2241 Sülysáp, Baracsi László utca 14.",
                                    "(No column name)": "Molnár András"
                                },
                                {
                                    "LOGIN": "andras21",
                                    "EMAIL": "andrás.molnár@mail.hu",
                                    "NEV": "Molnár András",
                                    "SZULEV": "1977",
                                    "NEM": "F",
                                    "CIM": "7900 Szigetvár, Rákóczi utca 67.",
                                    "(No column name)": "Molnár Bálint"
                                },
                                {
                                    "LOGIN": "balint1",
                                    "EMAIL": "balint1@gmail.com",
                                    "NEV": "Molnár Bálint",
                                    "SZULEV": "1989",
                                    "NEM": "F",
                                    "CIM": "9181 Kimle, Fő út 169.",
                                    "(No column name)": "Molnár Eszter"
                                },
                                {
                                    "LOGIN": "eszter",
                                    "EMAIL": "eszter.molnár@mail.hu",
                                    "NEV": "Molnár Eszter",
                                    "SZULEV": "1987",
                                    "NEM": "N",
                                    "CIM": "6800 Hódmezővásárhely, Fő út 77.",
                                    "(No column name)": "Molnár Zsófi"
                                },
                                {
                                    "LOGIN": "zsofi1",
                                    "EMAIL": "zsofi1@gmail.com",
                                    "NEV": "Molnár Zsófi",
                                    "SZULEV": "1983",
                                    "NEM": "N",
                                    "CIM": "2730 Albertirsa, Árpád utca 23.",
                                    "(No column name)": "Mór Ottó"
                                },
                                {
                                    "LOGIN": "desdemona",
                                    "EMAIL": "mor.otto@mail.hu",
                                    "NEV": "Mór Ottó",
                                    "SZULEV": "1968",
                                    "NEM": "F",
                                    "CIM": "9200 Mosonmagyaróvár Fő u. 12.",
                                    "(No column name)": "Móra László"
                                },
                                {
                                    "LOGIN": "laszlo2",
                                    "EMAIL": "lászló.móra@mail.hu",
                                    "NEV": "Móra László",
                                    "SZULEV": "1975",
                                    "NEM": "F",
                                    "CIM": "9970 Szentgotthárd, Petőfi utca 1/2.",
                                    "(No column name)": "Móricz Árpád"
                                },
                                {
                                    "LOGIN": "ARPADM",
                                    "EMAIL": "árpád.móricz@mail.hu",
                                    "NEV": "Móricz Árpád",
                                    "SZULEV": "1986",
                                    "NEM": "F",
                                    "CIM": "3910 Tokaj, Rákóczi utca 67.",
                                    "(No column name)": "Nádudvari Henrik"
                                },
                                {
                                    "LOGIN": "henrik3",
                                    "EMAIL": "henrik.nádudvari@mail.hu",
                                    "NEV": "Nádudvari Henrik",
                                    "SZULEV": "1986",
                                    "NEM": "F",
                                    "CIM": "1077 Budapest, Tanácsköztársaság tér 1.",
                                    "(No column name)": "Nagy András"
                                },
                                {
                                    "LOGIN": "ANDRASN",
                                    "EMAIL": "andrás.nagy@mail.hu",
                                    "NEV": "Nagy András",
                                    "SZULEV": "1980",
                                    "NEM": "F",
                                    "CIM": "6500 Baja, Fő út 169.",
                                    "(No column name)": "Nagy Gabriella"
                                },
                                {
                                    "LOGIN": "gabriella1",
                                    "EMAIL": "gabriella1@gmail.com",
                                    "NEV": "Nagy Gabriella",
                                    "SZULEV": "1982",
                                    "NEM": "N",
                                    "CIM": "1077 Budapest, Dob utca 1",
                                    "(No column name)": "Nagy Júlia"
                                },
                                {
                                    "LOGIN": "julia4",
                                    "EMAIL": "julia4@gmail.com",
                                    "NEV": "Nagy Júlia",
                                    "SZULEV": "1985",
                                    "NEM": "N",
                                    "CIM": "7000 Sárbogárd, Jászai tér 21.",
                                    "(No column name)": "Nagy László"
                                },
                                {
                                    "LOGIN": "LASZLON",
                                    "EMAIL": "lászló.nagy@mail.hu",
                                    "NEV": "Nagy László",
                                    "SZULEV": "1969",
                                    "NEM": "F",
                                    "CIM": "1173 Budapest, Jászai tér 21.",
                                    "(No column name)": "Nagy Péter"
                                },
                                {
                                    "LOGIN": "melissza",
                                    "EMAIL": "nagy_peter@indamail.hu",
                                    "NEV": "Nagy Péter",
                                    "SZULEV": "1998",
                                    "NEM": "F",
                                    "CIM": "6800 Hódmezővásárhely, Oldalkosát u. 1.",
                                    "(No column name)": "Nagy Sándor"
                                },
                                {
                                    "LOGIN": "sandor4",
                                    "EMAIL": "sandor4@gmail.com",
                                    "NEV": "Nagy Sándor",
                                    "SZULEV": "1997",
                                    "NEM": "F",
                                    "CIM": "4600 Kisvárda, Fő utca 47.",
                                    "(No column name)": "Nagymihály Csongor"
                                },
                                {
                                    "LOGIN": "csongor3",
                                    "EMAIL": "csongor.nagymihály@mail.hu",
                                    "NEV": "Nagymihály Csongor",
                                    "SZULEV": "1984",
                                    "NEM": "F",
                                    "CIM": "9181 Kimle, Deák Ferenc út 5.",
                                    "(No column name)": "Nagymihály Lajos"
                                },
                                {
                                    "LOGIN": "lala",
                                    "EMAIL": "lajos.nagymihály@mail.hu",
                                    "NEV": "Nagymihály Lajos",
                                    "SZULEV": "1997",
                                    "NEM": "F",
                                    "CIM": "8638 Balatonlelle, Rákóczi út 200.",
                                    "(No column name)": "Neizer Andrea"
                                },
                                {
                                    "LOGIN": "andrea4",
                                    "EMAIL": "andrea4@gmail.com",
                                    "NEV": "Neizer Andrea",
                                    "SZULEV": "1981",
                                    "NEM": "N",
                                    "CIM": "1124 Budapest, Kiss u. 8.",
                                    "(No column name)": "Nyíri Georgij"
                                },
                                {
                                    "LOGIN": "georgij",
                                    "EMAIL": "georgij.nyíri@mail.hu",
                                    "NEV": "Nyíri Georgij",
                                    "SZULEV": "1983",
                                    "NEM": "F",
                                    "CIM": "8391 Sármellék, Grassalkovich út 10.",
                                    "(No column name)": "Opra Attila"
                                },
                                {
                                    "LOGIN": "ATTILAO",
                                    "EMAIL": "ATTILAO@gmail.com",
                                    "NEV": "Opra Attila",
                                    "SZULEV": "1995",
                                    "NEM": "F",
                                    "CIM": "8283 Káptalantóti, Rákóczi út 200.",
                                    "(No column name)": "Orbán Bernadett"
                                },
                                {
                                    "LOGIN": "BERNADETTO",
                                    "EMAIL": "bernadett.orbán@mail.hu",
                                    "NEV": "Orbán Bernadett",
                                    "SZULEV": "1987",
                                    "NEM": "N",
                                    "CIM": "5085 Rákóczifalva, Arany János utca 1.",
                                    "(No column name)": "Orosz Ferenc"
                                },
                                {
                                    "LOGIN": "ferenc1",
                                    "EMAIL": "ferenc.orosz@mail.hu",
                                    "NEV": "Orosz Ferenc",
                                    "SZULEV": "1983",
                                    "NEM": "F",
                                    "CIM": "5061 Tiszasüly, Arany János utca 3.",
                                    "(No column name)": "Oroszi György"
                                },
                                {
                                    "LOGIN": "GYORGYO",
                                    "EMAIL": "GYORGYO@gmail.com",
                                    "NEV": "Oroszi György",
                                    "SZULEV": "1980",
                                    "NEM": "F",
                                    "CIM": "7220 Sarkad, Dózsa György u. 1.",
                                    "(No column name)": "Ötvös Árpád"
                                },
                                {
                                    "LOGIN": "arpad2",
                                    "EMAIL": "árpád.ötvös@mail.hu",
                                    "NEV": "Ötvös Árpád",
                                    "SZULEV": "1990",
                                    "NEM": "F",
                                    "CIM": "2600 Vác, Padragi út 158.",
                                    "(No column name)": "Palágyi Polla"
                                },
                                {
                                    "LOGIN": "polla",
                                    "EMAIL": "polla@gmail.com",
                                    "NEV": "Palágyi Polla",
                                    "SZULEV": "1994",
                                    "NEM": "N",
                                    "CIM": "2484 Agárd, Fő út 18.",
                                    "(No column name)": "Pálinkás János"
                                },
                                {
                                    "LOGIN": "JANOSP",
                                    "EMAIL": "JANOSP@gmail.com",
                                    "NEV": "Pálinkás János",
                                    "SZULEV": "1984",
                                    "NEM": "F",
                                    "CIM": "5920 Csorvás, Padragi út 158.",
                                    "(No column name)": "Papós Tímea"
                                },
                                {
                                    "LOGIN": "timea",
                                    "EMAIL": "timea@gmail.com",
                                    "NEV": "Papós Tímea",
                                    "SZULEV": "1996",
                                    "NEM": "N",
                                    "CIM": "1035 Budapest,  Kossuth út 77.",
                                    "(No column name)": "Papp Imre"
                                },
                                {
                                    "LOGIN": "imre1",
                                    "EMAIL": "imre.papp@mail.hu",
                                    "NEV": "Papp Imre",
                                    "SZULEV": "1976",
                                    "NEM": "F",
                                    "CIM": "1077 Budapest, Szolnoki út 8.",
                                    "(No column name)": "Pásztor Róbert"
                                },
                                {
                                    "LOGIN": "ROBERTP",
                                    "EMAIL": "ROBERTP@gmail.com",
                                    "NEV": "Pásztor Róbert",
                                    "SZULEV": "1972",
                                    "NEM": "F",
                                    "CIM": "5137 Jászkisér, Ady Endre út 27.",
                                    "(No column name)": "Pataki Brigitta"
                                },
                                {
                                    "LOGIN": "brigitta3",
                                    "EMAIL": "brigitta.pataki@mail.hu",
                                    "NEV": "Pataki Brigitta",
                                    "SZULEV": "1991",
                                    "NEM": "N",
                                    "CIM": "2730 Albertirsa, Rendeki utca 21.",
                                    "(No column name)": "Patay Róbert"
                                },
                                {
                                    "LOGIN": "robert2",
                                    "EMAIL": "robert2@gmail.com",
                                    "NEV": "Patay Róbert",
                                    "SZULEV": "1977",
                                    "NEM": "F",
                                    "CIM": "2370 Dabas, Rákóczi utca 21.",
                                    "(No column name)": "Perlinger Éva"
                                },
                                {
                                    "LOGIN": "eva2",
                                    "EMAIL": "eva2@gmail.com",
                                    "NEV": "Perlinger Éva",
                                    "SZULEV": "1971",
                                    "NEM": "N",
                                    "CIM": "9653 Répcelak, Bécsi utca 82.",
                                    "(No column name)": "Pintér Zoltán"
                                },
                                {
                                    "LOGIN": "ZOLTANP",
                                    "EMAIL": "zoltán.pintér@mail.hu",
                                    "NEV": "Pintér Zoltán",
                                    "SZULEV": "1977",
                                    "NEM": "F",
                                    "CIM": "6050 Lajosmizse, Fő út 18.",
                                    "(No column name)": "Pivarcsi Anett"
                                },
                                {
                                    "LOGIN": "anett3",
                                    "EMAIL": "anett.pivarcsi@mail.hu",
                                    "NEV": "Pivarcsi Anett",
                                    "SZULEV": "1967",
                                    "NEM": "N",
                                    "CIM": "1149 Budapest, Fő út 60.",
                                    "(No column name)": "Poprádi Kristóf"
                                },
                                {
                                    "LOGIN": "kristof4",
                                    "EMAIL": "kristof4@gmail.com",
                                    "NEV": "Poprádi Kristóf",
                                    "SZULEV": "1984",
                                    "NEM": "F",
                                    "CIM": "8220 Balatonalmádi, Mészáros utca 7.",
                                    "(No column name)": "Pulai Zsolt"
                                },
                                {
                                    "LOGIN": "zsolt1",
                                    "EMAIL": "zsolt.pulai@mail.hu",
                                    "NEV": "Pulai Zsolt",
                                    "SZULEV": "1988",
                                    "NEM": "F",
                                    "CIM": "8391 Sármellék, Fő utca 60.",
                                    "(No column name)": "Pusztai Zsuzsanna"
                                },
                                {
                                    "LOGIN": "zsuzsa",
                                    "EMAIL": "zsuzsanna@gmail.com",
                                    "NEV": "Pusztai Zsuzsanna",
                                    "SZULEV": "1980",
                                    "NEM": "N",
                                    "CIM": "6783 Ásotthalom, Badacsonyi utca 12.",
                                    "(No column name)": "Rab Sebestyén"
                                },
                                {
                                    "LOGIN": "sebestyen",
                                    "EMAIL": "sebestyen@gmail.com",
                                    "NEV": "Rab Sebestyén",
                                    "SZULEV": "1992",
                                    "NEM": "F",
                                    "CIM": "7130 Tolna, Központi telep 3.",
                                    "(No column name)": "Rácz Dániel"
                                },
                                {
                                    "LOGIN": "daniel",
                                    "EMAIL": "dániel.rácz@mail.hu",
                                    "NEV": "Rácz Dániel",
                                    "SZULEV": "1978",
                                    "NEM": "F",
                                    "CIM": "9181 Kimle, Szabadság tér 9.",
                                    "(No column name)": "Rácz Rajmond"
                                },
                                {
                                    "LOGIN": "rajmond4",
                                    "EMAIL": "rajmond.rácz@mail.hu",
                                    "NEV": "Rácz Rajmond",
                                    "SZULEV": "1993",
                                    "NEM": "F",
                                    "CIM": "9155 Lébény, Petőfi utca 1/2.",
                                    "(No column name)": "Regős Annamária"
                                },
                                {
                                    "LOGIN": "ANNAMARIAR",
                                    "EMAIL": "ANNAMARIAR@gmail.com",
                                    "NEV": "Regős Annamária",
                                    "SZULEV": "1977",
                                    "NEM": "N",
                                    "CIM": "8283 Káptalantóti, Petőfi Sándor tér 1.",
                                    "(No column name)": "Sarodi Dóra"
                                },
                                {
                                    "LOGIN": "dora3",
                                    "EMAIL": "dóra.sarodi@mail.hu",
                                    "NEV": "Sarodi Dóra",
                                    "SZULEV": "1995",
                                    "NEM": "N",
                                    "CIM": "2855 Bokod, Fő út 18.",
                                    "(No column name)": "Simon Anikó"
                                },
                                {
                                    "LOGIN": "ANIKOS",
                                    "EMAIL": "ANIKOS@gmail.com",
                                    "NEV": "Simon Anikó",
                                    "SZULEV": "1988",
                                    "NEM": "N",
                                    "CIM": "5137 Jászkisér, Bécsi utca 82.",
                                    "(No column name)": "Simon Bernadett"
                                },
                                {
                                    "LOGIN": "bernadett1",
                                    "EMAIL": "bernadett1@gmail.com",
                                    "NEV": "Simon Bernadett",
                                    "SZULEV": "1984",
                                    "NEM": "N",
                                    "CIM": "2300 Ráckeve, Fő utca 108.",
                                    "(No column name)": "Sobják Dávid"
                                },
                                {
                                    "LOGIN": "david1",
                                    "EMAIL": "david1@gmail.com",
                                    "NEV": "Sobják Dávid",
                                    "SZULEV": "1970",
                                    "NEM": "F",
                                    "CIM": "5083 Kengyel, Arany János utca 3.",
                                    "(No column name)": "Soós István"
                                },
                                {
                                    "LOGIN": "istvan",
                                    "EMAIL": "istvan@gmail.com",
                                    "NEV": "Soós István",
                                    "SZULEV": "1986",
                                    "NEM": "F",
                                    "CIM": "2370 Dabas, Kossuth utca 27.",
                                    "(No column name)": "Szabó Julianna"
                                },
                                {
                                    "LOGIN": "julianna4",
                                    "EMAIL": "julianna4@gmail.com",
                                    "NEV": "Szabó Julianna",
                                    "SZULEV": "1990",
                                    "NEM": "N",
                                    "CIM": "6700 Szeged, Kossuth Lajos utca 6.",
                                    "(No column name)": "Szalai Péter"
                                },
                                {
                                    "LOGIN": "peter3",
                                    "EMAIL": "peter3@gmail.com",
                                    "NEV": "Szalai Péter",
                                    "SZULEV": "1983",
                                    "NEM": "F",
                                    "CIM": "1155 Budapest, Arany János utca 3.",
                                    "(No column name)": "Szalai Szilárd"
                                },
                                {
                                    "LOGIN": "SZILARDS",
                                    "EMAIL": "szilárd.szalai@mail.hu",
                                    "NEV": "Szalai Szilárd",
                                    "SZULEV": "1967",
                                    "NEM": "F",
                                    "CIM": "1077 Budapest, Fő út 18.",
                                    "(No column name)": "Szedlár Krisztina"
                                },
                                {
                                    "LOGIN": "krisztina",
                                    "EMAIL": "krisztina@gmail.com",
                                    "NEV": "Szedlár Krisztina",
                                    "SZULEV": "1979",
                                    "NEM": "N",
                                    "CIM": "6646 Tömörkény, Arany János utca 1.",
                                    "(No column name)": "Székely Brigitta"
                                },
                                {
                                    "LOGIN": "brigitta",
                                    "EMAIL": "brigitta.székely@mail.hu",
                                    "NEV": "Székely Brigitta",
                                    "SZULEV": "1978",
                                    "NEM": "N",
                                    "CIM": "2462 Martonvásár, Fő utca 47.",
                                    "(No column name)": "Szekendi Beatrix"
                                },
                                {
                                    "LOGIN": "BEATRIXS",
                                    "EMAIL": "beatrix.szekendi@mail.hu",
                                    "NEV": "Szekendi Beatrix",
                                    "SZULEV": "1981",
                                    "NEM": "N",
                                    "CIM": "4060 Balmazújváros, Jászai tér 21.",
                                    "(No column name)": "Szikszai Réka"
                                },
                                {
                                    "LOGIN": "reka4",
                                    "EMAIL": "réka.szikszai@mail.hu",
                                    "NEV": "Szikszai Réka",
                                    "SZULEV": "1969",
                                    "NEM": "N",
                                    "CIM": "8254 Kővágóörs, Templom utca 73.",
                                    "(No column name)": "Szilágyi Mátyás"
                                },
                                {
                                    "LOGIN": "MATYASS",
                                    "EMAIL": "mátyás.szilágyi@mail.hu",
                                    "NEV": "Szilágyi Mátyás",
                                    "SZULEV": "1975",
                                    "NEM": "F",
                                    "CIM": "9023 Győr, Kossuth Lajos utca 6.",
                                    "(No column name)": "Szirmai Renáta"
                                },
                                {
                                    "LOGIN": "RENATAS",
                                    "EMAIL": "RENATAS@gmail.com",
                                    "NEV": "Szirmai Renáta",
                                    "SZULEV": "1991",
                                    "NEM": "N",
                                    "CIM": "2053 Herceghalom, Kossuth utca 27.",
                                    "(No column name)": "Szomor Andrea"
                                },
                                {
                                    "LOGIN": "andrea3",
                                    "EMAIL": "andrea3@gmail.com",
                                    "NEV": "Szomor Andrea",
                                    "SZULEV": "1996",
                                    "NEM": "N",
                                    "CIM": "7960 Sellye, Bécsi utca 82.",
                                    "(No column name)": "Szöllősi Gábor"
                                },
                                {
                                    "LOGIN": "GABORS",
                                    "EMAIL": "GABORS@gmail.com",
                                    "NEV": "Szöllősi Gábor",
                                    "SZULEV": "1990",
                                    "NEM": "F",
                                    "CIM": "3630 Putnok, Kossuth utca 27.",
                                    "(No column name)": "Szűcs Annamária"
                                },
                                {
                                    "LOGIN": "annamaria1",
                                    "EMAIL": "annamária.szűcs@mail.hu",
                                    "NEV": "Szűcs Annamária",
                                    "SZULEV": "1990",
                                    "NEM": "N",
                                    "CIM": "1191 Budapest, Rendeki utca 21.",
                                    "(No column name)": "Szűcs Balázs"
                                },
                                {
                                    "LOGIN": "balazs2",
                                    "EMAIL": "balázs.szűcs@mail.hu",
                                    "NEV": "Szűcs Balázs",
                                    "SZULEV": "1984",
                                    "NEM": "F",
                                    "CIM": "3170 Szécsény, Szabadság utca 95.",
                                    "(No column name)": "Szűcs Norbert"
                                },
                                {
                                    "LOGIN": "norbert",
                                    "EMAIL": "norbert@gmail.com",
                                    "NEV": "Szűcs Norbert",
                                    "SZULEV": "1969",
                                    "NEM": "F",
                                    "CIM": "5071 Besenyszög, Győri utca 12.",
                                    "(No column name)": "Tankó Veronika"
                                },
                                {
                                    "LOGIN": "veronika4",
                                    "EMAIL": "veronika4@gmail.com",
                                    "NEV": "Tankó Veronika",
                                    "SZULEV": "1983",
                                    "NEM": "N",
                                    "CIM": "6412 Balotaszállás, Rendeki utca 21.",
                                    "(No column name)": "Tari Szilvia"
                                },
                                {
                                    "LOGIN": "szilvia1",
                                    "EMAIL": "szilvia.tari@mail.hu",
                                    "NEV": "Tari Szilvia",
                                    "SZULEV": "1971",
                                    "NEM": "N",
                                    "CIM": "6080 Szabadszállás, Bécsi utca 82.",
                                    "(No column name)": "Tatár Nikoletta"
                                },
                                {
                                    "LOGIN": "NIKOLETTAT",
                                    "EMAIL": "nikoletta.tatár@mail.hu",
                                    "NEV": "Tatár Nikoletta",
                                    "SZULEV": "1997",
                                    "NEM": "N",
                                    "CIM": "1067 Budapest, Győri utca 12.",
                                    "(No column name)": "Telek Gábor"
                                },
                                {
                                    "LOGIN": "gabor4",
                                    "EMAIL": "gábor.telek@mail.hu",
                                    "NEV": "Telek Gábor",
                                    "SZULEV": "1987",
                                    "NEM": "F",
                                    "CIM": "9071 Görbeháza, Fő út 169.",
                                    "(No column name)": "Tornyos Andrea"
                                },
                                {
                                    "LOGIN": "ANDREAT",
                                    "EMAIL": "ANDREAT@gmail.com",
                                    "NEV": "Tornyos Andrea",
                                    "SZULEV": "1986",
                                    "NEM": "N",
                                    "CIM": "6131 Szank, Bécsi utca 82.",
                                    "(No column name)": "Tóth András"
                                },
                                {
                                    "LOGIN": "andras2",
                                    "EMAIL": "andrás.tóth@mail.hu",
                                    "NEV": "Tóth András",
                                    "SZULEV": "1997",
                                    "NEM": "F",
                                    "CIM": "4071 Egyek, Petőfi utca 30.",
                                    "(No column name)": "Tóth Anikó"
                                },
                                {
                                    "LOGIN": "aniko",
                                    "EMAIL": "aniko@gmail.com",
                                    "NEV": "Tóth Anikó",
                                    "SZULEV": "1973",
                                    "NEM": "N",
                                    "CIM": "2085 Pilisvörösvár, Deák Ferenc út 5.",
                                    "(No column name)": "Tóth Júlia"
                                },
                                {
                                    "LOGIN": "julia",
                                    "EMAIL": "julia@gmail.com",
                                    "NEV": "Tóth Júlia",
                                    "SZULEV": "1993",
                                    "NEM": "N",
                                    "CIM": "5310 Kisújszállás, Árpád utca 4.",
                                    "(No column name)": "Tóth Roland"
                                },
                                {
                                    "LOGIN": "roland",
                                    "EMAIL": "roland@gmail.com",
                                    "NEV": "Tóth Roland",
                                    "SZULEV": "1968",
                                    "NEM": "F",
                                    "CIM": "2000 Szentendre, Fő út 169.",
                                    "(No column name)": "Tóth Zoltán"
                                },
                                {
                                    "LOGIN": "ZOLTANT",
                                    "EMAIL": "zoltán.tóth@mail.hu",
                                    "NEV": "Tóth Zoltán",
                                    "SZULEV": "1985",
                                    "NEM": "F",
                                    "CIM": "4244 Újfehértó, Posta köz 2.",
                                    "(No column name)": "Tömböly Dénes"
                                },
                                {
                                    "LOGIN": "denes",
                                    "EMAIL": "denes@gmail.com",
                                    "NEV": "Tömböly Dénes",
                                    "SZULEV": "1975",
                                    "NEM": "F",
                                    "CIM": "2400 Dunaújváros, Kossuth út 39.",
                                    "(No column name)": "Turcsik Tünde"
                                },
                                {
                                    "LOGIN": "tunde",
                                    "EMAIL": "tunde@gmail.com",
                                    "NEV": "Turcsik Tünde",
                                    "SZULEV": "1974",
                                    "NEM": "N",
                                    "CIM": "7130 Tolna, Fő út 122.",
                                    "(No column name)": "Urbán Viktoria"
                                },
                                {
                                    "LOGIN": "VIKTORIAU",
                                    "EMAIL": "viktoria.urbán@mail.hu",
                                    "NEV": "Urbán Viktoria",
                                    "SZULEV": "1996",
                                    "NEM": "N",
                                    "CIM": "3860 Encs, Népboltsor  2.",
                                    "(No column name)": "Vajda József"
                                },
                                {
                                    "LOGIN": "jozsef2",
                                    "EMAIL": "józsef.vajda@mail.hu",
                                    "NEV": "Vajda József",
                                    "SZULEV": "1978",
                                    "NEM": "F",
                                    "CIM": "6700 Szeged, Baracsi László utca 14.",
                                    "(No column name)": "Vajda Zsuzsa"
                                },
                                {
                                    "LOGIN": "ZSUZSAV",
                                    "EMAIL": "zsuzsa.vajda@mail.hu",
                                    "NEV": "Vajda Zsuzsa",
                                    "SZULEV": "1976",
                                    "NEM": "N",
                                    "CIM": "6786 Ruzsa, Kossuth utca 77.",
                                    "(No column name)": "Varga István"
                                },
                                {
                                    "LOGIN": "ISTVANV",
                                    "EMAIL": "ISTVANV@gmail.com",
                                    "NEV": "Varga István",
                                    "SZULEV": "1989",
                                    "NEM": "F",
                                    "CIM": "6320 Solt, Hősök tere 11.",
                                    "(No column name)": "Varsányi Zsuzsa"
                                },
                                {
                                    "LOGIN": "zsuzsa3",
                                    "EMAIL": "zsuzsa.varsányi@mail.hu",
                                    "NEV": "Varsányi Zsuzsa",
                                    "SZULEV": "1979",
                                    "NEM": "N",
                                    "CIM": "8600 Siófok, Árpád utca 4.",
                                    "(No column name)": "Vida Gabriella"
                                },
                                {
                                    "LOGIN": "gabriella10",
                                    "EMAIL": "gabriella10@gmail.com",
                                    "NEV": "Vida Gabriella",
                                    "SZULEV": "1969",
                                    "NEM": "N",
                                    "CIM": "2484 Agárd, Arany János utca 3.",
                                    "(No column name)": "Vígh András"
                                },
                                {
                                    "LOGIN": "andras3",
                                    "EMAIL": "andrás.vígh@mail.hu",
                                    "NEV": "Vígh András",
                                    "SZULEV": "1971",
                                    "NEM": "F",
                                    "CIM": "1118 Budapest, Arany János utca 1.",
                                    "(No column name)": "Viktor Éva"
                                },
                                {
                                    "LOGIN": "EVAV",
                                    "EMAIL": "EVAV@gmail.com",
                                    "NEV": "Viktor Éva",
                                    "SZULEV": "1980",
                                    "NEM": "N",
                                    "CIM": "6913 Csanádpalota, Arany János utca 3.",
                                    "(No column name)": "Vizi István"
                                },
                                {
                                    "LOGIN": "istvan1",
                                    "EMAIL": "istván.vizi@mail.hu",
                                    "NEV": "Vizi István",
                                    "SZULEV": "1997",
                                    "NEM": "F",
                                    "CIM": "7086 Ozora, Rákóczi utca 1.",
                                    "(No column name)": "Vörös Dániel"
                                },
                                {
                                    "LOGIN": "dani",
                                    "EMAIL": "daniel@gmail.com",
                                    "NEV": "Vörös Dániel",
                                    "SZULEV": "1986",
                                    "NEM": "F",
                                    "CIM": "7150 Bonyhád, Dózsa György u. 1.",
                                    "(No column name)": "Vukasinovity Bálint"
                                },
                                {
                                    "LOGIN": "balint2",
                                    "EMAIL": "balint2@gmail.com",
                                    "NEV": "Vukasinovity Bálint",
                                    "SZULEV": "1997",
                                    "NEM": "F",
                                    "CIM": "2330 Dunaharaszti, Béke utca 7.",
                                    "(No column name)": "Zatykó Katalin"
                                },
                                {
                                    "LOGIN": "kati",
                                    "EMAIL": "katalin.zatykó@mail.hu",
                                    "NEV": "Zatykó Katalin",
                                    "SZULEV": "1995",
                                    "NEM": "N",
                                    "CIM": "7511 Ötvöskónyi, Kossuth Lajos utca 6.",
                                    "(No column name)": "Nincs"
                                }
                            ]
                        },
                        "text/html": [
                            "<table>",
                            "<tr><th>LOGIN</th><th>EMAIL</th><th>NEV</th><th>SZULEV</th><th>NEM</th><th>CIM</th><th>(No column name)</th><th>(No column name)</th></tr>",
                            "<tr><td>david</td><td>david@gmail.com</td><td>Ambrus Dávid</td><td>1974</td><td>F</td><td>1149 Budapest, Fő út 18.</td><td>Nincs</td><td>Andor Ibolya</td></tr>",
                            "<tr><td>IBOLYAA</td><td>ibolya.andor@mail.hu</td><td>Andor Ibolya</td><td>1983</td><td>N</td><td>9023 Győr, Posta köz 2.</td><td>Ambrus Dávid</td><td>Antal László</td></tr>",
                            "<tr><td>LASZLOA</td><td>lászló.antal@mail.hu</td><td>Antal László</td><td>1969</td><td>F</td><td>2484 Agárd, Bécsi utca 82.</td><td>Andor Ibolya</td><td>Antal Tamás</td></tr>",
                            "<tr><td>tamas</td><td>tamás.antal@mail.hu</td><td>Antal Tamás</td><td>1984</td><td>F</td><td>4440 Tiszavasvári, Posta köz 2.</td><td>Antal László</td><td>Back András</td></tr>",
                            "<tr><td>andras4</td><td>andras4@gmail.com</td><td>Back András</td><td>1984</td><td>F</td><td>3783 Edelény, Fő út 169.</td><td>Antal Tamás</td><td>Bagi Beáta</td></tr>",
                            "<tr><td>beata4</td><td>beáta.bagi@mail.hu</td><td>Bagi Beáta</td><td>1994</td><td>N</td><td>8477 Tüskevár, Felszabadulás utca 32.</td><td>Back András</td><td>Bagóczki Alexandra</td></tr>",
                            "<tr><td>alexandra</td><td>alexandra.bagóczki@mail.hu</td><td>Bagóczki Alexandra</td><td>1992</td><td>N</td><td>2381 Táborfalva, Petőfi utca 1/2.</td><td>Bagi Beáta</td><td>Bajusz Bence</td></tr>",
                            "<tr><td>BENCEB</td><td>bence.bajusz@mail.hu</td><td>Bajusz Bence</td><td>1973</td><td>F</td><td>8391 Sármellék, Fő utca 56.</td><td>Bagóczki Alexandra</td><td>Bakó Klaudia</td></tr>",
                            "<tr><td>klaudia2</td><td>klaudia.bakó@mail.hu</td><td>Bakó Klaudia</td><td>1982</td><td>N</td><td>8254 Kővágóörs, Kossuth Lajos utca 6.</td><td>Bajusz Bence</td><td>Bakódy Balázs</td></tr>",
                            "<tr><td>balazs3</td><td>balazs3@gmail.com</td><td>Bakódy Balázs</td><td>1986</td><td>F</td><td>2131 Göd, Arany János utca 1.</td><td>Bakó Klaudia</td><td>Balla Miklós</td></tr>",
                            "<tr><td>MIKLOSB</td><td>miklós.balla@mail.hu</td><td>Balla Miklós</td><td>1979</td><td>F</td><td>4060 Balmazújváros, Szent István utca 2.</td><td>Bakódy Balázs</td><td>Balogh Eszter</td></tr>",
                            "<tr><td>eszter2</td><td>eszter.balogh@mail.hu</td><td>Balogh Eszter</td><td>1998</td><td>N</td><td>6760 Kistelek, Kossuth utca 11.</td><td>Balla Miklós</td><td>Barabás Pál</td></tr>",
                            "<tr><td>pal</td><td>pál.barabás@mail.hu</td><td>Barabás Pál</td><td>1968</td><td>F</td><td>1183 Budapest, Szolnoki út 8.</td><td>Balogh Eszter</td><td>Baráth Mária</td></tr>",
                            "<tr><td>maria1</td><td>mária.baráth@mail.hu</td><td>Baráth Mária</td><td>1995</td><td>N</td><td>1047 Budapest, Posta köz 2.</td><td>Barabás Pál</td><td>Bárci Gusztáv</td></tr>",
                            "<tr><td>gusztav</td><td>gusztav@gmail.com</td><td>Bárci Gusztáv</td><td>1967</td><td>F</td><td>3643 Dédestapolcsány, Endrődi Sándor utca 47.</td><td>Baráth Mária</td><td>Barkóci Ádám</td></tr>",
                            "<tr><td>adam3</td><td>adam3@gmail.com</td><td>Barkóci Ádám</td><td>1970</td><td>F</td><td>3910 Tokaj, Dózsa György utca 37.</td><td>Bárci Gusztáv</td><td>Barna Debóra</td></tr>",
                            "<tr><td>debora</td><td>debóra.barna@mail.hu</td><td>Barna Debóra</td><td>1976</td><td>N</td><td>1155 Budapest, Fő út 169.</td><td>Barkóci Ádám</td><td>Barna Zoltán</td></tr>",
                            "<tr><td>zoltan4</td><td>zoltan4@gmail.com</td><td>Barna Zoltán</td><td>1986</td><td>F</td><td>8313 Balatongyörök, Jászai tér 21.</td><td>Barna Debóra</td><td>Baróti Attila</td></tr>",
                            "<tr><td>attila4</td><td>attila.baróti@mail.hu</td><td>Baróti Attila</td><td>1975</td><td>F</td><td>7149 Báta, Arany János utca 3.</td><td>Barna Zoltán</td><td>Barta Zsuzsanna</td></tr>",
                            "<tr><td>zsuzsanna</td><td>zsuzsanna.barta@mail.hu</td><td>Barta Zsuzsanna</td><td>1994</td><td>N</td><td>4172 Biharnagybajom, Dózsa György utca 37.</td><td>Baróti Attila</td><td>Berendi Péter</td></tr>",
                            "<tr><td>PETERB</td><td>péter.berendi@mail.hu</td><td>Berendi Péter</td><td>1969</td><td>F</td><td>3980 Sátoraljaújhely, Vasút utca 4/10.</td><td>Barta Zsuzsanna</td><td>Béres Norbert</td></tr>",
                            "<tr><td>norbert5</td><td>norbert5@gmail.com</td><td>Béres Norbert</td><td>1975</td><td>F</td><td>8640 Fonyód, Bajcsy-Zsilinszky utca 4.</td><td>Berendi Péter</td><td>Berta Dávid</td></tr>",
                            "<tr><td>david4</td><td>david4@gmail.com</td><td>Berta Dávid</td><td>1990</td><td>F</td><td>3500 Miskolc, Balatoni út 12.</td><td>Béres Norbert</td><td>Bieniek Ádám</td></tr>",
                            "<tr><td>adam4</td><td>ádám.bieniek@mail.hu</td><td>Bieniek Ádám</td><td>1976</td><td>F</td><td>8630 Balatonboglár, Juhászföldi út 1.</td><td>Berta Dávid</td><td>Bíró Ákos</td></tr>",
                            "<tr><td>akos</td><td>ákos.bíró@mail.hu</td><td>Bíró Ákos</td><td>1982</td><td>F</td><td>9023 Győr, Kossuth Lajos utca 47/b.</td><td>Bieniek Ádám</td><td>Biró Alexander</td></tr>",
                            "<tr><td>alexis</td><td>alexbiro@gmail.com</td><td>Biró Alexander</td><td>2000</td><td>F</td><td>6914 Pitvaros, Deák F. u. 38.</td><td>Bíró Ákos</td><td>Bíró Péter</td></tr>",
                            "<tr><td>peter4</td><td>péter.bíró@mail.hu</td><td>Bíró Péter</td><td>1985</td><td>F</td><td>5137 Jászkisér, Rákóczi utca 67.</td><td>Biró Alexander</td><td>Bittmann Edit</td></tr>",
                            "<tr><td>edit</td><td>edit.bittmann@mail.hu</td><td>Bittmann Edit</td><td>1984</td><td>N</td><td>6077 Orgovány, Fő utca 60.</td><td>Bíró Péter</td><td>Bodor Szabolcs</td></tr>",
                            "<tr><td>szabolcs</td><td>szabolcs.bodor@mail.hu</td><td>Bodor Szabolcs</td><td>1990</td><td>F</td><td>6786 Ruzsa, Ady Endre út 27.</td><td>Bittmann Edit</td><td>Bori Krisztina</td></tr>",
                            "<tr><td>krisztina1</td><td>krisztina.bori@mail.hu</td><td>Bori Krisztina</td><td>1969</td><td>N</td><td>2115 Vácszentlászló, Fő utca 47.</td><td>Bodor Szabolcs</td><td>Boros Vivien</td></tr>",
                            "<tr><td>vivien3</td><td>vivien3@gmail.com</td><td>Boros Vivien</td><td>1991</td><td>N</td><td>2117 Isaszeg, Fő út 122.</td><td>Bori Krisztina</td><td>Bosnyák Ilona</td></tr>",
                            "<tr><td>ilona3</td><td>ilona3@gmail.com</td><td>Bosnyák Ilona</td><td>1990</td><td>N</td><td>2483 Gárdony, Posta köz 2.</td><td>Boros Vivien</td><td>Botka Mátyás</td></tr>",
                            "<tr><td>matyas2</td><td>matyas2@gmail.com</td><td>Botka Mátyás</td><td>1972</td><td>F</td><td>2700 Cegléd, Kossuth Lajos utca 6.</td><td>Bosnyák Ilona</td><td>Bozsik Balázs</td></tr>",
                            "<tr><td>balazs1</td><td>balázs.bozsik@mail.hu</td><td>Bozsik Balázs</td><td>1992</td><td>F</td><td>2300 Ráckeve, Bécsi utca 82.</td><td>Botka Mátyás</td><td>Bozsó Péter</td></tr>",
                            "<tr><td>peter2</td><td>peter2@gmail.com</td><td>Bozsó Péter</td><td>1976</td><td>F</td><td>4800 Vásárosnamény, Zombori út 2/A</td><td>Bozsik Balázs</td><td>Böröcz Anikó</td></tr>",
                            "<tr><td>aniko4</td><td>aniko4@gmail.com</td><td>Böröcz Anikó</td><td>1978</td><td>N</td><td>2484 Agárd, Petőfi Sándor tér 1.</td><td>Bozsó Péter</td><td>Bucskó Róza</td></tr>",
                            "<tr><td>roza2</td><td>roza2@gmail.com</td><td>Bucskó Róza</td><td>1988</td><td>N</td><td>5661 Újkígyós, Arany János utca 3.</td><td>Böröcz Anikó</td><td>Búza Imre</td></tr>",
                            "<tr><td>imre</td><td>imre.búza@mail.hu</td><td>Búza Imre</td><td>1988</td><td>F</td><td>9181 Kimle, Petőfi Sándor tér 1.</td><td>Bucskó Róza</td><td>Czérna Krisztián</td></tr>",
                            "<tr><td>krisztian4</td><td>krisztián.czérna@mail.hu</td><td>Czérna Krisztián</td><td>1970</td><td>F</td><td>1107 Budapest, Dózsa György utca 37.</td><td>Búza Imre</td><td>Csiger Bertalan</td></tr>",
                            "<tr><td>bertalan</td><td>bertalan@gmail.com</td><td>Csiger Bertalan</td><td>1977</td><td>F</td><td>1192 Budapest, Fő út 169.</td><td>Czérna Krisztián</td><td>Csóti Attila</td></tr>",
                            "<tr><td>attila</td><td>attila@gmail.com</td><td>Csóti Attila</td><td>1979</td><td>F</td><td>3000 Hatvan, Bajcsy-Zsilinszky utca 4.</td><td>Csiger Bertalan</td><td>Dániel Tibor</td></tr>",
                            "<tr><td>tibor2</td><td>tibor2@gmail.com</td><td>Dániel Tibor</td><td>1985</td><td>F</td><td>6646 Tömörkény, Árpád utca 23.</td><td>Csóti Attila</td><td>Dunai Aladár</td></tr>",
                            "<tr><td>aladar</td><td>aladár.dunai@mail.hu</td><td>Dunai Aladár</td><td>1980</td><td>F</td><td>5931 Nagyszénás, Árpád utca 23.</td><td>Dániel Tibor</td><td>Dusha Tímea</td></tr>",
                            "<tr><td>timea2</td><td>tímea.dusha@mail.hu</td><td>Dusha Tímea</td><td>1975</td><td>N</td><td>5920 Csorvás, Kossuth utca 8.</td><td>Dunai Aladár</td><td>Endresz Bálint</td></tr>",
                            "<tr><td>balu</td><td>bálint.endresz@mail.hu</td><td>Endresz Bálint</td><td>1976</td><td>F</td><td>3973 Cigánd, Fő út 169.</td><td>Dusha Tímea</td><td>Enyedi Éva</td></tr>",
                            "<tr><td>eva</td><td>eva@gmail.com</td><td>Enyedi Éva</td><td>1967</td><td>N</td><td>4231 Bököny, Petőfi utca 8.</td><td>Endresz Bálint</td><td>Erdei András</td></tr>",
                            "<tr><td>ANDRASE</td><td>ANDRASE@gmail.com</td><td>Erdei András</td><td>1997</td><td>F</td><td>5071 Besenyszög, Szolnoki út 8.</td><td>Enyedi Éva</td><td>Érsek Eszter</td></tr>",
                            "<tr><td>ESZTERE</td><td>eszter.érsek@mail.hu</td><td>Érsek Eszter</td><td>1978</td><td>N</td><td>6785 Pusztamérges, Kossuth Lajos utca 6.</td><td>Erdei András</td><td>Farkas Béla</td></tr>",
                            "<tr><td>BELAF</td><td>BELAF@gmail.com</td><td>Farkas Béla</td><td>1995</td><td>F</td><td>5530 Vésztő, Petőfi Sándor utca 3.</td><td>Érsek Eszter</td><td>Farkas László</td></tr>",
                            "<tr><td>laszlo1</td><td>lászló.farkas@mail.hu</td><td>Farkas László</td><td>1967</td><td>F</td><td>5200 Törökszentmiklós, Rendeki utca 21.</td><td>Farkas Béla</td><td>Farkas Sándor</td></tr>",
                            "<tr><td>sandor3</td><td>sándor.farkas@mail.hu</td><td>Farkas Sándor</td><td>1989</td><td>F</td><td>8640 Fonyód, Tanácsköztársaság tér 1.</td><td>Farkas László</td><td>Farkas Sára</td></tr>",
                            "<tr><td>sara</td><td>sára.farkas@mail.hu</td><td>Farkas Sára</td><td>1973</td><td>N</td><td>5940 Tótkomlós, Felszabadulás utca 32.</td><td>Farkas Sándor</td><td>Fényes Tamás</td></tr>",
                            "<tr><td>TAMASF</td><td>TAMASF@gmail.com</td><td>Fényes Tamás</td><td>1997</td><td>F</td><td>9023 Győr, Arany János utca 1.</td><td>Farkas Sára</td><td>Ferencz Roland</td></tr>",
                            "<tr><td>roland1</td><td>roland.ferencz@mail.hu</td><td>Ferencz Roland</td><td>1985</td><td>F</td><td>2424 Előszállás, Fő út 169.</td><td>Fényes Tamás</td><td>Feró Valentin</td></tr>",
                            "<tr><td>valentin</td><td>valentin.feró@mail.hu</td><td>Feró Valentin</td><td>1986</td><td>F</td><td>3895 Gönc, Búvár utca 4.</td><td>Ferencz Roland</td><td>Fodor Zoltán</td></tr>",
                            "<tr><td>zoltan</td><td>zoltán.fodor@mail.hu</td><td>Fodor Zoltán</td><td>1979</td><td>F</td><td>3441 Mezőkeresztes, Fő utca 23.</td><td>Feró Valentin</td><td>Foltényi Sebastián</td></tr>",
                            "<tr><td>SEBASTIANF</td><td>SEBASTIANF@gmail.com</td><td>Foltényi Sebastián</td><td>1992</td><td>F</td><td>7960 Sellye, Grassalkovich út 10.</td><td>Fodor Zoltán</td><td>Fő Nándor</td></tr>",
                            "<tr><td>NANDORF</td><td>nándor.fő@mail.hu</td><td>Fő Nándor</td><td>1968</td><td>F</td><td>5920 Csorvás, Bécsi utca 82.</td><td>Foltényi Sebastián</td><td>Frank Fruzsina</td></tr>",
                            "<tr><td>fruzsina4</td><td>fruzsina4@gmail.com</td><td>Frank Fruzsina</td><td>1996</td><td>N</td><td>9700 Szombathely, Szabadság utca 95.</td><td>Fő Nándor</td><td>Fülöp Eszter</td></tr>",
                            "<tr><td>eszter4</td><td>eszter.fülöp@mail.hu</td><td>Fülöp Eszter</td><td>1993</td><td>N</td><td>3643 Dédestapolcsány, Kossuth Lajos utca 47/b.</td><td>Frank Fruzsina</td><td>Gergely József</td></tr>",
                            "<tr><td>jozsef</td><td>jozsef@gmail.com</td><td>Gergely József</td><td>1985</td><td>F</td><td>6050 Lajosmizse, Fő út 18.</td><td>Fülöp Eszter</td><td>Giliga János</td></tr>",
                            "<tr><td>JANOSG</td><td>JANOSG@gmail.com</td><td>Giliga János</td><td>1975</td><td>F</td><td>3300 Eger, Deák Ferenc út 5.</td><td>Gergely József</td><td>Gombos Tibor</td></tr>",
                            "<tr><td>tibor</td><td>tibor.gombos@mail.hu</td><td>Gombos Tibor</td><td>1993</td><td>F</td><td>7100 Szekszárd, Kossuth utca 77.</td><td>Giliga János</td><td>Gondos Katalin</td></tr>",
                            "<tr><td>kata</td><td>katalin.gondos@mail.hu</td><td>Gondos Katalin</td><td>1968</td><td>N</td><td>8237 Tihany, Kossuth Lajos utca 6.</td><td>Gombos Tibor</td><td>Gondos Miklós</td></tr>",
                            "<tr><td>miklos2</td><td>miklos2@gmail.com</td><td>Gondos Miklós</td><td>1995</td><td>F</td><td>2100 Gödöllő, Árpád utca 23.</td><td>Gondos Katalin</td><td>Gulyás Attila</td></tr>",
                            "<tr><td>attila1</td><td>attila.gulyás@mail.hu</td><td>Gulyás Attila</td><td>1982</td><td>F</td><td>3881 Abaújszántó, Szolnoki út 8.</td><td>Gondos Miklós</td><td>Gyárfás Krisztina</td></tr>",
                            "<tr><td>KRISZTINAG</td><td>KRISZTINAG@gmail.com</td><td>Gyárfás Krisztina</td><td>1987</td><td>N</td><td>6762 Sándorfalva, Arany János utca 1.</td><td>Gulyás Attila</td><td>Győrffy Bence</td></tr>",
                            "<tr><td>bence</td><td>bence@gmail.com</td><td>Győrffy Bence</td><td>1987</td><td>F</td><td>6900 Makó, Árpád utca 23.</td><td>Gyárfás Krisztina</td><td>Gyuris József</td></tr>",
                            "<tr><td>JOZSEFG</td><td>józsef.gyuris@mail.hu</td><td>Gyuris József</td><td>1975</td><td>F</td><td>2660 Balassagyarmat, Petőfi utca 1/2.</td><td>Győrffy Bence</td><td>Hamvay-Kovács Anita</td></tr>",
                            "<tr><td>anita</td><td>anita.hamvay-kovács@mail.hu</td><td>Hamvay-Kovács Anita</td><td>1971</td><td>N</td><td>7220 Sarkad, Táncsics utca 19.</td><td>Gyuris József</td><td>Harangozó János</td></tr>",
                            "<tr><td>janos3</td><td>janos3@gmail.com</td><td>Harangozó János</td><td>1967</td><td>F</td><td>8700 Marcali, Petőfi Sándor tér 1.</td><td>Hamvay-Kovács Anita</td><td>Hartyánszky Ágnes</td></tr>",
                            "<tr><td>agnes3</td><td>agnes3@gmail.com</td><td>Hartyánszky Ágnes</td><td>1967</td><td>N</td><td>6430 Bácsalmás, Posta köz 2.</td><td>Harangozó János</td><td>Hegedűs Norbert</td></tr>",
                            "<tr><td>norbert2</td><td>norbert.hegedűs@mail.hu</td><td>Hegedűs Norbert</td><td>1991</td><td>F</td><td>2081 Piliscsaba, Rendeki utca 21.</td><td>Hartyánszky Ágnes</td><td>Hídasi Judit</td></tr>",
                            "<tr><td>JUDITH</td><td>JUDITH@gmail.com</td><td>Hídasi Judit</td><td>1997</td><td>N</td><td>2100 Gödöllő, Fő út 169.</td><td>Hegedűs Norbert</td><td>Horváth Ágnes</td></tr>",
                            "<tr><td>AGNESH</td><td>AGNESH@gmail.com</td><td>Horváth Ágnes</td><td>1981</td><td>N</td><td>8200 Veszprém, Rákóczi utca 21.</td><td>Hídasi Judit</td><td>Horváth Árpád</td></tr>",
                            "<tr><td>ARPADH</td><td>árpád.horváth@mail.hu</td><td>Horváth Árpád</td><td>1990</td><td>F</td><td>7349 Szászvár, Dózsa György u. 1.</td><td>Horváth Ágnes</td><td>Horváth Bálint</td></tr>",
                            "<tr><td>balint</td><td>balint@gmail.com</td><td>Horváth Bálint</td><td>1996</td><td>F</td><td>6646 Tömörkény, Endrődi Sándor utca 47.</td><td>Horváth Árpád</td><td>Horváth Katalin</td></tr>",
                            "<tr><td>katalin</td><td>katalin.horváth@mail.hu</td><td>Horváth Katalin</td><td>1968</td><td>N</td><td>2424 Előszállás, Rákóczi út 200.</td><td>Horváth Bálint</td><td>Horváth Krisztina</td></tr>",
                            "<tr><td>kriszti</td><td>kriszti@gmail.com</td><td>Horváth Krisztina</td><td>1978</td><td>N</td><td>6060 Tiszakécske, Árpád utca 4.</td><td>Horváth Katalin</td><td>Horváth Márk</td></tr>",
                            "<tr><td>MARKH</td><td>márk.horváth@mail.hu</td><td>Horváth Márk</td><td>1997</td><td>F</td><td>4400 Nyíregyháza, Badacsonyi utca 12.</td><td>Horváth Krisztina</td><td>Horváth Nikolett</td></tr>",
                            "<tr><td>nikolett3</td><td>nikolett3@gmail.com</td><td>Horváth Nikolett</td><td>1981</td><td>N</td><td>1072 Budapest, Arany János utca 1.</td><td>Horváth Márk</td><td>Iván Róbert</td></tr>",
                            "<tr><td>ROBERTI</td><td>róbert.iván@mail.hu</td><td>Iván Róbert</td><td>1967</td><td>F</td><td>2377 Örkény, Petőfi Sándor utca 3.</td><td>Horváth Nikolett</td><td>Jakab Áron</td></tr>",
                            "<tr><td>aron2</td><td>aron2@gmail.com</td><td>Jakab Áron</td><td>1971</td><td>F</td><td>7133 Fadd, Bajcsy-Zsilinszky utca 4.</td><td>Iván Róbert</td><td>Józsa Zsolt</td></tr>",
                            "<tr><td>ZSOLTJ</td><td>ZSOLTJ@gmail.com</td><td>Józsa Zsolt</td><td>1983</td><td>F</td><td>8315 Gyenesdiás, Bajcsy-Zsilinszky utca 4.</td><td>Jakab Áron</td><td>Juhász Mihály</td></tr>",
                            "<tr><td>MIHALYJ</td><td>mihály.juhász@mail.hu</td><td>Juhász Mihály</td><td>1979</td><td>F</td><td>6786 Ruzsa, Rákóczi utca 1.</td><td>Józsa Zsolt</td><td>Kalacsi Márton</td></tr>",
                            "<tr><td>marton</td><td>marton@gmail.com</td><td>Kalacsi Márton</td><td>1989</td><td>F</td><td>5137 Jászkisér, Fő út 169.</td><td>Juhász Mihály</td><td>Karasz Sándor</td></tr>",
                            "<tr><td>sandor</td><td>sandor@gmail.com</td><td>Karasz Sándor</td><td>1970</td><td>F</td><td>8283 Káptalantóti, Kossuth Lajos utca 1/a.</td><td>Kalacsi Márton</td><td>Kardos Renáta</td></tr>",
                            "<tr><td>RENATAK</td><td>renáta.kardos@mail.hu</td><td>Kardos Renáta</td><td>1988</td><td>N</td><td>7086 Ozora, Bécsi utca 82.</td><td>Karasz Sándor</td><td>Kazy Tihamér</td></tr>",
                            "<tr><td>tihamer</td><td>tihamér.kazy@mail.hu</td><td>Kazy Tihamér</td><td>1991</td><td>F</td><td>2370 Dabas, Fő utca 60.</td><td>Kardos Renáta</td><td>Kelemen Áron</td></tr>",
                            "<tr><td>ARONK</td><td>áron.kelemen@mail.hu</td><td>Kelemen Áron</td><td>1989</td><td>F</td><td>8200 Veszprém, Petőfi utca 8.</td><td>Kazy Tihamér</td><td>Kerényi Beatrix</td></tr>",
                            "<tr><td>BEATRIXK</td><td>beatrix.kerényi@mail.hu</td><td>Kerényi Beatrix</td><td>1972</td><td>N</td><td>7396 Magyarszék, Kossuth Lajos utca 47/b.</td><td>Kelemen Áron</td><td>Keresztúri Viktor</td></tr>",
                            "<tr><td>VIKTORK</td><td>viktor.keresztúri@mail.hu</td><td>Keresztúri Viktor</td><td>1989</td><td>F</td><td>2532 Tokodaltáró, Nagy Lajos tér 4.</td><td>Kerényi Beatrix</td><td>Kertész Katalin</td></tr>",
                            "<tr><td>katalin4</td><td>katalin4@gmail.com</td><td>Kertész Katalin</td><td>1986</td><td>N</td><td>2800 Tatabánya, Búvár utca 4.</td><td>Keresztúri Viktor</td><td>Keszler Dániel</td></tr>",
                            "<tr><td>daniel1</td><td>dániel.keszler@mail.hu</td><td>Keszler Dániel</td><td>1969</td><td>F</td><td>3580 Tiszaújváros, Kossuth Lajos utca 6.</td><td>Kertész Katalin</td><td>Kispál Márk</td></tr>",
                            "<tr><td>mark</td><td>márk.kispál@mail.hu</td><td>Kispál Márk</td><td>1996</td><td>F</td><td>1086 Budapest, Juhászföldi út 1.</td><td>Keszler Dániel</td><td>Kiss Ádám</td></tr>",
                            "<tr><td>adam1</td><td>ádám.kiss@mail.hu</td><td>Kiss Ádám</td><td>1991</td><td>F</td><td>5630 Békés, Szolnoki út 8.</td><td>Kispál Márk</td><td>Kiss Andrea</td></tr>",
                            "<tr><td>andrea</td><td>andrea.kiss@mail.hu</td><td>Kiss Andrea</td><td>1993</td><td>N</td><td>1113 Budapest, Petőfi Sándor utca 87.</td><td>Kiss Ádám</td><td>Kiss Anita</td></tr>",
                            "<tr><td>kanita12</td><td>anita.kiss12@gmail.com</td><td>Kiss Anita</td><td>1975</td><td>N</td><td>2230 Gyömrő Fő tér 3.</td><td>Kiss Andrea</td><td>Kiss Lajos</td></tr>",
                            "<tr><td>lajos</td><td>lajos.kiss@mail.hu</td><td>Kiss Lajos</td><td>1978</td><td>F</td><td>1077 Budapest, Dob utca 1</td><td>Kiss Anita</td><td>Komjáti András</td></tr>",
                            "<tr><td>andras41</td><td>andras41@gmail.com</td><td>Komjáti András</td><td>1997</td><td>F</td><td>5065 Nagykörű, Kossuth út 24.</td><td>Kiss Lajos</td><td>Kornseé Gyöngyi</td></tr>",
                            "<tr><td>GYONGYIK</td><td>gyöngyi.kornseé@mail.hu</td><td>Kornseé Gyöngyi</td><td>1974</td><td>N</td><td>8800 Nagykanizsa, Fő út 60.</td><td>Komjáti András</td><td>Kovács Ágnes</td></tr>",
                            "<tr><td>AGNESK</td><td>AGNESK@gmail.com</td><td>Kovács Ágnes</td><td>1988</td><td>N</td><td>1084 Budapest, Endrődi Sándor utca 47.</td><td>Kornseé Gyöngyi</td><td>Kovács Bernadett</td></tr>",
                            "<tr><td>bernadett2</td><td>bernadett.kovács@mail.hu</td><td>Kovács Bernadett</td><td>1996</td><td>N</td><td>4200 Hajdúszoboszló, Fő út 122.</td><td>Kovács Ágnes</td><td>Kovács Katalin</td></tr>",
                            "<tr><td>katka</td><td>katalin.kovács@mail.hu</td><td>Kovács Katalin</td><td>1975</td><td>N</td><td>8254 Kővágóörs, Petőfi utca 22.</td><td>Kovács Bernadett</td><td>Koza Máté</td></tr>",
                            "<tr><td>MATEK</td><td>máté.koza@mail.hu</td><td>Koza Máté</td><td>1997</td><td>F</td><td>1011 Budapest, Központi telep 3.</td><td>Kovács Katalin</td><td>Kozma Péter</td></tr>",
                            "<tr><td>peter1</td><td>peter1@gmail.com</td><td>Kozma Péter</td><td>1976</td><td>F</td><td>6913 Csanádpalota, Központi telep 3.</td><td>Koza Máté</td><td>Kő Nikoletta</td></tr>",
                            "<tr><td>nikoletta4</td><td>nikoletta4@gmail.com</td><td>Kő Nikoletta</td><td>1972</td><td>N</td><td>5537 Zsadány, Fő út 18.</td><td>Kozma Péter</td><td>Köves Gábor</td></tr>",
                            "<tr><td>gabor1</td><td>gabor1@gmail.com</td><td>Köves Gábor</td><td>1973</td><td>F</td><td>6762 Sándorfalva, Árpád utca 23.</td><td>Kő Nikoletta</td><td>Kuruc Emese</td></tr>",
                            "<tr><td>emese</td><td>emese.kuruc@mail.hu</td><td>Kuruc Emese</td><td>1989</td><td>N</td><td>6700 Szeged, Rákóczi utca 67.</td><td>Köves Gábor</td><td>Lengyel Ágnes</td></tr>",
                            "<tr><td>agnes</td><td>agnes@gmail.com</td><td>Lengyel Ágnes</td><td>1979</td><td>N</td><td>5200 Törökszentmiklós, Deák Ferenc út 5.</td><td>Kuruc Emese</td><td>Lukács Kornél</td></tr>",
                            "<tr><td>kornel4</td><td>kornél.lukács@mail.hu</td><td>Lukács Kornél</td><td>1975</td><td>F</td><td>2053 Herceghalom, Bécsi utca 82.</td><td>Lengyel Ágnes</td><td>Maródi Andrea</td></tr>",
                            "<tr><td>andi</td><td>andrea.maródi@mail.hu</td><td>Maródi Andrea</td><td>1968</td><td>N</td><td>5465 Cserkeszőlő, Árpád utca 4.</td><td>Lukács Kornél</td><td>Miklós Szabolcs</td></tr>",
                            "<tr><td>SZABOLCSM</td><td>szabolcs.miklós@mail.hu</td><td>Miklós Szabolcs</td><td>1980</td><td>F</td><td>1102 Budapest, Fő út 169.</td><td>Maródi Andrea</td><td>Miklós Tamara</td></tr>",
                            "<tr><td>tamara2</td><td>tamara.miklós@mail.hu</td><td>Miklós Tamara</td><td>1980</td><td>N</td><td>3910 Tokaj, Kossuth út 39.</td><td>Miklós Szabolcs</td><td>Mile Norbert</td></tr>",
                            "<tr><td>norbert4</td><td>norbert4@gmail.com</td><td>Mile Norbert</td><td>1983</td><td>F</td><td>3973 Cigánd, Bajcsy-Zsilinszky utca 4.</td><td>Miklós Tamara</td><td>Mogyródi Krisztián</td></tr>",
                            "<tr><td>KRISZTIANM</td><td>KRISZTIANM@gmail.com</td><td>Mogyródi Krisztián</td><td>1968</td><td>F</td><td>9155 Lébény, Jászai tér 21.</td><td>Mile Norbert</td><td>Mohos Mónika</td></tr>",
                            "<tr><td>MONIKAM</td><td>mónika.mohos@mail.hu</td><td>Mohos Mónika</td><td>1974</td><td>N</td><td>2241 Sülysáp, Baracsi László utca 14.</td><td>Mogyródi Krisztián</td><td>Molnár András</td></tr>",
                            "<tr><td>andras21</td><td>andrás.molnár@mail.hu</td><td>Molnár András</td><td>1977</td><td>F</td><td>7900 Szigetvár, Rákóczi utca 67.</td><td>Mohos Mónika</td><td>Molnár Bálint</td></tr>",
                            "<tr><td>balint1</td><td>balint1@gmail.com</td><td>Molnár Bálint</td><td>1989</td><td>F</td><td>9181 Kimle, Fő út 169.</td><td>Molnár András</td><td>Molnár Eszter</td></tr>",
                            "<tr><td>eszter</td><td>eszter.molnár@mail.hu</td><td>Molnár Eszter</td><td>1987</td><td>N</td><td>6800 Hódmezővásárhely, Fő út 77.</td><td>Molnár Bálint</td><td>Molnár Zsófi</td></tr>",
                            "<tr><td>zsofi1</td><td>zsofi1@gmail.com</td><td>Molnár Zsófi</td><td>1983</td><td>N</td><td>2730 Albertirsa, Árpád utca 23.</td><td>Molnár Eszter</td><td>Mór Ottó</td></tr>",
                            "<tr><td>desdemona</td><td>mor.otto@mail.hu</td><td>Mór Ottó</td><td>1968</td><td>F</td><td>9200 Mosonmagyaróvár Fő u. 12.</td><td>Molnár Zsófi</td><td>Móra László</td></tr>",
                            "<tr><td>laszlo2</td><td>lászló.móra@mail.hu</td><td>Móra László</td><td>1975</td><td>F</td><td>9970 Szentgotthárd, Petőfi utca 1/2.</td><td>Mór Ottó</td><td>Móricz Árpád</td></tr>",
                            "<tr><td>ARPADM</td><td>árpád.móricz@mail.hu</td><td>Móricz Árpád</td><td>1986</td><td>F</td><td>3910 Tokaj, Rákóczi utca 67.</td><td>Móra László</td><td>Nádudvari Henrik</td></tr>",
                            "<tr><td>henrik3</td><td>henrik.nádudvari@mail.hu</td><td>Nádudvari Henrik</td><td>1986</td><td>F</td><td>1077 Budapest, Tanácsköztársaság tér 1.</td><td>Móricz Árpád</td><td>Nagy András</td></tr>",
                            "<tr><td>ANDRASN</td><td>andrás.nagy@mail.hu</td><td>Nagy András</td><td>1980</td><td>F</td><td>6500 Baja, Fő út 169.</td><td>Nádudvari Henrik</td><td>Nagy Gabriella</td></tr>",
                            "<tr><td>gabriella1</td><td>gabriella1@gmail.com</td><td>Nagy Gabriella</td><td>1982</td><td>N</td><td>1077 Budapest, Dob utca 1</td><td>Nagy András</td><td>Nagy Júlia</td></tr>",
                            "<tr><td>julia4</td><td>julia4@gmail.com</td><td>Nagy Júlia</td><td>1985</td><td>N</td><td>7000 Sárbogárd, Jászai tér 21.</td><td>Nagy Gabriella</td><td>Nagy László</td></tr>",
                            "<tr><td>LASZLON</td><td>lászló.nagy@mail.hu</td><td>Nagy László</td><td>1969</td><td>F</td><td>1173 Budapest, Jászai tér 21.</td><td>Nagy Júlia</td><td>Nagy Péter</td></tr>",
                            "<tr><td>melissza</td><td>nagy_peter@indamail.hu</td><td>Nagy Péter</td><td>1998</td><td>F</td><td>6800 Hódmezővásárhely, Oldalkosát u. 1.</td><td>Nagy László</td><td>Nagy Sándor</td></tr>",
                            "<tr><td>sandor4</td><td>sandor4@gmail.com</td><td>Nagy Sándor</td><td>1997</td><td>F</td><td>4600 Kisvárda, Fő utca 47.</td><td>Nagy Péter</td><td>Nagymihály Csongor</td></tr>",
                            "<tr><td>csongor3</td><td>csongor.nagymihály@mail.hu</td><td>Nagymihály Csongor</td><td>1984</td><td>F</td><td>9181 Kimle, Deák Ferenc út 5.</td><td>Nagy Sándor</td><td>Nagymihály Lajos</td></tr>",
                            "<tr><td>lala</td><td>lajos.nagymihály@mail.hu</td><td>Nagymihály Lajos</td><td>1997</td><td>F</td><td>8638 Balatonlelle, Rákóczi út 200.</td><td>Nagymihály Csongor</td><td>Neizer Andrea</td></tr>",
                            "<tr><td>andrea4</td><td>andrea4@gmail.com</td><td>Neizer Andrea</td><td>1981</td><td>N</td><td>1124 Budapest, Kiss u. 8.</td><td>Nagymihály Lajos</td><td>Nyíri Georgij</td></tr>",
                            "<tr><td>georgij</td><td>georgij.nyíri@mail.hu</td><td>Nyíri Georgij</td><td>1983</td><td>F</td><td>8391 Sármellék, Grassalkovich út 10.</td><td>Neizer Andrea</td><td>Opra Attila</td></tr>",
                            "<tr><td>ATTILAO</td><td>ATTILAO@gmail.com</td><td>Opra Attila</td><td>1995</td><td>F</td><td>8283 Káptalantóti, Rákóczi út 200.</td><td>Nyíri Georgij</td><td>Orbán Bernadett</td></tr>",
                            "<tr><td>BERNADETTO</td><td>bernadett.orbán@mail.hu</td><td>Orbán Bernadett</td><td>1987</td><td>N</td><td>5085 Rákóczifalva, Arany János utca 1.</td><td>Opra Attila</td><td>Orosz Ferenc</td></tr>",
                            "<tr><td>ferenc1</td><td>ferenc.orosz@mail.hu</td><td>Orosz Ferenc</td><td>1983</td><td>F</td><td>5061 Tiszasüly, Arany János utca 3.</td><td>Orbán Bernadett</td><td>Oroszi György</td></tr>",
                            "<tr><td>GYORGYO</td><td>GYORGYO@gmail.com</td><td>Oroszi György</td><td>1980</td><td>F</td><td>7220 Sarkad, Dózsa György u. 1.</td><td>Orosz Ferenc</td><td>Ötvös Árpád</td></tr>",
                            "<tr><td>arpad2</td><td>árpád.ötvös@mail.hu</td><td>Ötvös Árpád</td><td>1990</td><td>F</td><td>2600 Vác, Padragi út 158.</td><td>Oroszi György</td><td>Palágyi Polla</td></tr>",
                            "<tr><td>polla</td><td>polla@gmail.com</td><td>Palágyi Polla</td><td>1994</td><td>N</td><td>2484 Agárd, Fő út 18.</td><td>Ötvös Árpád</td><td>Pálinkás János</td></tr>",
                            "<tr><td>JANOSP</td><td>JANOSP@gmail.com</td><td>Pálinkás János</td><td>1984</td><td>F</td><td>5920 Csorvás, Padragi út 158.</td><td>Palágyi Polla</td><td>Papós Tímea</td></tr>",
                            "<tr><td>timea</td><td>timea@gmail.com</td><td>Papós Tímea</td><td>1996</td><td>N</td><td>1035 Budapest,  Kossuth út 77.</td><td>Pálinkás János</td><td>Papp Imre</td></tr>",
                            "<tr><td>imre1</td><td>imre.papp@mail.hu</td><td>Papp Imre</td><td>1976</td><td>F</td><td>1077 Budapest, Szolnoki út 8.</td><td>Papós Tímea</td><td>Pásztor Róbert</td></tr>",
                            "<tr><td>ROBERTP</td><td>ROBERTP@gmail.com</td><td>Pásztor Róbert</td><td>1972</td><td>F</td><td>5137 Jászkisér, Ady Endre út 27.</td><td>Papp Imre</td><td>Pataki Brigitta</td></tr>",
                            "<tr><td>brigitta3</td><td>brigitta.pataki@mail.hu</td><td>Pataki Brigitta</td><td>1991</td><td>N</td><td>2730 Albertirsa, Rendeki utca 21.</td><td>Pásztor Róbert</td><td>Patay Róbert</td></tr>",
                            "<tr><td>robert2</td><td>robert2@gmail.com</td><td>Patay Róbert</td><td>1977</td><td>F</td><td>2370 Dabas, Rákóczi utca 21.</td><td>Pataki Brigitta</td><td>Perlinger Éva</td></tr>",
                            "<tr><td>eva2</td><td>eva2@gmail.com</td><td>Perlinger Éva</td><td>1971</td><td>N</td><td>9653 Répcelak, Bécsi utca 82.</td><td>Patay Róbert</td><td>Pintér Zoltán</td></tr>",
                            "<tr><td>ZOLTANP</td><td>zoltán.pintér@mail.hu</td><td>Pintér Zoltán</td><td>1977</td><td>F</td><td>6050 Lajosmizse, Fő út 18.</td><td>Perlinger Éva</td><td>Pivarcsi Anett</td></tr>",
                            "<tr><td>anett3</td><td>anett.pivarcsi@mail.hu</td><td>Pivarcsi Anett</td><td>1967</td><td>N</td><td>1149 Budapest, Fő út 60.</td><td>Pintér Zoltán</td><td>Poprádi Kristóf</td></tr>",
                            "<tr><td>kristof4</td><td>kristof4@gmail.com</td><td>Poprádi Kristóf</td><td>1984</td><td>F</td><td>8220 Balatonalmádi, Mészáros utca 7.</td><td>Pivarcsi Anett</td><td>Pulai Zsolt</td></tr>",
                            "<tr><td>zsolt1</td><td>zsolt.pulai@mail.hu</td><td>Pulai Zsolt</td><td>1988</td><td>F</td><td>8391 Sármellék, Fő utca 60.</td><td>Poprádi Kristóf</td><td>Pusztai Zsuzsanna</td></tr>",
                            "<tr><td>zsuzsa</td><td>zsuzsanna@gmail.com</td><td>Pusztai Zsuzsanna</td><td>1980</td><td>N</td><td>6783 Ásotthalom, Badacsonyi utca 12.</td><td>Pulai Zsolt</td><td>Rab Sebestyén</td></tr>",
                            "<tr><td>sebestyen</td><td>sebestyen@gmail.com</td><td>Rab Sebestyén</td><td>1992</td><td>F</td><td>7130 Tolna, Központi telep 3.</td><td>Pusztai Zsuzsanna</td><td>Rácz Dániel</td></tr>",
                            "<tr><td>daniel</td><td>dániel.rácz@mail.hu</td><td>Rácz Dániel</td><td>1978</td><td>F</td><td>9181 Kimle, Szabadság tér 9.</td><td>Rab Sebestyén</td><td>Rácz Rajmond</td></tr>",
                            "<tr><td>rajmond4</td><td>rajmond.rácz@mail.hu</td><td>Rácz Rajmond</td><td>1993</td><td>F</td><td>9155 Lébény, Petőfi utca 1/2.</td><td>Rácz Dániel</td><td>Regős Annamária</td></tr>",
                            "<tr><td>ANNAMARIAR</td><td>ANNAMARIAR@gmail.com</td><td>Regős Annamária</td><td>1977</td><td>N</td><td>8283 Káptalantóti, Petőfi Sándor tér 1.</td><td>Rácz Rajmond</td><td>Sarodi Dóra</td></tr>",
                            "<tr><td>dora3</td><td>dóra.sarodi@mail.hu</td><td>Sarodi Dóra</td><td>1995</td><td>N</td><td>2855 Bokod, Fő út 18.</td><td>Regős Annamária</td><td>Simon Anikó</td></tr>",
                            "<tr><td>ANIKOS</td><td>ANIKOS@gmail.com</td><td>Simon Anikó</td><td>1988</td><td>N</td><td>5137 Jászkisér, Bécsi utca 82.</td><td>Sarodi Dóra</td><td>Simon Bernadett</td></tr>",
                            "<tr><td>bernadett1</td><td>bernadett1@gmail.com</td><td>Simon Bernadett</td><td>1984</td><td>N</td><td>2300 Ráckeve, Fő utca 108.</td><td>Simon Anikó</td><td>Sobják Dávid</td></tr>",
                            "<tr><td>david1</td><td>david1@gmail.com</td><td>Sobják Dávid</td><td>1970</td><td>F</td><td>5083 Kengyel, Arany János utca 3.</td><td>Simon Bernadett</td><td>Soós István</td></tr>",
                            "<tr><td>istvan</td><td>istvan@gmail.com</td><td>Soós István</td><td>1986</td><td>F</td><td>2370 Dabas, Kossuth utca 27.</td><td>Sobják Dávid</td><td>Szabó Julianna</td></tr>",
                            "<tr><td>julianna4</td><td>julianna4@gmail.com</td><td>Szabó Julianna</td><td>1990</td><td>N</td><td>6700 Szeged, Kossuth Lajos utca 6.</td><td>Soós István</td><td>Szalai Péter</td></tr>",
                            "<tr><td>peter3</td><td>peter3@gmail.com</td><td>Szalai Péter</td><td>1983</td><td>F</td><td>1155 Budapest, Arany János utca 3.</td><td>Szabó Julianna</td><td>Szalai Szilárd</td></tr>",
                            "<tr><td>SZILARDS</td><td>szilárd.szalai@mail.hu</td><td>Szalai Szilárd</td><td>1967</td><td>F</td><td>1077 Budapest, Fő út 18.</td><td>Szalai Péter</td><td>Szedlár Krisztina</td></tr>",
                            "<tr><td>krisztina</td><td>krisztina@gmail.com</td><td>Szedlár Krisztina</td><td>1979</td><td>N</td><td>6646 Tömörkény, Arany János utca 1.</td><td>Szalai Szilárd</td><td>Székely Brigitta</td></tr>",
                            "<tr><td>brigitta</td><td>brigitta.székely@mail.hu</td><td>Székely Brigitta</td><td>1978</td><td>N</td><td>2462 Martonvásár, Fő utca 47.</td><td>Szedlár Krisztina</td><td>Szekendi Beatrix</td></tr>",
                            "<tr><td>BEATRIXS</td><td>beatrix.szekendi@mail.hu</td><td>Szekendi Beatrix</td><td>1981</td><td>N</td><td>4060 Balmazújváros, Jászai tér 21.</td><td>Székely Brigitta</td><td>Szikszai Réka</td></tr>",
                            "<tr><td>reka4</td><td>réka.szikszai@mail.hu</td><td>Szikszai Réka</td><td>1969</td><td>N</td><td>8254 Kővágóörs, Templom utca 73.</td><td>Szekendi Beatrix</td><td>Szilágyi Mátyás</td></tr>",
                            "<tr><td>MATYASS</td><td>mátyás.szilágyi@mail.hu</td><td>Szilágyi Mátyás</td><td>1975</td><td>F</td><td>9023 Győr, Kossuth Lajos utca 6.</td><td>Szikszai Réka</td><td>Szirmai Renáta</td></tr>",
                            "<tr><td>RENATAS</td><td>RENATAS@gmail.com</td><td>Szirmai Renáta</td><td>1991</td><td>N</td><td>2053 Herceghalom, Kossuth utca 27.</td><td>Szilágyi Mátyás</td><td>Szomor Andrea</td></tr>",
                            "<tr><td>andrea3</td><td>andrea3@gmail.com</td><td>Szomor Andrea</td><td>1996</td><td>N</td><td>7960 Sellye, Bécsi utca 82.</td><td>Szirmai Renáta</td><td>Szöllősi Gábor</td></tr>",
                            "<tr><td>GABORS</td><td>GABORS@gmail.com</td><td>Szöllősi Gábor</td><td>1990</td><td>F</td><td>3630 Putnok, Kossuth utca 27.</td><td>Szomor Andrea</td><td>Szűcs Annamária</td></tr>",
                            "<tr><td>annamaria1</td><td>annamária.szűcs@mail.hu</td><td>Szűcs Annamária</td><td>1990</td><td>N</td><td>1191 Budapest, Rendeki utca 21.</td><td>Szöllősi Gábor</td><td>Szűcs Balázs</td></tr>",
                            "<tr><td>balazs2</td><td>balázs.szűcs@mail.hu</td><td>Szűcs Balázs</td><td>1984</td><td>F</td><td>3170 Szécsény, Szabadság utca 95.</td><td>Szűcs Annamária</td><td>Szűcs Norbert</td></tr>",
                            "<tr><td>norbert</td><td>norbert@gmail.com</td><td>Szűcs Norbert</td><td>1969</td><td>F</td><td>5071 Besenyszög, Győri utca 12.</td><td>Szűcs Balázs</td><td>Tankó Veronika</td></tr>",
                            "<tr><td>veronika4</td><td>veronika4@gmail.com</td><td>Tankó Veronika</td><td>1983</td><td>N</td><td>6412 Balotaszállás, Rendeki utca 21.</td><td>Szűcs Norbert</td><td>Tari Szilvia</td></tr>",
                            "<tr><td>szilvia1</td><td>szilvia.tari@mail.hu</td><td>Tari Szilvia</td><td>1971</td><td>N</td><td>6080 Szabadszállás, Bécsi utca 82.</td><td>Tankó Veronika</td><td>Tatár Nikoletta</td></tr>",
                            "<tr><td>NIKOLETTAT</td><td>nikoletta.tatár@mail.hu</td><td>Tatár Nikoletta</td><td>1997</td><td>N</td><td>1067 Budapest, Győri utca 12.</td><td>Tari Szilvia</td><td>Telek Gábor</td></tr>",
                            "<tr><td>gabor4</td><td>gábor.telek@mail.hu</td><td>Telek Gábor</td><td>1987</td><td>F</td><td>9071 Görbeháza, Fő út 169.</td><td>Tatár Nikoletta</td><td>Tornyos Andrea</td></tr>",
                            "<tr><td>ANDREAT</td><td>ANDREAT@gmail.com</td><td>Tornyos Andrea</td><td>1986</td><td>N</td><td>6131 Szank, Bécsi utca 82.</td><td>Telek Gábor</td><td>Tóth András</td></tr>",
                            "<tr><td>andras2</td><td>andrás.tóth@mail.hu</td><td>Tóth András</td><td>1997</td><td>F</td><td>4071 Egyek, Petőfi utca 30.</td><td>Tornyos Andrea</td><td>Tóth Anikó</td></tr>",
                            "<tr><td>aniko</td><td>aniko@gmail.com</td><td>Tóth Anikó</td><td>1973</td><td>N</td><td>2085 Pilisvörösvár, Deák Ferenc út 5.</td><td>Tóth András</td><td>Tóth Júlia</td></tr>",
                            "<tr><td>julia</td><td>julia@gmail.com</td><td>Tóth Júlia</td><td>1993</td><td>N</td><td>5310 Kisújszállás, Árpád utca 4.</td><td>Tóth Anikó</td><td>Tóth Roland</td></tr>",
                            "<tr><td>roland</td><td>roland@gmail.com</td><td>Tóth Roland</td><td>1968</td><td>F</td><td>2000 Szentendre, Fő út 169.</td><td>Tóth Júlia</td><td>Tóth Zoltán</td></tr>",
                            "<tr><td>ZOLTANT</td><td>zoltán.tóth@mail.hu</td><td>Tóth Zoltán</td><td>1985</td><td>F</td><td>4244 Újfehértó, Posta köz 2.</td><td>Tóth Roland</td><td>Tömböly Dénes</td></tr>",
                            "<tr><td>denes</td><td>denes@gmail.com</td><td>Tömböly Dénes</td><td>1975</td><td>F</td><td>2400 Dunaújváros, Kossuth út 39.</td><td>Tóth Zoltán</td><td>Turcsik Tünde</td></tr>",
                            "<tr><td>tunde</td><td>tunde@gmail.com</td><td>Turcsik Tünde</td><td>1974</td><td>N</td><td>7130 Tolna, Fő út 122.</td><td>Tömböly Dénes</td><td>Urbán Viktoria</td></tr>",
                            "<tr><td>VIKTORIAU</td><td>viktoria.urbán@mail.hu</td><td>Urbán Viktoria</td><td>1996</td><td>N</td><td>3860 Encs, Népboltsor  2.</td><td>Turcsik Tünde</td><td>Vajda József</td></tr>",
                            "<tr><td>jozsef2</td><td>józsef.vajda@mail.hu</td><td>Vajda József</td><td>1978</td><td>F</td><td>6700 Szeged, Baracsi László utca 14.</td><td>Urbán Viktoria</td><td>Vajda Zsuzsa</td></tr>",
                            "<tr><td>ZSUZSAV</td><td>zsuzsa.vajda@mail.hu</td><td>Vajda Zsuzsa</td><td>1976</td><td>N</td><td>6786 Ruzsa, Kossuth utca 77.</td><td>Vajda József</td><td>Varga István</td></tr>",
                            "<tr><td>ISTVANV</td><td>ISTVANV@gmail.com</td><td>Varga István</td><td>1989</td><td>F</td><td>6320 Solt, Hősök tere 11.</td><td>Vajda Zsuzsa</td><td>Varsányi Zsuzsa</td></tr>",
                            "<tr><td>zsuzsa3</td><td>zsuzsa.varsányi@mail.hu</td><td>Varsányi Zsuzsa</td><td>1979</td><td>N</td><td>8600 Siófok, Árpád utca 4.</td><td>Varga István</td><td>Vida Gabriella</td></tr>",
                            "<tr><td>gabriella10</td><td>gabriella10@gmail.com</td><td>Vida Gabriella</td><td>1969</td><td>N</td><td>2484 Agárd, Arany János utca 3.</td><td>Varsányi Zsuzsa</td><td>Vígh András</td></tr>",
                            "<tr><td>andras3</td><td>andrás.vígh@mail.hu</td><td>Vígh András</td><td>1971</td><td>F</td><td>1118 Budapest, Arany János utca 1.</td><td>Vida Gabriella</td><td>Viktor Éva</td></tr>",
                            "<tr><td>EVAV</td><td>EVAV@gmail.com</td><td>Viktor Éva</td><td>1980</td><td>N</td><td>6913 Csanádpalota, Arany János utca 3.</td><td>Vígh András</td><td>Vizi István</td></tr>",
                            "<tr><td>istvan1</td><td>istván.vizi@mail.hu</td><td>Vizi István</td><td>1997</td><td>F</td><td>7086 Ozora, Rákóczi utca 1.</td><td>Viktor Éva</td><td>Vörös Dániel</td></tr>",
                            "<tr><td>dani</td><td>daniel@gmail.com</td><td>Vörös Dániel</td><td>1986</td><td>F</td><td>7150 Bonyhád, Dózsa György u. 1.</td><td>Vizi István</td><td>Vukasinovity Bálint</td></tr>",
                            "<tr><td>balint2</td><td>balint2@gmail.com</td><td>Vukasinovity Bálint</td><td>1997</td><td>F</td><td>2330 Dunaharaszti, Béke utca 7.</td><td>Vörös Dániel</td><td>Zatykó Katalin</td></tr>",
                            "<tr><td>kati</td><td>katalin.zatykó@mail.hu</td><td>Zatykó Katalin</td><td>1995</td><td>N</td><td>7511 Ötvöskónyi, Kossuth Lajos utca 6.</td><td>Vukasinovity Bálint</td><td>Nincs</td></tr>",
                            "</table>"
                        ]
                    }
                }
            ],
            "execution_count": 36
        },
        {
            "cell_type": "markdown",
            "source": [
                "7. <span style=\"font-weight: 600; color: rgb(36, 41, 47); font-family: -apple-system, BlinkMacSystemFont, &quot;Segoe UI&quot;, Helvetica, Arial, sans-serif, &quot;Apple Color Emoji&quot;, &quot;Segoe UI Emoji&quot;; font-size: 16px;\">Készítsünk lekérdezést, amely megmutatja, hogy melyik termékkategóriába hány termék tartozik. A lista a kategória nevét és a darabszámot jelenítse meg.</span>\n",
                "\n",
                "1. A lista ne tartalmazzon duplikált sorokat.\n",
                "2. A feladatot partíciók segítségével oldjuk meg!"
            ],
            "metadata": {
                "azdata_cell_guid": "7ebf7ddd-1bd2-4246-815a-be8ae37e3b5b"
            },
            "attachments": {}
        },
        {
            "cell_type": "code",
            "source": [
                "SELECT DISTINCT tk.KAT_NEV,\r\n",
                "        tk.szulo_kat,\r\n",
                "        COUNT(*) OVER(PARTITION BY tk.KAT_NEV),\r\n",
                "        --AVG(t.LISTAAR) OVER(PARTITION BY tk.KAT_NEV)\r\n",
                "FROM Termek t\r\n",
                "    JOIN Termekkategoria tk ON t.KAT_ID = tk.KAT_ID\r\n",
                "--GROUP by tk.KAT_NEV"
            ],
            "metadata": {
                "azdata_cell_guid": "84b7e896-f36e-4985-88f5-e0f706494fef",
                "language": "sql"
            },
            "outputs": [],
            "execution_count": null
        },
        {
            "cell_type": "markdown",
            "source": [
                "8. <span style=\"font-weight: 600; color: rgb(36, 41, 47); font-family: -apple-system, BlinkMacSystemFont, &quot;Segoe UI&quot;, Helvetica, Arial, sans-serif, &quot;Apple Color Emoji&quot;, &quot;Segoe UI Emoji&quot;; font-size: 16px;\">Készítsünk listát a rendelési tételekről. Az egyes rendelési tételeket termékenként soroljuk be 4 osztályba a rendelés mennyisége alapján. Jelenítsük meg ezt az információt is egy új oszlopban, az oszlop neve legyen 'Mennyiségi kategória'.</span>\n",
                "\n",
                "1. A lista csak a 100 Ft feletti egységárú rendelési tételeket vegye figyelembe!"
            ],
            "metadata": {
                "azdata_cell_guid": "27a3d3dc-eafb-4a5e-b103-9f465b9eda8f"
            },
            "attachments": {}
        },
        {
            "cell_type": "code",
            "source": [
                ""
            ],
            "metadata": {
                "azdata_cell_guid": "f09edb3f-649b-4a96-958e-9e12774ae8b7",
                "language": "sql"
            },
            "outputs": [],
            "execution_count": null
        },
        {
            "cell_type": "markdown",
            "source": [
                "9. <span style=\"font-weight: 600; color: rgb(36, 41, 47); font-family: -apple-system, BlinkMacSystemFont, &quot;Segoe UI&quot;, Helvetica, Arial, sans-serif, &quot;Apple Color Emoji&quot;, &quot;Segoe UI Emoji&quot;; font-size: 16px;\">Listázzuk a termékek kódját, megnevezését, kategóriájának nevét, és listaárát.</span>\n",
                "\n",
                "1. A listát egészítsük ki két új oszloppal, amelyek a kategória legolcsóbb, illetve legdrágább termékének árát tartalmazzák.\n",
                "2. A két új oszlop létrehozásánál partíciókkal dolgozzunk!"
            ],
            "metadata": {
                "azdata_cell_guid": "f12a331a-0e26-4d3d-9c68-812316286577"
            },
            "attachments": {}
        },
        {
            "cell_type": "code",
            "source": [
                ""
            ],
            "metadata": {
                "azdata_cell_guid": "10a77fc9-e61a-46fc-a401-59720d82bc50",
                "language": "sql"
            },
            "outputs": [],
            "execution_count": null
        },
        {
            "cell_type": "markdown",
            "source": [
                "10. <span style=\"font-weight: 600; color: rgb(36, 41, 47); font-family: -apple-system, BlinkMacSystemFont, &quot;Segoe UI&quot;, Helvetica, Arial, sans-serif, &quot;Apple Color Emoji&quot;, &quot;Segoe UI Emoji&quot;; font-size: 16px;\">Készítsünk listát a rendelésekről. A lista legyen rendezve ügyfelenként (LOGIN), azon belül a rendelés dátuma szerint. A listához készítsünk sorszámozást is. A sorszám a következő formában jelenjen meg: sorszám_év_login. Pl: 1_2015_adam1</span>\n",
                "\n",
                "1. A számozás login-onként, azon belül rendelési évenként kezdődjön újra.\n",
                "2. A sorszám oszlop neve legyen Azonosító"
            ],
            "metadata": {
                "azdata_cell_guid": "9229e2b6-e200-4499-b95b-2d0222149831"
            },
            "attachments": {}
        },
        {
            "cell_type": "code",
            "source": [
                ""
            ],
            "metadata": {
                "azdata_cell_guid": "8b49ed67-28c6-4880-82a8-cd369e5bba99",
                "language": "sql"
            },
            "outputs": [],
            "execution_count": null
        },
        {
            "cell_type": "markdown",
            "source": [
                "11. <span style=\"color: rgb(36, 41, 47); font-family: -apple-system, BlinkMacSystemFont, &quot;Segoe UI&quot;, Helvetica, Arial, sans-serif, &quot;Apple Color Emoji&quot;, &quot;Segoe UI Emoji&quot;; font-size: 16px;\">Készítsünk listát a termékek adatairól listaár szerint növekvő sorrendben! A lista jelenítse meg két új oszlopban a sorrend szerint előző, illetve következő termék listaárát is a termék saját kategóriájában és raktárában!</span>\n",
                "\n",
                "1. Ahol nincs előző vagy következő érték, ott 0 jelenjen meg!\n",
                "2. Az oszlopokat nevezzük el értelemszerűen!"
            ],
            "metadata": {
                "azdata_cell_guid": "7f5fc7a7-3b6a-4d89-b292-490830afb0c6"
            },
            "attachments": {}
        },
        {
            "cell_type": "code",
            "source": [
                ""
            ],
            "metadata": {
                "azdata_cell_guid": "4a9ece40-f782-4c0d-92cd-9c21969067ed",
                "language": "sql"
            },
            "outputs": [],
            "execution_count": null
        },
        {
            "cell_type": "markdown",
            "source": [
                "12. <span style=\"color: rgb(36, 41, 47); font-family: -apple-system, BlinkMacSystemFont, &quot;Segoe UI&quot;, Helvetica, Arial, sans-serif, &quot;Apple Color Emoji&quot;, &quot;Segoe UI Emoji&quot;; font-size: 16px;\">Listázzuk a termékek kódját, nevét és listaárát listaár szerinti sorrendben!</span>\n",
                "\n",
                "1. Vegyünk fel egy új oszlopot Mozgóátlag néven, amely minden esetben az aktuális termék, az előző, és a következő termék átlagárát tartalmazza!\n",
                "2. A mozgóátlagot kerekítsük két tizedesre!"
            ],
            "metadata": {
                "azdata_cell_guid": "5a483c52-bb98-44bb-bd03-1146d4b0abfa"
            },
            "attachments": {}
        },
        {
            "cell_type": "code",
            "source": [
                ""
            ],
            "metadata": {
                "azdata_cell_guid": "dd6e89bd-08f9-4b18-8460-03c45b503df0",
                "language": "sql"
            },
            "outputs": [],
            "execution_count": null
        },
        {
            "cell_type": "markdown",
            "source": [
                "13. <span style=\"color: rgb(36, 41, 47); font-family: -apple-system, BlinkMacSystemFont, &quot;Segoe UI&quot;, Helvetica, Arial, sans-serif, &quot;Apple Color Emoji&quot;, &quot;Segoe UI Emoji&quot;; font-size: 16px;\">Készítsünk listát, amely a rendelések sorszámát és a rendelés értékét tartalmazza. A listát egészítsük ki egy új oszloppal, amely minden rendelés esetén addigi rendelések összegét tartalmazza (az aktuálisat is beleértve)!</span>\n",
                "\n",
                "1. A listát rendezzük sorszám szerint növekvő sorrendbe.\n",
                "2. A lista ne tartalmazzon duplikált sorokat!"
            ],
            "metadata": {
                "azdata_cell_guid": "85d5cb66-96c6-42de-99cf-85ab22d08548"
            },
            "attachments": {}
        },
        {
            "cell_type": "code",
            "source": [
                ""
            ],
            "metadata": {
                "azdata_cell_guid": "cb07d64b-0eaa-498b-b4d2-0b46971e95ce",
                "language": "sql"
            },
            "outputs": [],
            "execution_count": null
        },
        {
            "cell_type": "markdown",
            "source": [
                "14. <span style=\"color: rgb(36, 41, 47); font-family: -apple-system, BlinkMacSystemFont, &quot;Segoe UI&quot;, Helvetica, Arial, sans-serif, &quot;Apple Color Emoji&quot;, &quot;Segoe UI Emoji&quot;; font-size: 16px;\">Készítsünk listát a termékek kódjáról, nevéről, kategória azonosítójáról, raktár azonosítójáról és listaáráról, valamint a termék adott szempontok szerinti rangsorokban elfoglalt helyezéseiről. (Szempontonként külön oszlopban, a helyezéseknél növekvő sorrendet feltételezve). A szempontok a következők legyenek: listaár, kategória szerinti listaár, és raktárkód szerinti listaár.</span>\n",
                "\n",
                "1. Az oszlopokat nevezzük el értelemszerűen.\n",
                "2. A helyezések egyenlőség esetén \"sűrűn\" kövessék egymást.\n",
                "3. A lista legyen rendezett kategória azonosító, azon belül listaár szerint!"
            ],
            "metadata": {
                "azdata_cell_guid": "f95ad665-a807-4099-bf06-64ed974f866f"
            },
            "attachments": {}
        },
        {
            "cell_type": "code",
            "source": [
                ""
            ],
            "metadata": {
                "azdata_cell_guid": "74c7ec8a-ae4a-4d03-b1c4-e8f6bb1be12c",
                "language": "sql"
            },
            "outputs": [],
            "execution_count": null
        },
        {
            "cell_type": "markdown",
            "source": [
                "15. <span style=\"color: rgb(36, 41, 47); font-family: -apple-system, BlinkMacSystemFont, &quot;Segoe UI&quot;, Helvetica, Arial, sans-serif, &quot;Apple Color Emoji&quot;, &quot;Segoe UI Emoji&quot;; font-size: 16px;\">Készítsünk listát a rendelési tételekről, amely minden sor esetén göngyölítve tartalmazza az ügyfél adott rendelési tételig meglévő rendelési tételeinek összértékét!</span>\n",
                "\n",
                "1. Az új oszlop neve legyen Eddigi rendelési tételek összértéke!\n",
                "2. Az ügyfél neve is jelenjen meg!"
            ],
            "metadata": {
                "azdata_cell_guid": "93552388-ffec-49ff-99e5-ae8dc8072601"
            },
            "attachments": {}
        },
        {
            "cell_type": "code",
            "source": [
                ""
            ],
            "metadata": {
                "azdata_cell_guid": "0e7f547f-7d96-4611-b1c2-0fa84a581e79",
                "language": "sql"
            },
            "outputs": [],
            "execution_count": null
        }
    ]
}