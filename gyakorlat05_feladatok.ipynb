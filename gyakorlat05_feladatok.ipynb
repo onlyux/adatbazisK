{
    "metadata": {
        "kernelspec": {
            "name": "SQL",
            "display_name": "SQL",
            "language": "sql"
        },
        "language_info": {
            "name": "sql",
            "version": ""
        }
    },
    "nbformat_minor": 2,
    "nbformat": 4,
    "cells": [
        {
            "cell_type": "markdown",
            "source": [
                "1. <span style=\"color: rgb(36, 41, 47); font-family: -apple-system, BlinkMacSystemFont, &quot;Segoe UI&quot;, Helvetica, Arial, sans-serif, &quot;Apple Color Emoji&quot;, &quot;Segoe UI Emoji&quot;; font-size: 16px;\">Készítsünk listát éves bontásban norbert2 azonosítójú ügyfél rendeléseinek értékéről!</span>\n",
                "\n",
                "1. A lista megfelelően jelölve tartalmazza a végösszeget is!"
            ],
            "metadata": {
                "azdata_cell_guid": "363cd270-6577-449b-9c89-d4b7c7972d52"
            },
            "attachments": {}
        },
        {
            "cell_type": "code",
            "source": [
                "SELECT IIF(GROUPING_ID(Year(r.REND_DATUM)) = 1, 'Összesen', CAST(YEAR(r.REND_DATUM) as nvarchar(4))),\r\n",
                "        SUM(rt.EGYSEGAR * rt.MENNYISEG)\r\n",
                "FROM Rendeles r JOIN Rendeles_tetel rt ON r.SORSZAM = rt.SORSZAM\r\n",
                "WHERE r.[LOGIN] = 'norbert2'\r\n",
                "GROUP BY ROLLUP(Year(r.REND_DATUM))"
            ],
            "metadata": {
                "azdata_cell_guid": "6ab9f633-a3b5-48c9-a1dc-4fb8235ae85b",
                "language": "sql"
            },
            "outputs": [],
            "execution_count": null
        },
        {
            "cell_type": "markdown",
            "source": [
                "2. <span style=\"color: rgb(36, 41, 47); font-family: -apple-system, BlinkMacSystemFont, &quot;Segoe UI&quot;, Helvetica, Arial, sans-serif, &quot;Apple Color Emoji&quot;, &quot;Segoe UI Emoji&quot;; font-size: 16px;\">Készítsünk listát szállítási dátumonként, azon belül szállítási módonként az egyes rendelések összmennyiségéről!</span>\n",
                "\n",
                "1. Csak azokat a termékeket vegyük figyelembe, amelyek mennyiségi egysége db!\n",
                "2. A listát szűrjük úgy, hogy az csak a részösszeg sorokat és a végösszeget tartalmazza!"
            ],
            "metadata": {
                "azdata_cell_guid": "ea75c103-911f-41a3-a32c-3d40fb3e4e4a"
            },
            "attachments": {}
        },
        {
            "cell_type": "code",
            "source": [
                "SELECT r.SZALL_DATUM,\r\n",
                "        r. SZALL_MOD,\r\n",
                "        -- GROUPING_ID(r.szall_datum, r.szall_mod),\r\n",
                "        COUNT(*)\r\n",
                "FROM Rendeles r \r\n",
                "        JOIN Rendeles_tetel rt ON r.SORSZAM = rt.SORSZAM\r\n",
                "        JOIN Termek t ON rt.TERMEKKOD = t.TERMEKKOD\r\n",
                "WHERE t.MEGYS = 'db'\r\n",
                "GROUP BY ROLLUP(r.SZALL_DATUM, r.SZALL_MOD)\r\n",
                "HAVING GROUPING_ID(r.SZALL_DATUM, r.SZALL_MOD) > 0"
            ],
            "metadata": {
                "azdata_cell_guid": "222b9618-a8e8-42b4-a8e8-d002257122b7",
                "language": "sql"
            },
            "outputs": [],
            "execution_count": null
        },
        {
            "cell_type": "markdown",
            "source": [
                "```\n",
                "3. Hány olyan ügyfél van, aki még nem rendelt semmit?\n",
                "```\n",
                "\n",
                "1. Csoportosítsuk őket nem szerint, azon belül életkor szerint!\n",
                "2. A lista tartalmazza a részösszegeket és a végösszeget is!\n",
                "\n",
                "![](https://moodle.uni-corvinus.hu/theme/image.php/adaptable/atto_h5p/1709548862/icon)"
            ],
            "metadata": {
                "azdata_cell_guid": "d7876bb9-76d0-4d07-baed-3cb17b2f96c3"
            },
            "attachments": {}
        },
        {
            "cell_type": "code",
            "source": [
                "\r\n",
                "FROM Termek"
            ],
            "metadata": {
                "azdata_cell_guid": "56ec19ce-e249-4551-b2a8-f17569765acc",
                "language": "sql",
                "tags": [
                    "hide_input"
                ]
            },
            "outputs": [],
            "execution_count": null
        },
        {
            "cell_type": "markdown",
            "source": [
                "4. <span style=\"color: rgb(36, 41, 47); font-family: -apple-system, BlinkMacSystemFont, &quot;Segoe UI&quot;, Helvetica, Arial, sans-serif, &quot;Apple Color Emoji&quot;, &quot;Segoe UI Emoji&quot;; font-size: 16px;\">Készítsünk listát a megrendelt termékek legkisebb és legnagyobb egységáráról szállítási dátum, azon belül szállítási mód szerinti bontásban!</span>\n",
                "\n",
                "1. A lista csak a 2015 májusi szállításokat tartalmazza!\n",
                "2. Jelenítsük meg a részösszegeket és a végösszeget is!"
            ],
            "metadata": {
                "azdata_cell_guid": "8e7fef82-8022-49a0-8255-fc2846c2134b"
            },
            "attachments": {}
        },
        {
            "cell_type": "code",
            "source": [
                ""
            ],
            "metadata": {
                "azdata_cell_guid": "36f7b396-4a1f-45e5-8720-2302537c91bc",
                "language": "sql"
            },
            "outputs": [],
            "execution_count": null
        },
        {
            "cell_type": "markdown",
            "source": [
                "5. <span style=\"color: rgb(36, 41, 47); font-family: -apple-system, BlinkMacSystemFont, &quot;Segoe UI&quot;, Helvetica, Arial, sans-serif, &quot;Apple Color Emoji&quot;, &quot;Segoe UI Emoji&quot;; font-size: 16px;\">Készítsünk csoportot a termékek listaára alapján a következők szerint:&nbsp;<br></span> <span style=\"color: rgb(36, 41, 47); font-family: -apple-system, BlinkMacSystemFont, &quot;Segoe UI&quot;, Helvetica, Arial, sans-serif, &quot;Apple Color Emoji&quot;, &quot;Segoe UI Emoji&quot;; font-size: 16px;\">Az \"olcsó\" termékek legyenek azok, amelyek listaára 3000 alatt van.<br>&nbsp;A \"drága\" termékek legyenek az 5000 felettiek, a többi legyen \"közepes\".</span>\n",
                "\n",
                "1. Listázzuk az egyes csoportokat, és a csoportokba tartozó termékek darabszámát!\n",
                "2. A lista jelenítse meg a végösszeget is!"
            ],
            "metadata": {
                "azdata_cell_guid": "84239ca2-6b5e-49f5-9860-d44c11d6de32"
            },
            "attachments": {}
        },
        {
            "cell_type": "code",
            "source": [
                ""
            ],
            "metadata": {
                "azdata_cell_guid": "06d9a62b-9430-424b-a135-d80e675f0eb3",
                "language": "sql"
            },
            "outputs": [],
            "execution_count": null
        },
        {
            "cell_type": "markdown",
            "source": [
                "6. <span style=\"font-weight: 600; color: rgb(36, 41, 47); font-family: -apple-system, BlinkMacSystemFont, &quot;Segoe UI&quot;, Helvetica, Arial, sans-serif, &quot;Apple Color Emoji&quot;, &quot;Segoe UI Emoji&quot;; font-size: 16px;\">Készítsünk listát az ügyfelek adatairól név szerinti sorrendben.</span>\n",
                "\n",
                "1. Minden sorban jelenjen meg a sorrend szerint előző, illetve következő ügyfél neve is.\n",
                "2. Ha nincs előző vagy következő ügyfél, akkor a 'Nincs' jelenjen meg!"
            ],
            "metadata": {
                "azdata_cell_guid": "b0d15045-3c43-4f3a-b8d4-76b4f24e5546"
            },
            "attachments": {}
        },
        {
            "cell_type": "code",
            "source": [
                ""
            ],
            "metadata": {
                "azdata_cell_guid": "f2b7400d-1255-40ac-9250-4d57f9da5357",
                "language": "sql"
            },
            "outputs": [],
            "execution_count": null
        },
        {
            "cell_type": "markdown",
            "source": [
                "7. <span style=\"font-weight: 600; color: rgb(36, 41, 47); font-family: -apple-system, BlinkMacSystemFont, &quot;Segoe UI&quot;, Helvetica, Arial, sans-serif, &quot;Apple Color Emoji&quot;, &quot;Segoe UI Emoji&quot;; font-size: 16px;\">Készítsünk lekérdezést, amely megmutatja, hogy melyik termékkategóriába hány termék tartozik. A lista a kategória nevét és a darabszámot jelenítse meg.</span>\n",
                "\n",
                "1. A lista ne tartalmazzon duplikált sorokat.\n",
                "2. A feladatot partíciók segítségével oldjuk meg!"
            ],
            "metadata": {
                "azdata_cell_guid": "7ebf7ddd-1bd2-4246-815a-be8ae37e3b5b"
            },
            "attachments": {}
        },
        {
            "cell_type": "code",
            "source": [
                "SELECT DISTINCT tk.KAT_NEV,\r\n",
                "        tk.szulo_kat,\r\n",
                "        COUNT(*) OVER(PARTITION BY tk.KAT_NEV),\r\n",
                "        --AVG(t.LISTAAR) OVER(PARTITION BY tk.KAT_NEV)\r\n",
                "FROM Termek t\r\n",
                "    JOIN Termekkategoria tk ON t.KAT_ID = tk.KAT_ID\r\n",
                "--GROUP by tk.KAT_NEV"
            ],
            "metadata": {
                "azdata_cell_guid": "84b7e896-f36e-4985-88f5-e0f706494fef",
                "language": "sql"
            },
            "outputs": [
                {
                    "output_type": "display_data",
                    "data": {
                        "text/html": "(143 rows affected)"
                    },
                    "metadata": {}
                },
                {
                    "output_type": "display_data",
                    "data": {
                        "text/html": "Total execution time: 00:00:00.027"
                    },
                    "metadata": {}
                },
                {
                    "output_type": "execute_result",
                    "metadata": {},
                    "execution_count": 30,
                    "data": {
                        "application/vnd.dataresource+json": {
                            "schema": {
                                "fields": [
                                    {
                                        "name": "KAT_NEV"
                                    },
                                    {
                                        "name": "szulo_kat"
                                    },
                                    {
                                        "name": "(No column name)"
                                    },
                                    {
                                        "name": "(No column name)"
                                    }
                                ]
                            },
                            "data": [
                                {
                                    "KAT_NEV": "ajándék tárgy",
                                    "szulo_kat": "1",
                                    "(No column name)": "75,33333333333333"
                                },
                                {
                                    "KAT_NEV": "ajándék tasak",
                                    "szulo_kat": "5",
                                    "(No column name)": "125,4"
                                },
                                {
                                    "KAT_NEV": "álarc",
                                    "szulo_kat": "5",
                                    "(No column name)": "125,66666666666667"
                                },
                                {
                                    "KAT_NEV": "alkalmi",
                                    "szulo_kat": "2",
                                    "(No column name)": "21933,333333333332"
                                },
                                {
                                    "KAT_NEV": "alufólia",
                                    "szulo_kat": "63",
                                    "(No column name)": "166"
                                },
                                {
                                    "KAT_NEV": "árazószalag",
                                    "szulo_kat": "74",
                                    "(No column name)": "106"
                                },
                                {
                                    "KAT_NEV": "átírótömb",
                                    "szulo_kat": "74",
                                    "(No column name)": "115"
                                },
                                {
                                    "KAT_NEV": "beíró",
                                    "szulo_kat": "78",
                                    "(No column name)": "228"
                                },
                                {
                                    "KAT_NEV": "beírókönyv",
                                    "szulo_kat": "74",
                                    "(No column name)": "230,5"
                                },
                                {
                                    "KAT_NEV": "bélyegző",
                                    "szulo_kat": "74",
                                    "(No column name)": "988,5"
                                },
                                {
                                    "KAT_NEV": "bélyegzőfesték",
                                    "szulo_kat": "74",
                                    "(No column name)": "297"
                                },
                                {
                                    "KAT_NEV": "boríték",
                                    "szulo_kat": "74",
                                    "(No column name)": "14,571428571428571"
                                },
                                {
                                    "KAT_NEV": "cd tok",
                                    "szulo_kat": "74",
                                    "(No column name)": "30"
                                },
                                {
                                    "KAT_NEV": "celofán",
                                    "szulo_kat": "63",
                                    "(No column name)": "59,5"
                                },
                                {
                                    "KAT_NEV": "ceruza",
                                    "szulo_kat": "77",
                                    "(No column name)": "48,421052631578945"
                                },
                                {
                                    "KAT_NEV": "címke",
                                    "szulo_kat": "5",
                                    "(No column name)": "25,666666666666668"
                                },
                                {
                                    "KAT_NEV": "color copy",
                                    "szulo_kat": "113",
                                    "(No column name)": "310,6"
                                },
                                {
                                    "KAT_NEV": "csomagoló",
                                    "szulo_kat": "63",
                                    "(No column name)": "99,5"
                                },
                                {
                                    "KAT_NEV": "csomagoló papír",
                                    "szulo_kat": "23",
                                    "(No column name)": "102,57142857142857"
                                },
                                {
                                    "KAT_NEV": "dekor",
                                    "szulo_kat": "5",
                                    "(No column name)": "21,25"
                                },
                                {
                                    "KAT_NEV": "dipa",
                                    "szulo_kat": "113",
                                    "(No column name)": "9"
                                },
                                {
                                    "KAT_NEV": "díszdoboz",
                                    "szulo_kat": "5",
                                    "(No column name)": "57"
                                },
                                {
                                    "KAT_NEV": "díszkötöző",
                                    "szulo_kat": "23",
                                    "(No column name)": "36,2"
                                },
                                {
                                    "KAT_NEV": "dvd",
                                    "szulo_kat": "74",
                                    "(No column name)": "133"
                                },
                                {
                                    "KAT_NEV": "ecset",
                                    "szulo_kat": "78",
                                    "(No column name)": "70,42857142857143"
                                },
                                {
                                    "KAT_NEV": "előlap",
                                    "szulo_kat": "113",
                                    "(No column name)": "25"
                                },
                                {
                                    "KAT_NEV": "emlékkönyv",
                                    "szulo_kat": "5",
                                    "(No column name)": "430,3333333333333"
                                },
                                {
                                    "KAT_NEV": "emléklap",
                                    "szulo_kat": "113",
                                    "(No column name)": "26"
                                },
                                {
                                    "KAT_NEV": "fax papír",
                                    "szulo_kat": "113",
                                    "(No column name)": "161"
                                },
                                {
                                    "KAT_NEV": "fehérnemű",
                                    "szulo_kat": "2",
                                    "(No column name)": "561,4285714285714"
                                },
                                {
                                    "KAT_NEV": "fénymásoló papír",
                                    "szulo_kat": "113",
                                    "(No column name)": "895"
                                },
                                {
                                    "KAT_NEV": "férfi ing",
                                    "szulo_kat": "69",
                                    "(No column name)": "6490"
                                },
                                {
                                    "KAT_NEV": "férfi kabát",
                                    "szulo_kat": "81",
                                    "(No column name)": "22000"
                                },
                                {
                                    "KAT_NEV": "férfi nadrág",
                                    "szulo_kat": "102",
                                    "(No column name)": "9895"
                                },
                                {
                                    "KAT_NEV": "festékpatron",
                                    "szulo_kat": "74",
                                    "(No column name)": "625"
                                },
                                {
                                    "KAT_NEV": "filctoll",
                                    "szulo_kat": "77",
                                    "(No column name)": "182,30769230769232"
                                },
                                {
                                    "KAT_NEV": "floppy",
                                    "szulo_kat": "74",
                                    "(No column name)": "51"
                                },
                                {
                                    "KAT_NEV": "fólia",
                                    "szulo_kat": "74",
                                    "(No column name)": "42,666666666666664"
                                },
                                {
                                    "KAT_NEV": "fotópapír",
                                    "szulo_kat": "113",
                                    "(No column name)": "30"
                                },
                                {
                                    "KAT_NEV": "füzet",
                                    "szulo_kat": "78",
                                    "(No column name)": "95,18181818181819"
                                },
                                {
                                    "KAT_NEV": "füzetborító",
                                    "szulo_kat": "78",
                                    "(No column name)": "42,57142857142857"
                                },
                                {
                                    "KAT_NEV": "füzettartó",
                                    "szulo_kat": "78",
                                    "(No column name)": "418,25"
                                },
                                {
                                    "KAT_NEV": "gemkapocs",
                                    "szulo_kat": "74",
                                    "(No column name)": "39"
                                },
                                {
                                    "KAT_NEV": "gémkapocs",
                                    "szulo_kat": "74",
                                    "(No column name)": "73,5"
                                },
                                {
                                    "KAT_NEV": "genoterm",
                                    "szulo_kat": "74",
                                    "(No column name)": "89"
                                },
                                {
                                    "KAT_NEV": "genotherm",
                                    "szulo_kat": "74",
                                    "(No column name)": "60,333333333333336"
                                },
                                {
                                    "KAT_NEV": "golyóstoll",
                                    "szulo_kat": "77",
                                    "(No column name)": "255,8846153846154"
                                },
                                {
                                    "KAT_NEV": "gumigyűrű",
                                    "szulo_kat": "63",
                                    "(No column name)": "19"
                                },
                                {
                                    "KAT_NEV": "gyermek cipő",
                                    "szulo_kat": "3",
                                    "(No column name)": "7600"
                                },
                                {
                                    "KAT_NEV": "gyermek kabát",
                                    "szulo_kat": "81",
                                    "(No column name)": "8900"
                                },
                                {
                                    "KAT_NEV": "gyermek nadrág",
                                    "szulo_kat": "102",
                                    "(No column name)": "3140"
                                },
                                {
                                    "KAT_NEV": "gyermek póló",
                                    "szulo_kat": "120",
                                    "(No column name)": "3900"
                                },
                                {
                                    "KAT_NEV": "gyorsfűző",
                                    "szulo_kat": "74",
                                    "(No column name)": "27,666666666666668"
                                },
                                {
                                    "KAT_NEV": "gyurma",
                                    "szulo_kat": "78",
                                    "(No column name)": "172,5"
                                },
                                {
                                    "KAT_NEV": "gyűrűskönyv",
                                    "szulo_kat": "78",
                                    "(No column name)": "355,4"
                                },
                                {
                                    "KAT_NEV": "hajgumi",
                                    "szulo_kat": "5",
                                    "(No column name)": "66"
                                },
                                {
                                    "KAT_NEV": "határidő napló",
                                    "szulo_kat": "5",
                                    "(No column name)": "596"
                                },
                                {
                                    "KAT_NEV": "hegyező",
                                    "szulo_kat": "78",
                                    "(No column name)": "239,5"
                                },
                                {
                                    "KAT_NEV": "hegyző",
                                    "szulo_kat": "78",
                                    "(No column name)": "125"
                                },
                                {
                                    "KAT_NEV": "hibajavító",
                                    "szulo_kat": "74",
                                    "(No column name)": "290"
                                },
                                {
                                    "KAT_NEV": "hűtőmágnes",
                                    "szulo_kat": "5",
                                    "(No column name)": "96,5"
                                },
                                {
                                    "KAT_NEV": "indigó",
                                    "szulo_kat": "78",
                                    "(No column name)": "13,5"
                                },
                                {
                                    "KAT_NEV": "írásvetítő fólia",
                                    "szulo_kat": "74",
                                    "(No column name)": "81"
                                },
                                {
                                    "KAT_NEV": "iratgyűjtő",
                                    "szulo_kat": "74",
                                    "(No column name)": "57"
                                },
                                {
                                    "KAT_NEV": "iratrendező",
                                    "szulo_kat": "74",
                                    "(No column name)": "251"
                                },
                                {
                                    "KAT_NEV": "iratsín",
                                    "szulo_kat": "74",
                                    "(No column name)": "66,5"
                                },
                                {
                                    "KAT_NEV": "irattartó",
                                    "szulo_kat": "74",
                                    "(No column name)": "140"
                                },
                                {
                                    "KAT_NEV": "irodaszer",
                                    "szulo_kat": "1",
                                    "(No column name)": "59"
                                },
                                {
                                    "KAT_NEV": "írólap",
                                    "szulo_kat": "78",
                                    "(No column name)": "31,5"
                                },
                                {
                                    "KAT_NEV": "ironbél",
                                    "szulo_kat": "77",
                                    "(No column name)": "54"
                                },
                                {
                                    "KAT_NEV": "iskolaszer",
                                    "szulo_kat": "1",
                                    "(No column name)": "84,91666666666667"
                                },
                                {
                                    "KAT_NEV": "játékautó",
                                    "szulo_kat": "5",
                                    "(No column name)": "109"
                                },
                                {
                                    "KAT_NEV": "jelzőkréta",
                                    "szulo_kat": "5",
                                    "(No column name)": "48"
                                },
                                {
                                    "KAT_NEV": "kapocskiszedő",
                                    "szulo_kat": "74",
                                    "(No column name)": "106"
                                },
                                {
                                    "KAT_NEV": "karton",
                                    "szulo_kat": "113",
                                    "(No column name)": "46"
                                },
                                {
                                    "KAT_NEV": "kártya",
                                    "szulo_kat": "5",
                                    "(No column name)": "131"
                                },
                                {
                                    "KAT_NEV": "képeslap",
                                    "szulo_kat": "5",
                                    "(No column name)": "60,1875"
                                },
                                {
                                    "KAT_NEV": "képkirakó",
                                    "szulo_kat": "5",
                                    "(No column name)": "195"
                                },
                                {
                                    "KAT_NEV": "kosztüm",
                                    "szulo_kat": "8",
                                    "(No column name)": "42500"
                                },
                                {
                                    "KAT_NEV": "könyv",
                                    "szulo_kat": "NULL",
                                    "(No column name)": "621,1333333333333"
                                },
                                {
                                    "KAT_NEV": "körző",
                                    "szulo_kat": "78",
                                    "(No column name)": "144,66666666666666"
                                },
                                {
                                    "KAT_NEV": "kreatív",
                                    "szulo_kat": "113",
                                    "(No column name)": "8,5"
                                },
                                {
                                    "KAT_NEV": "kulcstartó",
                                    "szulo_kat": "5",
                                    "(No column name)": "115,71428571428571"
                                },
                                {
                                    "KAT_NEV": "labda",
                                    "szulo_kat": "5",
                                    "(No column name)": "95,5"
                                },
                                {
                                    "KAT_NEV": "levélpapír",
                                    "szulo_kat": "5",
                                    "(No column name)": "92,28571428571429"
                                },
                                {
                                    "KAT_NEV": "lufi",
                                    "szulo_kat": "5",
                                    "(No column name)": "13"
                                },
                                {
                                    "KAT_NEV": "lyukasztó",
                                    "szulo_kat": "74",
                                    "(No column name)": "645,5"
                                },
                                {
                                    "KAT_NEV": "mappa",
                                    "szulo_kat": "5",
                                    "(No column name)": "392"
                                },
                                {
                                    "KAT_NEV": "matrica",
                                    "szulo_kat": "5",
                                    "(No column name)": "106,3"
                                },
                                {
                                    "KAT_NEV": "meghívó",
                                    "szulo_kat": "5",
                                    "(No column name)": "111,5"
                                },
                                {
                                    "KAT_NEV": "miliméterpapír",
                                    "szulo_kat": "78",
                                    "(No column name)": "8"
                                },
                                {
                                    "KAT_NEV": "munkafüzet",
                                    "szulo_kat": "78",
                                    "(No column name)": "385,3333333333333"
                                },
                                {
                                    "KAT_NEV": "műnyomó",
                                    "szulo_kat": "113",
                                    "(No column name)": "3"
                                },
                                {
                                    "KAT_NEV": "naptár",
                                    "szulo_kat": "74",
                                    "(No column name)": "89"
                                },
                                {
                                    "KAT_NEV": "naptárhát",
                                    "szulo_kat": "74",
                                    "(No column name)": "46,5"
                                },
                                {
                                    "KAT_NEV": "névjegytartó",
                                    "szulo_kat": "74",
                                    "(No column name)": "310"
                                },
                                {
                                    "KAT_NEV": "notesz",
                                    "szulo_kat": "74",
                                    "(No column name)": "79"
                                },
                                {
                                    "KAT_NEV": "női kabát",
                                    "szulo_kat": "81",
                                    "(No column name)": "24000"
                                },
                                {
                                    "KAT_NEV": "női nadrág",
                                    "szulo_kat": "102",
                                    "(No column name)": "8290"
                                },
                                {
                                    "KAT_NEV": "ofszet",
                                    "szulo_kat": "113",
                                    "(No column name)": "4"
                                },
                                {
                                    "KAT_NEV": "oklevél",
                                    "szulo_kat": "113",
                                    "(No column name)": "51,5"
                                },
                                {
                                    "KAT_NEV": "olló",
                                    "szulo_kat": "78",
                                    "(No column name)": "156,66666666666666"
                                },
                                {
                                    "KAT_NEV": "öntapadó",
                                    "szulo_kat": "113",
                                    "(No column name)": "2317"
                                },
                                {
                                    "KAT_NEV": "papízsebkendő",
                                    "szulo_kat": "63",
                                    "(No column name)": "20"
                                },
                                {
                                    "KAT_NEV": "pausz",
                                    "szulo_kat": "113",
                                    "(No column name)": "15"
                                },
                                {
                                    "KAT_NEV": "pénztárbizonylat",
                                    "szulo_kat": "74",
                                    "(No column name)": "123,5"
                                },
                                {
                                    "KAT_NEV": "pénztárgépszalag",
                                    "szulo_kat": "74",
                                    "(No column name)": "87"
                                },
                                {
                                    "KAT_NEV": "pixiron",
                                    "szulo_kat": "77",
                                    "(No column name)": "194,22222222222223"
                                },
                                {
                                    "KAT_NEV": "plüss",
                                    "szulo_kat": "5",
                                    "(No column name)": "216"
                                },
                                {
                                    "KAT_NEV": "post-it",
                                    "szulo_kat": "78",
                                    "(No column name)": "62,5"
                                },
                                {
                                    "KAT_NEV": "radír",
                                    "szulo_kat": "78",
                                    "(No column name)": "40,285714285714285"
                                },
                                {
                                    "KAT_NEV": "radírtoll",
                                    "szulo_kat": "78",
                                    "(No column name)": "96,5"
                                },
                                {
                                    "KAT_NEV": "ragasztó",
                                    "szulo_kat": "63",
                                    "(No column name)": "162,4"
                                },
                                {
                                    "KAT_NEV": "ragasztószalag",
                                    "szulo_kat": "23",
                                    "(No column name)": "74,75"
                                },
                                {
                                    "KAT_NEV": "rágógumi",
                                    "szulo_kat": "63",
                                    "(No column name)": "89"
                                },
                                {
                                    "KAT_NEV": "rajzlap",
                                    "szulo_kat": "78",
                                    "(No column name)": "185"
                                },
                                {
                                    "KAT_NEV": "rajzszeg",
                                    "szulo_kat": "63",
                                    "(No column name)": "84,5"
                                },
                                {
                                    "KAT_NEV": "regiszteres füzet",
                                    "szulo_kat": "78",
                                    "(No column name)": "229,5"
                                },
                                {
                                    "KAT_NEV": "sál",
                                    "szulo_kat": "87",
                                    "(No column name)": "1990"
                                },
                                {
                                    "KAT_NEV": "spirál",
                                    "szulo_kat": "74",
                                    "(No column name)": "45"
                                },
                                {
                                    "KAT_NEV": "strandlabda",
                                    "szulo_kat": "5",
                                    "(No column name)": "356"
                                },
                                {
                                    "KAT_NEV": "szalvéta",
                                    "szulo_kat": "5",
                                    "(No column name)": "157,66666666666666"
                                },
                                {
                                    "KAT_NEV": "számológép",
                                    "szulo_kat": "78",
                                    "(No column name)": "840,5"
                                },
                                {
                                    "KAT_NEV": "szemetes",
                                    "szulo_kat": "63",
                                    "(No column name)": "129"
                                },
                                {
                                    "KAT_NEV": "színes",
                                    "szulo_kat": "77",
                                    "(No column name)": "130"
                                },
                                {
                                    "KAT_NEV": "szögmérő",
                                    "szulo_kat": "78",
                                    "(No column name)": "14,333333333333334"
                                },
                                {
                                    "KAT_NEV": "szövegkiemelő",
                                    "szulo_kat": "77",
                                    "(No column name)": "100,6"
                                },
                                {
                                    "KAT_NEV": "táblafilc",
                                    "szulo_kat": "78",
                                    "(No column name)": "633"
                                },
                                {
                                    "KAT_NEV": "tapétavágó",
                                    "szulo_kat": "63",
                                    "(No column name)": "40"
                                },
                                {
                                    "KAT_NEV": "tempera",
                                    "szulo_kat": "78",
                                    "(No column name)": "72"
                                },
                                {
                                    "KAT_NEV": "térképtű",
                                    "szulo_kat": "74",
                                    "(No column name)": "103"
                                },
                                {
                                    "KAT_NEV": "tintapatron",
                                    "szulo_kat": "77",
                                    "(No column name)": "126,66666666666667"
                                },
                                {
                                    "KAT_NEV": "toll",
                                    "szulo_kat": "77",
                                    "(No column name)": "77"
                                },
                                {
                                    "KAT_NEV": "tollbetét",
                                    "szulo_kat": "77",
                                    "(No column name)": "101,66666666666667"
                                },
                                {
                                    "KAT_NEV": "tolltartó",
                                    "szulo_kat": "78",
                                    "(No column name)": "574,4285714285714"
                                },
                                {
                                    "KAT_NEV": "toner",
                                    "szulo_kat": "74",
                                    "(No column name)": "14250"
                                },
                                {
                                    "KAT_NEV": "töltőtoll",
                                    "szulo_kat": "77",
                                    "(No column name)": "493"
                                },
                                {
                                    "KAT_NEV": "tűzőgép",
                                    "szulo_kat": "74",
                                    "(No column name)": "819,8333333333334"
                                },
                                {
                                    "KAT_NEV": "tűzőkapocs",
                                    "szulo_kat": "74",
                                    "(No column name)": "39"
                                },
                                {
                                    "KAT_NEV": "vízfesték",
                                    "szulo_kat": "78",
                                    "(No column name)": "203,75"
                                },
                                {
                                    "KAT_NEV": "vonalzó",
                                    "szulo_kat": "78",
                                    "(No column name)": "35,166666666666664"
                                },
                                {
                                    "KAT_NEV": "zászló",
                                    "szulo_kat": "78",
                                    "(No column name)": "20"
                                },
                                {
                                    "KAT_NEV": "zseléstoll",
                                    "szulo_kat": "77",
                                    "(No column name)": "137,5"
                                }
                            ]
                        },
                        "text/html": [
                            "<table>",
                            "<tr><th>KAT_NEV</th><th>szulo_kat</th><th>(No column name)</th><th>(No column name)</th></tr>",
                            "<tr><td>ajándék tárgy</td><td>1</td><td>3</td><td>75,33333333333333</td></tr>",
                            "<tr><td>ajándék tasak</td><td>5</td><td>20</td><td>125,4</td></tr>",
                            "<tr><td>álarc</td><td>5</td><td>3</td><td>125,66666666666667</td></tr>",
                            "<tr><td>alkalmi</td><td>2</td><td>3</td><td>21933,333333333332</td></tr>",
                            "<tr><td>alufólia</td><td>63</td><td>2</td><td>166</td></tr>",
                            "<tr><td>árazószalag</td><td>74</td><td>1</td><td>106</td></tr>",
                            "<tr><td>átírótömb</td><td>74</td><td>1</td><td>115</td></tr>",
                            "<tr><td>beíró</td><td>78</td><td>1</td><td>228</td></tr>",
                            "<tr><td>beírókönyv</td><td>74</td><td>2</td><td>230,5</td></tr>",
                            "<tr><td>bélyegző</td><td>74</td><td>4</td><td>988,5</td></tr>",
                            "<tr><td>bélyegzőfesték</td><td>74</td><td>1</td><td>297</td></tr>",
                            "<tr><td>boríték</td><td>74</td><td>7</td><td>14,571428571428571</td></tr>",
                            "<tr><td>cd tok</td><td>74</td><td>1</td><td>30</td></tr>",
                            "<tr><td>celofán</td><td>63</td><td>2</td><td>59,5</td></tr>",
                            "<tr><td>ceruza</td><td>77</td><td>19</td><td>48,421052631578945</td></tr>",
                            "<tr><td>címke</td><td>5</td><td>3</td><td>25,666666666666668</td></tr>",
                            "<tr><td>color copy</td><td>113</td><td>5</td><td>310,6</td></tr>",
                            "<tr><td>csomagoló</td><td>63</td><td>2</td><td>99,5</td></tr>",
                            "<tr><td>csomagoló papír</td><td>23</td><td>7</td><td>102,57142857142857</td></tr>",
                            "<tr><td>dekor</td><td>5</td><td>4</td><td>21,25</td></tr>",
                            "<tr><td>dipa</td><td>113</td><td>1</td><td>9</td></tr>",
                            "<tr><td>díszdoboz</td><td>5</td><td>3</td><td>57</td></tr>",
                            "<tr><td>díszkötöző</td><td>23</td><td>5</td><td>36,2</td></tr>",
                            "<tr><td>dvd</td><td>74</td><td>1</td><td>133</td></tr>",
                            "<tr><td>ecset</td><td>78</td><td>7</td><td>70,42857142857143</td></tr>",
                            "<tr><td>előlap</td><td>113</td><td>1</td><td>25</td></tr>",
                            "<tr><td>emlékkönyv</td><td>5</td><td>3</td><td>430,3333333333333</td></tr>",
                            "<tr><td>emléklap</td><td>113</td><td>1</td><td>26</td></tr>",
                            "<tr><td>fax papír</td><td>113</td><td>1</td><td>161</td></tr>",
                            "<tr><td>fehérnemű</td><td>2</td><td>7</td><td>561,4285714285714</td></tr>",
                            "<tr><td>fénymásoló papír</td><td>113</td><td>5</td><td>895</td></tr>",
                            "<tr><td>férfi ing</td><td>69</td><td>1</td><td>6490</td></tr>",
                            "<tr><td>férfi kabát</td><td>81</td><td>1</td><td>22000</td></tr>",
                            "<tr><td>férfi nadrág</td><td>102</td><td>2</td><td>9895</td></tr>",
                            "<tr><td>festékpatron</td><td>74</td><td>1</td><td>625</td></tr>",
                            "<tr><td>filctoll</td><td>77</td><td>13</td><td>182,30769230769232</td></tr>",
                            "<tr><td>floppy</td><td>74</td><td>1</td><td>51</td></tr>",
                            "<tr><td>fólia</td><td>74</td><td>3</td><td>42,666666666666664</td></tr>",
                            "<tr><td>fotópapír</td><td>113</td><td>1</td><td>30</td></tr>",
                            "<tr><td>füzet</td><td>78</td><td>11</td><td>95,18181818181819</td></tr>",
                            "<tr><td>füzetborító</td><td>78</td><td>7</td><td>42,57142857142857</td></tr>",
                            "<tr><td>füzettartó</td><td>78</td><td>4</td><td>418,25</td></tr>",
                            "<tr><td>gemkapocs</td><td>74</td><td>2</td><td>39</td></tr>",
                            "<tr><td>gémkapocs</td><td>74</td><td>2</td><td>73,5</td></tr>",
                            "<tr><td>genoterm</td><td>74</td><td>1</td><td>89</td></tr>",
                            "<tr><td>genotherm</td><td>74</td><td>3</td><td>60,333333333333336</td></tr>",
                            "<tr><td>golyóstoll</td><td>77</td><td>26</td><td>255,8846153846154</td></tr>",
                            "<tr><td>gumigyűrű</td><td>63</td><td>1</td><td>19</td></tr>",
                            "<tr><td>gyermek cipő</td><td>3</td><td>6</td><td>7600</td></tr>",
                            "<tr><td>gyermek kabát</td><td>81</td><td>2</td><td>8900</td></tr>",
                            "<tr><td>gyermek nadrág</td><td>102</td><td>4</td><td>3140</td></tr>",
                            "<tr><td>gyermek póló</td><td>120</td><td>2</td><td>3900</td></tr>",
                            "<tr><td>gyorsfűző</td><td>74</td><td>3</td><td>27,666666666666668</td></tr>",
                            "<tr><td>gyurma</td><td>78</td><td>4</td><td>172,5</td></tr>",
                            "<tr><td>gyűrűskönyv</td><td>78</td><td>5</td><td>355,4</td></tr>",
                            "<tr><td>hajgumi</td><td>5</td><td>1</td><td>66</td></tr>",
                            "<tr><td>határidő napló</td><td>5</td><td>2</td><td>596</td></tr>",
                            "<tr><td>hegyező</td><td>78</td><td>4</td><td>239,5</td></tr>",
                            "<tr><td>hegyző</td><td>78</td><td>2</td><td>125</td></tr>",
                            "<tr><td>hibajavító</td><td>74</td><td>7</td><td>290</td></tr>",
                            "<tr><td>hűtőmágnes</td><td>5</td><td>2</td><td>96,5</td></tr>",
                            "<tr><td>indigó</td><td>78</td><td>2</td><td>13,5</td></tr>",
                            "<tr><td>írásvetítő fólia</td><td>74</td><td>1</td><td>81</td></tr>",
                            "<tr><td>iratgyűjtő</td><td>74</td><td>3</td><td>57</td></tr>",
                            "<tr><td>iratrendező</td><td>74</td><td>2</td><td>251</td></tr>",
                            "<tr><td>iratsín</td><td>74</td><td>2</td><td>66,5</td></tr>",
                            "<tr><td>irattartó</td><td>74</td><td>2</td><td>140</td></tr>",
                            "<tr><td>irodaszer</td><td>1</td><td>1</td><td>59</td></tr>",
                            "<tr><td>írólap</td><td>78</td><td>2</td><td>31,5</td></tr>",
                            "<tr><td>ironbél</td><td>77</td><td>5</td><td>54</td></tr>",
                            "<tr><td>iskolaszer</td><td>1</td><td>24</td><td>84,91666666666667</td></tr>",
                            "<tr><td>játékautó</td><td>5</td><td>4</td><td>109</td></tr>",
                            "<tr><td>jelzőkréta</td><td>5</td><td>1</td><td>48</td></tr>",
                            "<tr><td>kapocskiszedő</td><td>74</td><td>1</td><td>106</td></tr>",
                            "<tr><td>karton</td><td>113</td><td>6</td><td>46</td></tr>",
                            "<tr><td>kártya</td><td>5</td><td>1</td><td>131</td></tr>",
                            "<tr><td>képeslap</td><td>5</td><td>16</td><td>60,1875</td></tr>",
                            "<tr><td>képkirakó</td><td>5</td><td>1</td><td>195</td></tr>",
                            "<tr><td>kosztüm</td><td>8</td><td>2</td><td>42500</td></tr>",
                            "<tr><td>könyv</td><td>NULL</td><td>15</td><td>621,1333333333333</td></tr>",
                            "<tr><td>körző</td><td>78</td><td>3</td><td>144,66666666666666</td></tr>",
                            "<tr><td>kreatív</td><td>113</td><td>2</td><td>8,5</td></tr>",
                            "<tr><td>kulcstartó</td><td>5</td><td>7</td><td>115,71428571428571</td></tr>",
                            "<tr><td>labda</td><td>5</td><td>2</td><td>95,5</td></tr>",
                            "<tr><td>levélpapír</td><td>5</td><td>7</td><td>92,28571428571429</td></tr>",
                            "<tr><td>lufi</td><td>5</td><td>2</td><td>13</td></tr>",
                            "<tr><td>lyukasztó</td><td>74</td><td>2</td><td>645,5</td></tr>",
                            "<tr><td>mappa</td><td>5</td><td>9</td><td>392</td></tr>",
                            "<tr><td>matrica</td><td>5</td><td>10</td><td>106,3</td></tr>",
                            "<tr><td>meghívó</td><td>5</td><td>4</td><td>111,5</td></tr>",
                            "<tr><td>miliméterpapír</td><td>78</td><td>1</td><td>8</td></tr>",
                            "<tr><td>munkafüzet</td><td>78</td><td>9</td><td>385,3333333333333</td></tr>",
                            "<tr><td>műnyomó</td><td>113</td><td>1</td><td>3</td></tr>",
                            "<tr><td>naptár</td><td>74</td><td>1</td><td>89</td></tr>",
                            "<tr><td>naptárhát</td><td>74</td><td>2</td><td>46,5</td></tr>",
                            "<tr><td>névjegytartó</td><td>74</td><td>1</td><td>310</td></tr>",
                            "<tr><td>notesz</td><td>74</td><td>5</td><td>79</td></tr>",
                            "<tr><td>női kabát</td><td>81</td><td>1</td><td>24000</td></tr>",
                            "<tr><td>női nadrág</td><td>102</td><td>1</td><td>8290</td></tr>",
                            "<tr><td>ofszet</td><td>113</td><td>1</td><td>4</td></tr>",
                            "<tr><td>oklevél</td><td>113</td><td>2</td><td>51,5</td></tr>",
                            "<tr><td>olló</td><td>78</td><td>3</td><td>156,66666666666666</td></tr>",
                            "<tr><td>öntapadó</td><td>113</td><td>2</td><td>2317</td></tr>",
                            "<tr><td>papízsebkendő</td><td>63</td><td>1</td><td>20</td></tr>",
                            "<tr><td>pausz</td><td>113</td><td>1</td><td>15</td></tr>",
                            "<tr><td>pénztárbizonylat</td><td>74</td><td>2</td><td>123,5</td></tr>",
                            "<tr><td>pénztárgépszalag</td><td>74</td><td>2</td><td>87</td></tr>",
                            "<tr><td>pixiron</td><td>77</td><td>9</td><td>194,22222222222223</td></tr>",
                            "<tr><td>plüss</td><td>5</td><td>3</td><td>216</td></tr>",
                            "<tr><td>post-it</td><td>78</td><td>2</td><td>62,5</td></tr>",
                            "<tr><td>radír</td><td>78</td><td>7</td><td>40,285714285714285</td></tr>",
                            "<tr><td>radírtoll</td><td>78</td><td>2</td><td>96,5</td></tr>",
                            "<tr><td>ragasztó</td><td>63</td><td>10</td><td>162,4</td></tr>",
                            "<tr><td>ragasztószalag</td><td>23</td><td>4</td><td>74,75</td></tr>",
                            "<tr><td>rágógumi</td><td>63</td><td>1</td><td>89</td></tr>",
                            "<tr><td>rajzlap</td><td>78</td><td>2</td><td>185</td></tr>",
                            "<tr><td>rajzszeg</td><td>63</td><td>2</td><td>84,5</td></tr>",
                            "<tr><td>regiszteres füzet</td><td>78</td><td>2</td><td>229,5</td></tr>",
                            "<tr><td>sál</td><td>87</td><td>1</td><td>1990</td></tr>",
                            "<tr><td>spirál</td><td>74</td><td>1</td><td>45</td></tr>",
                            "<tr><td>strandlabda</td><td>5</td><td>1</td><td>356</td></tr>",
                            "<tr><td>szalvéta</td><td>5</td><td>6</td><td>157,66666666666666</td></tr>",
                            "<tr><td>számológép</td><td>78</td><td>2</td><td>840,5</td></tr>",
                            "<tr><td>szemetes</td><td>63</td><td>1</td><td>129</td></tr>",
                            "<tr><td>színes</td><td>77</td><td>2</td><td>130</td></tr>",
                            "<tr><td>szögmérő</td><td>78</td><td>3</td><td>14,333333333333334</td></tr>",
                            "<tr><td>szövegkiemelő</td><td>77</td><td>5</td><td>100,6</td></tr>",
                            "<tr><td>táblafilc</td><td>78</td><td>1</td><td>633</td></tr>",
                            "<tr><td>tapétavágó</td><td>63</td><td>1</td><td>40</td></tr>",
                            "<tr><td>tempera</td><td>78</td><td>2</td><td>72</td></tr>",
                            "<tr><td>térképtű</td><td>74</td><td>1</td><td>103</td></tr>",
                            "<tr><td>tintapatron</td><td>77</td><td>3</td><td>126,66666666666667</td></tr>",
                            "<tr><td>toll</td><td>77</td><td>2</td><td>77</td></tr>",
                            "<tr><td>tollbetét</td><td>77</td><td>18</td><td>101,66666666666667</td></tr>",
                            "<tr><td>tolltartó</td><td>78</td><td>7</td><td>574,4285714285714</td></tr>",
                            "<tr><td>toner</td><td>74</td><td>1</td><td>14250</td></tr>",
                            "<tr><td>töltőtoll</td><td>77</td><td>1</td><td>493</td></tr>",
                            "<tr><td>tűzőgép</td><td>74</td><td>6</td><td>819,8333333333334</td></tr>",
                            "<tr><td>tűzőkapocs</td><td>74</td><td>2</td><td>39</td></tr>",
                            "<tr><td>vízfesték</td><td>78</td><td>4</td><td>203,75</td></tr>",
                            "<tr><td>vonalzó</td><td>78</td><td>6</td><td>35,166666666666664</td></tr>",
                            "<tr><td>zászló</td><td>78</td><td>1</td><td>20</td></tr>",
                            "<tr><td>zseléstoll</td><td>77</td><td>4</td><td>137,5</td></tr>",
                            "</table>"
                        ]
                    }
                }
            ],
            "execution_count": 30
        },
        {
            "cell_type": "markdown",
            "source": [
                "8. <span style=\"font-weight: 600; color: rgb(36, 41, 47); font-family: -apple-system, BlinkMacSystemFont, &quot;Segoe UI&quot;, Helvetica, Arial, sans-serif, &quot;Apple Color Emoji&quot;, &quot;Segoe UI Emoji&quot;; font-size: 16px;\">Készítsünk listát a rendelési tételekről. Az egyes rendelési tételeket termékenként soroljuk be 4 osztályba a rendelés mennyisége alapján. Jelenítsük meg ezt az információt is egy új oszlopban, az oszlop neve legyen 'Mennyiségi kategória'.</span>\n",
                "\n",
                "1. A lista csak a 100 Ft feletti egységárú rendelési tételeket vegye figyelembe!"
            ],
            "metadata": {
                "azdata_cell_guid": "27a3d3dc-eafb-4a5e-b103-9f465b9eda8f"
            },
            "attachments": {}
        },
        {
            "cell_type": "code",
            "source": [
                ""
            ],
            "metadata": {
                "azdata_cell_guid": "f09edb3f-649b-4a96-958e-9e12774ae8b7",
                "language": "sql"
            },
            "outputs": [],
            "execution_count": null
        },
        {
            "cell_type": "markdown",
            "source": [
                "9. <span style=\"font-weight: 600; color: rgb(36, 41, 47); font-family: -apple-system, BlinkMacSystemFont, &quot;Segoe UI&quot;, Helvetica, Arial, sans-serif, &quot;Apple Color Emoji&quot;, &quot;Segoe UI Emoji&quot;; font-size: 16px;\">Listázzuk a termékek kódját, megnevezését, kategóriájának nevét, és listaárát.</span>\n",
                "\n",
                "1. A listát egészítsük ki két új oszloppal, amelyek a kategória legolcsóbb, illetve legdrágább termékének árát tartalmazzák.\n",
                "2. A két új oszlop létrehozásánál partíciókkal dolgozzunk!"
            ],
            "metadata": {
                "azdata_cell_guid": "f12a331a-0e26-4d3d-9c68-812316286577"
            },
            "attachments": {}
        },
        {
            "cell_type": "code",
            "source": [
                ""
            ],
            "metadata": {
                "azdata_cell_guid": "10a77fc9-e61a-46fc-a401-59720d82bc50",
                "language": "sql"
            },
            "outputs": [],
            "execution_count": null
        },
        {
            "cell_type": "markdown",
            "source": [
                "10. <span style=\"font-weight: 600; color: rgb(36, 41, 47); font-family: -apple-system, BlinkMacSystemFont, &quot;Segoe UI&quot;, Helvetica, Arial, sans-serif, &quot;Apple Color Emoji&quot;, &quot;Segoe UI Emoji&quot;; font-size: 16px;\">Készítsünk listát a rendelésekről. A lista legyen rendezve ügyfelenként (LOGIN), azon belül a rendelés dátuma szerint. A listához készítsünk sorszámozást is. A sorszám a következő formában jelenjen meg: sorszám_év_login. Pl: 1_2015_adam1</span>\n",
                "\n",
                "1. A számozás login-onként, azon belül rendelési évenként kezdődjön újra.\n",
                "2. A sorszám oszlop neve legyen Azonosító"
            ],
            "metadata": {
                "azdata_cell_guid": "9229e2b6-e200-4499-b95b-2d0222149831"
            },
            "attachments": {}
        },
        {
            "cell_type": "code",
            "source": [
                ""
            ],
            "metadata": {
                "azdata_cell_guid": "8b49ed67-28c6-4880-82a8-cd369e5bba99",
                "language": "sql"
            },
            "outputs": [],
            "execution_count": null
        },
        {
            "cell_type": "markdown",
            "source": [
                "11. <span style=\"color: rgb(36, 41, 47); font-family: -apple-system, BlinkMacSystemFont, &quot;Segoe UI&quot;, Helvetica, Arial, sans-serif, &quot;Apple Color Emoji&quot;, &quot;Segoe UI Emoji&quot;; font-size: 16px;\">Készítsünk listát a termékek adatairól listaár szerint növekvő sorrendben! A lista jelenítse meg két új oszlopban a sorrend szerint előző, illetve következő termék listaárát is a termék saját kategóriájában és raktárában!</span>\n",
                "\n",
                "1. Ahol nincs előző vagy következő érték, ott 0 jelenjen meg!\n",
                "2. Az oszlopokat nevezzük el értelemszerűen!"
            ],
            "metadata": {
                "azdata_cell_guid": "7f5fc7a7-3b6a-4d89-b292-490830afb0c6"
            },
            "attachments": {}
        },
        {
            "cell_type": "code",
            "source": [
                ""
            ],
            "metadata": {
                "azdata_cell_guid": "4a9ece40-f782-4c0d-92cd-9c21969067ed",
                "language": "sql"
            },
            "outputs": [],
            "execution_count": null
        },
        {
            "cell_type": "markdown",
            "source": [
                "12. <span style=\"color: rgb(36, 41, 47); font-family: -apple-system, BlinkMacSystemFont, &quot;Segoe UI&quot;, Helvetica, Arial, sans-serif, &quot;Apple Color Emoji&quot;, &quot;Segoe UI Emoji&quot;; font-size: 16px;\">Listázzuk a termékek kódját, nevét és listaárát listaár szerinti sorrendben!</span>\n",
                "\n",
                "1. Vegyünk fel egy új oszlopot Mozgóátlag néven, amely minden esetben az aktuális termék, az előző, és a következő termék átlagárát tartalmazza!\n",
                "2. A mozgóátlagot kerekítsük két tizedesre!"
            ],
            "metadata": {
                "azdata_cell_guid": "5a483c52-bb98-44bb-bd03-1146d4b0abfa"
            },
            "attachments": {}
        },
        {
            "cell_type": "code",
            "source": [
                ""
            ],
            "metadata": {
                "azdata_cell_guid": "dd6e89bd-08f9-4b18-8460-03c45b503df0",
                "language": "sql"
            },
            "outputs": [],
            "execution_count": null
        },
        {
            "cell_type": "markdown",
            "source": [
                "13. <span style=\"color: rgb(36, 41, 47); font-family: -apple-system, BlinkMacSystemFont, &quot;Segoe UI&quot;, Helvetica, Arial, sans-serif, &quot;Apple Color Emoji&quot;, &quot;Segoe UI Emoji&quot;; font-size: 16px;\">Készítsünk listát, amely a rendelések sorszámát és a rendelés értékét tartalmazza. A listát egészítsük ki egy új oszloppal, amely minden rendelés esetén addigi rendelések összegét tartalmazza (az aktuálisat is beleértve)!</span>\n",
                "\n",
                "1. A listát rendezzük sorszám szerint növekvő sorrendbe.\n",
                "2. A lista ne tartalmazzon duplikált sorokat!"
            ],
            "metadata": {
                "azdata_cell_guid": "85d5cb66-96c6-42de-99cf-85ab22d08548"
            },
            "attachments": {}
        },
        {
            "cell_type": "code",
            "source": [
                ""
            ],
            "metadata": {
                "azdata_cell_guid": "cb07d64b-0eaa-498b-b4d2-0b46971e95ce",
                "language": "sql"
            },
            "outputs": [],
            "execution_count": null
        },
        {
            "cell_type": "markdown",
            "source": [
                "14. <span style=\"color: rgb(36, 41, 47); font-family: -apple-system, BlinkMacSystemFont, &quot;Segoe UI&quot;, Helvetica, Arial, sans-serif, &quot;Apple Color Emoji&quot;, &quot;Segoe UI Emoji&quot;; font-size: 16px;\">Készítsünk listát a termékek kódjáról, nevéről, kategória azonosítójáról, raktár azonosítójáról és listaáráról, valamint a termék adott szempontok szerinti rangsorokban elfoglalt helyezéseiről. (Szempontonként külön oszlopban, a helyezéseknél növekvő sorrendet feltételezve). A szempontok a következők legyenek: listaár, kategória szerinti listaár, és raktárkód szerinti listaár.</span>\n",
                "\n",
                "1. Az oszlopokat nevezzük el értelemszerűen.\n",
                "2. A helyezések egyenlőség esetén \"sűrűn\" kövessék egymást.\n",
                "3. A lista legyen rendezett kategória azonosító, azon belül listaár szerint!"
            ],
            "metadata": {
                "azdata_cell_guid": "f95ad665-a807-4099-bf06-64ed974f866f"
            },
            "attachments": {}
        },
        {
            "cell_type": "code",
            "source": [
                ""
            ],
            "metadata": {
                "azdata_cell_guid": "74c7ec8a-ae4a-4d03-b1c4-e8f6bb1be12c",
                "language": "sql"
            },
            "outputs": [],
            "execution_count": null
        },
        {
            "cell_type": "markdown",
            "source": [
                "15. <span style=\"color: rgb(36, 41, 47); font-family: -apple-system, BlinkMacSystemFont, &quot;Segoe UI&quot;, Helvetica, Arial, sans-serif, &quot;Apple Color Emoji&quot;, &quot;Segoe UI Emoji&quot;; font-size: 16px;\">Készítsünk listát a rendelési tételekről, amely minden sor esetén göngyölítve tartalmazza az ügyfél adott rendelési tételig meglévő rendelési tételeinek összértékét!</span>\n",
                "\n",
                "1. Az új oszlop neve legyen Eddigi rendelési tételek összértéke!\n",
                "2. Az ügyfél neve is jelenjen meg!"
            ],
            "metadata": {
                "azdata_cell_guid": "93552388-ffec-49ff-99e5-ae8dc8072601"
            },
            "attachments": {}
        },
        {
            "cell_type": "code",
            "source": [
                ""
            ],
            "metadata": {
                "azdata_cell_guid": "0e7f547f-7d96-4611-b1c2-0fa84a581e79",
                "language": "sql"
            },
            "outputs": [],
            "execution_count": null
        }
    ]
}