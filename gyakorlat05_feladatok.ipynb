{
    "metadata": {
        "kernelspec": {
            "name": "SQL",
            "display_name": "SQL",
            "language": "sql"
        },
        "language_info": {
            "name": "sql",
            "version": ""
        }
    },
    "nbformat_minor": 2,
    "nbformat": 4,
    "cells": [
        {
            "cell_type": "markdown",
            "source": [
                "1. <span style=\"color: rgb(36, 41, 47); font-family: -apple-system, BlinkMacSystemFont, &quot;Segoe UI&quot;, Helvetica, Arial, sans-serif, &quot;Apple Color Emoji&quot;, &quot;Segoe UI Emoji&quot;; font-size: 16px;\">Készítsünk listát éves bontásban norbert2 azonosítójú ügyfél rendeléseinek értékéről!</span>\n",
                "\n",
                "1. A lista megfelelően jelölve tartalmazza a végösszeget is!"
            ],
            "metadata": {
                "azdata_cell_guid": "363cd270-6577-449b-9c89-d4b7c7972d52"
            },
            "attachments": {}
        },
        {
            "cell_type": "code",
            "source": [
                "SELECT IIF(GROUPING_ID(Year(r.REND_DATUM)) = 1, 'Összesen', CAST(YEAR(r.REND_DATUM) as nvarchar(4))),\r\n",
                "        SUM(rt.EGYSEGAR * rt.MENNYISEG)\r\n",
                "FROM Rendeles r JOIN Rendeles_tetel rt ON r.SORSZAM = rt.SORSZAM\r\n",
                "WHERE r.[LOGIN] = 'norbert2'\r\n",
                "GROUP BY ROLLUP(Year(r.REND_DATUM))"
            ],
            "metadata": {
                "azdata_cell_guid": "6ab9f633-a3b5-48c9-a1dc-4fb8235ae85b",
                "language": "sql"
            },
            "outputs": [
                {
                    "output_type": "display_data",
                    "data": {
                        "text/html": "(3 rows affected)"
                    },
                    "metadata": {}
                },
                {
                    "output_type": "display_data",
                    "data": {
                        "text/html": "Total execution time: 00:00:00.011"
                    },
                    "metadata": {}
                },
                {
                    "output_type": "execute_result",
                    "metadata": {},
                    "execution_count": 12,
                    "data": {
                        "application/vnd.dataresource+json": {
                            "schema": {
                                "fields": [
                                    {
                                        "name": "(No column name)"
                                    },
                                    {
                                        "name": "(No column name)"
                                    }
                                ]
                            },
                            "data": [
                                {
                                    "(No column name)": "483473"
                                },
                                {
                                    "(No column name)": "614340"
                                },
                                {
                                    "(No column name)": "1097813"
                                }
                            ]
                        },
                        "text/html": [
                            "<table>",
                            "<tr><th>(No column name)</th><th>(No column name)</th></tr>",
                            "<tr><td>2015</td><td>483473</td></tr>",
                            "<tr><td>2017</td><td>614340</td></tr>",
                            "<tr><td>Összesen</td><td>1097813</td></tr>",
                            "</table>"
                        ]
                    }
                }
            ],
            "execution_count": 12
        },
        {
            "cell_type": "markdown",
            "source": [
                "2. <span style=\"color: rgb(36, 41, 47); font-family: -apple-system, BlinkMacSystemFont, &quot;Segoe UI&quot;, Helvetica, Arial, sans-serif, &quot;Apple Color Emoji&quot;, &quot;Segoe UI Emoji&quot;; font-size: 16px;\">Készítsünk listát szállítási dátumonként, azon belül szállítási módonként az egyes rendelések összmennyiségéről!</span>\n",
                "\n",
                "1. Csak azokat a termékeket vegyük figyelembe, amelyek mennyiségi egysége db!\n",
                "2. A listát szűrjük úgy, hogy az csak a részösszeg sorokat és a végösszeget tartalmazza!"
            ],
            "metadata": {
                "azdata_cell_guid": "ea75c103-911f-41a3-a32c-3d40fb3e4e4a"
            },
            "attachments": {}
        },
        {
            "cell_type": "code",
            "source": [
                "SELECT r.SZALL_DATUM,\r\n",
                "        r. SZALL_MOD,\r\n",
                "        -- GROUPING_ID(r.szall_datum, r.szall_mod),\r\n",
                "        COUNT(*)\r\n",
                "FROM Rendeles r \r\n",
                "        JOIN Rendeles_tetel rt ON r.SORSZAM = rt.SORSZAM\r\n",
                "        JOIN Termek t ON rt.TERMEKKOD = t.TERMEKKOD\r\n",
                "WHERE t.MEGYS = 'db'\r\n",
                "GROUP BY ROLLUP(r.SZALL_DATUM, r.SZALL_MOD)\r\n",
                "HAVING GROUPING_ID(r.SZALL_DATUM, r.SZALL_MOD) > 0"
            ],
            "metadata": {
                "azdata_cell_guid": "222b9618-a8e8-42b4-a8e8-d002257122b7",
                "language": "sql"
            },
            "outputs": [
                {
                    "output_type": "display_data",
                    "data": {
                        "text/html": "(711 rows affected)"
                    },
                    "metadata": {}
                },
                {
                    "output_type": "display_data",
                    "data": {
                        "text/html": "Total execution time: 00:00:00.209"
                    },
                    "metadata": {}
                },
                {
                    "output_type": "execute_result",
                    "metadata": {},
                    "execution_count": 21,
                    "data": {
                        "application/vnd.dataresource+json": {
                            "schema": {
                                "fields": [
                                    {
                                        "name": "SZALL_DATUM"
                                    },
                                    {
                                        "name": "SZALL_MOD"
                                    },
                                    {
                                        "name": "(No column name)"
                                    }
                                ]
                            },
                            "data": [
                                {
                                    "SZALL_DATUM": "2015-05-03",
                                    "SZALL_MOD": "NULL",
                                    "(No column name)": "4"
                                },
                                {
                                    "SZALL_DATUM": "2015-05-04",
                                    "SZALL_MOD": "NULL",
                                    "(No column name)": "31"
                                },
                                {
                                    "SZALL_DATUM": "2015-05-05",
                                    "SZALL_MOD": "NULL",
                                    "(No column name)": "81"
                                },
                                {
                                    "SZALL_DATUM": "2015-05-06",
                                    "SZALL_MOD": "NULL",
                                    "(No column name)": "126"
                                },
                                {
                                    "SZALL_DATUM": "2015-05-07",
                                    "SZALL_MOD": "NULL",
                                    "(No column name)": "94"
                                },
                                {
                                    "SZALL_DATUM": "2015-05-08",
                                    "SZALL_MOD": "NULL",
                                    "(No column name)": "106"
                                },
                                {
                                    "SZALL_DATUM": "2015-05-09",
                                    "SZALL_MOD": "NULL",
                                    "(No column name)": "159"
                                },
                                {
                                    "SZALL_DATUM": "2015-05-10",
                                    "SZALL_MOD": "NULL",
                                    "(No column name)": "168"
                                },
                                {
                                    "SZALL_DATUM": "2015-05-11",
                                    "SZALL_MOD": "NULL",
                                    "(No column name)": "195"
                                },
                                {
                                    "SZALL_DATUM": "2015-05-12",
                                    "SZALL_MOD": "NULL",
                                    "(No column name)": "196"
                                },
                                {
                                    "SZALL_DATUM": "2015-05-13",
                                    "SZALL_MOD": "NULL",
                                    "(No column name)": "198"
                                },
                                {
                                    "SZALL_DATUM": "2015-05-14",
                                    "SZALL_MOD": "NULL",
                                    "(No column name)": "277"
                                },
                                {
                                    "SZALL_DATUM": "2015-05-15",
                                    "SZALL_MOD": "NULL",
                                    "(No column name)": "188"
                                },
                                {
                                    "SZALL_DATUM": "2015-05-16",
                                    "SZALL_MOD": "NULL",
                                    "(No column name)": "198"
                                },
                                {
                                    "SZALL_DATUM": "2015-05-17",
                                    "SZALL_MOD": "NULL",
                                    "(No column name)": "129"
                                },
                                {
                                    "SZALL_DATUM": "2015-05-18",
                                    "SZALL_MOD": "NULL",
                                    "(No column name)": "225"
                                },
                                {
                                    "SZALL_DATUM": "2015-05-19",
                                    "SZALL_MOD": "NULL",
                                    "(No column name)": "199"
                                },
                                {
                                    "SZALL_DATUM": "2015-05-20",
                                    "SZALL_MOD": "NULL",
                                    "(No column name)": "245"
                                },
                                {
                                    "SZALL_DATUM": "2015-05-21",
                                    "SZALL_MOD": "NULL",
                                    "(No column name)": "198"
                                },
                                {
                                    "SZALL_DATUM": "2015-05-22",
                                    "SZALL_MOD": "NULL",
                                    "(No column name)": "202"
                                },
                                {
                                    "SZALL_DATUM": "2015-05-23",
                                    "SZALL_MOD": "NULL",
                                    "(No column name)": "139"
                                },
                                {
                                    "SZALL_DATUM": "2015-05-24",
                                    "SZALL_MOD": "NULL",
                                    "(No column name)": "150"
                                },
                                {
                                    "SZALL_DATUM": "2015-05-25",
                                    "SZALL_MOD": "NULL",
                                    "(No column name)": "173"
                                },
                                {
                                    "SZALL_DATUM": "2015-05-26",
                                    "SZALL_MOD": "NULL",
                                    "(No column name)": "204"
                                },
                                {
                                    "SZALL_DATUM": "2015-05-27",
                                    "SZALL_MOD": "NULL",
                                    "(No column name)": "231"
                                },
                                {
                                    "SZALL_DATUM": "2015-05-28",
                                    "SZALL_MOD": "NULL",
                                    "(No column name)": "229"
                                },
                                {
                                    "SZALL_DATUM": "2015-05-29",
                                    "SZALL_MOD": "NULL",
                                    "(No column name)": "263"
                                },
                                {
                                    "SZALL_DATUM": "2015-05-30",
                                    "SZALL_MOD": "NULL",
                                    "(No column name)": "203"
                                },
                                {
                                    "SZALL_DATUM": "2015-05-31",
                                    "SZALL_MOD": "NULL",
                                    "(No column name)": "123"
                                },
                                {
                                    "SZALL_DATUM": "2015-06-01",
                                    "SZALL_MOD": "NULL",
                                    "(No column name)": "181"
                                },
                                {
                                    "SZALL_DATUM": "2015-06-02",
                                    "SZALL_MOD": "NULL",
                                    "(No column name)": "175"
                                },
                                {
                                    "SZALL_DATUM": "2015-06-03",
                                    "SZALL_MOD": "NULL",
                                    "(No column name)": "220"
                                },
                                {
                                    "SZALL_DATUM": "2015-06-04",
                                    "SZALL_MOD": "NULL",
                                    "(No column name)": "210"
                                },
                                {
                                    "SZALL_DATUM": "2015-06-05",
                                    "SZALL_MOD": "NULL",
                                    "(No column name)": "230"
                                },
                                {
                                    "SZALL_DATUM": "2015-06-06",
                                    "SZALL_MOD": "NULL",
                                    "(No column name)": "236"
                                },
                                {
                                    "SZALL_DATUM": "2015-06-07",
                                    "SZALL_MOD": "NULL",
                                    "(No column name)": "221"
                                },
                                {
                                    "SZALL_DATUM": "2015-06-08",
                                    "SZALL_MOD": "NULL",
                                    "(No column name)": "149"
                                },
                                {
                                    "SZALL_DATUM": "2015-06-09",
                                    "SZALL_MOD": "NULL",
                                    "(No column name)": "172"
                                },
                                {
                                    "SZALL_DATUM": "2015-06-10",
                                    "SZALL_MOD": "NULL",
                                    "(No column name)": "221"
                                },
                                {
                                    "SZALL_DATUM": "2015-06-11",
                                    "SZALL_MOD": "NULL",
                                    "(No column name)": "173"
                                },
                                {
                                    "SZALL_DATUM": "2015-06-12",
                                    "SZALL_MOD": "NULL",
                                    "(No column name)": "231"
                                },
                                {
                                    "SZALL_DATUM": "2015-06-13",
                                    "SZALL_MOD": "NULL",
                                    "(No column name)": "215"
                                },
                                {
                                    "SZALL_DATUM": "2015-06-14",
                                    "SZALL_MOD": "NULL",
                                    "(No column name)": "207"
                                },
                                {
                                    "SZALL_DATUM": "2015-06-15",
                                    "SZALL_MOD": "NULL",
                                    "(No column name)": "205"
                                },
                                {
                                    "SZALL_DATUM": "2015-06-16",
                                    "SZALL_MOD": "NULL",
                                    "(No column name)": "133"
                                },
                                {
                                    "SZALL_DATUM": "2015-06-17",
                                    "SZALL_MOD": "NULL",
                                    "(No column name)": "229"
                                },
                                {
                                    "SZALL_DATUM": "2015-06-18",
                                    "SZALL_MOD": "NULL",
                                    "(No column name)": "238"
                                },
                                {
                                    "SZALL_DATUM": "2015-06-19",
                                    "SZALL_MOD": "NULL",
                                    "(No column name)": "176"
                                },
                                {
                                    "SZALL_DATUM": "2015-06-20",
                                    "SZALL_MOD": "NULL",
                                    "(No column name)": "198"
                                },
                                {
                                    "SZALL_DATUM": "2015-06-21",
                                    "SZALL_MOD": "NULL",
                                    "(No column name)": "179"
                                },
                                {
                                    "SZALL_DATUM": "2015-06-22",
                                    "SZALL_MOD": "NULL",
                                    "(No column name)": "240"
                                },
                                {
                                    "SZALL_DATUM": "2015-06-23",
                                    "SZALL_MOD": "NULL",
                                    "(No column name)": "227"
                                },
                                {
                                    "SZALL_DATUM": "2015-06-24",
                                    "SZALL_MOD": "NULL",
                                    "(No column name)": "129"
                                },
                                {
                                    "SZALL_DATUM": "2015-06-25",
                                    "SZALL_MOD": "NULL",
                                    "(No column name)": "247"
                                },
                                {
                                    "SZALL_DATUM": "2015-06-26",
                                    "SZALL_MOD": "NULL",
                                    "(No column name)": "271"
                                },
                                {
                                    "SZALL_DATUM": "2015-06-27",
                                    "SZALL_MOD": "NULL",
                                    "(No column name)": "173"
                                },
                                {
                                    "SZALL_DATUM": "2015-06-28",
                                    "SZALL_MOD": "NULL",
                                    "(No column name)": "163"
                                },
                                {
                                    "SZALL_DATUM": "2015-06-29",
                                    "SZALL_MOD": "NULL",
                                    "(No column name)": "207"
                                },
                                {
                                    "SZALL_DATUM": "2015-06-30",
                                    "SZALL_MOD": "NULL",
                                    "(No column name)": "208"
                                },
                                {
                                    "SZALL_DATUM": "2015-07-01",
                                    "SZALL_MOD": "NULL",
                                    "(No column name)": "138"
                                },
                                {
                                    "SZALL_DATUM": "2015-07-02",
                                    "SZALL_MOD": "NULL",
                                    "(No column name)": "183"
                                },
                                {
                                    "SZALL_DATUM": "2015-07-03",
                                    "SZALL_MOD": "NULL",
                                    "(No column name)": "175"
                                },
                                {
                                    "SZALL_DATUM": "2015-07-04",
                                    "SZALL_MOD": "NULL",
                                    "(No column name)": "221"
                                },
                                {
                                    "SZALL_DATUM": "2015-07-05",
                                    "SZALL_MOD": "NULL",
                                    "(No column name)": "220"
                                },
                                {
                                    "SZALL_DATUM": "2015-07-06",
                                    "SZALL_MOD": "NULL",
                                    "(No column name)": "231"
                                },
                                {
                                    "SZALL_DATUM": "2015-07-07",
                                    "SZALL_MOD": "NULL",
                                    "(No column name)": "266"
                                },
                                {
                                    "SZALL_DATUM": "2015-07-08",
                                    "SZALL_MOD": "NULL",
                                    "(No column name)": "177"
                                },
                                {
                                    "SZALL_DATUM": "2015-07-09",
                                    "SZALL_MOD": "NULL",
                                    "(No column name)": "198"
                                },
                                {
                                    "SZALL_DATUM": "2015-07-10",
                                    "SZALL_MOD": "NULL",
                                    "(No column name)": "182"
                                },
                                {
                                    "SZALL_DATUM": "2015-07-11",
                                    "SZALL_MOD": "NULL",
                                    "(No column name)": "175"
                                },
                                {
                                    "SZALL_DATUM": "2015-07-12",
                                    "SZALL_MOD": "NULL",
                                    "(No column name)": "218"
                                },
                                {
                                    "SZALL_DATUM": "2015-07-13",
                                    "SZALL_MOD": "NULL",
                                    "(No column name)": "208"
                                },
                                {
                                    "SZALL_DATUM": "2015-07-14",
                                    "SZALL_MOD": "NULL",
                                    "(No column name)": "188"
                                },
                                {
                                    "SZALL_DATUM": "2015-07-15",
                                    "SZALL_MOD": "NULL",
                                    "(No column name)": "256"
                                },
                                {
                                    "SZALL_DATUM": "2015-07-16",
                                    "SZALL_MOD": "NULL",
                                    "(No column name)": "187"
                                },
                                {
                                    "SZALL_DATUM": "2015-07-17",
                                    "SZALL_MOD": "NULL",
                                    "(No column name)": "176"
                                },
                                {
                                    "SZALL_DATUM": "2015-07-18",
                                    "SZALL_MOD": "NULL",
                                    "(No column name)": "159"
                                },
                                {
                                    "SZALL_DATUM": "2015-07-19",
                                    "SZALL_MOD": "NULL",
                                    "(No column name)": "187"
                                },
                                {
                                    "SZALL_DATUM": "2015-07-20",
                                    "SZALL_MOD": "NULL",
                                    "(No column name)": "260"
                                },
                                {
                                    "SZALL_DATUM": "2015-07-21",
                                    "SZALL_MOD": "NULL",
                                    "(No column name)": "242"
                                },
                                {
                                    "SZALL_DATUM": "2015-07-22",
                                    "SZALL_MOD": "NULL",
                                    "(No column name)": "163"
                                },
                                {
                                    "SZALL_DATUM": "2015-07-23",
                                    "SZALL_MOD": "NULL",
                                    "(No column name)": "180"
                                },
                                {
                                    "SZALL_DATUM": "2015-07-24",
                                    "SZALL_MOD": "NULL",
                                    "(No column name)": "219"
                                },
                                {
                                    "SZALL_DATUM": "2015-07-25",
                                    "SZALL_MOD": "NULL",
                                    "(No column name)": "200"
                                },
                                {
                                    "SZALL_DATUM": "2015-07-26",
                                    "SZALL_MOD": "NULL",
                                    "(No column name)": "236"
                                },
                                {
                                    "SZALL_DATUM": "2015-07-27",
                                    "SZALL_MOD": "NULL",
                                    "(No column name)": "155"
                                },
                                {
                                    "SZALL_DATUM": "2015-07-28",
                                    "SZALL_MOD": "NULL",
                                    "(No column name)": "180"
                                },
                                {
                                    "SZALL_DATUM": "2015-07-29",
                                    "SZALL_MOD": "NULL",
                                    "(No column name)": "161"
                                },
                                {
                                    "SZALL_DATUM": "2015-07-30",
                                    "SZALL_MOD": "NULL",
                                    "(No column name)": "238"
                                },
                                {
                                    "SZALL_DATUM": "2015-07-31",
                                    "SZALL_MOD": "NULL",
                                    "(No column name)": "270"
                                },
                                {
                                    "SZALL_DATUM": "2015-08-01",
                                    "SZALL_MOD": "NULL",
                                    "(No column name)": "248"
                                },
                                {
                                    "SZALL_DATUM": "2015-08-02",
                                    "SZALL_MOD": "NULL",
                                    "(No column name)": "229"
                                },
                                {
                                    "SZALL_DATUM": "2015-08-03",
                                    "SZALL_MOD": "NULL",
                                    "(No column name)": "229"
                                },
                                {
                                    "SZALL_DATUM": "2015-08-04",
                                    "SZALL_MOD": "NULL",
                                    "(No column name)": "250"
                                },
                                {
                                    "SZALL_DATUM": "2015-08-05",
                                    "SZALL_MOD": "NULL",
                                    "(No column name)": "233"
                                },
                                {
                                    "SZALL_DATUM": "2015-08-06",
                                    "SZALL_MOD": "NULL",
                                    "(No column name)": "140"
                                },
                                {
                                    "SZALL_DATUM": "2015-08-07",
                                    "SZALL_MOD": "NULL",
                                    "(No column name)": "259"
                                },
                                {
                                    "SZALL_DATUM": "2015-08-08",
                                    "SZALL_MOD": "NULL",
                                    "(No column name)": "258"
                                },
                                {
                                    "SZALL_DATUM": "2015-08-09",
                                    "SZALL_MOD": "NULL",
                                    "(No column name)": "187"
                                },
                                {
                                    "SZALL_DATUM": "2015-08-10",
                                    "SZALL_MOD": "NULL",
                                    "(No column name)": "196"
                                },
                                {
                                    "SZALL_DATUM": "2015-08-11",
                                    "SZALL_MOD": "NULL",
                                    "(No column name)": "241"
                                },
                                {
                                    "SZALL_DATUM": "2015-08-12",
                                    "SZALL_MOD": "NULL",
                                    "(No column name)": "202"
                                },
                                {
                                    "SZALL_DATUM": "2015-08-13",
                                    "SZALL_MOD": "NULL",
                                    "(No column name)": "250"
                                },
                                {
                                    "SZALL_DATUM": "2015-08-14",
                                    "SZALL_MOD": "NULL",
                                    "(No column name)": "255"
                                },
                                {
                                    "SZALL_DATUM": "2015-08-15",
                                    "SZALL_MOD": "NULL",
                                    "(No column name)": "172"
                                },
                                {
                                    "SZALL_DATUM": "2015-08-16",
                                    "SZALL_MOD": "NULL",
                                    "(No column name)": "189"
                                },
                                {
                                    "SZALL_DATUM": "2015-08-17",
                                    "SZALL_MOD": "NULL",
                                    "(No column name)": "203"
                                },
                                {
                                    "SZALL_DATUM": "2015-08-18",
                                    "SZALL_MOD": "NULL",
                                    "(No column name)": "167"
                                },
                                {
                                    "SZALL_DATUM": "2015-08-19",
                                    "SZALL_MOD": "NULL",
                                    "(No column name)": "170"
                                },
                                {
                                    "SZALL_DATUM": "2015-08-20",
                                    "SZALL_MOD": "NULL",
                                    "(No column name)": "227"
                                },
                                {
                                    "SZALL_DATUM": "2015-08-21",
                                    "SZALL_MOD": "NULL",
                                    "(No column name)": "199"
                                },
                                {
                                    "SZALL_DATUM": "2015-08-22",
                                    "SZALL_MOD": "NULL",
                                    "(No column name)": "251"
                                },
                                {
                                    "SZALL_DATUM": "2015-08-23",
                                    "SZALL_MOD": "NULL",
                                    "(No column name)": "173"
                                },
                                {
                                    "SZALL_DATUM": "2015-08-24",
                                    "SZALL_MOD": "NULL",
                                    "(No column name)": "191"
                                },
                                {
                                    "SZALL_DATUM": "2015-08-25",
                                    "SZALL_MOD": "NULL",
                                    "(No column name)": "235"
                                },
                                {
                                    "SZALL_DATUM": "2015-08-26",
                                    "SZALL_MOD": "NULL",
                                    "(No column name)": "267"
                                },
                                {
                                    "SZALL_DATUM": "2015-08-27",
                                    "SZALL_MOD": "NULL",
                                    "(No column name)": "152"
                                },
                                {
                                    "SZALL_DATUM": "2015-08-28",
                                    "SZALL_MOD": "NULL",
                                    "(No column name)": "221"
                                },
                                {
                                    "SZALL_DATUM": "2015-08-29",
                                    "SZALL_MOD": "NULL",
                                    "(No column name)": "183"
                                },
                                {
                                    "SZALL_DATUM": "2015-08-30",
                                    "SZALL_MOD": "NULL",
                                    "(No column name)": "236"
                                },
                                {
                                    "SZALL_DATUM": "2015-08-31",
                                    "SZALL_MOD": "NULL",
                                    "(No column name)": "205"
                                },
                                {
                                    "SZALL_DATUM": "2015-09-01",
                                    "SZALL_MOD": "NULL",
                                    "(No column name)": "246"
                                },
                                {
                                    "SZALL_DATUM": "2015-09-02",
                                    "SZALL_MOD": "NULL",
                                    "(No column name)": "165"
                                },
                                {
                                    "SZALL_DATUM": "2015-09-03",
                                    "SZALL_MOD": "NULL",
                                    "(No column name)": "234"
                                },
                                {
                                    "SZALL_DATUM": "2015-09-04",
                                    "SZALL_MOD": "NULL",
                                    "(No column name)": "256"
                                },
                                {
                                    "SZALL_DATUM": "2015-09-05",
                                    "SZALL_MOD": "NULL",
                                    "(No column name)": "187"
                                },
                                {
                                    "SZALL_DATUM": "2015-09-06",
                                    "SZALL_MOD": "NULL",
                                    "(No column name)": "209"
                                },
                                {
                                    "SZALL_DATUM": "2015-09-07",
                                    "SZALL_MOD": "NULL",
                                    "(No column name)": "237"
                                },
                                {
                                    "SZALL_DATUM": "2015-09-08",
                                    "SZALL_MOD": "NULL",
                                    "(No column name)": "193"
                                },
                                {
                                    "SZALL_DATUM": "2015-09-09",
                                    "SZALL_MOD": "NULL",
                                    "(No column name)": "204"
                                },
                                {
                                    "SZALL_DATUM": "2015-09-10",
                                    "SZALL_MOD": "NULL",
                                    "(No column name)": "265"
                                },
                                {
                                    "SZALL_DATUM": "2015-09-11",
                                    "SZALL_MOD": "NULL",
                                    "(No column name)": "219"
                                },
                                {
                                    "SZALL_DATUM": "2015-09-12",
                                    "SZALL_MOD": "NULL",
                                    "(No column name)": "240"
                                },
                                {
                                    "SZALL_DATUM": "2015-09-13",
                                    "SZALL_MOD": "NULL",
                                    "(No column name)": "195"
                                },
                                {
                                    "SZALL_DATUM": "2015-09-14",
                                    "SZALL_MOD": "NULL",
                                    "(No column name)": "210"
                                },
                                {
                                    "SZALL_DATUM": "2015-09-15",
                                    "SZALL_MOD": "NULL",
                                    "(No column name)": "140"
                                },
                                {
                                    "SZALL_DATUM": "2015-09-16",
                                    "SZALL_MOD": "NULL",
                                    "(No column name)": "199"
                                },
                                {
                                    "SZALL_DATUM": "2015-09-17",
                                    "SZALL_MOD": "NULL",
                                    "(No column name)": "226"
                                },
                                {
                                    "SZALL_DATUM": "2015-09-18",
                                    "SZALL_MOD": "NULL",
                                    "(No column name)": "212"
                                },
                                {
                                    "SZALL_DATUM": "2015-09-19",
                                    "SZALL_MOD": "NULL",
                                    "(No column name)": "196"
                                },
                                {
                                    "SZALL_DATUM": "2015-09-20",
                                    "SZALL_MOD": "NULL",
                                    "(No column name)": "263"
                                },
                                {
                                    "SZALL_DATUM": "2015-09-21",
                                    "SZALL_MOD": "NULL",
                                    "(No column name)": "164"
                                },
                                {
                                    "SZALL_DATUM": "2015-09-22",
                                    "SZALL_MOD": "NULL",
                                    "(No column name)": "221"
                                },
                                {
                                    "SZALL_DATUM": "2015-09-23",
                                    "SZALL_MOD": "NULL",
                                    "(No column name)": "187"
                                },
                                {
                                    "SZALL_DATUM": "2015-09-24",
                                    "SZALL_MOD": "NULL",
                                    "(No column name)": "264"
                                },
                                {
                                    "SZALL_DATUM": "2015-09-25",
                                    "SZALL_MOD": "NULL",
                                    "(No column name)": "186"
                                },
                                {
                                    "SZALL_DATUM": "2015-09-26",
                                    "SZALL_MOD": "NULL",
                                    "(No column name)": "240"
                                },
                                {
                                    "SZALL_DATUM": "2015-09-27",
                                    "SZALL_MOD": "NULL",
                                    "(No column name)": "194"
                                },
                                {
                                    "SZALL_DATUM": "2015-09-28",
                                    "SZALL_MOD": "NULL",
                                    "(No column name)": "269"
                                },
                                {
                                    "SZALL_DATUM": "2015-09-29",
                                    "SZALL_MOD": "NULL",
                                    "(No column name)": "252"
                                },
                                {
                                    "SZALL_DATUM": "2015-09-30",
                                    "SZALL_MOD": "NULL",
                                    "(No column name)": "151"
                                },
                                {
                                    "SZALL_DATUM": "2015-10-01",
                                    "SZALL_MOD": "NULL",
                                    "(No column name)": "207"
                                },
                                {
                                    "SZALL_DATUM": "2015-10-02",
                                    "SZALL_MOD": "NULL",
                                    "(No column name)": "153"
                                },
                                {
                                    "SZALL_DATUM": "2015-10-03",
                                    "SZALL_MOD": "NULL",
                                    "(No column name)": "242"
                                },
                                {
                                    "SZALL_DATUM": "2015-10-04",
                                    "SZALL_MOD": "NULL",
                                    "(No column name)": "197"
                                },
                                {
                                    "SZALL_DATUM": "2015-10-05",
                                    "SZALL_MOD": "NULL",
                                    "(No column name)": "226"
                                },
                                {
                                    "SZALL_DATUM": "2015-10-06",
                                    "SZALL_MOD": "NULL",
                                    "(No column name)": "163"
                                },
                                {
                                    "SZALL_DATUM": "2015-10-07",
                                    "SZALL_MOD": "NULL",
                                    "(No column name)": "230"
                                },
                                {
                                    "SZALL_DATUM": "2015-10-08",
                                    "SZALL_MOD": "NULL",
                                    "(No column name)": "216"
                                },
                                {
                                    "SZALL_DATUM": "2015-10-09",
                                    "SZALL_MOD": "NULL",
                                    "(No column name)": "235"
                                },
                                {
                                    "SZALL_DATUM": "2015-10-10",
                                    "SZALL_MOD": "NULL",
                                    "(No column name)": "216"
                                },
                                {
                                    "SZALL_DATUM": "2015-10-11",
                                    "SZALL_MOD": "NULL",
                                    "(No column name)": "184"
                                },
                                {
                                    "SZALL_DATUM": "2015-10-12",
                                    "SZALL_MOD": "NULL",
                                    "(No column name)": "237"
                                },
                                {
                                    "SZALL_DATUM": "2015-10-13",
                                    "SZALL_MOD": "NULL",
                                    "(No column name)": "174"
                                },
                                {
                                    "SZALL_DATUM": "2015-10-14",
                                    "SZALL_MOD": "NULL",
                                    "(No column name)": "163"
                                },
                                {
                                    "SZALL_DATUM": "2015-10-15",
                                    "SZALL_MOD": "NULL",
                                    "(No column name)": "251"
                                },
                                {
                                    "SZALL_DATUM": "2015-10-16",
                                    "SZALL_MOD": "NULL",
                                    "(No column name)": "258"
                                },
                                {
                                    "SZALL_DATUM": "2015-10-17",
                                    "SZALL_MOD": "NULL",
                                    "(No column name)": "186"
                                },
                                {
                                    "SZALL_DATUM": "2015-10-18",
                                    "SZALL_MOD": "NULL",
                                    "(No column name)": "219"
                                },
                                {
                                    "SZALL_DATUM": "2015-10-19",
                                    "SZALL_MOD": "NULL",
                                    "(No column name)": "184"
                                },
                                {
                                    "SZALL_DATUM": "2015-10-20",
                                    "SZALL_MOD": "NULL",
                                    "(No column name)": "260"
                                },
                                {
                                    "SZALL_DATUM": "2015-10-21",
                                    "SZALL_MOD": "NULL",
                                    "(No column name)": "191"
                                },
                                {
                                    "SZALL_DATUM": "2015-10-22",
                                    "SZALL_MOD": "NULL",
                                    "(No column name)": "153"
                                },
                                {
                                    "SZALL_DATUM": "2015-10-23",
                                    "SZALL_MOD": "NULL",
                                    "(No column name)": "207"
                                },
                                {
                                    "SZALL_DATUM": "2015-10-24",
                                    "SZALL_MOD": "NULL",
                                    "(No column name)": "186"
                                },
                                {
                                    "SZALL_DATUM": "2015-10-25",
                                    "SZALL_MOD": "NULL",
                                    "(No column name)": "234"
                                },
                                {
                                    "SZALL_DATUM": "2015-10-26",
                                    "SZALL_MOD": "NULL",
                                    "(No column name)": "221"
                                },
                                {
                                    "SZALL_DATUM": "2015-10-27",
                                    "SZALL_MOD": "NULL",
                                    "(No column name)": "188"
                                },
                                {
                                    "SZALL_DATUM": "2015-10-28",
                                    "SZALL_MOD": "NULL",
                                    "(No column name)": "194"
                                },
                                {
                                    "SZALL_DATUM": "2015-10-29",
                                    "SZALL_MOD": "NULL",
                                    "(No column name)": "191"
                                },
                                {
                                    "SZALL_DATUM": "2015-10-30",
                                    "SZALL_MOD": "NULL",
                                    "(No column name)": "214"
                                },
                                {
                                    "SZALL_DATUM": "2015-10-31",
                                    "SZALL_MOD": "NULL",
                                    "(No column name)": "176"
                                },
                                {
                                    "SZALL_DATUM": "2015-11-01",
                                    "SZALL_MOD": "NULL",
                                    "(No column name)": "148"
                                },
                                {
                                    "SZALL_DATUM": "2015-11-02",
                                    "SZALL_MOD": "NULL",
                                    "(No column name)": "191"
                                },
                                {
                                    "SZALL_DATUM": "2015-11-03",
                                    "SZALL_MOD": "NULL",
                                    "(No column name)": "304"
                                },
                                {
                                    "SZALL_DATUM": "2015-11-04",
                                    "SZALL_MOD": "NULL",
                                    "(No column name)": "181"
                                },
                                {
                                    "SZALL_DATUM": "2015-11-05",
                                    "SZALL_MOD": "NULL",
                                    "(No column name)": "173"
                                },
                                {
                                    "SZALL_DATUM": "2015-11-06",
                                    "SZALL_MOD": "NULL",
                                    "(No column name)": "211"
                                },
                                {
                                    "SZALL_DATUM": "2015-11-07",
                                    "SZALL_MOD": "NULL",
                                    "(No column name)": "206"
                                },
                                {
                                    "SZALL_DATUM": "2015-11-08",
                                    "SZALL_MOD": "NULL",
                                    "(No column name)": "210"
                                },
                                {
                                    "SZALL_DATUM": "2015-11-09",
                                    "SZALL_MOD": "NULL",
                                    "(No column name)": "206"
                                },
                                {
                                    "SZALL_DATUM": "2015-11-10",
                                    "SZALL_MOD": "NULL",
                                    "(No column name)": "219"
                                },
                                {
                                    "SZALL_DATUM": "2015-11-11",
                                    "SZALL_MOD": "NULL",
                                    "(No column name)": "200"
                                },
                                {
                                    "SZALL_DATUM": "2015-11-12",
                                    "SZALL_MOD": "NULL",
                                    "(No column name)": "149"
                                },
                                {
                                    "SZALL_DATUM": "2015-11-13",
                                    "SZALL_MOD": "NULL",
                                    "(No column name)": "188"
                                },
                                {
                                    "SZALL_DATUM": "2015-11-14",
                                    "SZALL_MOD": "NULL",
                                    "(No column name)": "230"
                                },
                                {
                                    "SZALL_DATUM": "2015-11-15",
                                    "SZALL_MOD": "NULL",
                                    "(No column name)": "164"
                                },
                                {
                                    "SZALL_DATUM": "2015-11-16",
                                    "SZALL_MOD": "NULL",
                                    "(No column name)": "230"
                                },
                                {
                                    "SZALL_DATUM": "2015-11-17",
                                    "SZALL_MOD": "NULL",
                                    "(No column name)": "195"
                                },
                                {
                                    "SZALL_DATUM": "2015-11-18",
                                    "SZALL_MOD": "NULL",
                                    "(No column name)": "219"
                                },
                                {
                                    "SZALL_DATUM": "2015-11-19",
                                    "SZALL_MOD": "NULL",
                                    "(No column name)": "190"
                                },
                                {
                                    "SZALL_DATUM": "2015-11-20",
                                    "SZALL_MOD": "NULL",
                                    "(No column name)": "168"
                                },
                                {
                                    "SZALL_DATUM": "2015-11-21",
                                    "SZALL_MOD": "NULL",
                                    "(No column name)": "205"
                                },
                                {
                                    "SZALL_DATUM": "2015-11-22",
                                    "SZALL_MOD": "NULL",
                                    "(No column name)": "240"
                                },
                                {
                                    "SZALL_DATUM": "2015-11-23",
                                    "SZALL_MOD": "NULL",
                                    "(No column name)": "209"
                                },
                                {
                                    "SZALL_DATUM": "2015-11-24",
                                    "SZALL_MOD": "NULL",
                                    "(No column name)": "245"
                                },
                                {
                                    "SZALL_DATUM": "2015-11-25",
                                    "SZALL_MOD": "NULL",
                                    "(No column name)": "167"
                                },
                                {
                                    "SZALL_DATUM": "2015-11-26",
                                    "SZALL_MOD": "NULL",
                                    "(No column name)": "186"
                                },
                                {
                                    "SZALL_DATUM": "2015-11-27",
                                    "SZALL_MOD": "NULL",
                                    "(No column name)": "177"
                                },
                                {
                                    "SZALL_DATUM": "2015-11-28",
                                    "SZALL_MOD": "NULL",
                                    "(No column name)": "266"
                                },
                                {
                                    "SZALL_DATUM": "2015-11-29",
                                    "SZALL_MOD": "NULL",
                                    "(No column name)": "167"
                                },
                                {
                                    "SZALL_DATUM": "2015-11-30",
                                    "SZALL_MOD": "NULL",
                                    "(No column name)": "205"
                                },
                                {
                                    "SZALL_DATUM": "2015-12-01",
                                    "SZALL_MOD": "NULL",
                                    "(No column name)": "185"
                                },
                                {
                                    "SZALL_DATUM": "2015-12-02",
                                    "SZALL_MOD": "NULL",
                                    "(No column name)": "226"
                                },
                                {
                                    "SZALL_DATUM": "2015-12-03",
                                    "SZALL_MOD": "NULL",
                                    "(No column name)": "217"
                                },
                                {
                                    "SZALL_DATUM": "2015-12-04",
                                    "SZALL_MOD": "NULL",
                                    "(No column name)": "185"
                                },
                                {
                                    "SZALL_DATUM": "2015-12-05",
                                    "SZALL_MOD": "NULL",
                                    "(No column name)": "267"
                                },
                                {
                                    "SZALL_DATUM": "2015-12-06",
                                    "SZALL_MOD": "NULL",
                                    "(No column name)": "150"
                                },
                                {
                                    "SZALL_DATUM": "2015-12-07",
                                    "SZALL_MOD": "NULL",
                                    "(No column name)": "263"
                                },
                                {
                                    "SZALL_DATUM": "2015-12-08",
                                    "SZALL_MOD": "NULL",
                                    "(No column name)": "207"
                                },
                                {
                                    "SZALL_DATUM": "2015-12-09",
                                    "SZALL_MOD": "NULL",
                                    "(No column name)": "211"
                                },
                                {
                                    "SZALL_DATUM": "2015-12-10",
                                    "SZALL_MOD": "NULL",
                                    "(No column name)": "256"
                                },
                                {
                                    "SZALL_DATUM": "2015-12-11",
                                    "SZALL_MOD": "NULL",
                                    "(No column name)": "230"
                                },
                                {
                                    "SZALL_DATUM": "2015-12-12",
                                    "SZALL_MOD": "NULL",
                                    "(No column name)": "224"
                                },
                                {
                                    "SZALL_DATUM": "2015-12-13",
                                    "SZALL_MOD": "NULL",
                                    "(No column name)": "171"
                                },
                                {
                                    "SZALL_DATUM": "2015-12-14",
                                    "SZALL_MOD": "NULL",
                                    "(No column name)": "212"
                                },
                                {
                                    "SZALL_DATUM": "2015-12-15",
                                    "SZALL_MOD": "NULL",
                                    "(No column name)": "184"
                                },
                                {
                                    "SZALL_DATUM": "2015-12-16",
                                    "SZALL_MOD": "NULL",
                                    "(No column name)": "179"
                                },
                                {
                                    "SZALL_DATUM": "2015-12-17",
                                    "SZALL_MOD": "NULL",
                                    "(No column name)": "186"
                                },
                                {
                                    "SZALL_DATUM": "2015-12-18",
                                    "SZALL_MOD": "NULL",
                                    "(No column name)": "274"
                                },
                                {
                                    "SZALL_DATUM": "2015-12-19",
                                    "SZALL_MOD": "NULL",
                                    "(No column name)": "164"
                                },
                                {
                                    "SZALL_DATUM": "2015-12-20",
                                    "SZALL_MOD": "NULL",
                                    "(No column name)": "222"
                                },
                                {
                                    "SZALL_DATUM": "2015-12-21",
                                    "SZALL_MOD": "NULL",
                                    "(No column name)": "164"
                                },
                                {
                                    "SZALL_DATUM": "2015-12-22",
                                    "SZALL_MOD": "NULL",
                                    "(No column name)": "210"
                                },
                                {
                                    "SZALL_DATUM": "2015-12-23",
                                    "SZALL_MOD": "NULL",
                                    "(No column name)": "191"
                                },
                                {
                                    "SZALL_DATUM": "2015-12-24",
                                    "SZALL_MOD": "NULL",
                                    "(No column name)": "196"
                                },
                                {
                                    "SZALL_DATUM": "2015-12-25",
                                    "SZALL_MOD": "NULL",
                                    "(No column name)": "181"
                                },
                                {
                                    "SZALL_DATUM": "2015-12-26",
                                    "SZALL_MOD": "NULL",
                                    "(No column name)": "222"
                                },
                                {
                                    "SZALL_DATUM": "2015-12-27",
                                    "SZALL_MOD": "NULL",
                                    "(No column name)": "208"
                                },
                                {
                                    "SZALL_DATUM": "2015-12-28",
                                    "SZALL_MOD": "NULL",
                                    "(No column name)": "244"
                                },
                                {
                                    "SZALL_DATUM": "2015-12-29",
                                    "SZALL_MOD": "NULL",
                                    "(No column name)": "247"
                                },
                                {
                                    "SZALL_DATUM": "2015-12-30",
                                    "SZALL_MOD": "NULL",
                                    "(No column name)": "190"
                                },
                                {
                                    "SZALL_DATUM": "2015-12-31",
                                    "SZALL_MOD": "NULL",
                                    "(No column name)": "206"
                                },
                                {
                                    "SZALL_DATUM": "2016-01-01",
                                    "SZALL_MOD": "NULL",
                                    "(No column name)": "240"
                                },
                                {
                                    "SZALL_DATUM": "2016-01-02",
                                    "SZALL_MOD": "NULL",
                                    "(No column name)": "206"
                                },
                                {
                                    "SZALL_DATUM": "2016-01-03",
                                    "SZALL_MOD": "NULL",
                                    "(No column name)": "257"
                                },
                                {
                                    "SZALL_DATUM": "2016-01-04",
                                    "SZALL_MOD": "NULL",
                                    "(No column name)": "233"
                                },
                                {
                                    "SZALL_DATUM": "2016-01-05",
                                    "SZALL_MOD": "NULL",
                                    "(No column name)": "192"
                                },
                                {
                                    "SZALL_DATUM": "2016-01-06",
                                    "SZALL_MOD": "NULL",
                                    "(No column name)": "193"
                                },
                                {
                                    "SZALL_DATUM": "2016-01-07",
                                    "SZALL_MOD": "NULL",
                                    "(No column name)": "142"
                                },
                                {
                                    "SZALL_DATUM": "2016-01-08",
                                    "SZALL_MOD": "NULL",
                                    "(No column name)": "269"
                                },
                                {
                                    "SZALL_DATUM": "2016-01-09",
                                    "SZALL_MOD": "NULL",
                                    "(No column name)": "196"
                                },
                                {
                                    "SZALL_DATUM": "2016-01-10",
                                    "SZALL_MOD": "NULL",
                                    "(No column name)": "204"
                                },
                                {
                                    "SZALL_DATUM": "2016-01-11",
                                    "SZALL_MOD": "NULL",
                                    "(No column name)": "201"
                                },
                                {
                                    "SZALL_DATUM": "2016-01-12",
                                    "SZALL_MOD": "NULL",
                                    "(No column name)": "189"
                                },
                                {
                                    "SZALL_DATUM": "2016-01-13",
                                    "SZALL_MOD": "NULL",
                                    "(No column name)": "201"
                                },
                                {
                                    "SZALL_DATUM": "2016-01-14",
                                    "SZALL_MOD": "NULL",
                                    "(No column name)": "226"
                                },
                                {
                                    "SZALL_DATUM": "2016-01-15",
                                    "SZALL_MOD": "NULL",
                                    "(No column name)": "229"
                                },
                                {
                                    "SZALL_DATUM": "2016-01-16",
                                    "SZALL_MOD": "NULL",
                                    "(No column name)": "218"
                                },
                                {
                                    "SZALL_DATUM": "2016-01-17",
                                    "SZALL_MOD": "NULL",
                                    "(No column name)": "203"
                                },
                                {
                                    "SZALL_DATUM": "2016-01-18",
                                    "SZALL_MOD": "NULL",
                                    "(No column name)": "173"
                                },
                                {
                                    "SZALL_DATUM": "2016-01-19",
                                    "SZALL_MOD": "NULL",
                                    "(No column name)": "176"
                                },
                                {
                                    "SZALL_DATUM": "2016-01-20",
                                    "SZALL_MOD": "NULL",
                                    "(No column name)": "200"
                                },
                                {
                                    "SZALL_DATUM": "2016-01-21",
                                    "SZALL_MOD": "NULL",
                                    "(No column name)": "281"
                                },
                                {
                                    "SZALL_DATUM": "2016-01-22",
                                    "SZALL_MOD": "NULL",
                                    "(No column name)": "206"
                                },
                                {
                                    "SZALL_DATUM": "2016-01-23",
                                    "SZALL_MOD": "NULL",
                                    "(No column name)": "175"
                                },
                                {
                                    "SZALL_DATUM": "2016-01-24",
                                    "SZALL_MOD": "NULL",
                                    "(No column name)": "241"
                                },
                                {
                                    "SZALL_DATUM": "2016-01-25",
                                    "SZALL_MOD": "NULL",
                                    "(No column name)": "136"
                                },
                                {
                                    "SZALL_DATUM": "2016-01-26",
                                    "SZALL_MOD": "NULL",
                                    "(No column name)": "144"
                                },
                                {
                                    "SZALL_DATUM": "2016-01-27",
                                    "SZALL_MOD": "NULL",
                                    "(No column name)": "195"
                                },
                                {
                                    "SZALL_DATUM": "2016-01-28",
                                    "SZALL_MOD": "NULL",
                                    "(No column name)": "207"
                                },
                                {
                                    "SZALL_DATUM": "2016-01-29",
                                    "SZALL_MOD": "NULL",
                                    "(No column name)": "198"
                                },
                                {
                                    "SZALL_DATUM": "2016-01-30",
                                    "SZALL_MOD": "NULL",
                                    "(No column name)": "239"
                                },
                                {
                                    "SZALL_DATUM": "2016-01-31",
                                    "SZALL_MOD": "NULL",
                                    "(No column name)": "191"
                                },
                                {
                                    "SZALL_DATUM": "2016-02-01",
                                    "SZALL_MOD": "NULL",
                                    "(No column name)": "246"
                                },
                                {
                                    "SZALL_DATUM": "2016-02-02",
                                    "SZALL_MOD": "NULL",
                                    "(No column name)": "211"
                                },
                                {
                                    "SZALL_DATUM": "2016-02-03",
                                    "SZALL_MOD": "NULL",
                                    "(No column name)": "236"
                                },
                                {
                                    "SZALL_DATUM": "2016-02-04",
                                    "SZALL_MOD": "NULL",
                                    "(No column name)": "199"
                                },
                                {
                                    "SZALL_DATUM": "2016-02-05",
                                    "SZALL_MOD": "NULL",
                                    "(No column name)": "233"
                                },
                                {
                                    "SZALL_DATUM": "2016-02-06",
                                    "SZALL_MOD": "NULL",
                                    "(No column name)": "287"
                                },
                                {
                                    "SZALL_DATUM": "2016-02-07",
                                    "SZALL_MOD": "NULL",
                                    "(No column name)": "164"
                                },
                                {
                                    "SZALL_DATUM": "2016-02-08",
                                    "SZALL_MOD": "NULL",
                                    "(No column name)": "230"
                                },
                                {
                                    "SZALL_DATUM": "2016-02-09",
                                    "SZALL_MOD": "NULL",
                                    "(No column name)": "222"
                                },
                                {
                                    "SZALL_DATUM": "2016-02-10",
                                    "SZALL_MOD": "NULL",
                                    "(No column name)": "196"
                                },
                                {
                                    "SZALL_DATUM": "2016-02-11",
                                    "SZALL_MOD": "NULL",
                                    "(No column name)": "217"
                                },
                                {
                                    "SZALL_DATUM": "2016-02-12",
                                    "SZALL_MOD": "NULL",
                                    "(No column name)": "232"
                                },
                                {
                                    "SZALL_DATUM": "2016-02-13",
                                    "SZALL_MOD": "NULL",
                                    "(No column name)": "195"
                                },
                                {
                                    "SZALL_DATUM": "2016-02-14",
                                    "SZALL_MOD": "NULL",
                                    "(No column name)": "219"
                                },
                                {
                                    "SZALL_DATUM": "2016-02-15",
                                    "SZALL_MOD": "NULL",
                                    "(No column name)": "246"
                                },
                                {
                                    "SZALL_DATUM": "2016-02-16",
                                    "SZALL_MOD": "NULL",
                                    "(No column name)": "209"
                                },
                                {
                                    "SZALL_DATUM": "2016-02-17",
                                    "SZALL_MOD": "NULL",
                                    "(No column name)": "250"
                                },
                                {
                                    "SZALL_DATUM": "2016-02-18",
                                    "SZALL_MOD": "NULL",
                                    "(No column name)": "131"
                                },
                                {
                                    "SZALL_DATUM": "2016-02-19",
                                    "SZALL_MOD": "NULL",
                                    "(No column name)": "217"
                                },
                                {
                                    "SZALL_DATUM": "2016-02-20",
                                    "SZALL_MOD": "NULL",
                                    "(No column name)": "204"
                                },
                                {
                                    "SZALL_DATUM": "2016-02-21",
                                    "SZALL_MOD": "NULL",
                                    "(No column name)": "206"
                                },
                                {
                                    "SZALL_DATUM": "2016-02-22",
                                    "SZALL_MOD": "NULL",
                                    "(No column name)": "245"
                                },
                                {
                                    "SZALL_DATUM": "2016-02-23",
                                    "SZALL_MOD": "NULL",
                                    "(No column name)": "183"
                                },
                                {
                                    "SZALL_DATUM": "2016-02-24",
                                    "SZALL_MOD": "NULL",
                                    "(No column name)": "185"
                                },
                                {
                                    "SZALL_DATUM": "2016-02-25",
                                    "SZALL_MOD": "NULL",
                                    "(No column name)": "188"
                                },
                                {
                                    "SZALL_DATUM": "2016-02-26",
                                    "SZALL_MOD": "NULL",
                                    "(No column name)": "232"
                                },
                                {
                                    "SZALL_DATUM": "2016-02-27",
                                    "SZALL_MOD": "NULL",
                                    "(No column name)": "199"
                                },
                                {
                                    "SZALL_DATUM": "2016-02-28",
                                    "SZALL_MOD": "NULL",
                                    "(No column name)": "217"
                                },
                                {
                                    "SZALL_DATUM": "2016-02-29",
                                    "SZALL_MOD": "NULL",
                                    "(No column name)": "223"
                                },
                                {
                                    "SZALL_DATUM": "2016-03-01",
                                    "SZALL_MOD": "NULL",
                                    "(No column name)": "256"
                                },
                                {
                                    "SZALL_DATUM": "2016-03-02",
                                    "SZALL_MOD": "NULL",
                                    "(No column name)": "203"
                                },
                                {
                                    "SZALL_DATUM": "2016-03-03",
                                    "SZALL_MOD": "NULL",
                                    "(No column name)": "250"
                                },
                                {
                                    "SZALL_DATUM": "2016-03-04",
                                    "SZALL_MOD": "NULL",
                                    "(No column name)": "220"
                                },
                                {
                                    "SZALL_DATUM": "2016-03-05",
                                    "SZALL_MOD": "NULL",
                                    "(No column name)": "251"
                                },
                                {
                                    "SZALL_DATUM": "2016-03-06",
                                    "SZALL_MOD": "NULL",
                                    "(No column name)": "184"
                                },
                                {
                                    "SZALL_DATUM": "2016-03-07",
                                    "SZALL_MOD": "NULL",
                                    "(No column name)": "197"
                                },
                                {
                                    "SZALL_DATUM": "2016-03-08",
                                    "SZALL_MOD": "NULL",
                                    "(No column name)": "159"
                                },
                                {
                                    "SZALL_DATUM": "2016-03-09",
                                    "SZALL_MOD": "NULL",
                                    "(No column name)": "208"
                                },
                                {
                                    "SZALL_DATUM": "2016-03-10",
                                    "SZALL_MOD": "NULL",
                                    "(No column name)": "235"
                                },
                                {
                                    "SZALL_DATUM": "2016-03-11",
                                    "SZALL_MOD": "NULL",
                                    "(No column name)": "200"
                                },
                                {
                                    "SZALL_DATUM": "2016-03-12",
                                    "SZALL_MOD": "NULL",
                                    "(No column name)": "260"
                                },
                                {
                                    "SZALL_DATUM": "2016-03-13",
                                    "SZALL_MOD": "NULL",
                                    "(No column name)": "191"
                                },
                                {
                                    "SZALL_DATUM": "2016-03-14",
                                    "SZALL_MOD": "NULL",
                                    "(No column name)": "224"
                                },
                                {
                                    "SZALL_DATUM": "2016-03-15",
                                    "SZALL_MOD": "NULL",
                                    "(No column name)": "211"
                                },
                                {
                                    "SZALL_DATUM": "2016-03-16",
                                    "SZALL_MOD": "NULL",
                                    "(No column name)": "169"
                                },
                                {
                                    "SZALL_DATUM": "2016-03-17",
                                    "SZALL_MOD": "NULL",
                                    "(No column name)": "195"
                                },
                                {
                                    "SZALL_DATUM": "2016-03-18",
                                    "SZALL_MOD": "NULL",
                                    "(No column name)": "192"
                                },
                                {
                                    "SZALL_DATUM": "2016-03-19",
                                    "SZALL_MOD": "NULL",
                                    "(No column name)": "195"
                                },
                                {
                                    "SZALL_DATUM": "2016-03-20",
                                    "SZALL_MOD": "NULL",
                                    "(No column name)": "308"
                                },
                                {
                                    "SZALL_DATUM": "2016-03-21",
                                    "SZALL_MOD": "NULL",
                                    "(No column name)": "263"
                                },
                                {
                                    "SZALL_DATUM": "2016-03-22",
                                    "SZALL_MOD": "NULL",
                                    "(No column name)": "224"
                                },
                                {
                                    "SZALL_DATUM": "2016-03-23",
                                    "SZALL_MOD": "NULL",
                                    "(No column name)": "214"
                                },
                                {
                                    "SZALL_DATUM": "2016-03-24",
                                    "SZALL_MOD": "NULL",
                                    "(No column name)": "199"
                                },
                                {
                                    "SZALL_DATUM": "2016-03-25",
                                    "SZALL_MOD": "NULL",
                                    "(No column name)": "238"
                                },
                                {
                                    "SZALL_DATUM": "2016-03-26",
                                    "SZALL_MOD": "NULL",
                                    "(No column name)": "238"
                                },
                                {
                                    "SZALL_DATUM": "2016-03-27",
                                    "SZALL_MOD": "NULL",
                                    "(No column name)": "230"
                                },
                                {
                                    "SZALL_DATUM": "2016-03-28",
                                    "SZALL_MOD": "NULL",
                                    "(No column name)": "174"
                                },
                                {
                                    "SZALL_DATUM": "2016-03-29",
                                    "SZALL_MOD": "NULL",
                                    "(No column name)": "176"
                                },
                                {
                                    "SZALL_DATUM": "2016-03-30",
                                    "SZALL_MOD": "NULL",
                                    "(No column name)": "222"
                                },
                                {
                                    "SZALL_DATUM": "2016-03-31",
                                    "SZALL_MOD": "NULL",
                                    "(No column name)": "199"
                                },
                                {
                                    "SZALL_DATUM": "2016-04-01",
                                    "SZALL_MOD": "NULL",
                                    "(No column name)": "227"
                                },
                                {
                                    "SZALL_DATUM": "2016-04-02",
                                    "SZALL_MOD": "NULL",
                                    "(No column name)": "207"
                                },
                                {
                                    "SZALL_DATUM": "2016-04-03",
                                    "SZALL_MOD": "NULL",
                                    "(No column name)": "203"
                                },
                                {
                                    "SZALL_DATUM": "2016-04-04",
                                    "SZALL_MOD": "NULL",
                                    "(No column name)": "201"
                                },
                                {
                                    "SZALL_DATUM": "2016-04-05",
                                    "SZALL_MOD": "NULL",
                                    "(No column name)": "216"
                                },
                                {
                                    "SZALL_DATUM": "2016-04-06",
                                    "SZALL_MOD": "NULL",
                                    "(No column name)": "191"
                                },
                                {
                                    "SZALL_DATUM": "2016-04-07",
                                    "SZALL_MOD": "NULL",
                                    "(No column name)": "220"
                                },
                                {
                                    "SZALL_DATUM": "2016-04-08",
                                    "SZALL_MOD": "NULL",
                                    "(No column name)": "262"
                                },
                                {
                                    "SZALL_DATUM": "2016-04-09",
                                    "SZALL_MOD": "NULL",
                                    "(No column name)": "257"
                                },
                                {
                                    "SZALL_DATUM": "2016-04-10",
                                    "SZALL_MOD": "NULL",
                                    "(No column name)": "254"
                                },
                                {
                                    "SZALL_DATUM": "2016-04-11",
                                    "SZALL_MOD": "NULL",
                                    "(No column name)": "235"
                                },
                                {
                                    "SZALL_DATUM": "2016-04-12",
                                    "SZALL_MOD": "NULL",
                                    "(No column name)": "190"
                                },
                                {
                                    "SZALL_DATUM": "2016-04-13",
                                    "SZALL_MOD": "NULL",
                                    "(No column name)": "190"
                                },
                                {
                                    "SZALL_DATUM": "2016-04-14",
                                    "SZALL_MOD": "NULL",
                                    "(No column name)": "219"
                                },
                                {
                                    "SZALL_DATUM": "2016-04-15",
                                    "SZALL_MOD": "NULL",
                                    "(No column name)": "233"
                                },
                                {
                                    "SZALL_DATUM": "2016-04-16",
                                    "SZALL_MOD": "NULL",
                                    "(No column name)": "196"
                                },
                                {
                                    "SZALL_DATUM": "2016-04-17",
                                    "SZALL_MOD": "NULL",
                                    "(No column name)": "266"
                                },
                                {
                                    "SZALL_DATUM": "2016-04-18",
                                    "SZALL_MOD": "NULL",
                                    "(No column name)": "209"
                                },
                                {
                                    "SZALL_DATUM": "2016-04-19",
                                    "SZALL_MOD": "NULL",
                                    "(No column name)": "242"
                                },
                                {
                                    "SZALL_DATUM": "2016-04-20",
                                    "SZALL_MOD": "NULL",
                                    "(No column name)": "164"
                                },
                                {
                                    "SZALL_DATUM": "2016-04-21",
                                    "SZALL_MOD": "NULL",
                                    "(No column name)": "172"
                                },
                                {
                                    "SZALL_DATUM": "2016-04-22",
                                    "SZALL_MOD": "NULL",
                                    "(No column name)": "141"
                                },
                                {
                                    "SZALL_DATUM": "2016-04-23",
                                    "SZALL_MOD": "NULL",
                                    "(No column name)": "189"
                                },
                                {
                                    "SZALL_DATUM": "2016-04-24",
                                    "SZALL_MOD": "NULL",
                                    "(No column name)": "252"
                                },
                                {
                                    "SZALL_DATUM": "2016-04-25",
                                    "SZALL_MOD": "NULL",
                                    "(No column name)": "272"
                                },
                                {
                                    "SZALL_DATUM": "2016-04-26",
                                    "SZALL_MOD": "NULL",
                                    "(No column name)": "236"
                                },
                                {
                                    "SZALL_DATUM": "2016-04-27",
                                    "SZALL_MOD": "NULL",
                                    "(No column name)": "210"
                                },
                                {
                                    "SZALL_DATUM": "2016-04-28",
                                    "SZALL_MOD": "NULL",
                                    "(No column name)": "191"
                                },
                                {
                                    "SZALL_DATUM": "2016-04-29",
                                    "SZALL_MOD": "NULL",
                                    "(No column name)": "223"
                                },
                                {
                                    "SZALL_DATUM": "2016-04-30",
                                    "SZALL_MOD": "NULL",
                                    "(No column name)": "196"
                                },
                                {
                                    "SZALL_DATUM": "2016-05-01",
                                    "SZALL_MOD": "NULL",
                                    "(No column name)": "182"
                                },
                                {
                                    "SZALL_DATUM": "2016-05-02",
                                    "SZALL_MOD": "NULL",
                                    "(No column name)": "220"
                                },
                                {
                                    "SZALL_DATUM": "2016-05-03",
                                    "SZALL_MOD": "NULL",
                                    "(No column name)": "153"
                                },
                                {
                                    "SZALL_DATUM": "2016-05-04",
                                    "SZALL_MOD": "NULL",
                                    "(No column name)": "254"
                                },
                                {
                                    "SZALL_DATUM": "2016-05-05",
                                    "SZALL_MOD": "NULL",
                                    "(No column name)": "212"
                                },
                                {
                                    "SZALL_DATUM": "2016-05-06",
                                    "SZALL_MOD": "NULL",
                                    "(No column name)": "224"
                                },
                                {
                                    "SZALL_DATUM": "2016-05-07",
                                    "SZALL_MOD": "NULL",
                                    "(No column name)": "210"
                                },
                                {
                                    "SZALL_DATUM": "2016-05-08",
                                    "SZALL_MOD": "NULL",
                                    "(No column name)": "232"
                                },
                                {
                                    "SZALL_DATUM": "2016-05-09",
                                    "SZALL_MOD": "NULL",
                                    "(No column name)": "269"
                                },
                                {
                                    "SZALL_DATUM": "2016-05-10",
                                    "SZALL_MOD": "NULL",
                                    "(No column name)": "211"
                                },
                                {
                                    "SZALL_DATUM": "2016-05-11",
                                    "SZALL_MOD": "NULL",
                                    "(No column name)": "214"
                                },
                                {
                                    "SZALL_DATUM": "2016-05-12",
                                    "SZALL_MOD": "NULL",
                                    "(No column name)": "234"
                                },
                                {
                                    "SZALL_DATUM": "2016-05-13",
                                    "SZALL_MOD": "NULL",
                                    "(No column name)": "183"
                                },
                                {
                                    "SZALL_DATUM": "2016-05-14",
                                    "SZALL_MOD": "NULL",
                                    "(No column name)": "188"
                                },
                                {
                                    "SZALL_DATUM": "2016-05-15",
                                    "SZALL_MOD": "NULL",
                                    "(No column name)": "144"
                                },
                                {
                                    "SZALL_DATUM": "2016-05-16",
                                    "SZALL_MOD": "NULL",
                                    "(No column name)": "198"
                                },
                                {
                                    "SZALL_DATUM": "2016-05-17",
                                    "SZALL_MOD": "NULL",
                                    "(No column name)": "223"
                                },
                                {
                                    "SZALL_DATUM": "2016-05-18",
                                    "SZALL_MOD": "NULL",
                                    "(No column name)": "177"
                                },
                                {
                                    "SZALL_DATUM": "2016-05-19",
                                    "SZALL_MOD": "NULL",
                                    "(No column name)": "211"
                                },
                                {
                                    "SZALL_DATUM": "2016-05-20",
                                    "SZALL_MOD": "NULL",
                                    "(No column name)": "207"
                                },
                                {
                                    "SZALL_DATUM": "2016-05-21",
                                    "SZALL_MOD": "NULL",
                                    "(No column name)": "209"
                                },
                                {
                                    "SZALL_DATUM": "2016-05-22",
                                    "SZALL_MOD": "NULL",
                                    "(No column name)": "160"
                                },
                                {
                                    "SZALL_DATUM": "2016-05-23",
                                    "SZALL_MOD": "NULL",
                                    "(No column name)": "208"
                                },
                                {
                                    "SZALL_DATUM": "2016-05-24",
                                    "SZALL_MOD": "NULL",
                                    "(No column name)": "211"
                                },
                                {
                                    "SZALL_DATUM": "2016-05-25",
                                    "SZALL_MOD": "NULL",
                                    "(No column name)": "230"
                                },
                                {
                                    "SZALL_DATUM": "2016-05-26",
                                    "SZALL_MOD": "NULL",
                                    "(No column name)": "141"
                                },
                                {
                                    "SZALL_DATUM": "2016-05-27",
                                    "SZALL_MOD": "NULL",
                                    "(No column name)": "234"
                                },
                                {
                                    "SZALL_DATUM": "2016-05-28",
                                    "SZALL_MOD": "NULL",
                                    "(No column name)": "155"
                                },
                                {
                                    "SZALL_DATUM": "2016-05-29",
                                    "SZALL_MOD": "NULL",
                                    "(No column name)": "216"
                                },
                                {
                                    "SZALL_DATUM": "2016-05-30",
                                    "SZALL_MOD": "NULL",
                                    "(No column name)": "187"
                                },
                                {
                                    "SZALL_DATUM": "2016-05-31",
                                    "SZALL_MOD": "NULL",
                                    "(No column name)": "242"
                                },
                                {
                                    "SZALL_DATUM": "2016-06-01",
                                    "SZALL_MOD": "NULL",
                                    "(No column name)": "212"
                                },
                                {
                                    "SZALL_DATUM": "2016-06-02",
                                    "SZALL_MOD": "NULL",
                                    "(No column name)": "201"
                                },
                                {
                                    "SZALL_DATUM": "2016-06-03",
                                    "SZALL_MOD": "NULL",
                                    "(No column name)": "190"
                                },
                                {
                                    "SZALL_DATUM": "2016-06-04",
                                    "SZALL_MOD": "NULL",
                                    "(No column name)": "212"
                                },
                                {
                                    "SZALL_DATUM": "2016-06-05",
                                    "SZALL_MOD": "NULL",
                                    "(No column name)": "172"
                                },
                                {
                                    "SZALL_DATUM": "2016-06-06",
                                    "SZALL_MOD": "NULL",
                                    "(No column name)": "231"
                                },
                                {
                                    "SZALL_DATUM": "2016-06-07",
                                    "SZALL_MOD": "NULL",
                                    "(No column name)": "227"
                                },
                                {
                                    "SZALL_DATUM": "2016-06-08",
                                    "SZALL_MOD": "NULL",
                                    "(No column name)": "218"
                                },
                                {
                                    "SZALL_DATUM": "2016-06-09",
                                    "SZALL_MOD": "NULL",
                                    "(No column name)": "211"
                                },
                                {
                                    "SZALL_DATUM": "2016-06-10",
                                    "SZALL_MOD": "NULL",
                                    "(No column name)": "229"
                                },
                                {
                                    "SZALL_DATUM": "2016-06-11",
                                    "SZALL_MOD": "NULL",
                                    "(No column name)": "260"
                                },
                                {
                                    "SZALL_DATUM": "2016-06-12",
                                    "SZALL_MOD": "NULL",
                                    "(No column name)": "222"
                                },
                                {
                                    "SZALL_DATUM": "2016-06-13",
                                    "SZALL_MOD": "NULL",
                                    "(No column name)": "170"
                                },
                                {
                                    "SZALL_DATUM": "2016-06-14",
                                    "SZALL_MOD": "NULL",
                                    "(No column name)": "205"
                                },
                                {
                                    "SZALL_DATUM": "2016-06-15",
                                    "SZALL_MOD": "NULL",
                                    "(No column name)": "242"
                                },
                                {
                                    "SZALL_DATUM": "2016-06-16",
                                    "SZALL_MOD": "NULL",
                                    "(No column name)": "168"
                                },
                                {
                                    "SZALL_DATUM": "2016-06-17",
                                    "SZALL_MOD": "NULL",
                                    "(No column name)": "232"
                                },
                                {
                                    "SZALL_DATUM": "2016-06-18",
                                    "SZALL_MOD": "NULL",
                                    "(No column name)": "164"
                                },
                                {
                                    "SZALL_DATUM": "2016-06-19",
                                    "SZALL_MOD": "NULL",
                                    "(No column name)": "240"
                                },
                                {
                                    "SZALL_DATUM": "2016-06-20",
                                    "SZALL_MOD": "NULL",
                                    "(No column name)": "204"
                                },
                                {
                                    "SZALL_DATUM": "2016-06-21",
                                    "SZALL_MOD": "NULL",
                                    "(No column name)": "171"
                                },
                                {
                                    "SZALL_DATUM": "2016-06-22",
                                    "SZALL_MOD": "NULL",
                                    "(No column name)": "190"
                                },
                                {
                                    "SZALL_DATUM": "2016-06-23",
                                    "SZALL_MOD": "NULL",
                                    "(No column name)": "195"
                                },
                                {
                                    "SZALL_DATUM": "2016-06-24",
                                    "SZALL_MOD": "NULL",
                                    "(No column name)": "224"
                                },
                                {
                                    "SZALL_DATUM": "2016-06-25",
                                    "SZALL_MOD": "NULL",
                                    "(No column name)": "215"
                                },
                                {
                                    "SZALL_DATUM": "2016-06-26",
                                    "SZALL_MOD": "NULL",
                                    "(No column name)": "252"
                                },
                                {
                                    "SZALL_DATUM": "2016-06-27",
                                    "SZALL_MOD": "NULL",
                                    "(No column name)": "165"
                                },
                                {
                                    "SZALL_DATUM": "2016-06-28",
                                    "SZALL_MOD": "NULL",
                                    "(No column name)": "229"
                                },
                                {
                                    "SZALL_DATUM": "2016-06-29",
                                    "SZALL_MOD": "NULL",
                                    "(No column name)": "218"
                                },
                                {
                                    "SZALL_DATUM": "2016-06-30",
                                    "SZALL_MOD": "NULL",
                                    "(No column name)": "217"
                                },
                                {
                                    "SZALL_DATUM": "2016-07-01",
                                    "SZALL_MOD": "NULL",
                                    "(No column name)": "203"
                                },
                                {
                                    "SZALL_DATUM": "2016-07-02",
                                    "SZALL_MOD": "NULL",
                                    "(No column name)": "202"
                                },
                                {
                                    "SZALL_DATUM": "2016-07-03",
                                    "SZALL_MOD": "NULL",
                                    "(No column name)": "227"
                                },
                                {
                                    "SZALL_DATUM": "2016-07-04",
                                    "SZALL_MOD": "NULL",
                                    "(No column name)": "282"
                                },
                                {
                                    "SZALL_DATUM": "2016-07-05",
                                    "SZALL_MOD": "NULL",
                                    "(No column name)": "200"
                                },
                                {
                                    "SZALL_DATUM": "2016-07-06",
                                    "SZALL_MOD": "NULL",
                                    "(No column name)": "200"
                                },
                                {
                                    "SZALL_DATUM": "2016-07-07",
                                    "SZALL_MOD": "NULL",
                                    "(No column name)": "143"
                                },
                                {
                                    "SZALL_DATUM": "2016-07-08",
                                    "SZALL_MOD": "NULL",
                                    "(No column name)": "196"
                                },
                                {
                                    "SZALL_DATUM": "2016-07-09",
                                    "SZALL_MOD": "NULL",
                                    "(No column name)": "222"
                                },
                                {
                                    "SZALL_DATUM": "2016-07-10",
                                    "SZALL_MOD": "NULL",
                                    "(No column name)": "200"
                                },
                                {
                                    "SZALL_DATUM": "2016-07-11",
                                    "SZALL_MOD": "NULL",
                                    "(No column name)": "248"
                                },
                                {
                                    "SZALL_DATUM": "2016-07-12",
                                    "SZALL_MOD": "NULL",
                                    "(No column name)": "224"
                                },
                                {
                                    "SZALL_DATUM": "2016-07-13",
                                    "SZALL_MOD": "NULL",
                                    "(No column name)": "229"
                                },
                                {
                                    "SZALL_DATUM": "2016-07-14",
                                    "SZALL_MOD": "NULL",
                                    "(No column name)": "179"
                                },
                                {
                                    "SZALL_DATUM": "2016-07-15",
                                    "SZALL_MOD": "NULL",
                                    "(No column name)": "195"
                                },
                                {
                                    "SZALL_DATUM": "2016-07-16",
                                    "SZALL_MOD": "NULL",
                                    "(No column name)": "196"
                                },
                                {
                                    "SZALL_DATUM": "2016-07-17",
                                    "SZALL_MOD": "NULL",
                                    "(No column name)": "166"
                                },
                                {
                                    "SZALL_DATUM": "2016-07-18",
                                    "SZALL_MOD": "NULL",
                                    "(No column name)": "185"
                                },
                                {
                                    "SZALL_DATUM": "2016-07-19",
                                    "SZALL_MOD": "NULL",
                                    "(No column name)": "267"
                                },
                                {
                                    "SZALL_DATUM": "2016-07-20",
                                    "SZALL_MOD": "NULL",
                                    "(No column name)": "199"
                                },
                                {
                                    "SZALL_DATUM": "2016-07-21",
                                    "SZALL_MOD": "NULL",
                                    "(No column name)": "224"
                                },
                                {
                                    "SZALL_DATUM": "2016-07-22",
                                    "SZALL_MOD": "NULL",
                                    "(No column name)": "206"
                                },
                                {
                                    "SZALL_DATUM": "2016-07-23",
                                    "SZALL_MOD": "NULL",
                                    "(No column name)": "162"
                                },
                                {
                                    "SZALL_DATUM": "2016-07-24",
                                    "SZALL_MOD": "NULL",
                                    "(No column name)": "178"
                                },
                                {
                                    "SZALL_DATUM": "2016-07-25",
                                    "SZALL_MOD": "NULL",
                                    "(No column name)": "173"
                                },
                                {
                                    "SZALL_DATUM": "2016-07-26",
                                    "SZALL_MOD": "NULL",
                                    "(No column name)": "202"
                                },
                                {
                                    "SZALL_DATUM": "2016-07-27",
                                    "SZALL_MOD": "NULL",
                                    "(No column name)": "220"
                                },
                                {
                                    "SZALL_DATUM": "2016-07-28",
                                    "SZALL_MOD": "NULL",
                                    "(No column name)": "172"
                                },
                                {
                                    "SZALL_DATUM": "2016-07-29",
                                    "SZALL_MOD": "NULL",
                                    "(No column name)": "228"
                                },
                                {
                                    "SZALL_DATUM": "2016-07-30",
                                    "SZALL_MOD": "NULL",
                                    "(No column name)": "172"
                                },
                                {
                                    "SZALL_DATUM": "2016-07-31",
                                    "SZALL_MOD": "NULL",
                                    "(No column name)": "263"
                                },
                                {
                                    "SZALL_DATUM": "2016-08-01",
                                    "SZALL_MOD": "NULL",
                                    "(No column name)": "218"
                                },
                                {
                                    "SZALL_DATUM": "2016-08-02",
                                    "SZALL_MOD": "NULL",
                                    "(No column name)": "181"
                                },
                                {
                                    "SZALL_DATUM": "2016-08-03",
                                    "SZALL_MOD": "NULL",
                                    "(No column name)": "200"
                                },
                                {
                                    "SZALL_DATUM": "2016-08-04",
                                    "SZALL_MOD": "NULL",
                                    "(No column name)": "191"
                                },
                                {
                                    "SZALL_DATUM": "2016-08-05",
                                    "SZALL_MOD": "NULL",
                                    "(No column name)": "220"
                                },
                                {
                                    "SZALL_DATUM": "2016-08-06",
                                    "SZALL_MOD": "NULL",
                                    "(No column name)": "193"
                                },
                                {
                                    "SZALL_DATUM": "2016-08-07",
                                    "SZALL_MOD": "NULL",
                                    "(No column name)": "180"
                                },
                                {
                                    "SZALL_DATUM": "2016-08-08",
                                    "SZALL_MOD": "NULL",
                                    "(No column name)": "179"
                                },
                                {
                                    "SZALL_DATUM": "2016-08-09",
                                    "SZALL_MOD": "NULL",
                                    "(No column name)": "244"
                                },
                                {
                                    "SZALL_DATUM": "2016-08-10",
                                    "SZALL_MOD": "NULL",
                                    "(No column name)": "219"
                                },
                                {
                                    "SZALL_DATUM": "2016-08-11",
                                    "SZALL_MOD": "NULL",
                                    "(No column name)": "204"
                                },
                                {
                                    "SZALL_DATUM": "2016-08-12",
                                    "SZALL_MOD": "NULL",
                                    "(No column name)": "234"
                                },
                                {
                                    "SZALL_DATUM": "2016-08-13",
                                    "SZALL_MOD": "NULL",
                                    "(No column name)": "265"
                                },
                                {
                                    "SZALL_DATUM": "2016-08-14",
                                    "SZALL_MOD": "NULL",
                                    "(No column name)": "226"
                                },
                                {
                                    "SZALL_DATUM": "2016-08-15",
                                    "SZALL_MOD": "NULL",
                                    "(No column name)": "280"
                                },
                                {
                                    "SZALL_DATUM": "2016-08-16",
                                    "SZALL_MOD": "NULL",
                                    "(No column name)": "177"
                                },
                                {
                                    "SZALL_DATUM": "2016-08-17",
                                    "SZALL_MOD": "NULL",
                                    "(No column name)": "204"
                                },
                                {
                                    "SZALL_DATUM": "2016-08-18",
                                    "SZALL_MOD": "NULL",
                                    "(No column name)": "194"
                                },
                                {
                                    "SZALL_DATUM": "2016-08-19",
                                    "SZALL_MOD": "NULL",
                                    "(No column name)": "184"
                                },
                                {
                                    "SZALL_DATUM": "2016-08-20",
                                    "SZALL_MOD": "NULL",
                                    "(No column name)": "220"
                                },
                                {
                                    "SZALL_DATUM": "2016-08-21",
                                    "SZALL_MOD": "NULL",
                                    "(No column name)": "203"
                                },
                                {
                                    "SZALL_DATUM": "2016-08-22",
                                    "SZALL_MOD": "NULL",
                                    "(No column name)": "153"
                                },
                                {
                                    "SZALL_DATUM": "2016-08-23",
                                    "SZALL_MOD": "NULL",
                                    "(No column name)": "194"
                                },
                                {
                                    "SZALL_DATUM": "2016-08-24",
                                    "SZALL_MOD": "NULL",
                                    "(No column name)": "259"
                                },
                                {
                                    "SZALL_DATUM": "2016-08-25",
                                    "SZALL_MOD": "NULL",
                                    "(No column name)": "218"
                                },
                                {
                                    "SZALL_DATUM": "2016-08-26",
                                    "SZALL_MOD": "NULL",
                                    "(No column name)": "214"
                                },
                                {
                                    "SZALL_DATUM": "2016-08-27",
                                    "SZALL_MOD": "NULL",
                                    "(No column name)": "249"
                                },
                                {
                                    "SZALL_DATUM": "2016-08-28",
                                    "SZALL_MOD": "NULL",
                                    "(No column name)": "250"
                                },
                                {
                                    "SZALL_DATUM": "2016-08-29",
                                    "SZALL_MOD": "NULL",
                                    "(No column name)": "180"
                                },
                                {
                                    "SZALL_DATUM": "2016-08-30",
                                    "SZALL_MOD": "NULL",
                                    "(No column name)": "141"
                                },
                                {
                                    "SZALL_DATUM": "2016-08-31",
                                    "SZALL_MOD": "NULL",
                                    "(No column name)": "175"
                                },
                                {
                                    "SZALL_DATUM": "2016-09-01",
                                    "SZALL_MOD": "NULL",
                                    "(No column name)": "171"
                                },
                                {
                                    "SZALL_DATUM": "2016-09-02",
                                    "SZALL_MOD": "NULL",
                                    "(No column name)": "231"
                                },
                                {
                                    "SZALL_DATUM": "2016-09-03",
                                    "SZALL_MOD": "NULL",
                                    "(No column name)": "234"
                                },
                                {
                                    "SZALL_DATUM": "2016-09-04",
                                    "SZALL_MOD": "NULL",
                                    "(No column name)": "251"
                                },
                                {
                                    "SZALL_DATUM": "2016-09-05",
                                    "SZALL_MOD": "NULL",
                                    "(No column name)": "204"
                                },
                                {
                                    "SZALL_DATUM": "2016-09-06",
                                    "SZALL_MOD": "NULL",
                                    "(No column name)": "247"
                                },
                                {
                                    "SZALL_DATUM": "2016-09-07",
                                    "SZALL_MOD": "NULL",
                                    "(No column name)": "239"
                                },
                                {
                                    "SZALL_DATUM": "2016-09-08",
                                    "SZALL_MOD": "NULL",
                                    "(No column name)": "224"
                                },
                                {
                                    "SZALL_DATUM": "2016-09-09",
                                    "SZALL_MOD": "NULL",
                                    "(No column name)": "213"
                                },
                                {
                                    "SZALL_DATUM": "2016-09-10",
                                    "SZALL_MOD": "NULL",
                                    "(No column name)": "196"
                                },
                                {
                                    "SZALL_DATUM": "2016-09-11",
                                    "SZALL_MOD": "NULL",
                                    "(No column name)": "247"
                                },
                                {
                                    "SZALL_DATUM": "2016-09-12",
                                    "SZALL_MOD": "NULL",
                                    "(No column name)": "160"
                                },
                                {
                                    "SZALL_DATUM": "2016-09-13",
                                    "SZALL_MOD": "NULL",
                                    "(No column name)": "214"
                                },
                                {
                                    "SZALL_DATUM": "2016-09-14",
                                    "SZALL_MOD": "NULL",
                                    "(No column name)": "249"
                                },
                                {
                                    "SZALL_DATUM": "2016-09-15",
                                    "SZALL_MOD": "NULL",
                                    "(No column name)": "261"
                                },
                                {
                                    "SZALL_DATUM": "2016-09-16",
                                    "SZALL_MOD": "NULL",
                                    "(No column name)": "190"
                                },
                                {
                                    "SZALL_DATUM": "2016-09-17",
                                    "SZALL_MOD": "NULL",
                                    "(No column name)": "194"
                                },
                                {
                                    "SZALL_DATUM": "2016-09-18",
                                    "SZALL_MOD": "NULL",
                                    "(No column name)": "257"
                                },
                                {
                                    "SZALL_DATUM": "2016-09-19",
                                    "SZALL_MOD": "NULL",
                                    "(No column name)": "163"
                                },
                                {
                                    "SZALL_DATUM": "2016-09-20",
                                    "SZALL_MOD": "NULL",
                                    "(No column name)": "213"
                                },
                                {
                                    "SZALL_DATUM": "2016-09-21",
                                    "SZALL_MOD": "NULL",
                                    "(No column name)": "134"
                                },
                                {
                                    "SZALL_DATUM": "2016-09-22",
                                    "SZALL_MOD": "NULL",
                                    "(No column name)": "176"
                                },
                                {
                                    "SZALL_DATUM": "2016-09-23",
                                    "SZALL_MOD": "NULL",
                                    "(No column name)": "185"
                                },
                                {
                                    "SZALL_DATUM": "2016-09-24",
                                    "SZALL_MOD": "NULL",
                                    "(No column name)": "176"
                                },
                                {
                                    "SZALL_DATUM": "2016-09-25",
                                    "SZALL_MOD": "NULL",
                                    "(No column name)": "192"
                                },
                                {
                                    "SZALL_DATUM": "2016-09-26",
                                    "SZALL_MOD": "NULL",
                                    "(No column name)": "202"
                                },
                                {
                                    "SZALL_DATUM": "2016-09-27",
                                    "SZALL_MOD": "NULL",
                                    "(No column name)": "244"
                                },
                                {
                                    "SZALL_DATUM": "2016-09-28",
                                    "SZALL_MOD": "NULL",
                                    "(No column name)": "220"
                                },
                                {
                                    "SZALL_DATUM": "2016-09-29",
                                    "SZALL_MOD": "NULL",
                                    "(No column name)": "160"
                                },
                                {
                                    "SZALL_DATUM": "2016-09-30",
                                    "SZALL_MOD": "NULL",
                                    "(No column name)": "257"
                                },
                                {
                                    "SZALL_DATUM": "2016-10-01",
                                    "SZALL_MOD": "NULL",
                                    "(No column name)": "215"
                                },
                                {
                                    "SZALL_DATUM": "2016-10-02",
                                    "SZALL_MOD": "NULL",
                                    "(No column name)": "204"
                                },
                                {
                                    "SZALL_DATUM": "2016-10-03",
                                    "SZALL_MOD": "NULL",
                                    "(No column name)": "189"
                                },
                                {
                                    "SZALL_DATUM": "2016-10-04",
                                    "SZALL_MOD": "NULL",
                                    "(No column name)": "191"
                                },
                                {
                                    "SZALL_DATUM": "2016-10-05",
                                    "SZALL_MOD": "NULL",
                                    "(No column name)": "232"
                                },
                                {
                                    "SZALL_DATUM": "2016-10-06",
                                    "SZALL_MOD": "NULL",
                                    "(No column name)": "198"
                                },
                                {
                                    "SZALL_DATUM": "2016-10-07",
                                    "SZALL_MOD": "NULL",
                                    "(No column name)": "183"
                                },
                                {
                                    "SZALL_DATUM": "2016-10-08",
                                    "SZALL_MOD": "NULL",
                                    "(No column name)": "212"
                                },
                                {
                                    "SZALL_DATUM": "2016-10-09",
                                    "SZALL_MOD": "NULL",
                                    "(No column name)": "241"
                                },
                                {
                                    "SZALL_DATUM": "2016-10-10",
                                    "SZALL_MOD": "NULL",
                                    "(No column name)": "188"
                                },
                                {
                                    "SZALL_DATUM": "2016-10-11",
                                    "SZALL_MOD": "NULL",
                                    "(No column name)": "227"
                                },
                                {
                                    "SZALL_DATUM": "2016-10-12",
                                    "SZALL_MOD": "NULL",
                                    "(No column name)": "265"
                                },
                                {
                                    "SZALL_DATUM": "2016-10-13",
                                    "SZALL_MOD": "NULL",
                                    "(No column name)": "247"
                                },
                                {
                                    "SZALL_DATUM": "2016-10-14",
                                    "SZALL_MOD": "NULL",
                                    "(No column name)": "188"
                                },
                                {
                                    "SZALL_DATUM": "2016-10-15",
                                    "SZALL_MOD": "NULL",
                                    "(No column name)": "237"
                                },
                                {
                                    "SZALL_DATUM": "2016-10-16",
                                    "SZALL_MOD": "NULL",
                                    "(No column name)": "190"
                                },
                                {
                                    "SZALL_DATUM": "2016-10-17",
                                    "SZALL_MOD": "NULL",
                                    "(No column name)": "286"
                                },
                                {
                                    "SZALL_DATUM": "2016-10-18",
                                    "SZALL_MOD": "NULL",
                                    "(No column name)": "187"
                                },
                                {
                                    "SZALL_DATUM": "2016-10-19",
                                    "SZALL_MOD": "NULL",
                                    "(No column name)": "234"
                                },
                                {
                                    "SZALL_DATUM": "2016-10-20",
                                    "SZALL_MOD": "NULL",
                                    "(No column name)": "173"
                                },
                                {
                                    "SZALL_DATUM": "2016-10-21",
                                    "SZALL_MOD": "NULL",
                                    "(No column name)": "258"
                                },
                                {
                                    "SZALL_DATUM": "2016-10-22",
                                    "SZALL_MOD": "NULL",
                                    "(No column name)": "243"
                                },
                                {
                                    "SZALL_DATUM": "2016-10-23",
                                    "SZALL_MOD": "NULL",
                                    "(No column name)": "228"
                                },
                                {
                                    "SZALL_DATUM": "2016-10-24",
                                    "SZALL_MOD": "NULL",
                                    "(No column name)": "141"
                                },
                                {
                                    "SZALL_DATUM": "2016-10-25",
                                    "SZALL_MOD": "NULL",
                                    "(No column name)": "285"
                                },
                                {
                                    "SZALL_DATUM": "2016-10-26",
                                    "SZALL_MOD": "NULL",
                                    "(No column name)": "185"
                                },
                                {
                                    "SZALL_DATUM": "2016-10-27",
                                    "SZALL_MOD": "NULL",
                                    "(No column name)": "208"
                                },
                                {
                                    "SZALL_DATUM": "2016-10-28",
                                    "SZALL_MOD": "NULL",
                                    "(No column name)": "202"
                                },
                                {
                                    "SZALL_DATUM": "2016-10-29",
                                    "SZALL_MOD": "NULL",
                                    "(No column name)": "184"
                                },
                                {
                                    "SZALL_DATUM": "2016-10-30",
                                    "SZALL_MOD": "NULL",
                                    "(No column name)": "282"
                                },
                                {
                                    "SZALL_DATUM": "2016-10-31",
                                    "SZALL_MOD": "NULL",
                                    "(No column name)": "242"
                                },
                                {
                                    "SZALL_DATUM": "2016-11-01",
                                    "SZALL_MOD": "NULL",
                                    "(No column name)": "198"
                                },
                                {
                                    "SZALL_DATUM": "2016-11-02",
                                    "SZALL_MOD": "NULL",
                                    "(No column name)": "173"
                                },
                                {
                                    "SZALL_DATUM": "2016-11-03",
                                    "SZALL_MOD": "NULL",
                                    "(No column name)": "193"
                                },
                                {
                                    "SZALL_DATUM": "2016-11-04",
                                    "SZALL_MOD": "NULL",
                                    "(No column name)": "173"
                                },
                                {
                                    "SZALL_DATUM": "2016-11-05",
                                    "SZALL_MOD": "NULL",
                                    "(No column name)": "227"
                                },
                                {
                                    "SZALL_DATUM": "2016-11-06",
                                    "SZALL_MOD": "NULL",
                                    "(No column name)": "220"
                                },
                                {
                                    "SZALL_DATUM": "2016-11-07",
                                    "SZALL_MOD": "NULL",
                                    "(No column name)": "174"
                                },
                                {
                                    "SZALL_DATUM": "2016-11-08",
                                    "SZALL_MOD": "NULL",
                                    "(No column name)": "215"
                                },
                                {
                                    "SZALL_DATUM": "2016-11-09",
                                    "SZALL_MOD": "NULL",
                                    "(No column name)": "160"
                                },
                                {
                                    "SZALL_DATUM": "2016-11-10",
                                    "SZALL_MOD": "NULL",
                                    "(No column name)": "193"
                                },
                                {
                                    "SZALL_DATUM": "2016-11-11",
                                    "SZALL_MOD": "NULL",
                                    "(No column name)": "182"
                                },
                                {
                                    "SZALL_DATUM": "2016-11-12",
                                    "SZALL_MOD": "NULL",
                                    "(No column name)": "268"
                                },
                                {
                                    "SZALL_DATUM": "2016-11-13",
                                    "SZALL_MOD": "NULL",
                                    "(No column name)": "255"
                                },
                                {
                                    "SZALL_DATUM": "2016-11-14",
                                    "SZALL_MOD": "NULL",
                                    "(No column name)": "278"
                                },
                                {
                                    "SZALL_DATUM": "2016-11-15",
                                    "SZALL_MOD": "NULL",
                                    "(No column name)": "179"
                                },
                                {
                                    "SZALL_DATUM": "2016-11-16",
                                    "SZALL_MOD": "NULL",
                                    "(No column name)": "243"
                                },
                                {
                                    "SZALL_DATUM": "2016-11-17",
                                    "SZALL_MOD": "NULL",
                                    "(No column name)": "189"
                                },
                                {
                                    "SZALL_DATUM": "2016-11-18",
                                    "SZALL_MOD": "NULL",
                                    "(No column name)": "197"
                                },
                                {
                                    "SZALL_DATUM": "2016-11-19",
                                    "SZALL_MOD": "NULL",
                                    "(No column name)": "196"
                                },
                                {
                                    "SZALL_DATUM": "2016-11-20",
                                    "SZALL_MOD": "NULL",
                                    "(No column name)": "207"
                                },
                                {
                                    "SZALL_DATUM": "2016-11-21",
                                    "SZALL_MOD": "NULL",
                                    "(No column name)": "188"
                                },
                                {
                                    "SZALL_DATUM": "2016-11-22",
                                    "SZALL_MOD": "NULL",
                                    "(No column name)": "193"
                                },
                                {
                                    "SZALL_DATUM": "2016-11-23",
                                    "SZALL_MOD": "NULL",
                                    "(No column name)": "170"
                                },
                                {
                                    "SZALL_DATUM": "2016-11-24",
                                    "SZALL_MOD": "NULL",
                                    "(No column name)": "190"
                                },
                                {
                                    "SZALL_DATUM": "2016-11-25",
                                    "SZALL_MOD": "NULL",
                                    "(No column name)": "178"
                                },
                                {
                                    "SZALL_DATUM": "2016-11-26",
                                    "SZALL_MOD": "NULL",
                                    "(No column name)": "251"
                                },
                                {
                                    "SZALL_DATUM": "2016-11-27",
                                    "SZALL_MOD": "NULL",
                                    "(No column name)": "243"
                                },
                                {
                                    "SZALL_DATUM": "2016-11-28",
                                    "SZALL_MOD": "NULL",
                                    "(No column name)": "244"
                                },
                                {
                                    "SZALL_DATUM": "2016-11-29",
                                    "SZALL_MOD": "NULL",
                                    "(No column name)": "230"
                                },
                                {
                                    "SZALL_DATUM": "2016-11-30",
                                    "SZALL_MOD": "NULL",
                                    "(No column name)": "165"
                                },
                                {
                                    "SZALL_DATUM": "2016-12-01",
                                    "SZALL_MOD": "NULL",
                                    "(No column name)": "258"
                                },
                                {
                                    "SZALL_DATUM": "2016-12-02",
                                    "SZALL_MOD": "NULL",
                                    "(No column name)": "158"
                                },
                                {
                                    "SZALL_DATUM": "2016-12-03",
                                    "SZALL_MOD": "NULL",
                                    "(No column name)": "167"
                                },
                                {
                                    "SZALL_DATUM": "2016-12-04",
                                    "SZALL_MOD": "NULL",
                                    "(No column name)": "248"
                                },
                                {
                                    "SZALL_DATUM": "2016-12-05",
                                    "SZALL_MOD": "NULL",
                                    "(No column name)": "215"
                                },
                                {
                                    "SZALL_DATUM": "2016-12-06",
                                    "SZALL_MOD": "NULL",
                                    "(No column name)": "190"
                                },
                                {
                                    "SZALL_DATUM": "2016-12-07",
                                    "SZALL_MOD": "NULL",
                                    "(No column name)": "205"
                                },
                                {
                                    "SZALL_DATUM": "2016-12-08",
                                    "SZALL_MOD": "NULL",
                                    "(No column name)": "222"
                                },
                                {
                                    "SZALL_DATUM": "2016-12-09",
                                    "SZALL_MOD": "NULL",
                                    "(No column name)": "229"
                                },
                                {
                                    "SZALL_DATUM": "2016-12-10",
                                    "SZALL_MOD": "NULL",
                                    "(No column name)": "223"
                                },
                                {
                                    "SZALL_DATUM": "2016-12-11",
                                    "SZALL_MOD": "NULL",
                                    "(No column name)": "207"
                                },
                                {
                                    "SZALL_DATUM": "2016-12-12",
                                    "SZALL_MOD": "NULL",
                                    "(No column name)": "207"
                                },
                                {
                                    "SZALL_DATUM": "2016-12-13",
                                    "SZALL_MOD": "NULL",
                                    "(No column name)": "220"
                                },
                                {
                                    "SZALL_DATUM": "2016-12-14",
                                    "SZALL_MOD": "NULL",
                                    "(No column name)": "196"
                                },
                                {
                                    "SZALL_DATUM": "2016-12-15",
                                    "SZALL_MOD": "NULL",
                                    "(No column name)": "178"
                                },
                                {
                                    "SZALL_DATUM": "2016-12-16",
                                    "SZALL_MOD": "NULL",
                                    "(No column name)": "174"
                                },
                                {
                                    "SZALL_DATUM": "2016-12-17",
                                    "SZALL_MOD": "NULL",
                                    "(No column name)": "198"
                                },
                                {
                                    "SZALL_DATUM": "2016-12-18",
                                    "SZALL_MOD": "NULL",
                                    "(No column name)": "156"
                                },
                                {
                                    "SZALL_DATUM": "2016-12-19",
                                    "SZALL_MOD": "NULL",
                                    "(No column name)": "147"
                                },
                                {
                                    "SZALL_DATUM": "2016-12-20",
                                    "SZALL_MOD": "NULL",
                                    "(No column name)": "210"
                                },
                                {
                                    "SZALL_DATUM": "2016-12-21",
                                    "SZALL_MOD": "NULL",
                                    "(No column name)": "263"
                                },
                                {
                                    "SZALL_DATUM": "2016-12-22",
                                    "SZALL_MOD": "NULL",
                                    "(No column name)": "166"
                                },
                                {
                                    "SZALL_DATUM": "2016-12-23",
                                    "SZALL_MOD": "NULL",
                                    "(No column name)": "215"
                                },
                                {
                                    "SZALL_DATUM": "2016-12-24",
                                    "SZALL_MOD": "NULL",
                                    "(No column name)": "160"
                                },
                                {
                                    "SZALL_DATUM": "2016-12-25",
                                    "SZALL_MOD": "NULL",
                                    "(No column name)": "215"
                                },
                                {
                                    "SZALL_DATUM": "2016-12-26",
                                    "SZALL_MOD": "NULL",
                                    "(No column name)": "258"
                                },
                                {
                                    "SZALL_DATUM": "2016-12-27",
                                    "SZALL_MOD": "NULL",
                                    "(No column name)": "260"
                                },
                                {
                                    "SZALL_DATUM": "2016-12-28",
                                    "SZALL_MOD": "NULL",
                                    "(No column name)": "170"
                                },
                                {
                                    "SZALL_DATUM": "2016-12-29",
                                    "SZALL_MOD": "NULL",
                                    "(No column name)": "289"
                                },
                                {
                                    "SZALL_DATUM": "2016-12-30",
                                    "SZALL_MOD": "NULL",
                                    "(No column name)": "202"
                                },
                                {
                                    "SZALL_DATUM": "2016-12-31",
                                    "SZALL_MOD": "NULL",
                                    "(No column name)": "199"
                                },
                                {
                                    "SZALL_DATUM": "2017-01-01",
                                    "SZALL_MOD": "NULL",
                                    "(No column name)": "195"
                                },
                                {
                                    "SZALL_DATUM": "2017-01-02",
                                    "SZALL_MOD": "NULL",
                                    "(No column name)": "185"
                                },
                                {
                                    "SZALL_DATUM": "2017-01-03",
                                    "SZALL_MOD": "NULL",
                                    "(No column name)": "174"
                                },
                                {
                                    "SZALL_DATUM": "2017-01-04",
                                    "SZALL_MOD": "NULL",
                                    "(No column name)": "202"
                                },
                                {
                                    "SZALL_DATUM": "2017-01-05",
                                    "SZALL_MOD": "NULL",
                                    "(No column name)": "219"
                                },
                                {
                                    "SZALL_DATUM": "2017-01-06",
                                    "SZALL_MOD": "NULL",
                                    "(No column name)": "223"
                                },
                                {
                                    "SZALL_DATUM": "2017-01-07",
                                    "SZALL_MOD": "NULL",
                                    "(No column name)": "201"
                                },
                                {
                                    "SZALL_DATUM": "2017-01-08",
                                    "SZALL_MOD": "NULL",
                                    "(No column name)": "161"
                                },
                                {
                                    "SZALL_DATUM": "2017-01-09",
                                    "SZALL_MOD": "NULL",
                                    "(No column name)": "254"
                                },
                                {
                                    "SZALL_DATUM": "2017-01-10",
                                    "SZALL_MOD": "NULL",
                                    "(No column name)": "193"
                                },
                                {
                                    "SZALL_DATUM": "2017-01-11",
                                    "SZALL_MOD": "NULL",
                                    "(No column name)": "246"
                                },
                                {
                                    "SZALL_DATUM": "2017-01-12",
                                    "SZALL_MOD": "NULL",
                                    "(No column name)": "202"
                                },
                                {
                                    "SZALL_DATUM": "2017-01-13",
                                    "SZALL_MOD": "NULL",
                                    "(No column name)": "218"
                                },
                                {
                                    "SZALL_DATUM": "2017-01-14",
                                    "SZALL_MOD": "NULL",
                                    "(No column name)": "221"
                                },
                                {
                                    "SZALL_DATUM": "2017-01-15",
                                    "SZALL_MOD": "NULL",
                                    "(No column name)": "183"
                                },
                                {
                                    "SZALL_DATUM": "2017-01-16",
                                    "SZALL_MOD": "NULL",
                                    "(No column name)": "191"
                                },
                                {
                                    "SZALL_DATUM": "2017-01-17",
                                    "SZALL_MOD": "NULL",
                                    "(No column name)": "231"
                                },
                                {
                                    "SZALL_DATUM": "2017-01-18",
                                    "SZALL_MOD": "NULL",
                                    "(No column name)": "197"
                                },
                                {
                                    "SZALL_DATUM": "2017-01-19",
                                    "SZALL_MOD": "NULL",
                                    "(No column name)": "185"
                                },
                                {
                                    "SZALL_DATUM": "2017-01-20",
                                    "SZALL_MOD": "NULL",
                                    "(No column name)": "174"
                                },
                                {
                                    "SZALL_DATUM": "2017-01-21",
                                    "SZALL_MOD": "NULL",
                                    "(No column name)": "180"
                                },
                                {
                                    "SZALL_DATUM": "2017-01-22",
                                    "SZALL_MOD": "NULL",
                                    "(No column name)": "226"
                                },
                                {
                                    "SZALL_DATUM": "2017-01-23",
                                    "SZALL_MOD": "NULL",
                                    "(No column name)": "232"
                                },
                                {
                                    "SZALL_DATUM": "2017-01-24",
                                    "SZALL_MOD": "NULL",
                                    "(No column name)": "205"
                                },
                                {
                                    "SZALL_DATUM": "2017-01-25",
                                    "SZALL_MOD": "NULL",
                                    "(No column name)": "169"
                                },
                                {
                                    "SZALL_DATUM": "2017-01-26",
                                    "SZALL_MOD": "NULL",
                                    "(No column name)": "238"
                                },
                                {
                                    "SZALL_DATUM": "2017-01-27",
                                    "SZALL_MOD": "NULL",
                                    "(No column name)": "119"
                                },
                                {
                                    "SZALL_DATUM": "2017-01-28",
                                    "SZALL_MOD": "NULL",
                                    "(No column name)": "204"
                                },
                                {
                                    "SZALL_DATUM": "2017-01-29",
                                    "SZALL_MOD": "NULL",
                                    "(No column name)": "225"
                                },
                                {
                                    "SZALL_DATUM": "2017-01-30",
                                    "SZALL_MOD": "NULL",
                                    "(No column name)": "210"
                                },
                                {
                                    "SZALL_DATUM": "2017-01-31",
                                    "SZALL_MOD": "NULL",
                                    "(No column name)": "185"
                                },
                                {
                                    "SZALL_DATUM": "2017-02-01",
                                    "SZALL_MOD": "NULL",
                                    "(No column name)": "147"
                                },
                                {
                                    "SZALL_DATUM": "2017-02-02",
                                    "SZALL_MOD": "NULL",
                                    "(No column name)": "243"
                                },
                                {
                                    "SZALL_DATUM": "2017-02-03",
                                    "SZALL_MOD": "NULL",
                                    "(No column name)": "193"
                                },
                                {
                                    "SZALL_DATUM": "2017-02-04",
                                    "SZALL_MOD": "NULL",
                                    "(No column name)": "174"
                                },
                                {
                                    "SZALL_DATUM": "2017-02-05",
                                    "SZALL_MOD": "NULL",
                                    "(No column name)": "131"
                                },
                                {
                                    "SZALL_DATUM": "2017-02-06",
                                    "SZALL_MOD": "NULL",
                                    "(No column name)": "204"
                                },
                                {
                                    "SZALL_DATUM": "2017-02-07",
                                    "SZALL_MOD": "NULL",
                                    "(No column name)": "202"
                                },
                                {
                                    "SZALL_DATUM": "2017-02-08",
                                    "SZALL_MOD": "NULL",
                                    "(No column name)": "255"
                                },
                                {
                                    "SZALL_DATUM": "2017-02-09",
                                    "SZALL_MOD": "NULL",
                                    "(No column name)": "197"
                                },
                                {
                                    "SZALL_DATUM": "2017-02-10",
                                    "SZALL_MOD": "NULL",
                                    "(No column name)": "234"
                                },
                                {
                                    "SZALL_DATUM": "2017-02-11",
                                    "SZALL_MOD": "NULL",
                                    "(No column name)": "191"
                                },
                                {
                                    "SZALL_DATUM": "2017-02-12",
                                    "SZALL_MOD": "NULL",
                                    "(No column name)": "160"
                                },
                                {
                                    "SZALL_DATUM": "2017-02-13",
                                    "SZALL_MOD": "NULL",
                                    "(No column name)": "213"
                                },
                                {
                                    "SZALL_DATUM": "2017-02-14",
                                    "SZALL_MOD": "NULL",
                                    "(No column name)": "229"
                                },
                                {
                                    "SZALL_DATUM": "2017-02-15",
                                    "SZALL_MOD": "NULL",
                                    "(No column name)": "179"
                                },
                                {
                                    "SZALL_DATUM": "2017-02-16",
                                    "SZALL_MOD": "NULL",
                                    "(No column name)": "232"
                                },
                                {
                                    "SZALL_DATUM": "2017-02-17",
                                    "SZALL_MOD": "NULL",
                                    "(No column name)": "229"
                                },
                                {
                                    "SZALL_DATUM": "2017-02-18",
                                    "SZALL_MOD": "NULL",
                                    "(No column name)": "253"
                                },
                                {
                                    "SZALL_DATUM": "2017-02-19",
                                    "SZALL_MOD": "NULL",
                                    "(No column name)": "193"
                                },
                                {
                                    "SZALL_DATUM": "2017-02-20",
                                    "SZALL_MOD": "NULL",
                                    "(No column name)": "129"
                                },
                                {
                                    "SZALL_DATUM": "2017-02-21",
                                    "SZALL_MOD": "NULL",
                                    "(No column name)": "193"
                                },
                                {
                                    "SZALL_DATUM": "2017-02-22",
                                    "SZALL_MOD": "NULL",
                                    "(No column name)": "229"
                                },
                                {
                                    "SZALL_DATUM": "2017-02-23",
                                    "SZALL_MOD": "NULL",
                                    "(No column name)": "191"
                                },
                                {
                                    "SZALL_DATUM": "2017-02-24",
                                    "SZALL_MOD": "NULL",
                                    "(No column name)": "178"
                                },
                                {
                                    "SZALL_DATUM": "2017-02-25",
                                    "SZALL_MOD": "NULL",
                                    "(No column name)": "182"
                                },
                                {
                                    "SZALL_DATUM": "2017-02-26",
                                    "SZALL_MOD": "NULL",
                                    "(No column name)": "216"
                                },
                                {
                                    "SZALL_DATUM": "2017-02-27",
                                    "SZALL_MOD": "NULL",
                                    "(No column name)": "226"
                                },
                                {
                                    "SZALL_DATUM": "2017-02-28",
                                    "SZALL_MOD": "NULL",
                                    "(No column name)": "294"
                                },
                                {
                                    "SZALL_DATUM": "2017-03-01",
                                    "SZALL_MOD": "NULL",
                                    "(No column name)": "155"
                                },
                                {
                                    "SZALL_DATUM": "2017-03-02",
                                    "SZALL_MOD": "NULL",
                                    "(No column name)": "134"
                                },
                                {
                                    "SZALL_DATUM": "2017-03-03",
                                    "SZALL_MOD": "NULL",
                                    "(No column name)": "213"
                                },
                                {
                                    "SZALL_DATUM": "2017-03-04",
                                    "SZALL_MOD": "NULL",
                                    "(No column name)": "148"
                                },
                                {
                                    "SZALL_DATUM": "2017-03-05",
                                    "SZALL_MOD": "NULL",
                                    "(No column name)": "244"
                                },
                                {
                                    "SZALL_DATUM": "2017-03-06",
                                    "SZALL_MOD": "NULL",
                                    "(No column name)": "274"
                                },
                                {
                                    "SZALL_DATUM": "2017-03-07",
                                    "SZALL_MOD": "NULL",
                                    "(No column name)": "241"
                                },
                                {
                                    "SZALL_DATUM": "2017-03-08",
                                    "SZALL_MOD": "NULL",
                                    "(No column name)": "179"
                                },
                                {
                                    "SZALL_DATUM": "2017-03-09",
                                    "SZALL_MOD": "NULL",
                                    "(No column name)": "189"
                                },
                                {
                                    "SZALL_DATUM": "2017-03-10",
                                    "SZALL_MOD": "NULL",
                                    "(No column name)": "176"
                                },
                                {
                                    "SZALL_DATUM": "2017-03-11",
                                    "SZALL_MOD": "NULL",
                                    "(No column name)": "189"
                                },
                                {
                                    "SZALL_DATUM": "2017-03-12",
                                    "SZALL_MOD": "NULL",
                                    "(No column name)": "175"
                                },
                                {
                                    "SZALL_DATUM": "2017-03-13",
                                    "SZALL_MOD": "NULL",
                                    "(No column name)": "170"
                                },
                                {
                                    "SZALL_DATUM": "2017-03-14",
                                    "SZALL_MOD": "NULL",
                                    "(No column name)": "178"
                                },
                                {
                                    "SZALL_DATUM": "2017-03-15",
                                    "SZALL_MOD": "NULL",
                                    "(No column name)": "247"
                                },
                                {
                                    "SZALL_DATUM": "2017-03-16",
                                    "SZALL_MOD": "NULL",
                                    "(No column name)": "235"
                                },
                                {
                                    "SZALL_DATUM": "2017-03-17",
                                    "SZALL_MOD": "NULL",
                                    "(No column name)": "240"
                                },
                                {
                                    "SZALL_DATUM": "2017-03-18",
                                    "SZALL_MOD": "NULL",
                                    "(No column name)": "220"
                                },
                                {
                                    "SZALL_DATUM": "2017-03-19",
                                    "SZALL_MOD": "NULL",
                                    "(No column name)": "248"
                                },
                                {
                                    "SZALL_DATUM": "2017-03-20",
                                    "SZALL_MOD": "NULL",
                                    "(No column name)": "191"
                                },
                                {
                                    "SZALL_DATUM": "2017-03-21",
                                    "SZALL_MOD": "NULL",
                                    "(No column name)": "216"
                                },
                                {
                                    "SZALL_DATUM": "2017-03-22",
                                    "SZALL_MOD": "NULL",
                                    "(No column name)": "162"
                                },
                                {
                                    "SZALL_DATUM": "2017-03-23",
                                    "SZALL_MOD": "NULL",
                                    "(No column name)": "230"
                                },
                                {
                                    "SZALL_DATUM": "2017-03-24",
                                    "SZALL_MOD": "NULL",
                                    "(No column name)": "231"
                                },
                                {
                                    "SZALL_DATUM": "2017-03-25",
                                    "SZALL_MOD": "NULL",
                                    "(No column name)": "171"
                                },
                                {
                                    "SZALL_DATUM": "2017-03-26",
                                    "SZALL_MOD": "NULL",
                                    "(No column name)": "217"
                                },
                                {
                                    "SZALL_DATUM": "2017-03-27",
                                    "SZALL_MOD": "NULL",
                                    "(No column name)": "208"
                                },
                                {
                                    "SZALL_DATUM": "2017-03-28",
                                    "SZALL_MOD": "NULL",
                                    "(No column name)": "200"
                                },
                                {
                                    "SZALL_DATUM": "2017-03-29",
                                    "SZALL_MOD": "NULL",
                                    "(No column name)": "219"
                                },
                                {
                                    "SZALL_DATUM": "2017-03-30",
                                    "SZALL_MOD": "NULL",
                                    "(No column name)": "236"
                                },
                                {
                                    "SZALL_DATUM": "2017-03-31",
                                    "SZALL_MOD": "NULL",
                                    "(No column name)": "220"
                                },
                                {
                                    "SZALL_DATUM": "2017-04-01",
                                    "SZALL_MOD": "NULL",
                                    "(No column name)": "170"
                                },
                                {
                                    "SZALL_DATUM": "2017-04-02",
                                    "SZALL_MOD": "NULL",
                                    "(No column name)": "213"
                                },
                                {
                                    "SZALL_DATUM": "2017-04-03",
                                    "SZALL_MOD": "NULL",
                                    "(No column name)": "188"
                                },
                                {
                                    "SZALL_DATUM": "2017-04-04",
                                    "SZALL_MOD": "NULL",
                                    "(No column name)": "175"
                                },
                                {
                                    "SZALL_DATUM": "2017-04-05",
                                    "SZALL_MOD": "NULL",
                                    "(No column name)": "188"
                                },
                                {
                                    "SZALL_DATUM": "2017-04-06",
                                    "SZALL_MOD": "NULL",
                                    "(No column name)": "106"
                                },
                                {
                                    "SZALL_DATUM": "2017-04-07",
                                    "SZALL_MOD": "NULL",
                                    "(No column name)": "152"
                                },
                                {
                                    "SZALL_DATUM": "2017-04-08",
                                    "SZALL_MOD": "NULL",
                                    "(No column name)": "120"
                                },
                                {
                                    "SZALL_DATUM": "2017-04-09",
                                    "SZALL_MOD": "NULL",
                                    "(No column name)": "79"
                                },
                                {
                                    "SZALL_DATUM": "2017-04-10",
                                    "SZALL_MOD": "NULL",
                                    "(No column name)": "32"
                                },
                                {
                                    "SZALL_DATUM": "2017-04-11",
                                    "SZALL_MOD": "NULL",
                                    "(No column name)": "21"
                                },
                                {
                                    "SZALL_DATUM": "NULL",
                                    "SZALL_MOD": "NULL",
                                    "(No column name)": "145706"
                                }
                            ]
                        },
                        "text/html": [
                            "<table>",
                            "<tr><th>SZALL_DATUM</th><th>SZALL_MOD</th><th>(No column name)</th></tr>",
                            "<tr><td>2015-05-03</td><td>NULL</td><td>4</td></tr>",
                            "<tr><td>2015-05-04</td><td>NULL</td><td>31</td></tr>",
                            "<tr><td>2015-05-05</td><td>NULL</td><td>81</td></tr>",
                            "<tr><td>2015-05-06</td><td>NULL</td><td>126</td></tr>",
                            "<tr><td>2015-05-07</td><td>NULL</td><td>94</td></tr>",
                            "<tr><td>2015-05-08</td><td>NULL</td><td>106</td></tr>",
                            "<tr><td>2015-05-09</td><td>NULL</td><td>159</td></tr>",
                            "<tr><td>2015-05-10</td><td>NULL</td><td>168</td></tr>",
                            "<tr><td>2015-05-11</td><td>NULL</td><td>195</td></tr>",
                            "<tr><td>2015-05-12</td><td>NULL</td><td>196</td></tr>",
                            "<tr><td>2015-05-13</td><td>NULL</td><td>198</td></tr>",
                            "<tr><td>2015-05-14</td><td>NULL</td><td>277</td></tr>",
                            "<tr><td>2015-05-15</td><td>NULL</td><td>188</td></tr>",
                            "<tr><td>2015-05-16</td><td>NULL</td><td>198</td></tr>",
                            "<tr><td>2015-05-17</td><td>NULL</td><td>129</td></tr>",
                            "<tr><td>2015-05-18</td><td>NULL</td><td>225</td></tr>",
                            "<tr><td>2015-05-19</td><td>NULL</td><td>199</td></tr>",
                            "<tr><td>2015-05-20</td><td>NULL</td><td>245</td></tr>",
                            "<tr><td>2015-05-21</td><td>NULL</td><td>198</td></tr>",
                            "<tr><td>2015-05-22</td><td>NULL</td><td>202</td></tr>",
                            "<tr><td>2015-05-23</td><td>NULL</td><td>139</td></tr>",
                            "<tr><td>2015-05-24</td><td>NULL</td><td>150</td></tr>",
                            "<tr><td>2015-05-25</td><td>NULL</td><td>173</td></tr>",
                            "<tr><td>2015-05-26</td><td>NULL</td><td>204</td></tr>",
                            "<tr><td>2015-05-27</td><td>NULL</td><td>231</td></tr>",
                            "<tr><td>2015-05-28</td><td>NULL</td><td>229</td></tr>",
                            "<tr><td>2015-05-29</td><td>NULL</td><td>263</td></tr>",
                            "<tr><td>2015-05-30</td><td>NULL</td><td>203</td></tr>",
                            "<tr><td>2015-05-31</td><td>NULL</td><td>123</td></tr>",
                            "<tr><td>2015-06-01</td><td>NULL</td><td>181</td></tr>",
                            "<tr><td>2015-06-02</td><td>NULL</td><td>175</td></tr>",
                            "<tr><td>2015-06-03</td><td>NULL</td><td>220</td></tr>",
                            "<tr><td>2015-06-04</td><td>NULL</td><td>210</td></tr>",
                            "<tr><td>2015-06-05</td><td>NULL</td><td>230</td></tr>",
                            "<tr><td>2015-06-06</td><td>NULL</td><td>236</td></tr>",
                            "<tr><td>2015-06-07</td><td>NULL</td><td>221</td></tr>",
                            "<tr><td>2015-06-08</td><td>NULL</td><td>149</td></tr>",
                            "<tr><td>2015-06-09</td><td>NULL</td><td>172</td></tr>",
                            "<tr><td>2015-06-10</td><td>NULL</td><td>221</td></tr>",
                            "<tr><td>2015-06-11</td><td>NULL</td><td>173</td></tr>",
                            "<tr><td>2015-06-12</td><td>NULL</td><td>231</td></tr>",
                            "<tr><td>2015-06-13</td><td>NULL</td><td>215</td></tr>",
                            "<tr><td>2015-06-14</td><td>NULL</td><td>207</td></tr>",
                            "<tr><td>2015-06-15</td><td>NULL</td><td>205</td></tr>",
                            "<tr><td>2015-06-16</td><td>NULL</td><td>133</td></tr>",
                            "<tr><td>2015-06-17</td><td>NULL</td><td>229</td></tr>",
                            "<tr><td>2015-06-18</td><td>NULL</td><td>238</td></tr>",
                            "<tr><td>2015-06-19</td><td>NULL</td><td>176</td></tr>",
                            "<tr><td>2015-06-20</td><td>NULL</td><td>198</td></tr>",
                            "<tr><td>2015-06-21</td><td>NULL</td><td>179</td></tr>",
                            "<tr><td>2015-06-22</td><td>NULL</td><td>240</td></tr>",
                            "<tr><td>2015-06-23</td><td>NULL</td><td>227</td></tr>",
                            "<tr><td>2015-06-24</td><td>NULL</td><td>129</td></tr>",
                            "<tr><td>2015-06-25</td><td>NULL</td><td>247</td></tr>",
                            "<tr><td>2015-06-26</td><td>NULL</td><td>271</td></tr>",
                            "<tr><td>2015-06-27</td><td>NULL</td><td>173</td></tr>",
                            "<tr><td>2015-06-28</td><td>NULL</td><td>163</td></tr>",
                            "<tr><td>2015-06-29</td><td>NULL</td><td>207</td></tr>",
                            "<tr><td>2015-06-30</td><td>NULL</td><td>208</td></tr>",
                            "<tr><td>2015-07-01</td><td>NULL</td><td>138</td></tr>",
                            "<tr><td>2015-07-02</td><td>NULL</td><td>183</td></tr>",
                            "<tr><td>2015-07-03</td><td>NULL</td><td>175</td></tr>",
                            "<tr><td>2015-07-04</td><td>NULL</td><td>221</td></tr>",
                            "<tr><td>2015-07-05</td><td>NULL</td><td>220</td></tr>",
                            "<tr><td>2015-07-06</td><td>NULL</td><td>231</td></tr>",
                            "<tr><td>2015-07-07</td><td>NULL</td><td>266</td></tr>",
                            "<tr><td>2015-07-08</td><td>NULL</td><td>177</td></tr>",
                            "<tr><td>2015-07-09</td><td>NULL</td><td>198</td></tr>",
                            "<tr><td>2015-07-10</td><td>NULL</td><td>182</td></tr>",
                            "<tr><td>2015-07-11</td><td>NULL</td><td>175</td></tr>",
                            "<tr><td>2015-07-12</td><td>NULL</td><td>218</td></tr>",
                            "<tr><td>2015-07-13</td><td>NULL</td><td>208</td></tr>",
                            "<tr><td>2015-07-14</td><td>NULL</td><td>188</td></tr>",
                            "<tr><td>2015-07-15</td><td>NULL</td><td>256</td></tr>",
                            "<tr><td>2015-07-16</td><td>NULL</td><td>187</td></tr>",
                            "<tr><td>2015-07-17</td><td>NULL</td><td>176</td></tr>",
                            "<tr><td>2015-07-18</td><td>NULL</td><td>159</td></tr>",
                            "<tr><td>2015-07-19</td><td>NULL</td><td>187</td></tr>",
                            "<tr><td>2015-07-20</td><td>NULL</td><td>260</td></tr>",
                            "<tr><td>2015-07-21</td><td>NULL</td><td>242</td></tr>",
                            "<tr><td>2015-07-22</td><td>NULL</td><td>163</td></tr>",
                            "<tr><td>2015-07-23</td><td>NULL</td><td>180</td></tr>",
                            "<tr><td>2015-07-24</td><td>NULL</td><td>219</td></tr>",
                            "<tr><td>2015-07-25</td><td>NULL</td><td>200</td></tr>",
                            "<tr><td>2015-07-26</td><td>NULL</td><td>236</td></tr>",
                            "<tr><td>2015-07-27</td><td>NULL</td><td>155</td></tr>",
                            "<tr><td>2015-07-28</td><td>NULL</td><td>180</td></tr>",
                            "<tr><td>2015-07-29</td><td>NULL</td><td>161</td></tr>",
                            "<tr><td>2015-07-30</td><td>NULL</td><td>238</td></tr>",
                            "<tr><td>2015-07-31</td><td>NULL</td><td>270</td></tr>",
                            "<tr><td>2015-08-01</td><td>NULL</td><td>248</td></tr>",
                            "<tr><td>2015-08-02</td><td>NULL</td><td>229</td></tr>",
                            "<tr><td>2015-08-03</td><td>NULL</td><td>229</td></tr>",
                            "<tr><td>2015-08-04</td><td>NULL</td><td>250</td></tr>",
                            "<tr><td>2015-08-05</td><td>NULL</td><td>233</td></tr>",
                            "<tr><td>2015-08-06</td><td>NULL</td><td>140</td></tr>",
                            "<tr><td>2015-08-07</td><td>NULL</td><td>259</td></tr>",
                            "<tr><td>2015-08-08</td><td>NULL</td><td>258</td></tr>",
                            "<tr><td>2015-08-09</td><td>NULL</td><td>187</td></tr>",
                            "<tr><td>2015-08-10</td><td>NULL</td><td>196</td></tr>",
                            "<tr><td>2015-08-11</td><td>NULL</td><td>241</td></tr>",
                            "<tr><td>2015-08-12</td><td>NULL</td><td>202</td></tr>",
                            "<tr><td>2015-08-13</td><td>NULL</td><td>250</td></tr>",
                            "<tr><td>2015-08-14</td><td>NULL</td><td>255</td></tr>",
                            "<tr><td>2015-08-15</td><td>NULL</td><td>172</td></tr>",
                            "<tr><td>2015-08-16</td><td>NULL</td><td>189</td></tr>",
                            "<tr><td>2015-08-17</td><td>NULL</td><td>203</td></tr>",
                            "<tr><td>2015-08-18</td><td>NULL</td><td>167</td></tr>",
                            "<tr><td>2015-08-19</td><td>NULL</td><td>170</td></tr>",
                            "<tr><td>2015-08-20</td><td>NULL</td><td>227</td></tr>",
                            "<tr><td>2015-08-21</td><td>NULL</td><td>199</td></tr>",
                            "<tr><td>2015-08-22</td><td>NULL</td><td>251</td></tr>",
                            "<tr><td>2015-08-23</td><td>NULL</td><td>173</td></tr>",
                            "<tr><td>2015-08-24</td><td>NULL</td><td>191</td></tr>",
                            "<tr><td>2015-08-25</td><td>NULL</td><td>235</td></tr>",
                            "<tr><td>2015-08-26</td><td>NULL</td><td>267</td></tr>",
                            "<tr><td>2015-08-27</td><td>NULL</td><td>152</td></tr>",
                            "<tr><td>2015-08-28</td><td>NULL</td><td>221</td></tr>",
                            "<tr><td>2015-08-29</td><td>NULL</td><td>183</td></tr>",
                            "<tr><td>2015-08-30</td><td>NULL</td><td>236</td></tr>",
                            "<tr><td>2015-08-31</td><td>NULL</td><td>205</td></tr>",
                            "<tr><td>2015-09-01</td><td>NULL</td><td>246</td></tr>",
                            "<tr><td>2015-09-02</td><td>NULL</td><td>165</td></tr>",
                            "<tr><td>2015-09-03</td><td>NULL</td><td>234</td></tr>",
                            "<tr><td>2015-09-04</td><td>NULL</td><td>256</td></tr>",
                            "<tr><td>2015-09-05</td><td>NULL</td><td>187</td></tr>",
                            "<tr><td>2015-09-06</td><td>NULL</td><td>209</td></tr>",
                            "<tr><td>2015-09-07</td><td>NULL</td><td>237</td></tr>",
                            "<tr><td>2015-09-08</td><td>NULL</td><td>193</td></tr>",
                            "<tr><td>2015-09-09</td><td>NULL</td><td>204</td></tr>",
                            "<tr><td>2015-09-10</td><td>NULL</td><td>265</td></tr>",
                            "<tr><td>2015-09-11</td><td>NULL</td><td>219</td></tr>",
                            "<tr><td>2015-09-12</td><td>NULL</td><td>240</td></tr>",
                            "<tr><td>2015-09-13</td><td>NULL</td><td>195</td></tr>",
                            "<tr><td>2015-09-14</td><td>NULL</td><td>210</td></tr>",
                            "<tr><td>2015-09-15</td><td>NULL</td><td>140</td></tr>",
                            "<tr><td>2015-09-16</td><td>NULL</td><td>199</td></tr>",
                            "<tr><td>2015-09-17</td><td>NULL</td><td>226</td></tr>",
                            "<tr><td>2015-09-18</td><td>NULL</td><td>212</td></tr>",
                            "<tr><td>2015-09-19</td><td>NULL</td><td>196</td></tr>",
                            "<tr><td>2015-09-20</td><td>NULL</td><td>263</td></tr>",
                            "<tr><td>2015-09-21</td><td>NULL</td><td>164</td></tr>",
                            "<tr><td>2015-09-22</td><td>NULL</td><td>221</td></tr>",
                            "<tr><td>2015-09-23</td><td>NULL</td><td>187</td></tr>",
                            "<tr><td>2015-09-24</td><td>NULL</td><td>264</td></tr>",
                            "<tr><td>2015-09-25</td><td>NULL</td><td>186</td></tr>",
                            "<tr><td>2015-09-26</td><td>NULL</td><td>240</td></tr>",
                            "<tr><td>2015-09-27</td><td>NULL</td><td>194</td></tr>",
                            "<tr><td>2015-09-28</td><td>NULL</td><td>269</td></tr>",
                            "<tr><td>2015-09-29</td><td>NULL</td><td>252</td></tr>",
                            "<tr><td>2015-09-30</td><td>NULL</td><td>151</td></tr>",
                            "<tr><td>2015-10-01</td><td>NULL</td><td>207</td></tr>",
                            "<tr><td>2015-10-02</td><td>NULL</td><td>153</td></tr>",
                            "<tr><td>2015-10-03</td><td>NULL</td><td>242</td></tr>",
                            "<tr><td>2015-10-04</td><td>NULL</td><td>197</td></tr>",
                            "<tr><td>2015-10-05</td><td>NULL</td><td>226</td></tr>",
                            "<tr><td>2015-10-06</td><td>NULL</td><td>163</td></tr>",
                            "<tr><td>2015-10-07</td><td>NULL</td><td>230</td></tr>",
                            "<tr><td>2015-10-08</td><td>NULL</td><td>216</td></tr>",
                            "<tr><td>2015-10-09</td><td>NULL</td><td>235</td></tr>",
                            "<tr><td>2015-10-10</td><td>NULL</td><td>216</td></tr>",
                            "<tr><td>2015-10-11</td><td>NULL</td><td>184</td></tr>",
                            "<tr><td>2015-10-12</td><td>NULL</td><td>237</td></tr>",
                            "<tr><td>2015-10-13</td><td>NULL</td><td>174</td></tr>",
                            "<tr><td>2015-10-14</td><td>NULL</td><td>163</td></tr>",
                            "<tr><td>2015-10-15</td><td>NULL</td><td>251</td></tr>",
                            "<tr><td>2015-10-16</td><td>NULL</td><td>258</td></tr>",
                            "<tr><td>2015-10-17</td><td>NULL</td><td>186</td></tr>",
                            "<tr><td>2015-10-18</td><td>NULL</td><td>219</td></tr>",
                            "<tr><td>2015-10-19</td><td>NULL</td><td>184</td></tr>",
                            "<tr><td>2015-10-20</td><td>NULL</td><td>260</td></tr>",
                            "<tr><td>2015-10-21</td><td>NULL</td><td>191</td></tr>",
                            "<tr><td>2015-10-22</td><td>NULL</td><td>153</td></tr>",
                            "<tr><td>2015-10-23</td><td>NULL</td><td>207</td></tr>",
                            "<tr><td>2015-10-24</td><td>NULL</td><td>186</td></tr>",
                            "<tr><td>2015-10-25</td><td>NULL</td><td>234</td></tr>",
                            "<tr><td>2015-10-26</td><td>NULL</td><td>221</td></tr>",
                            "<tr><td>2015-10-27</td><td>NULL</td><td>188</td></tr>",
                            "<tr><td>2015-10-28</td><td>NULL</td><td>194</td></tr>",
                            "<tr><td>2015-10-29</td><td>NULL</td><td>191</td></tr>",
                            "<tr><td>2015-10-30</td><td>NULL</td><td>214</td></tr>",
                            "<tr><td>2015-10-31</td><td>NULL</td><td>176</td></tr>",
                            "<tr><td>2015-11-01</td><td>NULL</td><td>148</td></tr>",
                            "<tr><td>2015-11-02</td><td>NULL</td><td>191</td></tr>",
                            "<tr><td>2015-11-03</td><td>NULL</td><td>304</td></tr>",
                            "<tr><td>2015-11-04</td><td>NULL</td><td>181</td></tr>",
                            "<tr><td>2015-11-05</td><td>NULL</td><td>173</td></tr>",
                            "<tr><td>2015-11-06</td><td>NULL</td><td>211</td></tr>",
                            "<tr><td>2015-11-07</td><td>NULL</td><td>206</td></tr>",
                            "<tr><td>2015-11-08</td><td>NULL</td><td>210</td></tr>",
                            "<tr><td>2015-11-09</td><td>NULL</td><td>206</td></tr>",
                            "<tr><td>2015-11-10</td><td>NULL</td><td>219</td></tr>",
                            "<tr><td>2015-11-11</td><td>NULL</td><td>200</td></tr>",
                            "<tr><td>2015-11-12</td><td>NULL</td><td>149</td></tr>",
                            "<tr><td>2015-11-13</td><td>NULL</td><td>188</td></tr>",
                            "<tr><td>2015-11-14</td><td>NULL</td><td>230</td></tr>",
                            "<tr><td>2015-11-15</td><td>NULL</td><td>164</td></tr>",
                            "<tr><td>2015-11-16</td><td>NULL</td><td>230</td></tr>",
                            "<tr><td>2015-11-17</td><td>NULL</td><td>195</td></tr>",
                            "<tr><td>2015-11-18</td><td>NULL</td><td>219</td></tr>",
                            "<tr><td>2015-11-19</td><td>NULL</td><td>190</td></tr>",
                            "<tr><td>2015-11-20</td><td>NULL</td><td>168</td></tr>",
                            "<tr><td>2015-11-21</td><td>NULL</td><td>205</td></tr>",
                            "<tr><td>2015-11-22</td><td>NULL</td><td>240</td></tr>",
                            "<tr><td>2015-11-23</td><td>NULL</td><td>209</td></tr>",
                            "<tr><td>2015-11-24</td><td>NULL</td><td>245</td></tr>",
                            "<tr><td>2015-11-25</td><td>NULL</td><td>167</td></tr>",
                            "<tr><td>2015-11-26</td><td>NULL</td><td>186</td></tr>",
                            "<tr><td>2015-11-27</td><td>NULL</td><td>177</td></tr>",
                            "<tr><td>2015-11-28</td><td>NULL</td><td>266</td></tr>",
                            "<tr><td>2015-11-29</td><td>NULL</td><td>167</td></tr>",
                            "<tr><td>2015-11-30</td><td>NULL</td><td>205</td></tr>",
                            "<tr><td>2015-12-01</td><td>NULL</td><td>185</td></tr>",
                            "<tr><td>2015-12-02</td><td>NULL</td><td>226</td></tr>",
                            "<tr><td>2015-12-03</td><td>NULL</td><td>217</td></tr>",
                            "<tr><td>2015-12-04</td><td>NULL</td><td>185</td></tr>",
                            "<tr><td>2015-12-05</td><td>NULL</td><td>267</td></tr>",
                            "<tr><td>2015-12-06</td><td>NULL</td><td>150</td></tr>",
                            "<tr><td>2015-12-07</td><td>NULL</td><td>263</td></tr>",
                            "<tr><td>2015-12-08</td><td>NULL</td><td>207</td></tr>",
                            "<tr><td>2015-12-09</td><td>NULL</td><td>211</td></tr>",
                            "<tr><td>2015-12-10</td><td>NULL</td><td>256</td></tr>",
                            "<tr><td>2015-12-11</td><td>NULL</td><td>230</td></tr>",
                            "<tr><td>2015-12-12</td><td>NULL</td><td>224</td></tr>",
                            "<tr><td>2015-12-13</td><td>NULL</td><td>171</td></tr>",
                            "<tr><td>2015-12-14</td><td>NULL</td><td>212</td></tr>",
                            "<tr><td>2015-12-15</td><td>NULL</td><td>184</td></tr>",
                            "<tr><td>2015-12-16</td><td>NULL</td><td>179</td></tr>",
                            "<tr><td>2015-12-17</td><td>NULL</td><td>186</td></tr>",
                            "<tr><td>2015-12-18</td><td>NULL</td><td>274</td></tr>",
                            "<tr><td>2015-12-19</td><td>NULL</td><td>164</td></tr>",
                            "<tr><td>2015-12-20</td><td>NULL</td><td>222</td></tr>",
                            "<tr><td>2015-12-21</td><td>NULL</td><td>164</td></tr>",
                            "<tr><td>2015-12-22</td><td>NULL</td><td>210</td></tr>",
                            "<tr><td>2015-12-23</td><td>NULL</td><td>191</td></tr>",
                            "<tr><td>2015-12-24</td><td>NULL</td><td>196</td></tr>",
                            "<tr><td>2015-12-25</td><td>NULL</td><td>181</td></tr>",
                            "<tr><td>2015-12-26</td><td>NULL</td><td>222</td></tr>",
                            "<tr><td>2015-12-27</td><td>NULL</td><td>208</td></tr>",
                            "<tr><td>2015-12-28</td><td>NULL</td><td>244</td></tr>",
                            "<tr><td>2015-12-29</td><td>NULL</td><td>247</td></tr>",
                            "<tr><td>2015-12-30</td><td>NULL</td><td>190</td></tr>",
                            "<tr><td>2015-12-31</td><td>NULL</td><td>206</td></tr>",
                            "<tr><td>2016-01-01</td><td>NULL</td><td>240</td></tr>",
                            "<tr><td>2016-01-02</td><td>NULL</td><td>206</td></tr>",
                            "<tr><td>2016-01-03</td><td>NULL</td><td>257</td></tr>",
                            "<tr><td>2016-01-04</td><td>NULL</td><td>233</td></tr>",
                            "<tr><td>2016-01-05</td><td>NULL</td><td>192</td></tr>",
                            "<tr><td>2016-01-06</td><td>NULL</td><td>193</td></tr>",
                            "<tr><td>2016-01-07</td><td>NULL</td><td>142</td></tr>",
                            "<tr><td>2016-01-08</td><td>NULL</td><td>269</td></tr>",
                            "<tr><td>2016-01-09</td><td>NULL</td><td>196</td></tr>",
                            "<tr><td>2016-01-10</td><td>NULL</td><td>204</td></tr>",
                            "<tr><td>2016-01-11</td><td>NULL</td><td>201</td></tr>",
                            "<tr><td>2016-01-12</td><td>NULL</td><td>189</td></tr>",
                            "<tr><td>2016-01-13</td><td>NULL</td><td>201</td></tr>",
                            "<tr><td>2016-01-14</td><td>NULL</td><td>226</td></tr>",
                            "<tr><td>2016-01-15</td><td>NULL</td><td>229</td></tr>",
                            "<tr><td>2016-01-16</td><td>NULL</td><td>218</td></tr>",
                            "<tr><td>2016-01-17</td><td>NULL</td><td>203</td></tr>",
                            "<tr><td>2016-01-18</td><td>NULL</td><td>173</td></tr>",
                            "<tr><td>2016-01-19</td><td>NULL</td><td>176</td></tr>",
                            "<tr><td>2016-01-20</td><td>NULL</td><td>200</td></tr>",
                            "<tr><td>2016-01-21</td><td>NULL</td><td>281</td></tr>",
                            "<tr><td>2016-01-22</td><td>NULL</td><td>206</td></tr>",
                            "<tr><td>2016-01-23</td><td>NULL</td><td>175</td></tr>",
                            "<tr><td>2016-01-24</td><td>NULL</td><td>241</td></tr>",
                            "<tr><td>2016-01-25</td><td>NULL</td><td>136</td></tr>",
                            "<tr><td>2016-01-26</td><td>NULL</td><td>144</td></tr>",
                            "<tr><td>2016-01-27</td><td>NULL</td><td>195</td></tr>",
                            "<tr><td>2016-01-28</td><td>NULL</td><td>207</td></tr>",
                            "<tr><td>2016-01-29</td><td>NULL</td><td>198</td></tr>",
                            "<tr><td>2016-01-30</td><td>NULL</td><td>239</td></tr>",
                            "<tr><td>2016-01-31</td><td>NULL</td><td>191</td></tr>",
                            "<tr><td>2016-02-01</td><td>NULL</td><td>246</td></tr>",
                            "<tr><td>2016-02-02</td><td>NULL</td><td>211</td></tr>",
                            "<tr><td>2016-02-03</td><td>NULL</td><td>236</td></tr>",
                            "<tr><td>2016-02-04</td><td>NULL</td><td>199</td></tr>",
                            "<tr><td>2016-02-05</td><td>NULL</td><td>233</td></tr>",
                            "<tr><td>2016-02-06</td><td>NULL</td><td>287</td></tr>",
                            "<tr><td>2016-02-07</td><td>NULL</td><td>164</td></tr>",
                            "<tr><td>2016-02-08</td><td>NULL</td><td>230</td></tr>",
                            "<tr><td>2016-02-09</td><td>NULL</td><td>222</td></tr>",
                            "<tr><td>2016-02-10</td><td>NULL</td><td>196</td></tr>",
                            "<tr><td>2016-02-11</td><td>NULL</td><td>217</td></tr>",
                            "<tr><td>2016-02-12</td><td>NULL</td><td>232</td></tr>",
                            "<tr><td>2016-02-13</td><td>NULL</td><td>195</td></tr>",
                            "<tr><td>2016-02-14</td><td>NULL</td><td>219</td></tr>",
                            "<tr><td>2016-02-15</td><td>NULL</td><td>246</td></tr>",
                            "<tr><td>2016-02-16</td><td>NULL</td><td>209</td></tr>",
                            "<tr><td>2016-02-17</td><td>NULL</td><td>250</td></tr>",
                            "<tr><td>2016-02-18</td><td>NULL</td><td>131</td></tr>",
                            "<tr><td>2016-02-19</td><td>NULL</td><td>217</td></tr>",
                            "<tr><td>2016-02-20</td><td>NULL</td><td>204</td></tr>",
                            "<tr><td>2016-02-21</td><td>NULL</td><td>206</td></tr>",
                            "<tr><td>2016-02-22</td><td>NULL</td><td>245</td></tr>",
                            "<tr><td>2016-02-23</td><td>NULL</td><td>183</td></tr>",
                            "<tr><td>2016-02-24</td><td>NULL</td><td>185</td></tr>",
                            "<tr><td>2016-02-25</td><td>NULL</td><td>188</td></tr>",
                            "<tr><td>2016-02-26</td><td>NULL</td><td>232</td></tr>",
                            "<tr><td>2016-02-27</td><td>NULL</td><td>199</td></tr>",
                            "<tr><td>2016-02-28</td><td>NULL</td><td>217</td></tr>",
                            "<tr><td>2016-02-29</td><td>NULL</td><td>223</td></tr>",
                            "<tr><td>2016-03-01</td><td>NULL</td><td>256</td></tr>",
                            "<tr><td>2016-03-02</td><td>NULL</td><td>203</td></tr>",
                            "<tr><td>2016-03-03</td><td>NULL</td><td>250</td></tr>",
                            "<tr><td>2016-03-04</td><td>NULL</td><td>220</td></tr>",
                            "<tr><td>2016-03-05</td><td>NULL</td><td>251</td></tr>",
                            "<tr><td>2016-03-06</td><td>NULL</td><td>184</td></tr>",
                            "<tr><td>2016-03-07</td><td>NULL</td><td>197</td></tr>",
                            "<tr><td>2016-03-08</td><td>NULL</td><td>159</td></tr>",
                            "<tr><td>2016-03-09</td><td>NULL</td><td>208</td></tr>",
                            "<tr><td>2016-03-10</td><td>NULL</td><td>235</td></tr>",
                            "<tr><td>2016-03-11</td><td>NULL</td><td>200</td></tr>",
                            "<tr><td>2016-03-12</td><td>NULL</td><td>260</td></tr>",
                            "<tr><td>2016-03-13</td><td>NULL</td><td>191</td></tr>",
                            "<tr><td>2016-03-14</td><td>NULL</td><td>224</td></tr>",
                            "<tr><td>2016-03-15</td><td>NULL</td><td>211</td></tr>",
                            "<tr><td>2016-03-16</td><td>NULL</td><td>169</td></tr>",
                            "<tr><td>2016-03-17</td><td>NULL</td><td>195</td></tr>",
                            "<tr><td>2016-03-18</td><td>NULL</td><td>192</td></tr>",
                            "<tr><td>2016-03-19</td><td>NULL</td><td>195</td></tr>",
                            "<tr><td>2016-03-20</td><td>NULL</td><td>308</td></tr>",
                            "<tr><td>2016-03-21</td><td>NULL</td><td>263</td></tr>",
                            "<tr><td>2016-03-22</td><td>NULL</td><td>224</td></tr>",
                            "<tr><td>2016-03-23</td><td>NULL</td><td>214</td></tr>",
                            "<tr><td>2016-03-24</td><td>NULL</td><td>199</td></tr>",
                            "<tr><td>2016-03-25</td><td>NULL</td><td>238</td></tr>",
                            "<tr><td>2016-03-26</td><td>NULL</td><td>238</td></tr>",
                            "<tr><td>2016-03-27</td><td>NULL</td><td>230</td></tr>",
                            "<tr><td>2016-03-28</td><td>NULL</td><td>174</td></tr>",
                            "<tr><td>2016-03-29</td><td>NULL</td><td>176</td></tr>",
                            "<tr><td>2016-03-30</td><td>NULL</td><td>222</td></tr>",
                            "<tr><td>2016-03-31</td><td>NULL</td><td>199</td></tr>",
                            "<tr><td>2016-04-01</td><td>NULL</td><td>227</td></tr>",
                            "<tr><td>2016-04-02</td><td>NULL</td><td>207</td></tr>",
                            "<tr><td>2016-04-03</td><td>NULL</td><td>203</td></tr>",
                            "<tr><td>2016-04-04</td><td>NULL</td><td>201</td></tr>",
                            "<tr><td>2016-04-05</td><td>NULL</td><td>216</td></tr>",
                            "<tr><td>2016-04-06</td><td>NULL</td><td>191</td></tr>",
                            "<tr><td>2016-04-07</td><td>NULL</td><td>220</td></tr>",
                            "<tr><td>2016-04-08</td><td>NULL</td><td>262</td></tr>",
                            "<tr><td>2016-04-09</td><td>NULL</td><td>257</td></tr>",
                            "<tr><td>2016-04-10</td><td>NULL</td><td>254</td></tr>",
                            "<tr><td>2016-04-11</td><td>NULL</td><td>235</td></tr>",
                            "<tr><td>2016-04-12</td><td>NULL</td><td>190</td></tr>",
                            "<tr><td>2016-04-13</td><td>NULL</td><td>190</td></tr>",
                            "<tr><td>2016-04-14</td><td>NULL</td><td>219</td></tr>",
                            "<tr><td>2016-04-15</td><td>NULL</td><td>233</td></tr>",
                            "<tr><td>2016-04-16</td><td>NULL</td><td>196</td></tr>",
                            "<tr><td>2016-04-17</td><td>NULL</td><td>266</td></tr>",
                            "<tr><td>2016-04-18</td><td>NULL</td><td>209</td></tr>",
                            "<tr><td>2016-04-19</td><td>NULL</td><td>242</td></tr>",
                            "<tr><td>2016-04-20</td><td>NULL</td><td>164</td></tr>",
                            "<tr><td>2016-04-21</td><td>NULL</td><td>172</td></tr>",
                            "<tr><td>2016-04-22</td><td>NULL</td><td>141</td></tr>",
                            "<tr><td>2016-04-23</td><td>NULL</td><td>189</td></tr>",
                            "<tr><td>2016-04-24</td><td>NULL</td><td>252</td></tr>",
                            "<tr><td>2016-04-25</td><td>NULL</td><td>272</td></tr>",
                            "<tr><td>2016-04-26</td><td>NULL</td><td>236</td></tr>",
                            "<tr><td>2016-04-27</td><td>NULL</td><td>210</td></tr>",
                            "<tr><td>2016-04-28</td><td>NULL</td><td>191</td></tr>",
                            "<tr><td>2016-04-29</td><td>NULL</td><td>223</td></tr>",
                            "<tr><td>2016-04-30</td><td>NULL</td><td>196</td></tr>",
                            "<tr><td>2016-05-01</td><td>NULL</td><td>182</td></tr>",
                            "<tr><td>2016-05-02</td><td>NULL</td><td>220</td></tr>",
                            "<tr><td>2016-05-03</td><td>NULL</td><td>153</td></tr>",
                            "<tr><td>2016-05-04</td><td>NULL</td><td>254</td></tr>",
                            "<tr><td>2016-05-05</td><td>NULL</td><td>212</td></tr>",
                            "<tr><td>2016-05-06</td><td>NULL</td><td>224</td></tr>",
                            "<tr><td>2016-05-07</td><td>NULL</td><td>210</td></tr>",
                            "<tr><td>2016-05-08</td><td>NULL</td><td>232</td></tr>",
                            "<tr><td>2016-05-09</td><td>NULL</td><td>269</td></tr>",
                            "<tr><td>2016-05-10</td><td>NULL</td><td>211</td></tr>",
                            "<tr><td>2016-05-11</td><td>NULL</td><td>214</td></tr>",
                            "<tr><td>2016-05-12</td><td>NULL</td><td>234</td></tr>",
                            "<tr><td>2016-05-13</td><td>NULL</td><td>183</td></tr>",
                            "<tr><td>2016-05-14</td><td>NULL</td><td>188</td></tr>",
                            "<tr><td>2016-05-15</td><td>NULL</td><td>144</td></tr>",
                            "<tr><td>2016-05-16</td><td>NULL</td><td>198</td></tr>",
                            "<tr><td>2016-05-17</td><td>NULL</td><td>223</td></tr>",
                            "<tr><td>2016-05-18</td><td>NULL</td><td>177</td></tr>",
                            "<tr><td>2016-05-19</td><td>NULL</td><td>211</td></tr>",
                            "<tr><td>2016-05-20</td><td>NULL</td><td>207</td></tr>",
                            "<tr><td>2016-05-21</td><td>NULL</td><td>209</td></tr>",
                            "<tr><td>2016-05-22</td><td>NULL</td><td>160</td></tr>",
                            "<tr><td>2016-05-23</td><td>NULL</td><td>208</td></tr>",
                            "<tr><td>2016-05-24</td><td>NULL</td><td>211</td></tr>",
                            "<tr><td>2016-05-25</td><td>NULL</td><td>230</td></tr>",
                            "<tr><td>2016-05-26</td><td>NULL</td><td>141</td></tr>",
                            "<tr><td>2016-05-27</td><td>NULL</td><td>234</td></tr>",
                            "<tr><td>2016-05-28</td><td>NULL</td><td>155</td></tr>",
                            "<tr><td>2016-05-29</td><td>NULL</td><td>216</td></tr>",
                            "<tr><td>2016-05-30</td><td>NULL</td><td>187</td></tr>",
                            "<tr><td>2016-05-31</td><td>NULL</td><td>242</td></tr>",
                            "<tr><td>2016-06-01</td><td>NULL</td><td>212</td></tr>",
                            "<tr><td>2016-06-02</td><td>NULL</td><td>201</td></tr>",
                            "<tr><td>2016-06-03</td><td>NULL</td><td>190</td></tr>",
                            "<tr><td>2016-06-04</td><td>NULL</td><td>212</td></tr>",
                            "<tr><td>2016-06-05</td><td>NULL</td><td>172</td></tr>",
                            "<tr><td>2016-06-06</td><td>NULL</td><td>231</td></tr>",
                            "<tr><td>2016-06-07</td><td>NULL</td><td>227</td></tr>",
                            "<tr><td>2016-06-08</td><td>NULL</td><td>218</td></tr>",
                            "<tr><td>2016-06-09</td><td>NULL</td><td>211</td></tr>",
                            "<tr><td>2016-06-10</td><td>NULL</td><td>229</td></tr>",
                            "<tr><td>2016-06-11</td><td>NULL</td><td>260</td></tr>",
                            "<tr><td>2016-06-12</td><td>NULL</td><td>222</td></tr>",
                            "<tr><td>2016-06-13</td><td>NULL</td><td>170</td></tr>",
                            "<tr><td>2016-06-14</td><td>NULL</td><td>205</td></tr>",
                            "<tr><td>2016-06-15</td><td>NULL</td><td>242</td></tr>",
                            "<tr><td>2016-06-16</td><td>NULL</td><td>168</td></tr>",
                            "<tr><td>2016-06-17</td><td>NULL</td><td>232</td></tr>",
                            "<tr><td>2016-06-18</td><td>NULL</td><td>164</td></tr>",
                            "<tr><td>2016-06-19</td><td>NULL</td><td>240</td></tr>",
                            "<tr><td>2016-06-20</td><td>NULL</td><td>204</td></tr>",
                            "<tr><td>2016-06-21</td><td>NULL</td><td>171</td></tr>",
                            "<tr><td>2016-06-22</td><td>NULL</td><td>190</td></tr>",
                            "<tr><td>2016-06-23</td><td>NULL</td><td>195</td></tr>",
                            "<tr><td>2016-06-24</td><td>NULL</td><td>224</td></tr>",
                            "<tr><td>2016-06-25</td><td>NULL</td><td>215</td></tr>",
                            "<tr><td>2016-06-26</td><td>NULL</td><td>252</td></tr>",
                            "<tr><td>2016-06-27</td><td>NULL</td><td>165</td></tr>",
                            "<tr><td>2016-06-28</td><td>NULL</td><td>229</td></tr>",
                            "<tr><td>2016-06-29</td><td>NULL</td><td>218</td></tr>",
                            "<tr><td>2016-06-30</td><td>NULL</td><td>217</td></tr>",
                            "<tr><td>2016-07-01</td><td>NULL</td><td>203</td></tr>",
                            "<tr><td>2016-07-02</td><td>NULL</td><td>202</td></tr>",
                            "<tr><td>2016-07-03</td><td>NULL</td><td>227</td></tr>",
                            "<tr><td>2016-07-04</td><td>NULL</td><td>282</td></tr>",
                            "<tr><td>2016-07-05</td><td>NULL</td><td>200</td></tr>",
                            "<tr><td>2016-07-06</td><td>NULL</td><td>200</td></tr>",
                            "<tr><td>2016-07-07</td><td>NULL</td><td>143</td></tr>",
                            "<tr><td>2016-07-08</td><td>NULL</td><td>196</td></tr>",
                            "<tr><td>2016-07-09</td><td>NULL</td><td>222</td></tr>",
                            "<tr><td>2016-07-10</td><td>NULL</td><td>200</td></tr>",
                            "<tr><td>2016-07-11</td><td>NULL</td><td>248</td></tr>",
                            "<tr><td>2016-07-12</td><td>NULL</td><td>224</td></tr>",
                            "<tr><td>2016-07-13</td><td>NULL</td><td>229</td></tr>",
                            "<tr><td>2016-07-14</td><td>NULL</td><td>179</td></tr>",
                            "<tr><td>2016-07-15</td><td>NULL</td><td>195</td></tr>",
                            "<tr><td>2016-07-16</td><td>NULL</td><td>196</td></tr>",
                            "<tr><td>2016-07-17</td><td>NULL</td><td>166</td></tr>",
                            "<tr><td>2016-07-18</td><td>NULL</td><td>185</td></tr>",
                            "<tr><td>2016-07-19</td><td>NULL</td><td>267</td></tr>",
                            "<tr><td>2016-07-20</td><td>NULL</td><td>199</td></tr>",
                            "<tr><td>2016-07-21</td><td>NULL</td><td>224</td></tr>",
                            "<tr><td>2016-07-22</td><td>NULL</td><td>206</td></tr>",
                            "<tr><td>2016-07-23</td><td>NULL</td><td>162</td></tr>",
                            "<tr><td>2016-07-24</td><td>NULL</td><td>178</td></tr>",
                            "<tr><td>2016-07-25</td><td>NULL</td><td>173</td></tr>",
                            "<tr><td>2016-07-26</td><td>NULL</td><td>202</td></tr>",
                            "<tr><td>2016-07-27</td><td>NULL</td><td>220</td></tr>",
                            "<tr><td>2016-07-28</td><td>NULL</td><td>172</td></tr>",
                            "<tr><td>2016-07-29</td><td>NULL</td><td>228</td></tr>",
                            "<tr><td>2016-07-30</td><td>NULL</td><td>172</td></tr>",
                            "<tr><td>2016-07-31</td><td>NULL</td><td>263</td></tr>",
                            "<tr><td>2016-08-01</td><td>NULL</td><td>218</td></tr>",
                            "<tr><td>2016-08-02</td><td>NULL</td><td>181</td></tr>",
                            "<tr><td>2016-08-03</td><td>NULL</td><td>200</td></tr>",
                            "<tr><td>2016-08-04</td><td>NULL</td><td>191</td></tr>",
                            "<tr><td>2016-08-05</td><td>NULL</td><td>220</td></tr>",
                            "<tr><td>2016-08-06</td><td>NULL</td><td>193</td></tr>",
                            "<tr><td>2016-08-07</td><td>NULL</td><td>180</td></tr>",
                            "<tr><td>2016-08-08</td><td>NULL</td><td>179</td></tr>",
                            "<tr><td>2016-08-09</td><td>NULL</td><td>244</td></tr>",
                            "<tr><td>2016-08-10</td><td>NULL</td><td>219</td></tr>",
                            "<tr><td>2016-08-11</td><td>NULL</td><td>204</td></tr>",
                            "<tr><td>2016-08-12</td><td>NULL</td><td>234</td></tr>",
                            "<tr><td>2016-08-13</td><td>NULL</td><td>265</td></tr>",
                            "<tr><td>2016-08-14</td><td>NULL</td><td>226</td></tr>",
                            "<tr><td>2016-08-15</td><td>NULL</td><td>280</td></tr>",
                            "<tr><td>2016-08-16</td><td>NULL</td><td>177</td></tr>",
                            "<tr><td>2016-08-17</td><td>NULL</td><td>204</td></tr>",
                            "<tr><td>2016-08-18</td><td>NULL</td><td>194</td></tr>",
                            "<tr><td>2016-08-19</td><td>NULL</td><td>184</td></tr>",
                            "<tr><td>2016-08-20</td><td>NULL</td><td>220</td></tr>",
                            "<tr><td>2016-08-21</td><td>NULL</td><td>203</td></tr>",
                            "<tr><td>2016-08-22</td><td>NULL</td><td>153</td></tr>",
                            "<tr><td>2016-08-23</td><td>NULL</td><td>194</td></tr>",
                            "<tr><td>2016-08-24</td><td>NULL</td><td>259</td></tr>",
                            "<tr><td>2016-08-25</td><td>NULL</td><td>218</td></tr>",
                            "<tr><td>2016-08-26</td><td>NULL</td><td>214</td></tr>",
                            "<tr><td>2016-08-27</td><td>NULL</td><td>249</td></tr>",
                            "<tr><td>2016-08-28</td><td>NULL</td><td>250</td></tr>",
                            "<tr><td>2016-08-29</td><td>NULL</td><td>180</td></tr>",
                            "<tr><td>2016-08-30</td><td>NULL</td><td>141</td></tr>",
                            "<tr><td>2016-08-31</td><td>NULL</td><td>175</td></tr>",
                            "<tr><td>2016-09-01</td><td>NULL</td><td>171</td></tr>",
                            "<tr><td>2016-09-02</td><td>NULL</td><td>231</td></tr>",
                            "<tr><td>2016-09-03</td><td>NULL</td><td>234</td></tr>",
                            "<tr><td>2016-09-04</td><td>NULL</td><td>251</td></tr>",
                            "<tr><td>2016-09-05</td><td>NULL</td><td>204</td></tr>",
                            "<tr><td>2016-09-06</td><td>NULL</td><td>247</td></tr>",
                            "<tr><td>2016-09-07</td><td>NULL</td><td>239</td></tr>",
                            "<tr><td>2016-09-08</td><td>NULL</td><td>224</td></tr>",
                            "<tr><td>2016-09-09</td><td>NULL</td><td>213</td></tr>",
                            "<tr><td>2016-09-10</td><td>NULL</td><td>196</td></tr>",
                            "<tr><td>2016-09-11</td><td>NULL</td><td>247</td></tr>",
                            "<tr><td>2016-09-12</td><td>NULL</td><td>160</td></tr>",
                            "<tr><td>2016-09-13</td><td>NULL</td><td>214</td></tr>",
                            "<tr><td>2016-09-14</td><td>NULL</td><td>249</td></tr>",
                            "<tr><td>2016-09-15</td><td>NULL</td><td>261</td></tr>",
                            "<tr><td>2016-09-16</td><td>NULL</td><td>190</td></tr>",
                            "<tr><td>2016-09-17</td><td>NULL</td><td>194</td></tr>",
                            "<tr><td>2016-09-18</td><td>NULL</td><td>257</td></tr>",
                            "<tr><td>2016-09-19</td><td>NULL</td><td>163</td></tr>",
                            "<tr><td>2016-09-20</td><td>NULL</td><td>213</td></tr>",
                            "<tr><td>2016-09-21</td><td>NULL</td><td>134</td></tr>",
                            "<tr><td>2016-09-22</td><td>NULL</td><td>176</td></tr>",
                            "<tr><td>2016-09-23</td><td>NULL</td><td>185</td></tr>",
                            "<tr><td>2016-09-24</td><td>NULL</td><td>176</td></tr>",
                            "<tr><td>2016-09-25</td><td>NULL</td><td>192</td></tr>",
                            "<tr><td>2016-09-26</td><td>NULL</td><td>202</td></tr>",
                            "<tr><td>2016-09-27</td><td>NULL</td><td>244</td></tr>",
                            "<tr><td>2016-09-28</td><td>NULL</td><td>220</td></tr>",
                            "<tr><td>2016-09-29</td><td>NULL</td><td>160</td></tr>",
                            "<tr><td>2016-09-30</td><td>NULL</td><td>257</td></tr>",
                            "<tr><td>2016-10-01</td><td>NULL</td><td>215</td></tr>",
                            "<tr><td>2016-10-02</td><td>NULL</td><td>204</td></tr>",
                            "<tr><td>2016-10-03</td><td>NULL</td><td>189</td></tr>",
                            "<tr><td>2016-10-04</td><td>NULL</td><td>191</td></tr>",
                            "<tr><td>2016-10-05</td><td>NULL</td><td>232</td></tr>",
                            "<tr><td>2016-10-06</td><td>NULL</td><td>198</td></tr>",
                            "<tr><td>2016-10-07</td><td>NULL</td><td>183</td></tr>",
                            "<tr><td>2016-10-08</td><td>NULL</td><td>212</td></tr>",
                            "<tr><td>2016-10-09</td><td>NULL</td><td>241</td></tr>",
                            "<tr><td>2016-10-10</td><td>NULL</td><td>188</td></tr>",
                            "<tr><td>2016-10-11</td><td>NULL</td><td>227</td></tr>",
                            "<tr><td>2016-10-12</td><td>NULL</td><td>265</td></tr>",
                            "<tr><td>2016-10-13</td><td>NULL</td><td>247</td></tr>",
                            "<tr><td>2016-10-14</td><td>NULL</td><td>188</td></tr>",
                            "<tr><td>2016-10-15</td><td>NULL</td><td>237</td></tr>",
                            "<tr><td>2016-10-16</td><td>NULL</td><td>190</td></tr>",
                            "<tr><td>2016-10-17</td><td>NULL</td><td>286</td></tr>",
                            "<tr><td>2016-10-18</td><td>NULL</td><td>187</td></tr>",
                            "<tr><td>2016-10-19</td><td>NULL</td><td>234</td></tr>",
                            "<tr><td>2016-10-20</td><td>NULL</td><td>173</td></tr>",
                            "<tr><td>2016-10-21</td><td>NULL</td><td>258</td></tr>",
                            "<tr><td>2016-10-22</td><td>NULL</td><td>243</td></tr>",
                            "<tr><td>2016-10-23</td><td>NULL</td><td>228</td></tr>",
                            "<tr><td>2016-10-24</td><td>NULL</td><td>141</td></tr>",
                            "<tr><td>2016-10-25</td><td>NULL</td><td>285</td></tr>",
                            "<tr><td>2016-10-26</td><td>NULL</td><td>185</td></tr>",
                            "<tr><td>2016-10-27</td><td>NULL</td><td>208</td></tr>",
                            "<tr><td>2016-10-28</td><td>NULL</td><td>202</td></tr>",
                            "<tr><td>2016-10-29</td><td>NULL</td><td>184</td></tr>",
                            "<tr><td>2016-10-30</td><td>NULL</td><td>282</td></tr>",
                            "<tr><td>2016-10-31</td><td>NULL</td><td>242</td></tr>",
                            "<tr><td>2016-11-01</td><td>NULL</td><td>198</td></tr>",
                            "<tr><td>2016-11-02</td><td>NULL</td><td>173</td></tr>",
                            "<tr><td>2016-11-03</td><td>NULL</td><td>193</td></tr>",
                            "<tr><td>2016-11-04</td><td>NULL</td><td>173</td></tr>",
                            "<tr><td>2016-11-05</td><td>NULL</td><td>227</td></tr>",
                            "<tr><td>2016-11-06</td><td>NULL</td><td>220</td></tr>",
                            "<tr><td>2016-11-07</td><td>NULL</td><td>174</td></tr>",
                            "<tr><td>2016-11-08</td><td>NULL</td><td>215</td></tr>",
                            "<tr><td>2016-11-09</td><td>NULL</td><td>160</td></tr>",
                            "<tr><td>2016-11-10</td><td>NULL</td><td>193</td></tr>",
                            "<tr><td>2016-11-11</td><td>NULL</td><td>182</td></tr>",
                            "<tr><td>2016-11-12</td><td>NULL</td><td>268</td></tr>",
                            "<tr><td>2016-11-13</td><td>NULL</td><td>255</td></tr>",
                            "<tr><td>2016-11-14</td><td>NULL</td><td>278</td></tr>",
                            "<tr><td>2016-11-15</td><td>NULL</td><td>179</td></tr>",
                            "<tr><td>2016-11-16</td><td>NULL</td><td>243</td></tr>",
                            "<tr><td>2016-11-17</td><td>NULL</td><td>189</td></tr>",
                            "<tr><td>2016-11-18</td><td>NULL</td><td>197</td></tr>",
                            "<tr><td>2016-11-19</td><td>NULL</td><td>196</td></tr>",
                            "<tr><td>2016-11-20</td><td>NULL</td><td>207</td></tr>",
                            "<tr><td>2016-11-21</td><td>NULL</td><td>188</td></tr>",
                            "<tr><td>2016-11-22</td><td>NULL</td><td>193</td></tr>",
                            "<tr><td>2016-11-23</td><td>NULL</td><td>170</td></tr>",
                            "<tr><td>2016-11-24</td><td>NULL</td><td>190</td></tr>",
                            "<tr><td>2016-11-25</td><td>NULL</td><td>178</td></tr>",
                            "<tr><td>2016-11-26</td><td>NULL</td><td>251</td></tr>",
                            "<tr><td>2016-11-27</td><td>NULL</td><td>243</td></tr>",
                            "<tr><td>2016-11-28</td><td>NULL</td><td>244</td></tr>",
                            "<tr><td>2016-11-29</td><td>NULL</td><td>230</td></tr>",
                            "<tr><td>2016-11-30</td><td>NULL</td><td>165</td></tr>",
                            "<tr><td>2016-12-01</td><td>NULL</td><td>258</td></tr>",
                            "<tr><td>2016-12-02</td><td>NULL</td><td>158</td></tr>",
                            "<tr><td>2016-12-03</td><td>NULL</td><td>167</td></tr>",
                            "<tr><td>2016-12-04</td><td>NULL</td><td>248</td></tr>",
                            "<tr><td>2016-12-05</td><td>NULL</td><td>215</td></tr>",
                            "<tr><td>2016-12-06</td><td>NULL</td><td>190</td></tr>",
                            "<tr><td>2016-12-07</td><td>NULL</td><td>205</td></tr>",
                            "<tr><td>2016-12-08</td><td>NULL</td><td>222</td></tr>",
                            "<tr><td>2016-12-09</td><td>NULL</td><td>229</td></tr>",
                            "<tr><td>2016-12-10</td><td>NULL</td><td>223</td></tr>",
                            "<tr><td>2016-12-11</td><td>NULL</td><td>207</td></tr>",
                            "<tr><td>2016-12-12</td><td>NULL</td><td>207</td></tr>",
                            "<tr><td>2016-12-13</td><td>NULL</td><td>220</td></tr>",
                            "<tr><td>2016-12-14</td><td>NULL</td><td>196</td></tr>",
                            "<tr><td>2016-12-15</td><td>NULL</td><td>178</td></tr>",
                            "<tr><td>2016-12-16</td><td>NULL</td><td>174</td></tr>",
                            "<tr><td>2016-12-17</td><td>NULL</td><td>198</td></tr>",
                            "<tr><td>2016-12-18</td><td>NULL</td><td>156</td></tr>",
                            "<tr><td>2016-12-19</td><td>NULL</td><td>147</td></tr>",
                            "<tr><td>2016-12-20</td><td>NULL</td><td>210</td></tr>",
                            "<tr><td>2016-12-21</td><td>NULL</td><td>263</td></tr>",
                            "<tr><td>2016-12-22</td><td>NULL</td><td>166</td></tr>",
                            "<tr><td>2016-12-23</td><td>NULL</td><td>215</td></tr>",
                            "<tr><td>2016-12-24</td><td>NULL</td><td>160</td></tr>",
                            "<tr><td>2016-12-25</td><td>NULL</td><td>215</td></tr>",
                            "<tr><td>2016-12-26</td><td>NULL</td><td>258</td></tr>",
                            "<tr><td>2016-12-27</td><td>NULL</td><td>260</td></tr>",
                            "<tr><td>2016-12-28</td><td>NULL</td><td>170</td></tr>",
                            "<tr><td>2016-12-29</td><td>NULL</td><td>289</td></tr>",
                            "<tr><td>2016-12-30</td><td>NULL</td><td>202</td></tr>",
                            "<tr><td>2016-12-31</td><td>NULL</td><td>199</td></tr>",
                            "<tr><td>2017-01-01</td><td>NULL</td><td>195</td></tr>",
                            "<tr><td>2017-01-02</td><td>NULL</td><td>185</td></tr>",
                            "<tr><td>2017-01-03</td><td>NULL</td><td>174</td></tr>",
                            "<tr><td>2017-01-04</td><td>NULL</td><td>202</td></tr>",
                            "<tr><td>2017-01-05</td><td>NULL</td><td>219</td></tr>",
                            "<tr><td>2017-01-06</td><td>NULL</td><td>223</td></tr>",
                            "<tr><td>2017-01-07</td><td>NULL</td><td>201</td></tr>",
                            "<tr><td>2017-01-08</td><td>NULL</td><td>161</td></tr>",
                            "<tr><td>2017-01-09</td><td>NULL</td><td>254</td></tr>",
                            "<tr><td>2017-01-10</td><td>NULL</td><td>193</td></tr>",
                            "<tr><td>2017-01-11</td><td>NULL</td><td>246</td></tr>",
                            "<tr><td>2017-01-12</td><td>NULL</td><td>202</td></tr>",
                            "<tr><td>2017-01-13</td><td>NULL</td><td>218</td></tr>",
                            "<tr><td>2017-01-14</td><td>NULL</td><td>221</td></tr>",
                            "<tr><td>2017-01-15</td><td>NULL</td><td>183</td></tr>",
                            "<tr><td>2017-01-16</td><td>NULL</td><td>191</td></tr>",
                            "<tr><td>2017-01-17</td><td>NULL</td><td>231</td></tr>",
                            "<tr><td>2017-01-18</td><td>NULL</td><td>197</td></tr>",
                            "<tr><td>2017-01-19</td><td>NULL</td><td>185</td></tr>",
                            "<tr><td>2017-01-20</td><td>NULL</td><td>174</td></tr>",
                            "<tr><td>2017-01-21</td><td>NULL</td><td>180</td></tr>",
                            "<tr><td>2017-01-22</td><td>NULL</td><td>226</td></tr>",
                            "<tr><td>2017-01-23</td><td>NULL</td><td>232</td></tr>",
                            "<tr><td>2017-01-24</td><td>NULL</td><td>205</td></tr>",
                            "<tr><td>2017-01-25</td><td>NULL</td><td>169</td></tr>",
                            "<tr><td>2017-01-26</td><td>NULL</td><td>238</td></tr>",
                            "<tr><td>2017-01-27</td><td>NULL</td><td>119</td></tr>",
                            "<tr><td>2017-01-28</td><td>NULL</td><td>204</td></tr>",
                            "<tr><td>2017-01-29</td><td>NULL</td><td>225</td></tr>",
                            "<tr><td>2017-01-30</td><td>NULL</td><td>210</td></tr>",
                            "<tr><td>2017-01-31</td><td>NULL</td><td>185</td></tr>",
                            "<tr><td>2017-02-01</td><td>NULL</td><td>147</td></tr>",
                            "<tr><td>2017-02-02</td><td>NULL</td><td>243</td></tr>",
                            "<tr><td>2017-02-03</td><td>NULL</td><td>193</td></tr>",
                            "<tr><td>2017-02-04</td><td>NULL</td><td>174</td></tr>",
                            "<tr><td>2017-02-05</td><td>NULL</td><td>131</td></tr>",
                            "<tr><td>2017-02-06</td><td>NULL</td><td>204</td></tr>",
                            "<tr><td>2017-02-07</td><td>NULL</td><td>202</td></tr>",
                            "<tr><td>2017-02-08</td><td>NULL</td><td>255</td></tr>",
                            "<tr><td>2017-02-09</td><td>NULL</td><td>197</td></tr>",
                            "<tr><td>2017-02-10</td><td>NULL</td><td>234</td></tr>",
                            "<tr><td>2017-02-11</td><td>NULL</td><td>191</td></tr>",
                            "<tr><td>2017-02-12</td><td>NULL</td><td>160</td></tr>",
                            "<tr><td>2017-02-13</td><td>NULL</td><td>213</td></tr>",
                            "<tr><td>2017-02-14</td><td>NULL</td><td>229</td></tr>",
                            "<tr><td>2017-02-15</td><td>NULL</td><td>179</td></tr>",
                            "<tr><td>2017-02-16</td><td>NULL</td><td>232</td></tr>",
                            "<tr><td>2017-02-17</td><td>NULL</td><td>229</td></tr>",
                            "<tr><td>2017-02-18</td><td>NULL</td><td>253</td></tr>",
                            "<tr><td>2017-02-19</td><td>NULL</td><td>193</td></tr>",
                            "<tr><td>2017-02-20</td><td>NULL</td><td>129</td></tr>",
                            "<tr><td>2017-02-21</td><td>NULL</td><td>193</td></tr>",
                            "<tr><td>2017-02-22</td><td>NULL</td><td>229</td></tr>",
                            "<tr><td>2017-02-23</td><td>NULL</td><td>191</td></tr>",
                            "<tr><td>2017-02-24</td><td>NULL</td><td>178</td></tr>",
                            "<tr><td>2017-02-25</td><td>NULL</td><td>182</td></tr>",
                            "<tr><td>2017-02-26</td><td>NULL</td><td>216</td></tr>",
                            "<tr><td>2017-02-27</td><td>NULL</td><td>226</td></tr>",
                            "<tr><td>2017-02-28</td><td>NULL</td><td>294</td></tr>",
                            "<tr><td>2017-03-01</td><td>NULL</td><td>155</td></tr>",
                            "<tr><td>2017-03-02</td><td>NULL</td><td>134</td></tr>",
                            "<tr><td>2017-03-03</td><td>NULL</td><td>213</td></tr>",
                            "<tr><td>2017-03-04</td><td>NULL</td><td>148</td></tr>",
                            "<tr><td>2017-03-05</td><td>NULL</td><td>244</td></tr>",
                            "<tr><td>2017-03-06</td><td>NULL</td><td>274</td></tr>",
                            "<tr><td>2017-03-07</td><td>NULL</td><td>241</td></tr>",
                            "<tr><td>2017-03-08</td><td>NULL</td><td>179</td></tr>",
                            "<tr><td>2017-03-09</td><td>NULL</td><td>189</td></tr>",
                            "<tr><td>2017-03-10</td><td>NULL</td><td>176</td></tr>",
                            "<tr><td>2017-03-11</td><td>NULL</td><td>189</td></tr>",
                            "<tr><td>2017-03-12</td><td>NULL</td><td>175</td></tr>",
                            "<tr><td>2017-03-13</td><td>NULL</td><td>170</td></tr>",
                            "<tr><td>2017-03-14</td><td>NULL</td><td>178</td></tr>",
                            "<tr><td>2017-03-15</td><td>NULL</td><td>247</td></tr>",
                            "<tr><td>2017-03-16</td><td>NULL</td><td>235</td></tr>",
                            "<tr><td>2017-03-17</td><td>NULL</td><td>240</td></tr>",
                            "<tr><td>2017-03-18</td><td>NULL</td><td>220</td></tr>",
                            "<tr><td>2017-03-19</td><td>NULL</td><td>248</td></tr>",
                            "<tr><td>2017-03-20</td><td>NULL</td><td>191</td></tr>",
                            "<tr><td>2017-03-21</td><td>NULL</td><td>216</td></tr>",
                            "<tr><td>2017-03-22</td><td>NULL</td><td>162</td></tr>",
                            "<tr><td>2017-03-23</td><td>NULL</td><td>230</td></tr>",
                            "<tr><td>2017-03-24</td><td>NULL</td><td>231</td></tr>",
                            "<tr><td>2017-03-25</td><td>NULL</td><td>171</td></tr>",
                            "<tr><td>2017-03-26</td><td>NULL</td><td>217</td></tr>",
                            "<tr><td>2017-03-27</td><td>NULL</td><td>208</td></tr>",
                            "<tr><td>2017-03-28</td><td>NULL</td><td>200</td></tr>",
                            "<tr><td>2017-03-29</td><td>NULL</td><td>219</td></tr>",
                            "<tr><td>2017-03-30</td><td>NULL</td><td>236</td></tr>",
                            "<tr><td>2017-03-31</td><td>NULL</td><td>220</td></tr>",
                            "<tr><td>2017-04-01</td><td>NULL</td><td>170</td></tr>",
                            "<tr><td>2017-04-02</td><td>NULL</td><td>213</td></tr>",
                            "<tr><td>2017-04-03</td><td>NULL</td><td>188</td></tr>",
                            "<tr><td>2017-04-04</td><td>NULL</td><td>175</td></tr>",
                            "<tr><td>2017-04-05</td><td>NULL</td><td>188</td></tr>",
                            "<tr><td>2017-04-06</td><td>NULL</td><td>106</td></tr>",
                            "<tr><td>2017-04-07</td><td>NULL</td><td>152</td></tr>",
                            "<tr><td>2017-04-08</td><td>NULL</td><td>120</td></tr>",
                            "<tr><td>2017-04-09</td><td>NULL</td><td>79</td></tr>",
                            "<tr><td>2017-04-10</td><td>NULL</td><td>32</td></tr>",
                            "<tr><td>2017-04-11</td><td>NULL</td><td>21</td></tr>",
                            "<tr><td>NULL</td><td>NULL</td><td>145706</td></tr>",
                            "</table>"
                        ]
                    }
                }
            ],
            "execution_count": 21
        },
        {
            "cell_type": "markdown",
            "source": [
                "```\n",
                "3. Hány olyan ügyfél van, aki még nem rendelt semmit?\n",
                "```\n",
                "\n",
                "1. Csoportosítsuk őket nem szerint, azon belül életkor szerint!\n",
                "2. A lista tartalmazza a részösszegeket és a végösszeget is!\n",
                "\n",
                "![](https://moodle.uni-corvinus.hu/theme/image.php/adaptable/atto_h5p/1709548862/icon)"
            ],
            "metadata": {
                "azdata_cell_guid": "d7876bb9-76d0-4d07-baed-3cb17b2f96c3"
            },
            "attachments": {}
        },
        {
            "cell_type": "code",
            "source": [
                "\r\n",
                "FROM Termek"
            ],
            "metadata": {
                "azdata_cell_guid": "56ec19ce-e249-4551-b2a8-f17569765acc",
                "language": "sql",
                "tags": [
                    "hide_input"
                ]
            },
            "outputs": [
                {
                    "output_type": "display_data",
                    "data": {
                        "text/html": "(551 rows affected)"
                    },
                    "metadata": {}
                },
                {
                    "output_type": "display_data",
                    "data": {
                        "text/html": "Total execution time: 00:00:00.033"
                    },
                    "metadata": {}
                },
                {
                    "output_type": "execute_result",
                    "metadata": {},
                    "execution_count": 15,
                    "data": {
                        "application/vnd.dataresource+json": {
                            "schema": {
                                "fields": [
                                    {
                                        "name": "TERMEKKOD"
                                    },
                                    {
                                        "name": "MEGNEVEZES"
                                    },
                                    {
                                        "name": "KAT_ID"
                                    },
                                    {
                                        "name": "LISTAAR"
                                    },
                                    {
                                        "name": "LEIRAS"
                                    },
                                    {
                                        "name": "RAKTAR_KOD"
                                    },
                                    {
                                        "name": "KESZLET"
                                    },
                                    {
                                        "name": "MEGYS"
                                    },
                                    {
                                        "name": "FELVITTE"
                                    },
                                    {
                                        "name": "FELVITEL"
                                    }
                                ]
                            },
                            "data": [
                                {
                                    "TERMEKKOD": "01010001T",
                                    "MEGNEVEZES": "félfamentes rajzlap A4 (10 lap)",
                                    "KAT_ID": "127",
                                    "LISTAAR": "342",
                                    "LEIRAS": "NULL",
                                    "RAKTAR_KOD": "9",
                                    "KESZLET": "3000",
                                    "MEGYS": "csomag",
                                    "FELVITTE": "Béla",
                                    "FELVITEL": "2016-07-12"
                                },
                                {
                                    "TERMEKKOD": "01010110T",
                                    "MEGNEVEZES": "Fotópapír A/4 fényes",
                                    "KAT_ID": "44",
                                    "LISTAAR": "30",
                                    "LEIRAS": "NULL",
                                    "RAKTAR_KOD": "9",
                                    "KESZLET": "200",
                                    "MEGYS": "db",
                                    "FELVITTE": "Béla",
                                    "FELVITEL": "2016-07-12"
                                },
                                {
                                    "TERMEKKOD": "01010304T",
                                    "MEGNEVEZES": "Öntapadós hologramos papír A/4",
                                    "KAT_ID": "112",
                                    "LISTAAR": "59",
                                    "LEIRAS": "NULL",
                                    "RAKTAR_KOD": "8",
                                    "KESZLET": "1100",
                                    "MEGYS": "db",
                                    "FELVITTE": "Sára",
                                    "FELVITEL": "2016-07-11"
                                },
                                {
                                    "TERMEKKOD": "01020299T",
                                    "MEGNEVEZES": "Oklevél A/4 egyszínű",
                                    "KAT_ID": "110",
                                    "LISTAAR": "48",
                                    "LEIRAS": "NULL",
                                    "RAKTAR_KOD": "9",
                                    "KESZLET": "6600",
                                    "MEGYS": "db",
                                    "FELVITTE": "Béla",
                                    "FELVITEL": "2016-07-07"
                                },
                                {
                                    "TERMEKKOD": "01020300T",
                                    "MEGNEVEZES": "Oklevél A/4 színes",
                                    "KAT_ID": "110",
                                    "LISTAAR": "55",
                                    "LEIRAS": "NULL",
                                    "RAKTAR_KOD": "9",
                                    "KESZLET": "200",
                                    "MEGYS": "db",
                                    "FELVITTE": "Béla",
                                    "FELVITEL": "2016-07-12"
                                },
                                {
                                    "TERMEKKOD": "01030091T",
                                    "MEGNEVEZES": "Emléklap A/5",
                                    "KAT_ID": "33",
                                    "LISTAAR": "26",
                                    "LEIRAS": "NULL",
                                    "RAKTAR_KOD": "7",
                                    "KESZLET": "200",
                                    "MEGYS": "db",
                                    "FELVITTE": "Béla",
                                    "FELVITEL": "2016-07-12"
                                },
                                {
                                    "TERMEKKOD": "01030092T",
                                    "MEGNEVEZES": "Esküvői meghívó",
                                    "KAT_ID": "98",
                                    "LISTAAR": "59",
                                    "LEIRAS": "NULL",
                                    "RAKTAR_KOD": "9",
                                    "KESZLET": "100",
                                    "MEGYS": "db",
                                    "FELVITTE": "Sára",
                                    "FELVITEL": "2016-07-13"
                                },
                                {
                                    "TERMEKKOD": "01040307T",
                                    "MEGNEVEZES": "Pausz papír A/4",
                                    "KAT_ID": "115",
                                    "LISTAAR": "15",
                                    "LEIRAS": "NULL",
                                    "RAKTAR_KOD": "8",
                                    "KESZLET": "200",
                                    "MEGYS": "ív",
                                    "FELVITTE": "Sára",
                                    "FELVITEL": "2016-07-13"
                                },
                                {
                                    "TERMEKKOD": "01040502T",
                                    "MEGNEVEZES": "Előlap spirálhoz",
                                    "KAT_ID": "31",
                                    "LISTAAR": "25",
                                    "LEIRAS": "NULL",
                                    "RAKTAR_KOD": "5",
                                    "KESZLET": "100",
                                    "MEGYS": "db",
                                    "FELVITTE": "Sára",
                                    "FELVITEL": "2016-07-13"
                                },
                                {
                                    "TERMEKKOD": "01080093T",
                                    "MEGNEVEZES": "Fax papír 15 m",
                                    "KAT_ID": "34",
                                    "LISTAAR": "161",
                                    "LEIRAS": "NULL",
                                    "RAKTAR_KOD": "9",
                                    "KESZLET": "300",
                                    "MEGYS": "db",
                                    "FELVITTE": "Sára",
                                    "FELVITEL": "2016-07-13"
                                },
                                {
                                    "TERMEKKOD": "01080512T",
                                    "MEGNEVEZES": "Öntapadó A/4",
                                    "KAT_ID": "112",
                                    "LISTAAR": "4575",
                                    "LEIRAS": "NULL",
                                    "RAKTAR_KOD": "5",
                                    "KESZLET": "100",
                                    "MEGYS": "doboz",
                                    "FELVITTE": "Sára",
                                    "FELVITEL": "2016-07-13"
                                },
                                {
                                    "TERMEKKOD": "01080513T",
                                    "MEGNEVEZES": "Selyemfényű karton A/4",
                                    "KAT_ID": "83",
                                    "LISTAAR": "38",
                                    "LEIRAS": "NULL",
                                    "RAKTAR_KOD": "8",
                                    "KESZLET": "100",
                                    "MEGYS": "ív",
                                    "FELVITTE": "Sára",
                                    "FELVITEL": "2016-07-11"
                                },
                                {
                                    "TERMEKKOD": "01090498T",
                                    "MEGNEVEZES": "Műnyomó 300g 17,5*20",
                                    "KAT_ID": "101",
                                    "LISTAAR": "3",
                                    "LEIRAS": "NULL",
                                    "RAKTAR_KOD": "8",
                                    "KESZLET": "1800",
                                    "MEGYS": "ív",
                                    "FELVITTE": "Mari",
                                    "FELVITEL": "2016-07-06"
                                },
                                {
                                    "TERMEKKOD": "01090499T",
                                    "MEGNEVEZES": "Color Copy A/4 250 g",
                                    "KAT_ID": "21",
                                    "LISTAAR": "15",
                                    "LEIRAS": "NULL",
                                    "RAKTAR_KOD": "6",
                                    "KESZLET": "1500",
                                    "MEGYS": "Ív",
                                    "FELVITTE": "Sára",
                                    "FELVITEL": "2016-07-09"
                                },
                                {
                                    "TERMEKKOD": "01090500T",
                                    "MEGNEVEZES": "Color Copy A4 200 g",
                                    "KAT_ID": "21",
                                    "LISTAAR": "14",
                                    "LEIRAS": "NULL",
                                    "RAKTAR_KOD": "9",
                                    "KESZLET": "100",
                                    "MEGYS": "Ív",
                                    "FELVITTE": "Béla",
                                    "FELVITEL": "2016-07-04"
                                },
                                {
                                    "TERMEKKOD": "01090501T",
                                    "MEGNEVEZES": "Kreatív A/4 300g ",
                                    "KAT_ID": "90",
                                    "LISTAAR": "4",
                                    "LEIRAS": "NULL",
                                    "RAKTAR_KOD": "8",
                                    "KESZLET": "100",
                                    "MEGYS": "Ív",
                                    "FELVITTE": "Béla",
                                    "FELVITEL": "2016-07-01"
                                },
                                {
                                    "TERMEKKOD": "01090515T",
                                    "MEGNEVEZES": "Színes A/3 160 gr IQ",
                                    "KAT_ID": "83",
                                    "LISTAAR": "11",
                                    "LEIRAS": "NULL",
                                    "RAKTAR_KOD": "5",
                                    "KESZLET": "400",
                                    "MEGYS": "ív",
                                    "FELVITTE": "Béla",
                                    "FELVITEL": "2016-07-01"
                                },
                                {
                                    "TERMEKKOD": "01090516T",
                                    "MEGNEVEZES": "Színes karton A4",
                                    "KAT_ID": "83",
                                    "LISTAAR": "25",
                                    "LEIRAS": "NULL",
                                    "RAKTAR_KOD": "9",
                                    "KESZLET": "1000",
                                    "MEGYS": "ív",
                                    "FELVITTE": "Béla",
                                    "FELVITEL": "2016-07-01"
                                },
                                {
                                    "TERMEKKOD": "01090517T",
                                    "MEGNEVEZES": "Színes ofszet B/4",
                                    "KAT_ID": "109",
                                    "LISTAAR": "4",
                                    "LEIRAS": "NULL",
                                    "RAKTAR_KOD": "7",
                                    "KESZLET": "1000",
                                    "MEGYS": "ív",
                                    "FELVITTE": "Béla",
                                    "FELVITEL": "2016-07-01"
                                },
                                {
                                    "TERMEKKOD": "01100070T",
                                    "MEGNEVEZES": "Dekorációs karton",
                                    "KAT_ID": "83",
                                    "LISTAAR": "73",
                                    "LEIRAS": "NULL",
                                    "RAKTAR_KOD": "5",
                                    "KESZLET": "600",
                                    "MEGYS": "ív",
                                    "FELVITTE": "Béla",
                                    "FELVITEL": "2016-07-05"
                                },
                                {
                                    "TERMEKKOD": "01100071T",
                                    "MEGNEVEZES": "Dekorációs karton arany, ezüst",
                                    "KAT_ID": "83",
                                    "LISTAAR": "89",
                                    "LEIRAS": "NULL",
                                    "RAKTAR_KOD": "7",
                                    "KESZLET": "3100",
                                    "MEGYS": "ív",
                                    "FELVITTE": "Sára",
                                    "FELVITEL": "2016-07-06"
                                },
                                {
                                    "TERMEKKOD": "01100072T",
                                    "MEGNEVEZES": "Dipa A/4 keretezett",
                                    "KAT_ID": "26",
                                    "LISTAAR": "9",
                                    "LEIRAS": "NULL",
                                    "RAKTAR_KOD": "9",
                                    "KESZLET": "400",
                                    "MEGYS": "ív",
                                    "FELVITTE": "Sára",
                                    "FELVITEL": "2016-07-06"
                                },
                                {
                                    "TERMEKKOD": "01100094T",
                                    "MEGNEVEZES": "Fénymásoló papír DataCopy",
                                    "KAT_ID": "36",
                                    "LISTAAR": "845",
                                    "LEIRAS": "NULL",
                                    "RAKTAR_KOD": "9",
                                    "KESZLET": "300",
                                    "MEGYS": "csomag",
                                    "FELVITTE": "Sára",
                                    "FELVITEL": "2016-07-02"
                                },
                                {
                                    "TERMEKKOD": "01100095T",
                                    "MEGNEVEZES": "Fénymásoló papír GetCopy",
                                    "KAT_ID": "36",
                                    "LISTAAR": "728",
                                    "LEIRAS": "NULL",
                                    "RAKTAR_KOD": "9",
                                    "KESZLET": "200",
                                    "MEGYS": "csomag",
                                    "FELVITTE": "Sára",
                                    "FELVITEL": "2016-07-01"
                                },
                                {
                                    "TERMEKKOD": "01100096T",
                                    "MEGNEVEZES": "Fénymásoló papír Qconnect",
                                    "KAT_ID": "36",
                                    "LISTAAR": "728",
                                    "LEIRAS": "NULL",
                                    "RAKTAR_KOD": "5",
                                    "KESZLET": "500",
                                    "MEGYS": "csomag",
                                    "FELVITTE": "Sára",
                                    "FELVITEL": "2016-07-01"
                                },
                                {
                                    "TERMEKKOD": "01100496T",
                                    "MEGNEVEZES": "Színes másoló a/4 80g",
                                    "KAT_ID": "21",
                                    "LISTAAR": "1500",
                                    "LEIRAS": "NULL",
                                    "RAKTAR_KOD": "5",
                                    "KESZLET": "300",
                                    "MEGYS": "csomag",
                                    "FELVITTE": "Sára",
                                    "FELVITEL": "2016-07-01"
                                },
                                {
                                    "TERMEKKOD": "01100497T",
                                    "MEGNEVEZES": "Color Copy 160 g-os ",
                                    "KAT_ID": "21",
                                    "LISTAAR": "14",
                                    "LEIRAS": "NULL",
                                    "RAKTAR_KOD": "5",
                                    "KESZLET": "100",
                                    "MEGYS": "ív",
                                    "FELVITTE": "Béla",
                                    "FELVITEL": "2016-07-05"
                                },
                                {
                                    "TERMEKKOD": "01100503T",
                                    "MEGNEVEZES": "Color Copy A4 120 g",
                                    "KAT_ID": "21",
                                    "LISTAAR": "10",
                                    "LEIRAS": "NULL",
                                    "RAKTAR_KOD": "6",
                                    "KESZLET": "900",
                                    "MEGYS": "ív",
                                    "FELVITTE": "Béla",
                                    "FELVITEL": "2016-07-05"
                                },
                                {
                                    "TERMEKKOD": "01100504T",
                                    "MEGNEVEZES": "Fehér másoló A/3",
                                    "KAT_ID": "36",
                                    "LISTAAR": "1488",
                                    "LEIRAS": "NULL",
                                    "RAKTAR_KOD": "6",
                                    "KESZLET": "1000",
                                    "MEGYS": "csomag",
                                    "FELVITTE": "Sára",
                                    "FELVITEL": "2016-07-10"
                                },
                                {
                                    "TERMEKKOD": "01100505T",
                                    "MEGNEVEZES": "Fehér másoló A/4",
                                    "KAT_ID": "36",
                                    "LISTAAR": "686",
                                    "LEIRAS": "NULL",
                                    "RAKTAR_KOD": "6",
                                    "KESZLET": "200",
                                    "MEGYS": "csomag",
                                    "FELVITTE": "Sára",
                                    "FELVITEL": "2016-07-10"
                                },
                                {
                                    "TERMEKKOD": "01100509T",
                                    "MEGNEVEZES": "Márványos A/4",
                                    "KAT_ID": "83",
                                    "LISTAAR": "40",
                                    "LEIRAS": "NULL",
                                    "RAKTAR_KOD": "6",
                                    "KESZLET": "100",
                                    "MEGYS": "ív",
                                    "FELVITTE": "Sára",
                                    "FELVITEL": "2016-07-12"
                                },
                                {
                                    "TERMEKKOD": "01100510T",
                                    "MEGNEVEZES": "Kreatív A/4 120g ",
                                    "KAT_ID": "90",
                                    "LISTAAR": "13",
                                    "LEIRAS": "NULL",
                                    "RAKTAR_KOD": "5",
                                    "KESZLET": "200",
                                    "MEGYS": "ív",
                                    "FELVITTE": "Sára",
                                    "FELVITEL": "2016-07-12"
                                },
                                {
                                    "TERMEKKOD": "02010028T",
                                    "MEGNEVEZES": "Árazószalag ",
                                    "KAT_ID": "10",
                                    "LISTAAR": "106",
                                    "LEIRAS": "NULL",
                                    "RAKTAR_KOD": "9",
                                    "KESZLET": "100",
                                    "MEGYS": "db",
                                    "FELVITTE": "Sára",
                                    "FELVITEL": "2016-07-16"
                                },
                                {
                                    "TERMEKKOD": "02020029T",
                                    "MEGNEVEZES": "Átírótömb A/6",
                                    "KAT_ID": "11",
                                    "LISTAAR": "115",
                                    "LEIRAS": "NULL",
                                    "RAKTAR_KOD": "8",
                                    "KESZLET": "200",
                                    "MEGYS": "db",
                                    "FELVITTE": "Sára",
                                    "FELVITEL": "2016-07-19"
                                },
                                {
                                    "TERMEKKOD": "02020032T",
                                    "MEGNEVEZES": "Beírókönyv A5 ",
                                    "KAT_ID": "13",
                                    "LISTAAR": "133",
                                    "LEIRAS": "NULL",
                                    "RAKTAR_KOD": "8",
                                    "KESZLET": "200",
                                    "MEGYS": "db",
                                    "FELVITTE": "Sára",
                                    "FELVITEL": "2016-07-16"
                                },
                                {
                                    "TERMEKKOD": "02020033T",
                                    "MEGNEVEZES": "Beírókönyv A4",
                                    "KAT_ID": "13",
                                    "LISTAAR": "328",
                                    "LEIRAS": "NULL",
                                    "RAKTAR_KOD": "5",
                                    "KESZLET": "100",
                                    "MEGYS": "db",
                                    "FELVITTE": "Sára",
                                    "FELVITEL": "2016-07-11"
                                },
                                {
                                    "TERMEKKOD": "02020037T",
                                    "MEGNEVEZES": "Bevételi pénztárbizonylat 3×25",
                                    "KAT_ID": "116",
                                    "LISTAAR": "144",
                                    "LEIRAS": "NULL",
                                    "RAKTAR_KOD": "6",
                                    "KESZLET": "300",
                                    "MEGYS": "db",
                                    "FELVITTE": "Sára",
                                    "FELVITEL": "2016-07-11"
                                },
                                {
                                    "TERMEKKOD": "02020245T",
                                    "MEGNEVEZES": "Kiadási pénztárbizonylat 2×25",
                                    "KAT_ID": "116",
                                    "LISTAAR": "103",
                                    "LEIRAS": "NULL",
                                    "RAKTAR_KOD": "7",
                                    "KESZLET": "400",
                                    "MEGYS": "db",
                                    "FELVITTE": "Sára",
                                    "FELVITEL": "2016-07-11"
                                },
                                {
                                    "TERMEKKOD": "02020444T",
                                    "MEGNEVEZES": "Határidő napló A/6",
                                    "KAT_ID": "62",
                                    "LISTAAR": "464",
                                    "LEIRAS": "NULL",
                                    "RAKTAR_KOD": "9",
                                    "KESZLET": "2700",
                                    "MEGYS": "db",
                                    "FELVITTE": "Sára",
                                    "FELVITEL": "2016-07-11"
                                },
                                {
                                    "TERMEKKOD": "02030040T",
                                    "MEGNEVEZES": "Boríték LA 4 francia",
                                    "KAT_ID": "16",
                                    "LISTAAR": "6",
                                    "LEIRAS": "NULL",
                                    "RAKTAR_KOD": "6",
                                    "KESZLET": "100",
                                    "MEGYS": "db",
                                    "FELVITTE": "Sára",
                                    "FELVITEL": "2016-07-11"
                                },
                                {
                                    "TERMEKKOD": "02030041T",
                                    "MEGNEVEZES": "Boríték LC 5",
                                    "KAT_ID": "16",
                                    "LISTAAR": "6",
                                    "LEIRAS": "NULL",
                                    "RAKTAR_KOD": "9",
                                    "KESZLET": "2000",
                                    "MEGYS": "db",
                                    "FELVITTE": "Mari",
                                    "FELVITEL": "2016-07-12"
                                },
                                {
                                    "TERMEKKOD": "02030042T",
                                    "MEGNEVEZES": "Boríték LC 6",
                                    "KAT_ID": "16",
                                    "LISTAAR": "3",
                                    "LEIRAS": "NULL",
                                    "RAKTAR_KOD": "6",
                                    "KESZLET": "2000",
                                    "MEGYS": "db",
                                    "FELVITTE": "Mari",
                                    "FELVITEL": "2016-07-15"
                                },
                                {
                                    "TERMEKKOD": "02030043T",
                                    "MEGNEVEZES": "Boríték légp. kicsi",
                                    "KAT_ID": "16",
                                    "LISTAAR": "39",
                                    "LEIRAS": "NULL",
                                    "RAKTAR_KOD": "7",
                                    "KESZLET": "2500",
                                    "MEGYS": "db",
                                    "FELVITTE": "Sára",
                                    "FELVITEL": "2016-07-20"
                                },
                                {
                                    "TERMEKKOD": "02030044T",
                                    "MEGNEVEZES": "Boríték mintás",
                                    "KAT_ID": "16",
                                    "LISTAAR": "15",
                                    "LEIRAS": "NULL",
                                    "RAKTAR_KOD": "6",
                                    "KESZLET": "10000",
                                    "MEGYS": "db",
                                    "FELVITTE": "Béla",
                                    "FELVITEL": "2016-07-23"
                                },
                                {
                                    "TERMEKKOD": "02040002T",
                                    "MEGNEVEZES": "irodai tűzőgép",
                                    "KAT_ID": "149",
                                    "LISTAAR": "2100",
                                    "LEIRAS": "NULL",
                                    "RAKTAR_KOD": "6",
                                    "KESZLET": "10000",
                                    "MEGYS": "db",
                                    "FELVITTE": "Béla",
                                    "FELVITEL": "2016-07-23"
                                },
                                {
                                    "TERMEKKOD": "02040025T",
                                    "MEGNEVEZES": "Álló irattartó karton",
                                    "KAT_ID": "70",
                                    "LISTAAR": "133",
                                    "LEIRAS": "NULL",
                                    "RAKTAR_KOD": "8",
                                    "KESZLET": "200",
                                    "MEGYS": "db",
                                    "FELVITTE": "Béla",
                                    "FELVITEL": "2016-07-23"
                                },
                                {
                                    "TERMEKKOD": "02040145T",
                                    "MEGNEVEZES": "Gemkapocs 28 mm",
                                    "KAT_ID": "48",
                                    "LISTAAR": "30",
                                    "LEIRAS": "NULL",
                                    "RAKTAR_KOD": "8",
                                    "KESZLET": "400",
                                    "MEGYS": "db",
                                    "FELVITTE": "Béla",
                                    "FELVITEL": "2016-07-23"
                                },
                                {
                                    "TERMEKKOD": "02040146T",
                                    "MEGNEVEZES": "Gemkapocs ICO",
                                    "KAT_ID": "48",
                                    "LISTAAR": "48",
                                    "LEIRAS": "NULL",
                                    "RAKTAR_KOD": "7",
                                    "KESZLET": "3200",
                                    "MEGYS": "db",
                                    "FELVITTE": "Béla",
                                    "FELVITEL": "2016-07-23"
                                },
                                {
                                    "TERMEKKOD": "02040147T",
                                    "MEGNEVEZES": "Genotherm lefűzhető A/5",
                                    "KAT_ID": "51",
                                    "LISTAAR": "8",
                                    "LEIRAS": "NULL",
                                    "RAKTAR_KOD": "8",
                                    "KESZLET": "1500",
                                    "MEGYS": "db",
                                    "FELVITTE": "Béla",
                                    "FELVITEL": "2016-07-23"
                                },
                                {
                                    "TERMEKKOD": "02040148T",
                                    "MEGNEVEZES": "Genotherm lefűzhető A4 10db-os",
                                    "KAT_ID": "51",
                                    "LISTAAR": "63",
                                    "LEIRAS": "NULL",
                                    "RAKTAR_KOD": "9",
                                    "KESZLET": "200",
                                    "MEGYS": "csomag",
                                    "FELVITTE": "Béla",
                                    "FELVITEL": "2016-07-18"
                                },
                                {
                                    "TERMEKKOD": "02040149T",
                                    "MEGNEVEZES": "Genotherm A4 10db-os",
                                    "KAT_ID": "51",
                                    "LISTAAR": "110",
                                    "LEIRAS": "NULL",
                                    "RAKTAR_KOD": "7",
                                    "KESZLET": "4700",
                                    "MEGYS": "csomag",
                                    "FELVITTE": "Béla",
                                    "FELVITEL": "2016-07-18"
                                },
                                {
                                    "TERMEKKOD": "02040176T",
                                    "MEGNEVEZES": "Gyorsfűző dosszié fehér",
                                    "KAT_ID": "58",
                                    "LISTAAR": "18",
                                    "LEIRAS": "NULL",
                                    "RAKTAR_KOD": "7",
                                    "KESZLET": "1200",
                                    "MEGYS": "db",
                                    "FELVITTE": "Sára",
                                    "FELVITEL": "2016-07-23"
                                },
                                {
                                    "TERMEKKOD": "02040177T",
                                    "MEGNEVEZES": "Gyorsfűző műa.",
                                    "KAT_ID": "58",
                                    "LISTAAR": "30",
                                    "LEIRAS": "NULL",
                                    "RAKTAR_KOD": "5",
                                    "KESZLET": "200",
                                    "MEGYS": "db",
                                    "FELVITTE": "Béla",
                                    "FELVITEL": "2016-07-21"
                                },
                                {
                                    "TERMEKKOD": "02040178T",
                                    "MEGNEVEZES": "Gyorsfűző műa.",
                                    "KAT_ID": "58",
                                    "LISTAAR": "35",
                                    "LEIRAS": "NULL",
                                    "RAKTAR_KOD": "8",
                                    "KESZLET": "1000",
                                    "MEGYS": "db",
                                    "FELVITTE": "Béla",
                                    "FELVITEL": "2016-07-21"
                                },
                                {
                                    "TERMEKKOD": "02040194T",
                                    "MEGNEVEZES": "Hibajav.roll.Pritt 4,2mm",
                                    "KAT_ID": "66",
                                    "LISTAAR": "794",
                                    "LEIRAS": "NULL",
                                    "RAKTAR_KOD": "8",
                                    "KESZLET": "500",
                                    "MEGYS": "db",
                                    "FELVITTE": "Béla",
                                    "FELVITEL": "2016-07-21"
                                },
                                {
                                    "TERMEKKOD": "02040195T",
                                    "MEGNEVEZES": "Hibajavító ecsetes Aqua",
                                    "KAT_ID": "66",
                                    "LISTAAR": "185",
                                    "LEIRAS": "NULL",
                                    "RAKTAR_KOD": "5",
                                    "KESZLET": "400",
                                    "MEGYS": "db",
                                    "FELVITTE": "Béla",
                                    "FELVITEL": "2016-07-19"
                                },
                                {
                                    "TERMEKKOD": "02040196T",
                                    "MEGNEVEZES": "Hibajavító készlet Blanco",
                                    "KAT_ID": "66",
                                    "LISTAAR": "273",
                                    "LEIRAS": "NULL",
                                    "RAKTAR_KOD": "7",
                                    "KESZLET": "100",
                                    "MEGYS": "db",
                                    "FELVITTE": "Béla",
                                    "FELVITEL": "2016-07-19"
                                },
                                {
                                    "TERMEKKOD": "02040197T",
                                    "MEGNEVEZES": "Hibajavító lap ",
                                    "KAT_ID": "66",
                                    "LISTAAR": "81",
                                    "LEIRAS": "NULL",
                                    "RAKTAR_KOD": "9",
                                    "KESZLET": "100",
                                    "MEGYS": "db",
                                    "FELVITTE": "Béla",
                                    "FELVITEL": "2016-07-19"
                                },
                                {
                                    "TERMEKKOD": "02040198T",
                                    "MEGNEVEZES": "Hibajavító roller 5 mm",
                                    "KAT_ID": "66",
                                    "LISTAAR": "133",
                                    "LEIRAS": "NULL",
                                    "RAKTAR_KOD": "7",
                                    "KESZLET": "200",
                                    "MEGYS": "db",
                                    "FELVITTE": "Béla",
                                    "FELVITEL": "2016-07-19"
                                },
                                {
                                    "TERMEKKOD": "02040199T",
                                    "MEGNEVEZES": "Hibajavító roller Pax",
                                    "KAT_ID": "66",
                                    "LISTAAR": "286",
                                    "LEIRAS": "NULL",
                                    "RAKTAR_KOD": "7",
                                    "KESZLET": "300",
                                    "MEGYS": "db",
                                    "FELVITTE": "Béla",
                                    "FELVITEL": "2016-07-19"
                                },
                                {
                                    "TERMEKKOD": "02040200T",
                                    "MEGNEVEZES": "Hibajavító Kores mini pen",
                                    "KAT_ID": "66",
                                    "LISTAAR": "278",
                                    "LEIRAS": "NULL",
                                    "RAKTAR_KOD": "6",
                                    "KESZLET": "300",
                                    "MEGYS": "db",
                                    "FELVITTE": "Mari",
                                    "FELVITEL": "2016-07-14"
                                },
                                {
                                    "TERMEKKOD": "02040206T",
                                    "MEGNEVEZES": "Írásvetítő fólia",
                                    "KAT_ID": "155",
                                    "LISTAAR": "81",
                                    "LEIRAS": "NULL",
                                    "RAKTAR_KOD": "8",
                                    "KESZLET": "100",
                                    "MEGYS": "db",
                                    "FELVITTE": "Mari",
                                    "FELVITEL": "2016-07-14"
                                },
                                {
                                    "TERMEKKOD": "02040207T",
                                    "MEGNEVEZES": "Iratgyűjtő ESSELTE ablakos",
                                    "KAT_ID": "70",
                                    "LISTAAR": "19",
                                    "LEIRAS": "NULL",
                                    "RAKTAR_KOD": "6",
                                    "KESZLET": "1500",
                                    "MEGYS": "db",
                                    "FELVITTE": "Mari",
                                    "FELVITEL": "2016-07-14"
                                },
                                {
                                    "TERMEKKOD": "02040208T",
                                    "MEGNEVEZES": "Iratgyűjtő fehér",
                                    "KAT_ID": "70",
                                    "LISTAAR": "19",
                                    "LEIRAS": "NULL",
                                    "RAKTAR_KOD": "8",
                                    "KESZLET": "400",
                                    "MEGYS": "db",
                                    "FELVITTE": "Mari",
                                    "FELVITEL": "2016-07-19"
                                },
                                {
                                    "TERMEKKOD": "02040209T",
                                    "MEGNEVEZES": "Iratsín fehér",
                                    "KAT_ID": "72",
                                    "LISTAAR": "44",
                                    "LEIRAS": "NULL",
                                    "RAKTAR_KOD": "7",
                                    "KESZLET": "600",
                                    "MEGYS": "db",
                                    "FELVITTE": "Mari",
                                    "FELVITEL": "2016-07-19"
                                },
                                {
                                    "TERMEKKOD": "02040210T",
                                    "MEGNEVEZES": "Iratsín kék",
                                    "KAT_ID": "72",
                                    "LISTAAR": "89",
                                    "LEIRAS": "NULL",
                                    "RAKTAR_KOD": "6",
                                    "KESZLET": "2500",
                                    "MEGYS": "db",
                                    "FELVITTE": "Mari",
                                    "FELVITEL": "2016-07-19"
                                },
                                {
                                    "TERMEKKOD": "02040211T",
                                    "MEGNEVEZES": "Iratrendező ESSELTE",
                                    "KAT_ID": "71",
                                    "LISTAAR": "243",
                                    "LEIRAS": "NULL",
                                    "RAKTAR_KOD": "9",
                                    "KESZLET": "700",
                                    "MEGYS": "db",
                                    "FELVITTE": "Béla",
                                    "FELVITEL": "2016-07-14"
                                },
                                {
                                    "TERMEKKOD": "02040214T",
                                    "MEGNEVEZES": "Iromány fedél feles",
                                    "KAT_ID": "74",
                                    "LISTAAR": "59",
                                    "LEIRAS": "NULL",
                                    "RAKTAR_KOD": "5",
                                    "KESZLET": "300",
                                    "MEGYS": "db",
                                    "FELVITTE": "Mari",
                                    "FELVITEL": "2016-07-11"
                                },
                                {
                                    "TERMEKKOD": "02040290T",
                                    "MEGNEVEZES": "Naptár 24-es",
                                    "KAT_ID": "103",
                                    "LISTAAR": "89",
                                    "LEIRAS": "NULL",
                                    "RAKTAR_KOD": "8",
                                    "KESZLET": "300",
                                    "MEGYS": "db",
                                    "FELVITTE": "Mari",
                                    "FELVITEL": "2016-07-10"
                                },
                                {
                                    "TERMEKKOD": "02040291T",
                                    "MEGNEVEZES": "Naptárhát kicsi",
                                    "KAT_ID": "104",
                                    "LISTAAR": "15",
                                    "LEIRAS": "NULL",
                                    "RAKTAR_KOD": "8",
                                    "KESZLET": "1400",
                                    "MEGYS": "db",
                                    "FELVITTE": "Mari",
                                    "FELVITEL": "2016-07-10"
                                },
                                {
                                    "TERMEKKOD": "02040292T",
                                    "MEGNEVEZES": "Naptárhát nagy",
                                    "KAT_ID": "104",
                                    "LISTAAR": "78",
                                    "LEIRAS": "NULL",
                                    "RAKTAR_KOD": "9",
                                    "KESZLET": "6900",
                                    "MEGYS": "db",
                                    "FELVITTE": "Sára",
                                    "FELVITEL": "2016-07-09"
                                },
                                {
                                    "TERMEKKOD": "02040293T",
                                    "MEGNEVEZES": "Névjegytartó kicsi",
                                    "KAT_ID": "105",
                                    "LISTAAR": "310",
                                    "LEIRAS": "NULL",
                                    "RAKTAR_KOD": "9",
                                    "KESZLET": "9000",
                                    "MEGYS": "db",
                                    "FELVITTE": "Sára",
                                    "FELVITEL": "2016-07-09"
                                },
                                {
                                    "TERMEKKOD": "02040294T",
                                    "MEGNEVEZES": "Notesz A/5 sima",
                                    "KAT_ID": "106",
                                    "LISTAAR": "103",
                                    "LEIRAS": "NULL",
                                    "RAKTAR_KOD": "5",
                                    "KESZLET": "300",
                                    "MEGYS": "db",
                                    "FELVITTE": "Béla",
                                    "FELVITEL": "2016-07-07"
                                },
                                {
                                    "TERMEKKOD": "02040295T",
                                    "MEGNEVEZES": "Notesz A/5 sima spirál",
                                    "KAT_ID": "106",
                                    "LISTAAR": "89",
                                    "LEIRAS": "NULL",
                                    "RAKTAR_KOD": "9",
                                    "KESZLET": "4100",
                                    "MEGYS": "db",
                                    "FELVITTE": "Mari",
                                    "FELVITEL": "2016-07-11"
                                },
                                {
                                    "TERMEKKOD": "02040296T",
                                    "MEGNEVEZES": "Notesz A/6 College",
                                    "KAT_ID": "106",
                                    "LISTAAR": "56",
                                    "LEIRAS": "NULL",
                                    "RAKTAR_KOD": "6",
                                    "KESZLET": "2000",
                                    "MEGYS": "db",
                                    "FELVITTE": "Mari",
                                    "FELVITEL": "2016-07-14"
                                },
                                {
                                    "TERMEKKOD": "02040297T",
                                    "MEGNEVEZES": "Notesz sima spirál College",
                                    "KAT_ID": "106",
                                    "LISTAAR": "103",
                                    "LEIRAS": "NULL",
                                    "RAKTAR_KOD": "9",
                                    "KESZLET": "1900",
                                    "MEGYS": "db",
                                    "FELVITTE": "Mari",
                                    "FELVITEL": "2016-07-14"
                                },
                                {
                                    "TERMEKKOD": "02040298T",
                                    "MEGNEVEZES": "Notesz mintás",
                                    "KAT_ID": "106",
                                    "LISTAAR": "44",
                                    "LEIRAS": "NULL",
                                    "RAKTAR_KOD": "6",
                                    "KESZLET": "300",
                                    "MEGYS": "db",
                                    "FELVITTE": "Mari",
                                    "FELVITEL": "2016-07-14"
                                },
                                {
                                    "TERMEKKOD": "02040308T",
                                    "MEGNEVEZES": "Pénztárgépsz. 2 pl. nem öníró",
                                    "KAT_ID": "117",
                                    "LISTAAR": "81",
                                    "LEIRAS": "NULL",
                                    "RAKTAR_KOD": "9",
                                    "KESZLET": "300",
                                    "MEGYS": "db",
                                    "FELVITTE": "Mari",
                                    "FELVITEL": "2016-07-16"
                                },
                                {
                                    "TERMEKKOD": "02040309T",
                                    "MEGNEVEZES": "Pénztárgépszalag 2pl SC 57.5/60",
                                    "KAT_ID": "117",
                                    "LISTAAR": "93",
                                    "LEIRAS": "NULL",
                                    "RAKTAR_KOD": "6",
                                    "KESZLET": "100",
                                    "MEGYS": "db",
                                    "FELVITTE": "Mari",
                                    "FELVITEL": "2016-07-16"
                                },
                                {
                                    "TERMEKKOD": "02040401T",
                                    "MEGNEVEZES": "Tűzőgép Boxer 10",
                                    "KAT_ID": "149",
                                    "LISTAAR": "339",
                                    "LEIRAS": "NULL",
                                    "RAKTAR_KOD": "8",
                                    "KESZLET": "300",
                                    "MEGYS": "db",
                                    "FELVITTE": "Mari",
                                    "FELVITEL": "2016-07-21"
                                },
                                {
                                    "TERMEKKOD": "02040402T",
                                    "MEGNEVEZES": "Tűzőgép Boxer ",
                                    "KAT_ID": "149",
                                    "LISTAAR": "286",
                                    "LEIRAS": "NULL",
                                    "RAKTAR_KOD": "5",
                                    "KESZLET": "900",
                                    "MEGYS": "db",
                                    "FELVITTE": "Mari",
                                    "FELVITEL": "2016-07-21"
                                },
                                {
                                    "TERMEKKOD": "02040403T",
                                    "MEGNEVEZES": "Tűzőgép SAX 239",
                                    "KAT_ID": "149",
                                    "LISTAAR": "1351",
                                    "LEIRAS": "NULL",
                                    "RAKTAR_KOD": "5",
                                    "KESZLET": "1100",
                                    "MEGYS": "db",
                                    "FELVITTE": "Mari",
                                    "FELVITEL": "2016-07-21"
                                },
                                {
                                    "TERMEKKOD": "02040404T",
                                    "MEGNEVEZES": "Tűzőgép EAGLE",
                                    "KAT_ID": "149",
                                    "LISTAAR": "405",
                                    "LEIRAS": "NULL",
                                    "RAKTAR_KOD": "8",
                                    "KESZLET": "300",
                                    "MEGYS": "db",
                                    "FELVITTE": "Mari",
                                    "FELVITEL": "2016-07-21"
                                },
                                {
                                    "TERMEKKOD": "02040405T",
                                    "MEGNEVEZES": "Tűzőkapocs 10-es",
                                    "KAT_ID": "150",
                                    "LISTAAR": "44",
                                    "LEIRAS": "NULL",
                                    "RAKTAR_KOD": "7",
                                    "KESZLET": "300",
                                    "MEGYS": "csomag",
                                    "FELVITTE": "Mari",
                                    "FELVITEL": "2016-07-22"
                                },
                                {
                                    "TERMEKKOD": "02040406T",
                                    "MEGNEVEZES": "Tűzőkapocs 24/6",
                                    "KAT_ID": "150",
                                    "LISTAAR": "34",
                                    "LEIRAS": "NULL",
                                    "RAKTAR_KOD": "9",
                                    "KESZLET": "4200",
                                    "MEGYS": "csomag",
                                    "FELVITTE": "Mari",
                                    "FELVITEL": "2016-07-21"
                                },
                                {
                                    "TERMEKKOD": "02040506T",
                                    "MEGNEVEZES": "Fólia tasakos A4 125 mik.",
                                    "KAT_ID": "43",
                                    "LISTAAR": "44",
                                    "LEIRAS": "NULL",
                                    "RAKTAR_KOD": "9",
                                    "KESZLET": "100",
                                    "MEGYS": "ív",
                                    "FELVITTE": "Mari",
                                    "FELVITEL": "2016-07-24"
                                },
                                {
                                    "TERMEKKOD": "02040507T",
                                    "MEGNEVEZES": "Fólia tasakos A4 80 mik.",
                                    "KAT_ID": "43",
                                    "LISTAAR": "40",
                                    "LEIRAS": "NULL",
                                    "RAKTAR_KOD": "8",
                                    "KESZLET": "100",
                                    "MEGYS": "ív",
                                    "FELVITTE": "Mari",
                                    "FELVITEL": "2016-07-23"
                                },
                                {
                                    "TERMEKKOD": "02040508T",
                                    "MEGNEVEZES": "Fólia tasakos A4100 mik.",
                                    "KAT_ID": "43",
                                    "LISTAAR": "44",
                                    "LEIRAS": "NULL",
                                    "RAKTAR_KOD": "8",
                                    "KESZLET": "100",
                                    "MEGYS": "ív",
                                    "FELVITTE": "Sára",
                                    "FELVITEL": "2016-07-28"
                                },
                                {
                                    "TERMEKKOD": "02050460T",
                                    "MEGNEVEZES": "Boríték C/4-es",
                                    "KAT_ID": "16",
                                    "LISTAAR": "15",
                                    "LEIRAS": "NULL",
                                    "RAKTAR_KOD": "5",
                                    "KESZLET": "200",
                                    "MEGYS": "db",
                                    "FELVITTE": "Mari",
                                    "FELVITEL": "2016-07-26"
                                },
                                {
                                    "TERMEKKOD": "02050461T",
                                    "MEGNEVEZES": "Boríték B/4-es",
                                    "KAT_ID": "16",
                                    "LISTAAR": "18",
                                    "LEIRAS": "NULL",
                                    "RAKTAR_KOD": "8",
                                    "KESZLET": "100",
                                    "MEGYS": "db",
                                    "FELVITTE": "Béla",
                                    "FELVITEL": "2016-07-23"
                                },
                                {
                                    "TERMEKKOD": "02060034T",
                                    "MEGNEVEZES": "Bélyegzőfesték ",
                                    "KAT_ID": "15",
                                    "LISTAAR": "297",
                                    "LEIRAS": "NULL",
                                    "RAKTAR_KOD": "9",
                                    "KESZLET": "700",
                                    "MEGYS": "db",
                                    "FELVITTE": "Béla",
                                    "FELVITEL": "2016-07-23"
                                },
                                {
                                    "TERMEKKOD": "02060038T",
                                    "MEGNEVEZES": "Bélyegző IDEAL 50",
                                    "KAT_ID": "14",
                                    "LISTAAR": "780",
                                    "LEIRAS": "NULL",
                                    "RAKTAR_KOD": "8",
                                    "KESZLET": "100",
                                    "MEGYS": "db",
                                    "FELVITTE": "Béla",
                                    "FELVITEL": "2016-07-23"
                                },
                                {
                                    "TERMEKKOD": "02060039T",
                                    "MEGNEVEZES": "Bélyegző párna",
                                    "KAT_ID": "14",
                                    "LISTAAR": "650",
                                    "LEIRAS": "NULL",
                                    "RAKTAR_KOD": "6",
                                    "KESZLET": "100",
                                    "MEGYS": "db",
                                    "FELVITTE": "Béla",
                                    "FELVITEL": "2016-07-26"
                                },
                                {
                                    "TERMEKKOD": "02060447T",
                                    "MEGNEVEZES": "Bélyegző pocket",
                                    "KAT_ID": "14",
                                    "LISTAAR": "1377",
                                    "LEIRAS": "NULL",
                                    "RAKTAR_KOD": "6",
                                    "KESZLET": "900",
                                    "MEGYS": "db",
                                    "FELVITTE": "Mari",
                                    "FELVITEL": "2016-07-27"
                                },
                                {
                                    "TERMEKKOD": "02060448T",
                                    "MEGNEVEZES": "Bélyegző RP 18-47",
                                    "KAT_ID": "14",
                                    "LISTAAR": "1147",
                                    "LEIRAS": "NULL",
                                    "RAKTAR_KOD": "7",
                                    "KESZLET": "1200",
                                    "MEGYS": "db",
                                    "FELVITTE": "Sára",
                                    "FELVITEL": "2016-07-29"
                                },
                                {
                                    "TERMEKKOD": "02080069T",
                                    "MEGNEVEZES": "CD tartó tok",
                                    "KAT_ID": "17",
                                    "LISTAAR": "30",
                                    "LEIRAS": "NULL",
                                    "RAKTAR_KOD": "8",
                                    "KESZLET": "400",
                                    "MEGYS": "db",
                                    "FELVITTE": "Sára",
                                    "FELVITEL": "2016-07-29"
                                },
                                {
                                    "TERMEKKOD": "02080081T",
                                    "MEGNEVEZES": "Dvd",
                                    "KAT_ID": "29",
                                    "LISTAAR": "133",
                                    "LEIRAS": "NULL",
                                    "RAKTAR_KOD": "9",
                                    "KESZLET": "1300",
                                    "MEGYS": "db",
                                    "FELVITTE": "Sára",
                                    "FELVITEL": "2016-07-24"
                                },
                                {
                                    "TERMEKKOD": "02080109T",
                                    "MEGNEVEZES": "Floppy lemez",
                                    "KAT_ID": "42",
                                    "LISTAAR": "51",
                                    "LEIRAS": "NULL",
                                    "RAKTAR_KOD": "7",
                                    "KESZLET": "500",
                                    "MEGYS": "db",
                                    "FELVITTE": "Mari",
                                    "FELVITEL": "2016-07-27"
                                },
                                {
                                    "TERMEKKOD": "02080226T",
                                    "MEGNEVEZES": "Kapocskiszedő",
                                    "KAT_ID": "82",
                                    "LISTAAR": "106",
                                    "LEIRAS": "NULL",
                                    "RAKTAR_KOD": "8",
                                    "KESZLET": "1300",
                                    "MEGYS": "db",
                                    "FELVITTE": "Béla",
                                    "FELVITEL": "2016-07-29"
                                },
                                {
                                    "TERMEKKOD": "02080431T",
                                    "MEGNEVEZES": "Álló irattartó",
                                    "KAT_ID": "73",
                                    "LISTAAR": "214",
                                    "LEIRAS": "NULL",
                                    "RAKTAR_KOD": "8",
                                    "KESZLET": "200",
                                    "MEGYS": "db",
                                    "FELVITTE": "Sára",
                                    "FELVITEL": "2016-07-28"
                                },
                                {
                                    "TERMEKKOD": "02080432T",
                                    "MEGNEVEZES": "Tokos iratrendező",
                                    "KAT_ID": "71",
                                    "LISTAAR": "259",
                                    "LEIRAS": "NULL",
                                    "RAKTAR_KOD": "5",
                                    "KESZLET": "1100",
                                    "MEGYS": "db",
                                    "FELVITTE": "Sára",
                                    "FELVITEL": "2016-07-28"
                                },
                                {
                                    "TERMEKKOD": "02080433T",
                                    "MEGNEVEZES": "Ragasztószalag 19 mm-es",
                                    "KAT_ID": "125",
                                    "LISTAAR": "55",
                                    "LEIRAS": "NULL",
                                    "RAKTAR_KOD": "9",
                                    "KESZLET": "200",
                                    "MEGYS": "db",
                                    "FELVITTE": "Sára",
                                    "FELVITEL": "2016-07-28"
                                },
                                {
                                    "TERMEKKOD": "02080434T",
                                    "MEGNEVEZES": "Mappa müa A/4",
                                    "KAT_ID": "96",
                                    "LISTAAR": "210",
                                    "LEIRAS": "NULL",
                                    "RAKTAR_KOD": "8",
                                    "KESZLET": "600",
                                    "MEGYS": "db",
                                    "FELVITTE": "Mari",
                                    "FELVITEL": "2016-07-26"
                                },
                                {
                                    "TERMEKKOD": "02080435T",
                                    "MEGNEVEZES": "Mappa bemutató",
                                    "KAT_ID": "96",
                                    "LISTAAR": "184",
                                    "LEIRAS": "NULL",
                                    "RAKTAR_KOD": "9",
                                    "KESZLET": "10000",
                                    "MEGYS": "db",
                                    "FELVITTE": "Sára",
                                    "FELVITEL": "2016-07-28"
                                },
                                {
                                    "TERMEKKOD": "02080436T",
                                    "MEGNEVEZES": "Irattartó müa. boríték A/4",
                                    "KAT_ID": "73",
                                    "LISTAAR": "66",
                                    "LEIRAS": "NULL",
                                    "RAKTAR_KOD": "7",
                                    "KESZLET": "800",
                                    "MEGYS": "db",
                                    "FELVITTE": "Mari",
                                    "FELVITEL": "2016-07-25"
                                },
                                {
                                    "TERMEKKOD": "02080449T",
                                    "MEGNEVEZES": "Térképtű színes",
                                    "KAT_ID": "142",
                                    "LISTAAR": "103",
                                    "LEIRAS": "NULL",
                                    "RAKTAR_KOD": "6",
                                    "KESZLET": "100",
                                    "MEGYS": "csomag",
                                    "FELVITTE": "Mari",
                                    "FELVITEL": "2016-07-23"
                                },
                                {
                                    "TERMEKKOD": "02080450T",
                                    "MEGNEVEZES": "Gémkapocs 28-as színes",
                                    "KAT_ID": "49",
                                    "LISTAAR": "44",
                                    "LEIRAS": "NULL",
                                    "RAKTAR_KOD": "8",
                                    "KESZLET": "200",
                                    "MEGYS": "csomag",
                                    "FELVITTE": "Mari",
                                    "FELVITEL": "2016-07-23"
                                },
                                {
                                    "TERMEKKOD": "02080451T",
                                    "MEGNEVEZES": "Gémkapocs 50-es",
                                    "KAT_ID": "49",
                                    "LISTAAR": "103",
                                    "LEIRAS": "NULL",
                                    "RAKTAR_KOD": "5",
                                    "KESZLET": "100",
                                    "MEGYS": "csomag",
                                    "FELVITTE": "Mari",
                                    "FELVITEL": "2016-07-23"
                                },
                                {
                                    "TERMEKKOD": "02080452T",
                                    "MEGNEVEZES": "Tűzőgép mini",
                                    "KAT_ID": "149",
                                    "LISTAAR": "438",
                                    "LEIRAS": "NULL",
                                    "RAKTAR_KOD": "6",
                                    "KESZLET": "200",
                                    "MEGYS": "db",
                                    "FELVITTE": "Mari",
                                    "FELVITEL": "2016-07-18"
                                },
                                {
                                    "TERMEKKOD": "02080453T",
                                    "MEGNEVEZES": "Lyukasztó EAGLE",
                                    "KAT_ID": "95",
                                    "LISTAAR": "526",
                                    "LEIRAS": "NULL",
                                    "RAKTAR_KOD": "7",
                                    "KESZLET": "600",
                                    "MEGYS": "db",
                                    "FELVITTE": "Mari",
                                    "FELVITEL": "2016-07-19"
                                },
                                {
                                    "TERMEKKOD": "02080454T",
                                    "MEGNEVEZES": "Lyukasztó BOXER",
                                    "KAT_ID": "95",
                                    "LISTAAR": "765",
                                    "LEIRAS": "NULL",
                                    "RAKTAR_KOD": "9",
                                    "KESZLET": "400",
                                    "MEGYS": "db",
                                    "FELVITTE": "Sára",
                                    "FELVITEL": "2016-07-24"
                                },
                                {
                                    "TERMEKKOD": "02080455T",
                                    "MEGNEVEZES": "Festékpatron BCI-3BK",
                                    "KAT_ID": "40",
                                    "LISTAAR": "625",
                                    "LEIRAS": "NULL",
                                    "RAKTAR_KOD": "6",
                                    "KESZLET": "900",
                                    "MEGYS": "db",
                                    "FELVITTE": "Mari",
                                    "FELVITEL": "2016-07-22"
                                },
                                {
                                    "TERMEKKOD": "02080456T",
                                    "MEGNEVEZES": "Genoterm HERLITZ 10-es",
                                    "KAT_ID": "50",
                                    "LISTAAR": "89",
                                    "LEIRAS": "NULL",
                                    "RAKTAR_KOD": "7",
                                    "KESZLET": "500",
                                    "MEGYS": "csomag",
                                    "FELVITTE": "Béla",
                                    "FELVITEL": "2016-07-21"
                                },
                                {
                                    "TERMEKKOD": "02080511T",
                                    "MEGNEVEZES": "Oki toner C",
                                    "KAT_ID": "147",
                                    "LISTAAR": "14250",
                                    "LEIRAS": "NULL",
                                    "RAKTAR_KOD": "8",
                                    "KESZLET": "100",
                                    "MEGYS": "db",
                                    "FELVITTE": "Béla",
                                    "FELVITEL": "2016-07-20"
                                },
                                {
                                    "TERMEKKOD": "02080514T",
                                    "MEGNEVEZES": "Spirál 1/4 ",
                                    "KAT_ID": "131",
                                    "LISTAAR": "45",
                                    "LEIRAS": "NULL",
                                    "RAKTAR_KOD": "9",
                                    "KESZLET": "300",
                                    "MEGYS": "db",
                                    "FELVITTE": "Béla",
                                    "FELVITEL": "2016-07-20"
                                },
                                {
                                    "TERMEKKOD": "03010342T",
                                    "MEGNEVEZES": "Ragasztószalag  TIXO",
                                    "KAT_ID": "125",
                                    "LISTAAR": "15",
                                    "LEIRAS": "NULL",
                                    "RAKTAR_KOD": "9",
                                    "KESZLET": "100",
                                    "MEGYS": "db",
                                    "FELVITTE": "Béla",
                                    "FELVITEL": "2016-07-25"
                                },
                                {
                                    "TERMEKKOD": "03010344T",
                                    "MEGNEVEZES": "Ragasztószalag nagy 12 mm",
                                    "KAT_ID": "125",
                                    "LISTAAR": "63",
                                    "LEIRAS": "NULL",
                                    "RAKTAR_KOD": "7",
                                    "KESZLET": "1100",
                                    "MEGYS": "db",
                                    "FELVITTE": "Béla",
                                    "FELVITEL": "2016-07-25"
                                },
                                {
                                    "TERMEKKOD": "03010345T",
                                    "MEGNEVEZES": "Ragasztószalag széles barna",
                                    "KAT_ID": "125",
                                    "LISTAAR": "166",
                                    "LEIRAS": "NULL",
                                    "RAKTAR_KOD": "6",
                                    "KESZLET": "500",
                                    "MEGYS": "db",
                                    "FELVITTE": "Béla",
                                    "FELVITEL": "2016-07-25"
                                },
                                {
                                    "TERMEKKOD": "03050076T",
                                    "MEGNEVEZES": "Díszkötöző szalag metál nagy",
                                    "KAT_ID": "28",
                                    "LISTAAR": "26",
                                    "LEIRAS": "NULL",
                                    "RAKTAR_KOD": "8",
                                    "KESZLET": "800",
                                    "MEGYS": "db",
                                    "FELVITTE": "Béla",
                                    "FELVITEL": "2016-07-25"
                                },
                                {
                                    "TERMEKKOD": "03050077T",
                                    "MEGNEVEZES": "Diszkötöző szalag arany",
                                    "KAT_ID": "28",
                                    "LISTAAR": "44",
                                    "LEIRAS": "NULL",
                                    "RAKTAR_KOD": "8",
                                    "KESZLET": "100",
                                    "MEGYS": "db",
                                    "FELVITTE": "Mari",
                                    "FELVITEL": "2016-07-24"
                                },
                                {
                                    "TERMEKKOD": "03050078T",
                                    "MEGNEVEZES": "Díszkötöző szalag metál kicsi",
                                    "KAT_ID": "28",
                                    "LISTAAR": "15",
                                    "LEIRAS": "NULL",
                                    "RAKTAR_KOD": "8",
                                    "KESZLET": "100",
                                    "MEGYS": "db",
                                    "FELVITTE": "Mari",
                                    "FELVITEL": "2016-07-21"
                                },
                                {
                                    "TERMEKKOD": "03050079T",
                                    "MEGNEVEZES": "Díszkötöző szalag vékony",
                                    "KAT_ID": "28",
                                    "LISTAAR": "15",
                                    "LEIRAS": "NULL",
                                    "RAKTAR_KOD": "8",
                                    "KESZLET": "40000",
                                    "MEGYS": "db",
                                    "FELVITTE": "Mari",
                                    "FELVITEL": "2016-07-20"
                                },
                                {
                                    "TERMEKKOD": "03050080T",
                                    "MEGNEVEZES": "Diszkötöző széles szalag",
                                    "KAT_ID": "28",
                                    "LISTAAR": "81",
                                    "LEIRAS": "NULL",
                                    "RAKTAR_KOD": "6",
                                    "KESZLET": "26000",
                                    "MEGYS": "db",
                                    "FELVITTE": "Béla",
                                    "FELVITEL": "2016-07-17"
                                },
                                {
                                    "TERMEKKOD": "03050457T",
                                    "MEGNEVEZES": "Ajándék cs. tasak kicsi",
                                    "KAT_ID": "6",
                                    "LISTAAR": "26",
                                    "LEIRAS": "NULL",
                                    "RAKTAR_KOD": "6",
                                    "KESZLET": "50000",
                                    "MEGYS": "db",
                                    "FELVITTE": "Béla",
                                    "FELVITEL": "2016-07-17"
                                },
                                {
                                    "TERMEKKOD": "03050458T",
                                    "MEGNEVEZES": "Ajándék cs. 2×100×70",
                                    "KAT_ID": "6",
                                    "LISTAAR": "148",
                                    "LEIRAS": "NULL",
                                    "RAKTAR_KOD": "7",
                                    "KESZLET": "8000",
                                    "MEGYS": "tekercs",
                                    "FELVITTE": "Sára",
                                    "FELVITEL": "2016-07-22"
                                },
                                {
                                    "TERMEKKOD": "03050459T",
                                    "MEGNEVEZES": "Talpas tasak",
                                    "KAT_ID": "6",
                                    "LISTAAR": "40",
                                    "LEIRAS": "NULL",
                                    "RAKTAR_KOD": "8",
                                    "KESZLET": "2600",
                                    "MEGYS": "db",
                                    "FELVITTE": "Sára",
                                    "FELVITEL": "2016-07-22"
                                },
                                {
                                    "TERMEKKOD": "03080003T",
                                    "MEGNEVEZES": "Ajándék cs. tasak italos",
                                    "KAT_ID": "6",
                                    "LISTAAR": "185",
                                    "LEIRAS": "NULL",
                                    "RAKTAR_KOD": "6",
                                    "KESZLET": "400",
                                    "MEGYS": "db",
                                    "FELVITTE": "Sára",
                                    "FELVITEL": "2016-07-22"
                                },
                                {
                                    "TERMEKKOD": "03080004T",
                                    "MEGNEVEZES": "Ajándék cs. tasak italos, fólia",
                                    "KAT_ID": "6",
                                    "LISTAAR": "19",
                                    "LEIRAS": "NULL",
                                    "RAKTAR_KOD": "6",
                                    "KESZLET": "200",
                                    "MEGYS": "db",
                                    "FELVITTE": "Sára",
                                    "FELVITEL": "2016-07-22"
                                },
                                {
                                    "TERMEKKOD": "03080005T",
                                    "MEGNEVEZES": "Ajándék cs. tasak virágos nagy",
                                    "KAT_ID": "6",
                                    "LISTAAR": "290",
                                    "LEIRAS": "NULL",
                                    "RAKTAR_KOD": "8",
                                    "KESZLET": "2500",
                                    "MEGYS": "db",
                                    "FELVITTE": "Sára",
                                    "FELVITEL": "2016-07-27"
                                },
                                {
                                    "TERMEKKOD": "03080006T",
                                    "MEGNEVEZES": "Ajándék cs. tasak mintás kicsi",
                                    "KAT_ID": "6",
                                    "LISTAAR": "26",
                                    "LEIRAS": "NULL",
                                    "RAKTAR_KOD": "8",
                                    "KESZLET": "100",
                                    "MEGYS": "db",
                                    "FELVITTE": "Mari",
                                    "FELVITEL": "2016-07-31"
                                },
                                {
                                    "TERMEKKOD": "03080007T",
                                    "MEGNEVEZES": "Ajándék cs. tasak mintás nagy",
                                    "KAT_ID": "6",
                                    "LISTAAR": "206",
                                    "LEIRAS": "NULL",
                                    "RAKTAR_KOD": "9",
                                    "KESZLET": "2000",
                                    "MEGYS": "db",
                                    "FELVITTE": "Mari",
                                    "FELVITEL": "2016-07-27"
                                },
                                {
                                    "TERMEKKOD": "03080008T",
                                    "MEGNEVEZES": "Ajándék cs. tasak kicsi",
                                    "KAT_ID": "6",
                                    "LISTAAR": "103",
                                    "LEIRAS": "NULL",
                                    "RAKTAR_KOD": "7",
                                    "KESZLET": "2200",
                                    "MEGYS": "db",
                                    "FELVITTE": "Mari",
                                    "FELVITEL": "2016-07-27"
                                },
                                {
                                    "TERMEKKOD": "03080009T",
                                    "MEGNEVEZES": "Ajándék csom. 100x70 metál",
                                    "KAT_ID": "6",
                                    "LISTAAR": "148",
                                    "LEIRAS": "NULL",
                                    "RAKTAR_KOD": "8",
                                    "KESZLET": "700",
                                    "MEGYS": "db",
                                    "FELVITTE": "Mari",
                                    "FELVITEL": "2016-07-27"
                                },
                                {
                                    "TERMEKKOD": "03080010T",
                                    "MEGNEVEZES": "Ajándék csom. 150x70",
                                    "KAT_ID": "6",
                                    "LISTAAR": "206",
                                    "LEIRAS": "NULL",
                                    "RAKTAR_KOD": "9",
                                    "KESZLET": "1900",
                                    "MEGYS": "db",
                                    "FELVITTE": "Mari",
                                    "FELVITEL": "2016-07-30"
                                },
                                {
                                    "TERMEKKOD": "03080011T",
                                    "MEGNEVEZES": "Ajándék cs. tasak közepes",
                                    "KAT_ID": "6",
                                    "LISTAAR": "148",
                                    "LEIRAS": "NULL",
                                    "RAKTAR_KOD": "6",
                                    "KESZLET": "2300",
                                    "MEGYS": "db",
                                    "FELVITTE": "Mari",
                                    "FELVITEL": "2016-07-28"
                                },
                                {
                                    "TERMEKKOD": "03080012T",
                                    "MEGNEVEZES": "Ajándék csom. 200x70",
                                    "KAT_ID": "6",
                                    "LISTAAR": "125",
                                    "LEIRAS": "NULL",
                                    "RAKTAR_KOD": "8",
                                    "KESZLET": "300",
                                    "MEGYS": "db",
                                    "FELVITTE": "Mari",
                                    "FELVITEL": "2016-07-28"
                                },
                                {
                                    "TERMEKKOD": "03080013T",
                                    "MEGNEVEZES": "Ajándék csom. 50x70 húsvéti",
                                    "KAT_ID": "6",
                                    "LISTAAR": "64",
                                    "LEIRAS": "NULL",
                                    "RAKTAR_KOD": "6",
                                    "KESZLET": "600",
                                    "MEGYS": "db",
                                    "FELVITTE": "Béla",
                                    "FELVITEL": "2016-07-23"
                                },
                                {
                                    "TERMEKKOD": "03080014T",
                                    "MEGNEVEZES": "Ajándék csom. 70x50 metál",
                                    "KAT_ID": "6",
                                    "LISTAAR": "81",
                                    "LEIRAS": "NULL",
                                    "RAKTAR_KOD": "8",
                                    "KESZLET": "1000",
                                    "MEGYS": "db",
                                    "FELVITTE": "Béla",
                                    "FELVITEL": "2016-07-23"
                                },
                                {
                                    "TERMEKKOD": "03080015T",
                                    "MEGNEVEZES": "Ajándék csom. gyűrt",
                                    "KAT_ID": "6",
                                    "LISTAAR": "169",
                                    "LEIRAS": "NULL",
                                    "RAKTAR_KOD": "9",
                                    "KESZLET": "1300",
                                    "MEGYS": "db",
                                    "FELVITTE": "Béla",
                                    "FELVITEL": "2016-07-24"
                                },
                                {
                                    "TERMEKKOD": "03080016T",
                                    "MEGNEVEZES": "házt.csom.  5 ív",
                                    "KAT_ID": "22",
                                    "LISTAAR": "110",
                                    "LEIRAS": "NULL",
                                    "RAKTAR_KOD": "8",
                                    "KESZLET": "200",
                                    "MEGYS": "csomag",
                                    "FELVITTE": "Béla",
                                    "FELVITEL": "2016-07-24"
                                },
                                {
                                    "TERMEKKOD": "03080017T",
                                    "MEGNEVEZES": "iskolai csomagoló papír",
                                    "KAT_ID": "24",
                                    "LISTAAR": "148",
                                    "LEIRAS": "NULL",
                                    "RAKTAR_KOD": "9",
                                    "KESZLET": "100",
                                    "MEGYS": "db",
                                    "FELVITTE": "Sára",
                                    "FELVITEL": "2016-07-29"
                                },
                                {
                                    "TERMEKKOD": "03080018T",
                                    "MEGNEVEZES": "Ajándék csom. gyűrt 50x70 ",
                                    "KAT_ID": "24",
                                    "LISTAAR": "121",
                                    "LEIRAS": "NULL",
                                    "RAKTAR_KOD": "5",
                                    "KESZLET": "2600",
                                    "MEGYS": "ív",
                                    "FELVITTE": "Sára",
                                    "FELVITEL": "2016-07-29"
                                },
                                {
                                    "TERMEKKOD": "03080019T",
                                    "MEGNEVEZES": "Ajándék csom. Krepp",
                                    "KAT_ID": "24",
                                    "LISTAAR": "56",
                                    "LEIRAS": "NULL",
                                    "RAKTAR_KOD": "5",
                                    "KESZLET": "600",
                                    "MEGYS": "db",
                                    "FELVITTE": "Béla",
                                    "FELVITEL": "2016-07-27"
                                },
                                {
                                    "TERMEKKOD": "03080020T",
                                    "MEGNEVEZES": "Ajándék csom. nagy  ",
                                    "KAT_ID": "24",
                                    "LISTAAR": "44",
                                    "LEIRAS": "NULL",
                                    "RAKTAR_KOD": "9",
                                    "KESZLET": "800",
                                    "MEGYS": "ív",
                                    "FELVITTE": "Sára",
                                    "FELVITEL": "2016-07-22"
                                },
                                {
                                    "TERMEKKOD": "03080021T",
                                    "MEGNEVEZES": "Ajándék csom. vékony",
                                    "KAT_ID": "24",
                                    "LISTAAR": "23",
                                    "LEIRAS": "NULL",
                                    "RAKTAR_KOD": "7",
                                    "KESZLET": "200",
                                    "MEGYS": "db",
                                    "FELVITTE": "Béla",
                                    "FELVITEL": "2016-07-26"
                                },
                                {
                                    "TERMEKKOD": "03080030T",
                                    "MEGNEVEZES": "Ajándék cs. húsvéti 200x70",
                                    "KAT_ID": "24",
                                    "LISTAAR": "220",
                                    "LEIRAS": "NULL",
                                    "RAKTAR_KOD": "7",
                                    "KESZLET": "800",
                                    "MEGYS": "db",
                                    "FELVITTE": "Mari",
                                    "FELVITEL": "2016-07-22"
                                },
                                {
                                    "TERMEKKOD": "03080031T",
                                    "MEGNEVEZES": "Ajándék cs. húsvéti",
                                    "KAT_ID": "24",
                                    "LISTAAR": "106",
                                    "LEIRAS": "NULL",
                                    "RAKTAR_KOD": "6",
                                    "KESZLET": "2100",
                                    "MEGYS": "db",
                                    "FELVITTE": "Sára",
                                    "FELVITEL": "2016-07-27"
                                },
                                {
                                    "TERMEKKOD": "03080437T",
                                    "MEGNEVEZES": "Ajándék csomagoló tasak",
                                    "KAT_ID": "6",
                                    "LISTAAR": "185",
                                    "LEIRAS": "NULL",
                                    "RAKTAR_KOD": "7",
                                    "KESZLET": "3600",
                                    "MEGYS": "db",
                                    "FELVITTE": "Sára",
                                    "FELVITEL": "2016-07-27"
                                },
                                {
                                    "TERMEKKOD": "03080438T",
                                    "MEGNEVEZES": "Ajándék csomagoló tasak lézeres",
                                    "KAT_ID": "6",
                                    "LISTAAR": "214",
                                    "LEIRAS": "NULL",
                                    "RAKTAR_KOD": "7",
                                    "KESZLET": "3900",
                                    "MEGYS": "db",
                                    "FELVITTE": "Sára",
                                    "FELVITEL": "2016-07-28"
                                },
                                {
                                    "TERMEKKOD": "03080439T",
                                    "MEGNEVEZES": "Italtartó doboz",
                                    "KAT_ID": "6",
                                    "LISTAAR": "114",
                                    "LEIRAS": "NULL",
                                    "RAKTAR_KOD": "8",
                                    "KESZLET": "1100",
                                    "MEGYS": "db",
                                    "FELVITTE": "Sára",
                                    "FELVITEL": "2016-07-28"
                                },
                                {
                                    "TERMEKKOD": "04020445T",
                                    "MEGNEVEZES": "Határidő napló 2010-s",
                                    "KAT_ID": "62",
                                    "LISTAAR": "728",
                                    "LEIRAS": "NULL",
                                    "RAKTAR_KOD": "9",
                                    "KESZLET": "600",
                                    "MEGYS": "db",
                                    "FELVITTE": "Sára",
                                    "FELVITEL": "2016-07-24"
                                },
                                {
                                    "TERMEKKOD": "04030234T",
                                    "MEGNEVEZES": "Képeslap karácsonyi",
                                    "KAT_ID": "85",
                                    "LISTAAR": "30",
                                    "LEIRAS": "NULL",
                                    "RAKTAR_KOD": "5",
                                    "KESZLET": "2100",
                                    "MEGYS": "db",
                                    "FELVITTE": "Béla",
                                    "FELVITEL": "2016-07-22"
                                },
                                {
                                    "TERMEKKOD": "04030235T",
                                    "MEGNEVEZES": "Képeslap karácsonyi borítékos",
                                    "KAT_ID": "85",
                                    "LISTAAR": "73",
                                    "LEIRAS": "NULL",
                                    "RAKTAR_KOD": "7",
                                    "KESZLET": "900",
                                    "MEGYS": "db",
                                    "FELVITTE": "Béla",
                                    "FELVITEL": "2016-07-22"
                                },
                                {
                                    "TERMEKKOD": "04030236T",
                                    "MEGNEVEZES": "Képeslap karácsonyi WD",
                                    "KAT_ID": "85",
                                    "LISTAAR": "15",
                                    "LEIRAS": "NULL",
                                    "RAKTAR_KOD": "6",
                                    "KESZLET": "10000",
                                    "MEGYS": "db",
                                    "FELVITTE": "Béla",
                                    "FELVITEL": "2016-07-22"
                                },
                                {
                                    "TERMEKKOD": "04030237T",
                                    "MEGNEVEZES": "Képeslap kerek",
                                    "KAT_ID": "85",
                                    "LISTAAR": "36",
                                    "LEIRAS": "NULL",
                                    "RAKTAR_KOD": "9",
                                    "KESZLET": "100",
                                    "MEGYS": "db",
                                    "FELVITTE": "Béla",
                                    "FELVITEL": "2016-07-17"
                                },
                                {
                                    "TERMEKKOD": "04030238T",
                                    "MEGNEVEZES": "Képeslap stancolt",
                                    "KAT_ID": "85",
                                    "LISTAAR": "59",
                                    "LEIRAS": "NULL",
                                    "RAKTAR_KOD": "9",
                                    "KESZLET": "300",
                                    "MEGYS": "db",
                                    "FELVITTE": "Sára",
                                    "FELVITEL": "2016-07-18"
                                },
                                {
                                    "TERMEKKOD": "04030239T",
                                    "MEGNEVEZES": "Képeslap stancolt szív",
                                    "KAT_ID": "85",
                                    "LISTAAR": "48",
                                    "LEIRAS": "NULL",
                                    "RAKTAR_KOD": "9",
                                    "KESZLET": "400",
                                    "MEGYS": "db",
                                    "FELVITTE": "Béla",
                                    "FELVITEL": "2016-07-21"
                                },
                                {
                                    "TERMEKKOD": "04030240T",
                                    "MEGNEVEZES": "Képeslap virágos",
                                    "KAT_ID": "85",
                                    "LISTAAR": "14",
                                    "LEIRAS": "NULL",
                                    "RAKTAR_KOD": "7",
                                    "KESZLET": "1600",
                                    "MEGYS": "db",
                                    "FELVITTE": "Sára",
                                    "FELVITEL": "2016-07-20"
                                },
                                {
                                    "TERMEKKOD": "04030241T",
                                    "MEGNEVEZES": "Képeslap virágos +boríték",
                                    "KAT_ID": "85",
                                    "LISTAAR": "44",
                                    "LEIRAS": "NULL",
                                    "RAKTAR_KOD": "8",
                                    "KESZLET": "2300",
                                    "MEGYS": "db",
                                    "FELVITTE": "Mari",
                                    "FELVITEL": "2016-07-25"
                                },
                                {
                                    "TERMEKKOD": "04030242T",
                                    "MEGNEVEZES": "Képeslap WD +boríték",
                                    "KAT_ID": "85",
                                    "LISTAAR": "118",
                                    "LEIRAS": "NULL",
                                    "RAKTAR_KOD": "8",
                                    "KESZLET": "2300",
                                    "MEGYS": "db",
                                    "FELVITTE": "Mari",
                                    "FELVITEL": "2016-07-25"
                                },
                                {
                                    "TERMEKKOD": "04030243T",
                                    "MEGNEVEZES": "Képkirakó Dirib-darab",
                                    "KAT_ID": "86",
                                    "LISTAAR": "195",
                                    "LEIRAS": "NULL",
                                    "RAKTAR_KOD": "7",
                                    "KESZLET": "1000",
                                    "MEGYS": "db",
                                    "FELVITTE": "Mari",
                                    "FELVITEL": "2016-07-25"
                                },
                                {
                                    "TERMEKKOD": "04030260T",
                                    "MEGNEVEZES": "Levélpapír A/4",
                                    "KAT_ID": "93",
                                    "LISTAAR": "15",
                                    "LEIRAS": "NULL",
                                    "RAKTAR_KOD": "6",
                                    "KESZLET": "1600",
                                    "MEGYS": "db",
                                    "FELVITTE": "Béla",
                                    "FELVITEL": "2016-07-26"
                                },
                                {
                                    "TERMEKKOD": "04030261T",
                                    "MEGNEVEZES": "Levélpapír állatos",
                                    "KAT_ID": "93",
                                    "LISTAAR": "140",
                                    "LEIRAS": "NULL",
                                    "RAKTAR_KOD": "6",
                                    "KESZLET": "1000",
                                    "MEGYS": "csomag",
                                    "FELVITTE": "Béla",
                                    "FELVITEL": "2016-07-26"
                                },
                                {
                                    "TERMEKKOD": "04030262T",
                                    "MEGNEVEZES": "Levélpapír sima",
                                    "KAT_ID": "93",
                                    "LISTAAR": "56",
                                    "LEIRAS": "NULL",
                                    "RAKTAR_KOD": "6",
                                    "KESZLET": "600",
                                    "MEGYS": "csomag",
                                    "FELVITTE": "Sára",
                                    "FELVITEL": "2016-07-29"
                                },
                                {
                                    "TERMEKKOD": "04030263T",
                                    "MEGNEVEZES": "Levélpapír szett",
                                    "KAT_ID": "93",
                                    "LISTAAR": "89",
                                    "LEIRAS": "NULL",
                                    "RAKTAR_KOD": "7",
                                    "KESZLET": "1300",
                                    "MEGYS": "db",
                                    "FELVITTE": "Sára",
                                    "FELVITEL": "2016-07-29"
                                },
                                {
                                    "TERMEKKOD": "04030264T",
                                    "MEGNEVEZES": "Levélpapír szett ",
                                    "KAT_ID": "93",
                                    "LISTAAR": "74",
                                    "LEIRAS": "NULL",
                                    "RAKTAR_KOD": "6",
                                    "KESZLET": "300",
                                    "MEGYS": "db",
                                    "FELVITTE": "Mari",
                                    "FELVITEL": "2016-07-30"
                                },
                                {
                                    "TERMEKKOD": "04030265T",
                                    "MEGNEVEZES": "Levélpapír szett natur, mintás",
                                    "KAT_ID": "93",
                                    "LISTAAR": "103",
                                    "LEIRAS": "NULL",
                                    "RAKTAR_KOD": "6",
                                    "KESZLET": "200",
                                    "MEGYS": "db",
                                    "FELVITTE": "Mari",
                                    "FELVITEL": "2016-07-30"
                                },
                                {
                                    "TERMEKKOD": "04030266T",
                                    "MEGNEVEZES": "Levélpapír szett virágos",
                                    "KAT_ID": "93",
                                    "LISTAAR": "169",
                                    "LEIRAS": "NULL",
                                    "RAKTAR_KOD": "7",
                                    "KESZLET": "500",
                                    "MEGYS": "db",
                                    "FELVITTE": "Mari",
                                    "FELVITEL": "2016-07-30"
                                },
                                {
                                    "TERMEKKOD": "04030285T",
                                    "MEGNEVEZES": "Mikulás zacskó",
                                    "KAT_ID": "6",
                                    "LISTAAR": "11",
                                    "LEIRAS": "NULL",
                                    "RAKTAR_KOD": "8",
                                    "KESZLET": "300",
                                    "MEGYS": "db",
                                    "FELVITTE": "Mari",
                                    "FELVITEL": "2016-07-30"
                                },
                                {
                                    "TERMEKKOD": "04030286T",
                                    "MEGNEVEZES": "Műanyag állatok",
                                    "KAT_ID": "25",
                                    "LISTAAR": "44",
                                    "LEIRAS": "NULL",
                                    "RAKTAR_KOD": "5",
                                    "KESZLET": "300",
                                    "MEGYS": "db",
                                    "FELVITTE": "Mari",
                                    "FELVITEL": "2016-07-30"
                                },
                                {
                                    "TERMEKKOD": "04030287T",
                                    "MEGNEVEZES": "Műanyag foszforeszkáló állat",
                                    "KAT_ID": "25",
                                    "LISTAAR": "23",
                                    "LEIRAS": "NULL",
                                    "RAKTAR_KOD": "8",
                                    "KESZLET": "5100",
                                    "MEGYS": "db",
                                    "FELVITTE": "Béla",
                                    "FELVITEL": "2016-07-26"
                                },
                                {
                                    "TERMEKKOD": "04030288T",
                                    "MEGNEVEZES": "Műanyag pohár 1 dl-es",
                                    "KAT_ID": "25",
                                    "LISTAAR": "3",
                                    "LEIRAS": "NULL",
                                    "RAKTAR_KOD": "7",
                                    "KESZLET": "100",
                                    "MEGYS": "db",
                                    "FELVITTE": "Béla",
                                    "FELVITEL": "2016-07-26"
                                },
                                {
                                    "TERMEKKOD": "04030289T",
                                    "MEGNEVEZES": "Műanyag pohár 5 cl-es",
                                    "KAT_ID": "25",
                                    "LISTAAR": "15",
                                    "LEIRAS": "NULL",
                                    "RAKTAR_KOD": "6",
                                    "KESZLET": "2400",
                                    "MEGYS": "db",
                                    "FELVITTE": "Béla",
                                    "FELVITEL": "2016-07-23"
                                },
                                {
                                    "TERMEKKOD": "04040090T",
                                    "MEGNEVEZES": "Emlékkönyv",
                                    "KAT_ID": "32",
                                    "LISTAAR": "526",
                                    "LEIRAS": "NULL",
                                    "RAKTAR_KOD": "6",
                                    "KESZLET": "7700",
                                    "MEGYS": "db",
                                    "FELVITTE": "Béla",
                                    "FELVITEL": "2016-07-23"
                                },
                                {
                                    "TERMEKKOD": "04040387T",
                                    "MEGNEVEZES": "Tenisz labda",
                                    "KAT_ID": "92",
                                    "LISTAAR": "81",
                                    "LEIRAS": "NULL",
                                    "RAKTAR_KOD": "8",
                                    "KESZLET": "600",
                                    "MEGYS": "db",
                                    "FELVITTE": "Béla",
                                    "FELVITEL": "2016-07-22"
                                },
                                {
                                    "TERMEKKOD": "04050022T",
                                    "MEGNEVEZES": "Álarc",
                                    "KAT_ID": "7",
                                    "LISTAAR": "89",
                                    "LEIRAS": "NULL",
                                    "RAKTAR_KOD": "8",
                                    "KESZLET": "500",
                                    "MEGYS": "db",
                                    "FELVITTE": "Béla",
                                    "FELVITEL": "2016-07-22"
                                },
                                {
                                    "TERMEKKOD": "04050023T",
                                    "MEGNEVEZES": "Álarc fejdísz",
                                    "KAT_ID": "7",
                                    "LISTAAR": "144",
                                    "LEIRAS": "NULL",
                                    "RAKTAR_KOD": "8",
                                    "KESZLET": "1000",
                                    "MEGYS": "db",
                                    "FELVITTE": "Sára",
                                    "FELVITEL": "2016-07-27"
                                },
                                {
                                    "TERMEKKOD": "04050024T",
                                    "MEGNEVEZES": "Álarc szemüveg",
                                    "KAT_ID": "7",
                                    "LISTAAR": "144",
                                    "LEIRAS": "NULL",
                                    "RAKTAR_KOD": "7",
                                    "KESZLET": "1000",
                                    "MEGYS": "db",
                                    "FELVITTE": "Sára",
                                    "FELVITEL": "2016-07-27"
                                },
                                {
                                    "TERMEKKOD": "04050035T",
                                    "MEGNEVEZES": "Bérlet tok",
                                    "KAT_ID": "5",
                                    "LISTAAR": "24",
                                    "LEIRAS": "NULL",
                                    "RAKTAR_KOD": "5",
                                    "KESZLET": "1500",
                                    "MEGYS": "db",
                                    "FELVITTE": "Sára",
                                    "FELVITEL": "2016-07-27"
                                },
                                {
                                    "TERMEKKOD": "04050073T",
                                    "MEGNEVEZES": "Díszdoboz kar.",
                                    "KAT_ID": "27",
                                    "LISTAAR": "61",
                                    "LEIRAS": "NULL",
                                    "RAKTAR_KOD": "9",
                                    "KESZLET": "300",
                                    "MEGYS": "db",
                                    "FELVITTE": "Béla",
                                    "FELVITEL": "2016-08-01"
                                },
                                {
                                    "TERMEKKOD": "04050074T",
                                    "MEGNEVEZES": "Díszdoboz tollnak 2 db-os",
                                    "KAT_ID": "27",
                                    "LISTAAR": "66",
                                    "LEIRAS": "NULL",
                                    "RAKTAR_KOD": "7",
                                    "KESZLET": "100",
                                    "MEGYS": "db",
                                    "FELVITTE": "Mari",
                                    "FELVITEL": "2016-07-28"
                                },
                                {
                                    "TERMEKKOD": "04050075T",
                                    "MEGNEVEZES": "Díszdoboz tollnak 2 db-os keskeny",
                                    "KAT_ID": "27",
                                    "LISTAAR": "44",
                                    "LEIRAS": "NULL",
                                    "RAKTAR_KOD": "5",
                                    "KESZLET": "100",
                                    "MEGYS": "db",
                                    "FELVITTE": "Béla",
                                    "FELVITEL": "2016-07-23"
                                },
                                {
                                    "TERMEKKOD": "04050171T",
                                    "MEGNEVEZES": "Gumilabda közepes",
                                    "KAT_ID": "92",
                                    "LISTAAR": "110",
                                    "LEIRAS": "NULL",
                                    "RAKTAR_KOD": "7",
                                    "KESZLET": "500",
                                    "MEGYS": "db",
                                    "FELVITTE": "Béla",
                                    "FELVITEL": "2016-07-23"
                                },
                                {
                                    "TERMEKKOD": "04050187T",
                                    "MEGNEVEZES": "Hajgumi macis",
                                    "KAT_ID": "61",
                                    "LISTAAR": "66",
                                    "LEIRAS": "NULL",
                                    "RAKTAR_KOD": "8",
                                    "KESZLET": "700",
                                    "MEGYS": "db",
                                    "FELVITTE": "Béla",
                                    "FELVITEL": "2016-07-23"
                                },
                                {
                                    "TERMEKKOD": "04050203T",
                                    "MEGNEVEZES": "Hűtőmágnes",
                                    "KAT_ID": "67",
                                    "LISTAAR": "24",
                                    "LEIRAS": "NULL",
                                    "RAKTAR_KOD": "7",
                                    "KESZLET": "300",
                                    "MEGYS": "db",
                                    "FELVITTE": "Mari",
                                    "FELVITEL": "2016-07-22"
                                },
                                {
                                    "TERMEKKOD": "04050204T",
                                    "MEGNEVEZES": "Hűtőmágnes WD",
                                    "KAT_ID": "67",
                                    "LISTAAR": "169",
                                    "LEIRAS": "NULL",
                                    "RAKTAR_KOD": "8",
                                    "KESZLET": "300",
                                    "MEGYS": "db",
                                    "FELVITTE": "Mari",
                                    "FELVITEL": "2016-07-22"
                                },
                                {
                                    "TERMEKKOD": "04050220T",
                                    "MEGNEVEZES": "Játék autó",
                                    "KAT_ID": "79",
                                    "LISTAAR": "65",
                                    "LEIRAS": "NULL",
                                    "RAKTAR_KOD": "7",
                                    "KESZLET": "400",
                                    "MEGYS": "db",
                                    "FELVITTE": "Mari",
                                    "FELVITEL": "2016-07-27"
                                },
                                {
                                    "TERMEKKOD": "04050221T",
                                    "MEGNEVEZES": "Játékautó Blisteres",
                                    "KAT_ID": "79",
                                    "LISTAAR": "133",
                                    "LEIRAS": "NULL",
                                    "RAKTAR_KOD": "7",
                                    "KESZLET": "500",
                                    "MEGYS": "db",
                                    "FELVITTE": "Mari",
                                    "FELVITEL": "2016-07-27"
                                },
                                {
                                    "TERMEKKOD": "04050222T",
                                    "MEGNEVEZES": "Játékautó elemes",
                                    "KAT_ID": "79",
                                    "LISTAAR": "165",
                                    "LEIRAS": "NULL",
                                    "RAKTAR_KOD": "7",
                                    "KESZLET": "100",
                                    "MEGYS": "db",
                                    "FELVITTE": "Mari",
                                    "FELVITEL": "2016-07-27"
                                },
                                {
                                    "TERMEKKOD": "04050223T",
                                    "MEGNEVEZES": "Játékautó mini",
                                    "KAT_ID": "79",
                                    "LISTAAR": "73",
                                    "LEIRAS": "NULL",
                                    "RAKTAR_KOD": "7",
                                    "KESZLET": "400",
                                    "MEGYS": "db",
                                    "FELVITTE": "Sára",
                                    "FELVITEL": "2016-08-01"
                                },
                                {
                                    "TERMEKKOD": "04050224T",
                                    "MEGNEVEZES": "Jelzőkréta",
                                    "KAT_ID": "80",
                                    "LISTAAR": "48",
                                    "LEIRAS": "NULL",
                                    "RAKTAR_KOD": "5",
                                    "KESZLET": "800",
                                    "MEGYS": "db",
                                    "FELVITTE": "Sára",
                                    "FELVITEL": "2016-08-01"
                                },
                                {
                                    "TERMEKKOD": "04050225T",
                                    "MEGNEVEZES": "Kártya mini Magyar",
                                    "KAT_ID": "84",
                                    "LISTAAR": "131",
                                    "LEIRAS": "NULL",
                                    "RAKTAR_KOD": "6",
                                    "KESZLET": "2800",
                                    "MEGYS": "db",
                                    "FELVITTE": "Sára",
                                    "FELVITEL": "2016-08-01"
                                },
                                {
                                    "TERMEKKOD": "04050250T",
                                    "MEGNEVEZES": "Kulcstartó autós",
                                    "KAT_ID": "91",
                                    "LISTAAR": "115",
                                    "LEIRAS": "NULL",
                                    "RAKTAR_KOD": "8",
                                    "KESZLET": "3700",
                                    "MEGYS": "db",
                                    "FELVITTE": "Béla",
                                    "FELVITEL": "2016-08-05"
                                },
                                {
                                    "TERMEKKOD": "04050251T",
                                    "MEGNEVEZES": "Kulcstartó billiárd golyós",
                                    "KAT_ID": "91",
                                    "LISTAAR": "148",
                                    "LEIRAS": "NULL",
                                    "RAKTAR_KOD": "8",
                                    "KESZLET": "3500",
                                    "MEGYS": "db",
                                    "FELVITTE": "Béla",
                                    "FELVITEL": "2016-08-09"
                                },
                                {
                                    "TERMEKKOD": "04050252T",
                                    "MEGNEVEZES": "Kulcstartó Csőrikés",
                                    "KAT_ID": "91",
                                    "LISTAAR": "124",
                                    "LEIRAS": "NULL",
                                    "RAKTAR_KOD": "8",
                                    "KESZLET": "1000",
                                    "MEGYS": "db",
                                    "FELVITTE": "Béla",
                                    "FELVITEL": "2016-08-05"
                                },
                                {
                                    "TERMEKKOD": "04050253T",
                                    "MEGNEVEZES": "Kulcstartó figurás",
                                    "KAT_ID": "91",
                                    "LISTAAR": "103",
                                    "LEIRAS": "NULL",
                                    "RAKTAR_KOD": "8",
                                    "KESZLET": "1200",
                                    "MEGYS": "db",
                                    "FELVITTE": "Mari",
                                    "FELVITEL": "2016-08-06"
                                },
                                {
                                    "TERMEKKOD": "04050254T",
                                    "MEGNEVEZES": "Kulcstartó intarziás állatos",
                                    "KAT_ID": "91",
                                    "LISTAAR": "155",
                                    "LEIRAS": "NULL",
                                    "RAKTAR_KOD": "9",
                                    "KESZLET": "800",
                                    "MEGYS": "db",
                                    "FELVITTE": "Mari",
                                    "FELVITEL": "2016-08-06"
                                },
                                {
                                    "TERMEKKOD": "04050255T",
                                    "MEGNEVEZES": "Kulcstartó mesefigurás",
                                    "KAT_ID": "91",
                                    "LISTAAR": "36",
                                    "LEIRAS": "NULL",
                                    "RAKTAR_KOD": "9",
                                    "KESZLET": "2010",
                                    "MEGYS": "db",
                                    "FELVITTE": "Mari",
                                    "FELVITEL": "2016-08-09"
                                },
                                {
                                    "TERMEKKOD": "04050256T",
                                    "MEGNEVEZES": "Kulcstartó nagyítós",
                                    "KAT_ID": "91",
                                    "LISTAAR": "129",
                                    "LEIRAS": "NULL",
                                    "RAKTAR_KOD": "9",
                                    "KESZLET": "2500",
                                    "MEGYS": "db",
                                    "FELVITTE": "Mari",
                                    "FELVITEL": "2016-08-09"
                                },
                                {
                                    "TERMEKKOD": "04050267T",
                                    "MEGNEVEZES": "Logikai készlet",
                                    "KAT_ID": "5",
                                    "LISTAAR": "129",
                                    "LEIRAS": "NULL",
                                    "RAKTAR_KOD": "5",
                                    "KESZLET": "2000",
                                    "MEGYS": "db",
                                    "FELVITTE": "Mari",
                                    "FELVITEL": "2016-08-09"
                                },
                                {
                                    "TERMEKKOD": "04050268T",
                                    "MEGNEVEZES": "Lufi formázható",
                                    "KAT_ID": "94",
                                    "LISTAAR": "15",
                                    "LEIRAS": "NULL",
                                    "RAKTAR_KOD": "7",
                                    "KESZLET": "3000",
                                    "MEGYS": "db",
                                    "FELVITTE": "Béla",
                                    "FELVITEL": "2016-08-13"
                                },
                                {
                                    "TERMEKKOD": "04050269T",
                                    "MEGNEVEZES": "Lufi hullámos",
                                    "KAT_ID": "94",
                                    "LISTAAR": "11",
                                    "LEIRAS": "NULL",
                                    "RAKTAR_KOD": "6",
                                    "KESZLET": "1300",
                                    "MEGYS": "db",
                                    "FELVITTE": "Béla",
                                    "FELVITEL": "2016-08-13"
                                },
                                {
                                    "TERMEKKOD": "04050320T",
                                    "MEGNEVEZES": "Plüss  QX állatok",
                                    "KAT_ID": "119",
                                    "LISTAAR": "173",
                                    "LEIRAS": "NULL",
                                    "RAKTAR_KOD": "9",
                                    "KESZLET": "500",
                                    "MEGYS": "db",
                                    "FELVITTE": "Sára",
                                    "FELVITEL": "2016-08-12"
                                },
                                {
                                    "TERMEKKOD": "04050321T",
                                    "MEGNEVEZES": "Plüss kicsi",
                                    "KAT_ID": "119",
                                    "LISTAAR": "161",
                                    "LEIRAS": "NULL",
                                    "RAKTAR_KOD": "7",
                                    "KESZLET": "2000",
                                    "MEGYS": "db",
                                    "FELVITTE": "Sára",
                                    "FELVITEL": "2016-08-12"
                                },
                                {
                                    "TERMEKKOD": "04050322T",
                                    "MEGNEVEZES": "Plüss sárkány",
                                    "KAT_ID": "119",
                                    "LISTAAR": "314",
                                    "LEIRAS": "NULL",
                                    "RAKTAR_KOD": "5",
                                    "KESZLET": "100",
                                    "MEGYS": "db",
                                    "FELVITTE": "Sára",
                                    "FELVITEL": "2016-08-12"
                                },
                                {
                                    "TERMEKKOD": "04050358T",
                                    "MEGNEVEZES": "Strandlabda ",
                                    "KAT_ID": "132",
                                    "LISTAAR": "356",
                                    "LEIRAS": "NULL",
                                    "RAKTAR_KOD": "8",
                                    "KESZLET": "100",
                                    "MEGYS": "db",
                                    "FELVITTE": "Sára",
                                    "FELVITEL": "2016-08-08"
                                },
                                {
                                    "TERMEKKOD": "04080270T",
                                    "MEGNEVEZES": "Mappa bőr A5",
                                    "KAT_ID": "96",
                                    "LISTAAR": "1765",
                                    "LEIRAS": "NULL",
                                    "RAKTAR_KOD": "6",
                                    "KESZLET": "200",
                                    "MEGYS": "db",
                                    "FELVITTE": "Sára",
                                    "FELVITEL": "2016-08-08"
                                },
                                {
                                    "TERMEKKOD": "04080271T",
                                    "MEGNEVEZES": "Mappa PVC villámzáras",
                                    "KAT_ID": "96",
                                    "LISTAAR": "264",
                                    "LEIRAS": "NULL",
                                    "RAKTAR_KOD": "8",
                                    "KESZLET": "100",
                                    "MEGYS": "db",
                                    "FELVITTE": "Sára",
                                    "FELVITEL": "2016-08-07"
                                },
                                {
                                    "TERMEKKOD": "04080272T",
                                    "MEGNEVEZES": "Mappa PVC villámzáras  képes",
                                    "KAT_ID": "96",
                                    "LISTAAR": "360",
                                    "LEIRAS": "NULL",
                                    "RAKTAR_KOD": "9",
                                    "KESZLET": "1000",
                                    "MEGYS": "db",
                                    "FELVITTE": "Mari",
                                    "FELVITEL": "2016-08-11"
                                },
                                {
                                    "TERMEKKOD": "04080442T",
                                    "MEGNEVEZES": "Emlékkönyv",
                                    "KAT_ID": "32",
                                    "LISTAAR": "316",
                                    "LEIRAS": "NULL",
                                    "RAKTAR_KOD": "7",
                                    "KESZLET": "3000",
                                    "MEGYS": "db",
                                    "FELVITTE": "Mari",
                                    "FELVITEL": "2016-08-11"
                                },
                                {
                                    "TERMEKKOD": "04080443T",
                                    "MEGNEVEZES": "Emlékkönyv lakatos",
                                    "KAT_ID": "32",
                                    "LISTAAR": "449",
                                    "LEIRAS": "NULL",
                                    "RAKTAR_KOD": "7",
                                    "KESZLET": "1000",
                                    "MEGYS": "db",
                                    "FELVITTE": "Sára",
                                    "FELVITEL": "2016-08-06"
                                },
                                {
                                    "TERMEKKOD": "04110066T",
                                    "MEGNEVEZES": "Címke 8 db-os",
                                    "KAT_ID": "20",
                                    "LISTAAR": "26",
                                    "LEIRAS": "NULL",
                                    "RAKTAR_KOD": "7",
                                    "KESZLET": "700",
                                    "MEGYS": "db",
                                    "FELVITTE": "Sára",
                                    "FELVITEL": "2016-08-06"
                                },
                                {
                                    "TERMEKKOD": "04110067T",
                                    "MEGNEVEZES": "Címke WD. állat",
                                    "KAT_ID": "20",
                                    "LISTAAR": "31",
                                    "LEIRAS": "NULL",
                                    "RAKTAR_KOD": "7",
                                    "KESZLET": "300",
                                    "MEGYS": "db",
                                    "FELVITTE": "Sára",
                                    "FELVITEL": "2016-08-09"
                                },
                                {
                                    "TERMEKKOD": "04110068T",
                                    "MEGNEVEZES": "Címke egyszínű",
                                    "KAT_ID": "20",
                                    "LISTAAR": "20",
                                    "LEIRAS": "NULL",
                                    "RAKTAR_KOD": "9",
                                    "KESZLET": "200",
                                    "MEGYS": "db",
                                    "FELVITTE": "Béla",
                                    "FELVITEL": "2016-08-05"
                                },
                                {
                                    "TERMEKKOD": "04110227T",
                                    "MEGNEVEZES": "Képeslap  borítékos",
                                    "KAT_ID": "85",
                                    "LISTAAR": "33",
                                    "LEIRAS": "NULL",
                                    "RAKTAR_KOD": "6",
                                    "KESZLET": "100",
                                    "MEGYS": "db",
                                    "FELVITTE": "Mari",
                                    "FELVITEL": "2016-08-10"
                                },
                                {
                                    "TERMEKKOD": "04110228T",
                                    "MEGNEVEZES": "Képeslap \"Nászajándék\"",
                                    "KAT_ID": "85",
                                    "LISTAAR": "184",
                                    "LEIRAS": "NULL",
                                    "RAKTAR_KOD": "9",
                                    "KESZLET": "600",
                                    "MEGYS": "db",
                                    "FELVITTE": "Béla",
                                    "FELVITEL": "2016-08-10"
                                },
                                {
                                    "TERMEKKOD": "04110229T",
                                    "MEGNEVEZES": "Képeslap \"Részvét\"",
                                    "KAT_ID": "85",
                                    "LISTAAR": "33",
                                    "LEIRAS": "NULL",
                                    "RAKTAR_KOD": "5",
                                    "KESZLET": "200",
                                    "MEGYS": "db",
                                    "FELVITTE": "Béla",
                                    "FELVITEL": "2016-08-10"
                                },
                                {
                                    "TERMEKKOD": "04110230T",
                                    "MEGNEVEZES": "Képeslap humoros ",
                                    "KAT_ID": "85",
                                    "LISTAAR": "55",
                                    "LEIRAS": "NULL",
                                    "RAKTAR_KOD": "6",
                                    "KESZLET": "1000",
                                    "MEGYS": "db",
                                    "FELVITTE": "Mari",
                                    "FELVITEL": "2016-08-13"
                                },
                                {
                                    "TERMEKKOD": "04110231T",
                                    "MEGNEVEZES": "Képeslap humoros borítékos",
                                    "KAT_ID": "85",
                                    "LISTAAR": "81",
                                    "LEIRAS": "NULL",
                                    "RAKTAR_KOD": "5",
                                    "KESZLET": "1000",
                                    "MEGYS": "db",
                                    "FELVITTE": "Mari",
                                    "FELVITEL": "2016-08-13"
                                },
                                {
                                    "TERMEKKOD": "04110232T",
                                    "MEGNEVEZES": "Képeslap humoros kaparós",
                                    "KAT_ID": "85",
                                    "LISTAAR": "51",
                                    "LEIRAS": "NULL",
                                    "RAKTAR_KOD": "8",
                                    "KESZLET": "900",
                                    "MEGYS": "db",
                                    "FELVITTE": "Mari",
                                    "FELVITEL": "2016-08-12"
                                },
                                {
                                    "TERMEKKOD": "04110233T",
                                    "MEGNEVEZES": "Képeslap humoros",
                                    "KAT_ID": "85",
                                    "LISTAAR": "89",
                                    "LEIRAS": "NULL",
                                    "RAKTAR_KOD": "5",
                                    "KESZLET": "700",
                                    "MEGYS": "db",
                                    "FELVITTE": "Béla",
                                    "FELVITEL": "2016-08-07"
                                },
                                {
                                    "TERMEKKOD": "04110258T",
                                    "MEGNEVEZES": "Lampion",
                                    "KAT_ID": "5",
                                    "LISTAAR": "73",
                                    "LEIRAS": "NULL",
                                    "RAKTAR_KOD": "9",
                                    "KESZLET": "1000",
                                    "MEGYS": "db",
                                    "FELVITTE": "Mari",
                                    "FELVITEL": "2016-08-03"
                                },
                                {
                                    "TERMEKKOD": "04110273T",
                                    "MEGNEVEZES": "Matrica állatos",
                                    "KAT_ID": "97",
                                    "LISTAAR": "55",
                                    "LEIRAS": "NULL",
                                    "RAKTAR_KOD": "5",
                                    "KESZLET": "6200",
                                    "MEGYS": "db",
                                    "FELVITTE": "Mari",
                                    "FELVITEL": "2016-07-29"
                                },
                                {
                                    "TERMEKKOD": "04110274T",
                                    "MEGNEVEZES": "Matrica autóra H",
                                    "KAT_ID": "97",
                                    "LISTAAR": "49",
                                    "LEIRAS": "NULL",
                                    "RAKTAR_KOD": "5",
                                    "KESZLET": "300",
                                    "MEGYS": "db",
                                    "FELVITTE": "Béla",
                                    "FELVITEL": "2016-07-24"
                                },
                                {
                                    "TERMEKKOD": "04110275T",
                                    "MEGNEVEZES": "Matrica motoros kicsi",
                                    "KAT_ID": "97",
                                    "LISTAAR": "49",
                                    "LEIRAS": "NULL",
                                    "RAKTAR_KOD": "9",
                                    "KESZLET": "200",
                                    "MEGYS": "db",
                                    "FELVITTE": "Mari",
                                    "FELVITEL": "2016-07-22"
                                },
                                {
                                    "TERMEKKOD": "04110276T",
                                    "MEGNEVEZES": "Matrica Stickers nagy állatos",
                                    "KAT_ID": "97",
                                    "LISTAAR": "109",
                                    "LEIRAS": "NULL",
                                    "RAKTAR_KOD": "9",
                                    "KESZLET": "400",
                                    "MEGYS": "db",
                                    "FELVITTE": "Mari",
                                    "FELVITEL": "2016-07-22"
                                },
                                {
                                    "TERMEKKOD": "04110277T",
                                    "MEGNEVEZES": "Matrica Stickers szíves",
                                    "KAT_ID": "97",
                                    "LISTAAR": "93",
                                    "LEIRAS": "NULL",
                                    "RAKTAR_KOD": "6",
                                    "KESZLET": "900",
                                    "MEGYS": "db",
                                    "FELVITTE": "Béla",
                                    "FELVITEL": "2016-07-21"
                                },
                                {
                                    "TERMEKKOD": "04110278T",
                                    "MEGNEVEZES": "Matrica Test ékszer tattoo",
                                    "KAT_ID": "97",
                                    "LISTAAR": "161",
                                    "LEIRAS": "NULL",
                                    "RAKTAR_KOD": "8",
                                    "KESZLET": "500",
                                    "MEGYS": "db",
                                    "FELVITTE": "Béla",
                                    "FELVITEL": "2016-07-21"
                                },
                                {
                                    "TERMEKKOD": "04110279T",
                                    "MEGNEVEZES": "Matrica tetoválás",
                                    "KAT_ID": "97",
                                    "LISTAAR": "168",
                                    "LEIRAS": "NULL",
                                    "RAKTAR_KOD": "7",
                                    "KESZLET": "700",
                                    "MEGYS": "db",
                                    "FELVITTE": "Béla",
                                    "FELVITEL": "2016-07-21"
                                },
                                {
                                    "TERMEKKOD": "04110280T",
                                    "MEGNEVEZES": "Matrica tetoválós kicsi",
                                    "KAT_ID": "97",
                                    "LISTAAR": "148",
                                    "LEIRAS": "NULL",
                                    "RAKTAR_KOD": "9",
                                    "KESZLET": "300",
                                    "MEGYS": "db",
                                    "FELVITTE": "Mari",
                                    "FELVITEL": "2016-07-23"
                                },
                                {
                                    "TERMEKKOD": "04110281T",
                                    "MEGNEVEZES": "Matrica világítós ",
                                    "KAT_ID": "97",
                                    "LISTAAR": "175",
                                    "LEIRAS": "NULL",
                                    "RAKTAR_KOD": "9",
                                    "KESZLET": "100",
                                    "MEGYS": "db",
                                    "FELVITTE": "Sára",
                                    "FELVITEL": "2016-07-25"
                                },
                                {
                                    "TERMEKKOD": "04110282T",
                                    "MEGNEVEZES": "Matrica WD kicsi",
                                    "KAT_ID": "97",
                                    "LISTAAR": "56",
                                    "LEIRAS": "NULL",
                                    "RAKTAR_KOD": "5",
                                    "KESZLET": "300",
                                    "MEGYS": "db",
                                    "FELVITTE": "Sára",
                                    "FELVITEL": "2016-07-25"
                                },
                                {
                                    "TERMEKKOD": "04110283T",
                                    "MEGNEVEZES": "Meghívó állatos",
                                    "KAT_ID": "98",
                                    "LISTAAR": "155",
                                    "LEIRAS": "NULL",
                                    "RAKTAR_KOD": "5",
                                    "KESZLET": "100",
                                    "MEGYS": "db",
                                    "FELVITTE": "Sára",
                                    "FELVITEL": "2016-07-23"
                                },
                                {
                                    "TERMEKKOD": "04110284T",
                                    "MEGNEVEZES": "Meghívó borítékos",
                                    "KAT_ID": "98",
                                    "LISTAAR": "169",
                                    "LEIRAS": "NULL",
                                    "RAKTAR_KOD": "5",
                                    "KESZLET": "100",
                                    "MEGYS": "db",
                                    "FELVITTE": "Sára",
                                    "FELVITEL": "2016-07-26"
                                },
                                {
                                    "TERMEKKOD": "04110362T",
                                    "MEGNEVEZES": "Szalvéta gyűjtőknek",
                                    "KAT_ID": "133",
                                    "LISTAAR": "183",
                                    "LEIRAS": "NULL",
                                    "RAKTAR_KOD": "5",
                                    "KESZLET": "1200",
                                    "MEGYS": "csomag",
                                    "FELVITTE": "Sára",
                                    "FELVITEL": "2016-07-26"
                                },
                                {
                                    "TERMEKKOD": "05010026T",
                                    "MEGNEVEZES": "Alufólia 10 m-es",
                                    "KAT_ID": "9",
                                    "LISTAAR": "118",
                                    "LEIRAS": "NULL",
                                    "RAKTAR_KOD": "9",
                                    "KESZLET": "100",
                                    "MEGYS": "db",
                                    "FELVITTE": "Sára",
                                    "FELVITEL": "2016-07-26"
                                },
                                {
                                    "TERMEKKOD": "05010027T",
                                    "MEGNEVEZES": "Alufólia 20 m-es",
                                    "KAT_ID": "9",
                                    "LISTAAR": "214",
                                    "LEIRAS": "NULL",
                                    "RAKTAR_KOD": "6",
                                    "KESZLET": "5900",
                                    "MEGYS": "db",
                                    "FELVITTE": "Mari",
                                    "FELVITEL": "2016-07-29"
                                },
                                {
                                    "TERMEKKOD": "05010306T",
                                    "MEGNEVEZES": "Papízsebkendő,10db Szindy",
                                    "KAT_ID": "114",
                                    "LISTAAR": "20",
                                    "LEIRAS": "NULL",
                                    "RAKTAR_KOD": "8",
                                    "KESZLET": "5000",
                                    "MEGYS": "csomag",
                                    "FELVITTE": "Sára",
                                    "FELVITEL": "2016-08-03"
                                },
                                {
                                    "TERMEKKOD": "05010369T",
                                    "MEGNEVEZES": "Szemetes zsák 60 literes",
                                    "KAT_ID": "135",
                                    "LISTAAR": "129",
                                    "LEIRAS": "NULL",
                                    "RAKTAR_KOD": "7",
                                    "KESZLET": "300",
                                    "MEGYS": "csomag",
                                    "FELVITTE": "Sára",
                                    "FELVITEL": "2016-08-03"
                                },
                                {
                                    "TERMEKKOD": "05010370T",
                                    "MEGNEVEZES": "Szilvia csomagoló",
                                    "KAT_ID": "22",
                                    "LISTAAR": "89",
                                    "LEIRAS": "NULL",
                                    "RAKTAR_KOD": "7",
                                    "KESZLET": "100",
                                    "MEGYS": "db",
                                    "FELVITTE": "Sára",
                                    "FELVITEL": "2016-08-03"
                                },
                                {
                                    "TERMEKKOD": "05040310T",
                                    "MEGNEVEZES": "Pill.ragasztó",
                                    "KAT_ID": "124",
                                    "LISTAAR": "103",
                                    "LEIRAS": "NULL",
                                    "RAKTAR_KOD": "8",
                                    "KESZLET": "300",
                                    "MEGYS": "db",
                                    "FELVITTE": "Béla",
                                    "FELVITEL": "2016-07-30"
                                },
                                {
                                    "TERMEKKOD": "05040348T",
                                    "MEGNEVEZES": "Rajzszeg színes",
                                    "KAT_ID": "128",
                                    "LISTAAR": "106",
                                    "LEIRAS": "NULL",
                                    "RAKTAR_KOD": "8",
                                    "KESZLET": "200",
                                    "MEGYS": "csomag",
                                    "FELVITTE": "Béla",
                                    "FELVITEL": "2016-07-30"
                                },
                                {
                                    "TERMEKKOD": "05040349T",
                                    "MEGNEVEZES": "Rajzszeg",
                                    "KAT_ID": "128",
                                    "LISTAAR": "63",
                                    "LEIRAS": "NULL",
                                    "RAKTAR_KOD": "6",
                                    "KESZLET": "600",
                                    "MEGYS": "db",
                                    "FELVITTE": "Béla",
                                    "FELVITEL": "2016-07-30"
                                },
                                {
                                    "TERMEKKOD": "05050045T",
                                    "MEGNEVEZES": "Celofán",
                                    "KAT_ID": "18",
                                    "LISTAAR": "46",
                                    "LEIRAS": "NULL",
                                    "RAKTAR_KOD": "8",
                                    "KESZLET": "200",
                                    "MEGYS": "csomag",
                                    "FELVITTE": "Béla",
                                    "FELVITEL": "2016-07-30"
                                },
                                {
                                    "TERMEKKOD": "05050046T",
                                    "MEGNEVEZES": "Celofán 50 db-os",
                                    "KAT_ID": "18",
                                    "LISTAAR": "73",
                                    "LEIRAS": "NULL",
                                    "RAKTAR_KOD": "8",
                                    "KESZLET": "100",
                                    "MEGYS": "db",
                                    "FELVITTE": "Béla",
                                    "FELVITEL": "2016-08-03"
                                },
                                {
                                    "TERMEKKOD": "05050170T",
                                    "MEGNEVEZES": "Gumigyűrű",
                                    "KAT_ID": "53",
                                    "LISTAAR": "19",
                                    "LEIRAS": "NULL",
                                    "RAKTAR_KOD": "9",
                                    "KESZLET": "400",
                                    "MEGYS": "csomag",
                                    "FELVITTE": "Béla",
                                    "FELVITEL": "2016-08-08"
                                },
                                {
                                    "TERMEKKOD": "05050346T",
                                    "MEGNEVEZES": "Rágógumi Orbit",
                                    "KAT_ID": "126",
                                    "LISTAAR": "89",
                                    "LEIRAS": "NULL",
                                    "RAKTAR_KOD": "9",
                                    "KESZLET": "400",
                                    "MEGYS": "csomag",
                                    "FELVITTE": "Béla",
                                    "FELVITEL": "2016-08-08"
                                },
                                {
                                    "TERMEKKOD": "05050465T",
                                    "MEGNEVEZES": "Tapétavágó kés",
                                    "KAT_ID": "140",
                                    "LISTAAR": "40",
                                    "LEIRAS": "NULL",
                                    "RAKTAR_KOD": "6",
                                    "KESZLET": "1600",
                                    "MEGYS": "db",
                                    "FELVITTE": "Mari",
                                    "FELVITEL": "2016-08-09"
                                },
                                {
                                    "TERMEKKOD": "05080340T",
                                    "MEGNEVEZES": "Ragasztó, Technokol 35g kék",
                                    "KAT_ID": "124",
                                    "LISTAAR": "144",
                                    "LEIRAS": "NULL",
                                    "RAKTAR_KOD": "8",
                                    "KESZLET": "200",
                                    "MEGYS": "db",
                                    "FELVITTE": "Mari",
                                    "FELVITEL": "2016-08-09"
                                },
                                {
                                    "TERMEKKOD": "05080341T",
                                    "MEGNEVEZES": "Ragasztó, Technokol 35g piros",
                                    "KAT_ID": "124",
                                    "LISTAAR": "144",
                                    "LEIRAS": "NULL",
                                    "RAKTAR_KOD": "6",
                                    "KESZLET": "1100",
                                    "MEGYS": "db",
                                    "FELVITTE": "Mari",
                                    "FELVITEL": "2016-08-09"
                                },
                                {
                                    "TERMEKKOD": "05110359T",
                                    "MEGNEVEZES": "Szalvéta ",
                                    "KAT_ID": "133",
                                    "LISTAAR": "176",
                                    "LEIRAS": "NULL",
                                    "RAKTAR_KOD": "8",
                                    "KESZLET": "100",
                                    "MEGYS": "csomag",
                                    "FELVITTE": "Mari",
                                    "FELVITEL": "2016-08-09"
                                },
                                {
                                    "TERMEKKOD": "05110360T",
                                    "MEGNEVEZES": "Szalvéta egyszínű",
                                    "KAT_ID": "133",
                                    "LISTAAR": "118",
                                    "LEIRAS": "NULL",
                                    "RAKTAR_KOD": "6",
                                    "KESZLET": "1000",
                                    "MEGYS": "csomag",
                                    "FELVITTE": "Béla",
                                    "FELVITEL": "2016-08-06"
                                },
                                {
                                    "TERMEKKOD": "05110361T",
                                    "MEGNEVEZES": "Szalvéta Goma húsvéti",
                                    "KAT_ID": "133",
                                    "LISTAAR": "175",
                                    "LEIRAS": "NULL",
                                    "RAKTAR_KOD": "7",
                                    "KESZLET": "1500",
                                    "MEGYS": "csomag",
                                    "FELVITTE": "Béla",
                                    "FELVITEL": "2016-08-06"
                                },
                                {
                                    "TERMEKKOD": "05110363T",
                                    "MEGNEVEZES": "Szalvéta dekor",
                                    "KAT_ID": "133",
                                    "LISTAAR": "133",
                                    "LEIRAS": "NULL",
                                    "RAKTAR_KOD": "9",
                                    "KESZLET": "100",
                                    "MEGYS": "csomag",
                                    "FELVITTE": "Béla",
                                    "FELVITEL": "2016-08-06"
                                },
                                {
                                    "TERMEKKOD": "05110364T",
                                    "MEGNEVEZES": "Szalvéta kicsi virágos",
                                    "KAT_ID": "133",
                                    "LISTAAR": "161",
                                    "LEIRAS": "NULL",
                                    "RAKTAR_KOD": "8",
                                    "KESZLET": "300",
                                    "MEGYS": "csomag",
                                    "FELVITTE": "Mari",
                                    "FELVITEL": "2016-08-11"
                                },
                                {
                                    "TERMEKKOD": "06010036T",
                                    "MEGNEVEZES": "Betűtartó sin",
                                    "KAT_ID": "78",
                                    "LISTAAR": "33",
                                    "LEIRAS": "NULL",
                                    "RAKTAR_KOD": "7",
                                    "KESZLET": "300",
                                    "MEGYS": "db",
                                    "FELVITTE": "Béla",
                                    "FELVITEL": "2016-08-08"
                                },
                                {
                                    "TERMEKKOD": "06010082T",
                                    "MEGNEVEZES": "Ecset Centrum 10,11,12",
                                    "KAT_ID": "30",
                                    "LISTAAR": "40",
                                    "LEIRAS": "NULL",
                                    "RAKTAR_KOD": "8",
                                    "KESZLET": "200",
                                    "MEGYS": "db",
                                    "FELVITTE": "Béla",
                                    "FELVITEL": "2016-08-08"
                                },
                                {
                                    "TERMEKKOD": "06010083T",
                                    "MEGNEVEZES": "Ecset Centrum 7,8,9",
                                    "KAT_ID": "30",
                                    "LISTAAR": "33",
                                    "LEIRAS": "NULL",
                                    "RAKTAR_KOD": "6",
                                    "KESZLET": "900",
                                    "MEGYS": "db",
                                    "FELVITTE": "Sára",
                                    "FELVITEL": "2016-08-09"
                                },
                                {
                                    "TERMEKKOD": "06010084T",
                                    "MEGNEVEZES": "Ecset Deák 2-es",
                                    "KAT_ID": "30",
                                    "LISTAAR": "60",
                                    "LEIRAS": "NULL",
                                    "RAKTAR_KOD": "9",
                                    "KESZLET": "200",
                                    "MEGYS": "db",
                                    "FELVITTE": "Sára",
                                    "FELVITEL": "2016-08-09"
                                },
                                {
                                    "TERMEKKOD": "06010085T",
                                    "MEGNEVEZES": "Ecset Lizzy 10-es",
                                    "KAT_ID": "30",
                                    "LISTAAR": "65",
                                    "LEIRAS": "NULL",
                                    "RAKTAR_KOD": "5",
                                    "KESZLET": "200",
                                    "MEGYS": "db",
                                    "FELVITTE": "Sára",
                                    "FELVITEL": "2016-08-09"
                                },
                                {
                                    "TERMEKKOD": "06010086T",
                                    "MEGNEVEZES": "Ecset Nebulo 4-es",
                                    "KAT_ID": "30",
                                    "LISTAAR": "36",
                                    "LEIRAS": "NULL",
                                    "RAKTAR_KOD": "8",
                                    "KESZLET": "3600",
                                    "MEGYS": "db",
                                    "FELVITTE": "Mari",
                                    "FELVITEL": "2016-08-08"
                                },
                                {
                                    "TERMEKKOD": "06010111T",
                                    "MEGNEVEZES": "Füzet  A/4 ",
                                    "KAT_ID": "45",
                                    "LISTAAR": "68",
                                    "LEIRAS": "NULL",
                                    "RAKTAR_KOD": "9",
                                    "KESZLET": "600",
                                    "MEGYS": "db",
                                    "FELVITTE": "Mari",
                                    "FELVITEL": "2016-08-08"
                                },
                                {
                                    "TERMEKKOD": "06010112T",
                                    "MEGNEVEZES": "Füzet  A4 mintás",
                                    "KAT_ID": "45",
                                    "LISTAAR": "78",
                                    "LEIRAS": "NULL",
                                    "RAKTAR_KOD": "9",
                                    "KESZLET": "1500",
                                    "MEGYS": "db",
                                    "FELVITTE": "Mari",
                                    "FELVITEL": "2016-08-06"
                                },
                                {
                                    "TERMEKKOD": "06010113T",
                                    "MEGNEVEZES": "Füzet 31-32 szótár",
                                    "KAT_ID": "45",
                                    "LISTAAR": "34",
                                    "LEIRAS": "NULL",
                                    "RAKTAR_KOD": "8",
                                    "KESZLET": "4500",
                                    "MEGYS": "db",
                                    "FELVITTE": "Sára",
                                    "FELVITEL": "2016-08-11"
                                },
                                {
                                    "TERMEKKOD": "06010114T",
                                    "MEGNEVEZES": "Füzet A/5 hangjegy 36/16",
                                    "KAT_ID": "45",
                                    "LISTAAR": "30",
                                    "LEIRAS": "NULL",
                                    "RAKTAR_KOD": "6",
                                    "KESZLET": "800",
                                    "MEGYS": "db",
                                    "FELVITTE": "Béla",
                                    "FELVITEL": "2016-08-11"
                                },
                                {
                                    "TERMEKKOD": "06010115T",
                                    "MEGNEVEZES": "Füzet A/5, mintás",
                                    "KAT_ID": "45",
                                    "LISTAAR": "48",
                                    "LEIRAS": "NULL",
                                    "RAKTAR_KOD": "9",
                                    "KESZLET": "100",
                                    "MEGYS": "db",
                                    "FELVITTE": "Béla",
                                    "FELVITEL": "2016-08-08"
                                },
                                {
                                    "TERMEKKOD": "06010201T",
                                    "MEGNEVEZES": "Hőmérő, műa.",
                                    "KAT_ID": "78",
                                    "LISTAAR": "36",
                                    "LEIRAS": "NULL",
                                    "RAKTAR_KOD": "6",
                                    "KESZLET": "1400",
                                    "MEGYS": "db",
                                    "FELVITTE": "Mari",
                                    "FELVITEL": "2016-08-10"
                                },
                                {
                                    "TERMEKKOD": "06010202T",
                                    "MEGNEVEZES": "Hurkapálca 10 db-os",
                                    "KAT_ID": "78",
                                    "LISTAAR": "23",
                                    "LEIRAS": "NULL",
                                    "RAKTAR_KOD": "6",
                                    "KESZLET": "150",
                                    "MEGYS": "csomag",
                                    "FELVITTE": "Béla",
                                    "FELVITEL": "2016-08-12"
                                },
                                {
                                    "TERMEKKOD": "06010305T",
                                    "MEGNEVEZES": "Papírcenti 100 cm-es",
                                    "KAT_ID": "78",
                                    "LISTAAR": "9",
                                    "LEIRAS": "NULL",
                                    "RAKTAR_KOD": "6",
                                    "KESZLET": "100",
                                    "MEGYS": "db",
                                    "FELVITTE": "Béla",
                                    "FELVITEL": "2016-08-12"
                                },
                                {
                                    "TERMEKKOD": "06010343T",
                                    "MEGNEVEZES": "Ragasztószalag 19 mm-es SCOTCH+ tépő",
                                    "KAT_ID": "124",
                                    "LISTAAR": "426",
                                    "LEIRAS": "NULL",
                                    "RAKTAR_KOD": "6",
                                    "KESZLET": "1600",
                                    "MEGYS": "db",
                                    "FELVITTE": "Béla",
                                    "FELVITEL": "2016-08-12"
                                },
                                {
                                    "TERMEKKOD": "06010365T",
                                    "MEGNEVEZES": "Számegyenes",
                                    "KAT_ID": "78",
                                    "LISTAAR": "36",
                                    "LEIRAS": "NULL",
                                    "RAKTAR_KOD": "8",
                                    "KESZLET": "900",
                                    "MEGYS": "db",
                                    "FELVITTE": "Béla",
                                    "FELVITEL": "2016-08-10"
                                },
                                {
                                    "TERMEKKOD": "06010366T",
                                    "MEGNEVEZES": "Számológép Roxin",
                                    "KAT_ID": "134",
                                    "LISTAAR": "508",
                                    "LEIRAS": "NULL",
                                    "RAKTAR_KOD": "6",
                                    "KESZLET": "300",
                                    "MEGYS": "db",
                                    "FELVITTE": "Béla",
                                    "FELVITEL": "2016-08-11"
                                },
                                {
                                    "TERMEKKOD": "06010367T",
                                    "MEGNEVEZES": "Számolókorong",
                                    "KAT_ID": "78",
                                    "LISTAAR": "35",
                                    "LEIRAS": "NULL",
                                    "RAKTAR_KOD": "6",
                                    "KESZLET": "300",
                                    "MEGYS": "csomag",
                                    "FELVITTE": "Béla",
                                    "FELVITEL": "2016-08-11"
                                },
                                {
                                    "TERMEKKOD": "06010368T",
                                    "MEGNEVEZES": "Számolópálca",
                                    "KAT_ID": "78",
                                    "LISTAAR": "61",
                                    "LEIRAS": "NULL",
                                    "RAKTAR_KOD": "5",
                                    "KESZLET": "900",
                                    "MEGYS": "csomag",
                                    "FELVITTE": "Sára",
                                    "FELVITEL": "2016-08-10"
                                },
                                {
                                    "TERMEKKOD": "06010373T",
                                    "MEGNEVEZES": "Színes papír I.II-IV.V-VIII-ig",
                                    "KAT_ID": "78",
                                    "LISTAAR": "43",
                                    "LEIRAS": "NULL",
                                    "RAKTAR_KOD": "8",
                                    "KESZLET": "2200",
                                    "MEGYS": "db",
                                    "FELVITTE": "Sára",
                                    "FELVITEL": "2016-08-10"
                                },
                                {
                                    "TERMEKKOD": "06010374T",
                                    "MEGNEVEZES": "Szorzótábla műanyag",
                                    "KAT_ID": "78",
                                    "LISTAAR": "45",
                                    "LEIRAS": "NULL",
                                    "RAKTAR_KOD": "8",
                                    "KESZLET": "1600",
                                    "MEGYS": "db",
                                    "FELVITTE": "Béla",
                                    "FELVITEL": "2016-08-08"
                                },
                                {
                                    "TERMEKKOD": "06010375T",
                                    "MEGNEVEZES": "Szögmérő 180 fokos műa.",
                                    "KAT_ID": "137",
                                    "LISTAAR": "24",
                                    "LEIRAS": "NULL",
                                    "RAKTAR_KOD": "6",
                                    "KESZLET": "200",
                                    "MEGYS": "db",
                                    "FELVITTE": "Béla",
                                    "FELVITEL": "2016-08-08"
                                },
                                {
                                    "TERMEKKOD": "06010376T",
                                    "MEGNEVEZES": "Szögmérő papír",
                                    "KAT_ID": "137",
                                    "LISTAAR": "11",
                                    "LEIRAS": "NULL",
                                    "RAKTAR_KOD": "6",
                                    "KESZLET": "100",
                                    "MEGYS": "db",
                                    "FELVITTE": "Béla",
                                    "FELVITEL": "2016-08-03"
                                },
                                {
                                    "TERMEKKOD": "06010377T",
                                    "MEGNEVEZES": "Szögmérő színes",
                                    "KAT_ID": "137",
                                    "LISTAAR": "8",
                                    "LEIRAS": "NULL",
                                    "RAKTAR_KOD": "9",
                                    "KESZLET": "200",
                                    "MEGYS": "db",
                                    "FELVITTE": "Mari",
                                    "FELVITEL": "2016-08-01"
                                },
                                {
                                    "TERMEKKOD": "06040087T",
                                    "MEGNEVEZES": "Ecset Nebuló 10-es",
                                    "KAT_ID": "30",
                                    "LISTAAR": "79",
                                    "LEIRAS": "NULL",
                                    "RAKTAR_KOD": "7",
                                    "KESZLET": "4000",
                                    "MEGYS": "db",
                                    "FELVITTE": "Mari",
                                    "FELVITEL": "2016-08-01"
                                },
                                {
                                    "TERMEKKOD": "06040088T",
                                    "MEGNEVEZES": "Egészségügyi könyv",
                                    "KAT_ID": "78",
                                    "LISTAAR": "51",
                                    "LEIRAS": "NULL",
                                    "RAKTAR_KOD": "7",
                                    "KESZLET": "4400",
                                    "MEGYS": "db",
                                    "FELVITTE": "Sára",
                                    "FELVITEL": "2016-08-01"
                                },
                                {
                                    "TERMEKKOD": "06040089T",
                                    "MEGNEVEZES": "Ellenőrzőborító",
                                    "KAT_ID": "78",
                                    "LISTAAR": "5",
                                    "LEIRAS": "NULL",
                                    "RAKTAR_KOD": "7",
                                    "KESZLET": "200",
                                    "MEGYS": "db",
                                    "FELVITTE": "Sára",
                                    "FELVITEL": "2016-08-01"
                                },
                                {
                                    "TERMEKKOD": "06040172T",
                                    "MEGNEVEZES": "Gumis mappa csomagolt",
                                    "KAT_ID": "96",
                                    "LISTAAR": "195",
                                    "LEIRAS": "NULL",
                                    "RAKTAR_KOD": "7",
                                    "KESZLET": "2000",
                                    "MEGYS": "db",
                                    "FELVITTE": "Mari",
                                    "FELVITEL": "2016-08-06"
                                },
                                {
                                    "TERMEKKOD": "06040173T",
                                    "MEGNEVEZES": "Gumis mappa fóliázott állatos",
                                    "KAT_ID": "96",
                                    "LISTAAR": "211",
                                    "LEIRAS": "NULL",
                                    "RAKTAR_KOD": "7",
                                    "KESZLET": "1800",
                                    "MEGYS": "db",
                                    "FELVITTE": "Mari",
                                    "FELVITEL": "2016-08-06"
                                },
                                {
                                    "TERMEKKOD": "06040174T",
                                    "MEGNEVEZES": "Gumis mappa ",
                                    "KAT_ID": "96",
                                    "LISTAAR": "148",
                                    "LEIRAS": "NULL",
                                    "RAKTAR_KOD": "6",
                                    "KESZLET": "7000",
                                    "MEGYS": "db",
                                    "FELVITTE": "Sára",
                                    "FELVITEL": "2016-08-01"
                                },
                                {
                                    "TERMEKKOD": "06040175T",
                                    "MEGNEVEZES": "Gumis mappa Köbüki",
                                    "KAT_ID": "96",
                                    "LISTAAR": "191",
                                    "LEIRAS": "NULL",
                                    "RAKTAR_KOD": "8",
                                    "KESZLET": "400",
                                    "MEGYS": "db",
                                    "FELVITTE": "Sára",
                                    "FELVITEL": "2016-08-01"
                                },
                                {
                                    "TERMEKKOD": "06040179T",
                                    "MEGNEVEZES": "Gyurma színes 200 g-os",
                                    "KAT_ID": "59",
                                    "LISTAAR": "180",
                                    "LEIRAS": "NULL",
                                    "RAKTAR_KOD": "6",
                                    "KESZLET": "100",
                                    "MEGYS": "db",
                                    "FELVITTE": "Sára",
                                    "FELVITEL": "2016-08-01"
                                },
                                {
                                    "TERMEKKOD": "06040180T",
                                    "MEGNEVEZES": "Gyurma színes natúr",
                                    "KAT_ID": "59",
                                    "LISTAAR": "228",
                                    "LEIRAS": "NULL",
                                    "RAKTAR_KOD": "8",
                                    "KESZLET": "400",
                                    "MEGYS": "db",
                                    "FELVITTE": "Mari",
                                    "FELVITEL": "2016-08-04"
                                },
                                {
                                    "TERMEKKOD": "06040181T",
                                    "MEGNEVEZES": "Gyűjtőlap A/4",
                                    "KAT_ID": "78",
                                    "LISTAAR": "8",
                                    "LEIRAS": "NULL",
                                    "RAKTAR_KOD": "6",
                                    "KESZLET": "2600",
                                    "MEGYS": "db",
                                    "FELVITTE": "Mari",
                                    "FELVITEL": "2016-08-01"
                                },
                                {
                                    "TERMEKKOD": "06040182T",
                                    "MEGNEVEZES": "Gyűrűskönyv bet. A/4",
                                    "KAT_ID": "60",
                                    "LISTAAR": "184",
                                    "LEIRAS": "NULL",
                                    "RAKTAR_KOD": "7",
                                    "KESZLET": "2600",
                                    "MEGYS": "db",
                                    "FELVITTE": "Mari",
                                    "FELVITEL": "2016-08-01"
                                },
                                {
                                    "TERMEKKOD": "06040183T",
                                    "MEGNEVEZES": "Gyűrűskönyv bet. A/5",
                                    "KAT_ID": "60",
                                    "LISTAAR": "95",
                                    "LEIRAS": "NULL",
                                    "RAKTAR_KOD": "9",
                                    "KESZLET": "200",
                                    "MEGYS": "db",
                                    "FELVITTE": "Mari",
                                    "FELVITEL": "2016-08-01"
                                },
                                {
                                    "TERMEKKOD": "06040184T",
                                    "MEGNEVEZES": "Gyűrűskönyv betét A/5",
                                    "KAT_ID": "60",
                                    "LISTAAR": "218",
                                    "LEIRAS": "NULL",
                                    "RAKTAR_KOD": "9",
                                    "KESZLET": "100",
                                    "MEGYS": "db",
                                    "FELVITTE": "Mari",
                                    "FELVITEL": "2016-07-27"
                                },
                                {
                                    "TERMEKKOD": "06040185T",
                                    "MEGNEVEZES": "Gyűrűskönyv",
                                    "KAT_ID": "60",
                                    "LISTAAR": "581",
                                    "LEIRAS": "NULL",
                                    "RAKTAR_KOD": "9",
                                    "KESZLET": "1800",
                                    "MEGYS": "db",
                                    "FELVITTE": "Mari",
                                    "FELVITEL": "2016-07-27"
                                },
                                {
                                    "TERMEKKOD": "06040186T",
                                    "MEGNEVEZES": "Gyűrűskönyv színes",
                                    "KAT_ID": "60",
                                    "LISTAAR": "699",
                                    "LEIRAS": "NULL",
                                    "RAKTAR_KOD": "6",
                                    "KESZLET": "700",
                                    "MEGYS": "db",
                                    "FELVITTE": "Sára",
                                    "FELVITEL": "2016-07-27"
                                },
                                {
                                    "TERMEKKOD": "06040205T",
                                    "MEGNEVEZES": "Indigó Pelikán",
                                    "KAT_ID": "68",
                                    "LISTAAR": "15",
                                    "LEIRAS": "NULL",
                                    "RAKTAR_KOD": "5",
                                    "KESZLET": "200",
                                    "MEGYS": "db",
                                    "FELVITTE": "Sára",
                                    "FELVITEL": "2016-07-28"
                                },
                                {
                                    "TERMEKKOD": "06040206T",
                                    "MEGNEVEZES": "kék indigó",
                                    "KAT_ID": "68",
                                    "LISTAAR": "12",
                                    "LEIRAS": "NULL",
                                    "RAKTAR_KOD": "5",
                                    "KESZLET": "100",
                                    "MEGYS": "db",
                                    "FELVITTE": "Sára",
                                    "FELVITEL": "2016-12-11"
                                },
                                {
                                    "TERMEKKOD": "06040212T",
                                    "MEGNEVEZES": "Írólap 10-50 ffam.",
                                    "KAT_ID": "75",
                                    "LISTAAR": "29",
                                    "LEIRAS": "NULL",
                                    "RAKTAR_KOD": "8",
                                    "KESZLET": "400",
                                    "MEGYS": "db",
                                    "FELVITTE": "Sára",
                                    "FELVITEL": "2016-08-01"
                                },
                                {
                                    "TERMEKKOD": "06040213T",
                                    "MEGNEVEZES": "Írólap 20-50 ",
                                    "KAT_ID": "75",
                                    "LISTAAR": "34",
                                    "LEIRAS": "NULL",
                                    "RAKTAR_KOD": "8",
                                    "KESZLET": "100",
                                    "MEGYS": "db",
                                    "FELVITTE": "Sára",
                                    "FELVITEL": "2016-07-28"
                                },
                                {
                                    "TERMEKKOD": "06040246T",
                                    "MEGNEVEZES": "Körző",
                                    "KAT_ID": "89",
                                    "LISTAAR": "161",
                                    "LEIRAS": "NULL",
                                    "RAKTAR_KOD": "5",
                                    "KESZLET": "100",
                                    "MEGYS": "db",
                                    "FELVITTE": "Béla",
                                    "FELVITEL": "2016-07-24"
                                },
                                {
                                    "TERMEKKOD": "06040247T",
                                    "MEGNEVEZES": "Körzőhegy grafit",
                                    "KAT_ID": "89",
                                    "LISTAAR": "30",
                                    "LEIRAS": "NULL",
                                    "RAKTAR_KOD": "8",
                                    "KESZLET": "2200",
                                    "MEGYS": "db",
                                    "FELVITTE": "Béla",
                                    "FELVITEL": "2016-07-24"
                                },
                                {
                                    "TERMEKKOD": "06040248T",
                                    "MEGNEVEZES": "Körző maped",
                                    "KAT_ID": "89",
                                    "LISTAAR": "243",
                                    "LEIRAS": "NULL",
                                    "RAKTAR_KOD": "6",
                                    "KESZLET": "300",
                                    "MEGYS": "db",
                                    "FELVITTE": "Béla",
                                    "FELVITEL": "2016-07-21"
                                },
                                {
                                    "TERMEKKOD": "06040323T",
                                    "MEGNEVEZES": "Post-it 51×38 100 lapos",
                                    "KAT_ID": "121",
                                    "LISTAAR": "36",
                                    "LEIRAS": "NULL",
                                    "RAKTAR_KOD": "8",
                                    "KESZLET": "200",
                                    "MEGYS": "db",
                                    "FELVITTE": "Béla",
                                    "FELVITEL": "2016-07-23"
                                },
                                {
                                    "TERMEKKOD": "06040324T",
                                    "MEGNEVEZES": "Post-it 75×75 100 lapos",
                                    "KAT_ID": "121",
                                    "LISTAAR": "89",
                                    "LEIRAS": "NULL",
                                    "RAKTAR_KOD": "7",
                                    "KESZLET": "1500",
                                    "MEGYS": "db",
                                    "FELVITTE": "Sára",
                                    "FELVITEL": "2016-07-23"
                                },
                                {
                                    "TERMEKKOD": "06040325T",
                                    "MEGNEVEZES": "Radír gyümölcsös",
                                    "KAT_ID": "122",
                                    "LISTAAR": "40",
                                    "LEIRAS": "NULL",
                                    "RAKTAR_KOD": "9",
                                    "KESZLET": "2600",
                                    "MEGYS": "db",
                                    "FELVITTE": "Béla",
                                    "FELVITEL": "2016-07-20"
                                },
                                {
                                    "TERMEKKOD": "06040326T",
                                    "MEGNEVEZES": "Radír KOH-I-NOR 80",
                                    "KAT_ID": "122",
                                    "LISTAAR": "19",
                                    "LEIRAS": "NULL",
                                    "RAKTAR_KOD": "8",
                                    "KESZLET": "100",
                                    "MEGYS": "db",
                                    "FELVITTE": "Béla",
                                    "FELVITEL": "2016-07-20"
                                },
                                {
                                    "TERMEKKOD": "06040327T",
                                    "MEGNEVEZES": "Radír Koh-i-nor 40",
                                    "KAT_ID": "122",
                                    "LISTAAR": "36",
                                    "LEIRAS": "NULL",
                                    "RAKTAR_KOD": "9",
                                    "KESZLET": "2200",
                                    "MEGYS": "db",
                                    "FELVITTE": "Béla",
                                    "FELVITEL": "2016-07-17"
                                },
                                {
                                    "TERMEKKOD": "06040328T",
                                    "MEGNEVEZES": "Radír Maped",
                                    "KAT_ID": "122",
                                    "LISTAAR": "44",
                                    "LEIRAS": "NULL",
                                    "RAKTAR_KOD": "8",
                                    "KESZLET": "2400",
                                    "MEGYS": "db",
                                    "FELVITTE": "Béla",
                                    "FELVITEL": "2016-07-17"
                                },
                                {
                                    "TERMEKKOD": "06040329T",
                                    "MEGNEVEZES": "Radír stabilo",
                                    "KAT_ID": "122",
                                    "LISTAAR": "44",
                                    "LEIRAS": "NULL",
                                    "RAKTAR_KOD": "6",
                                    "KESZLET": "1700",
                                    "MEGYS": "db",
                                    "FELVITTE": "Béla",
                                    "FELVITEL": "2016-07-17"
                                },
                                {
                                    "TERMEKKOD": "06040330T",
                                    "MEGNEVEZES": "Radír Tikky 30 ",
                                    "KAT_ID": "122",
                                    "LISTAAR": "50",
                                    "LEIRAS": "NULL",
                                    "RAKTAR_KOD": "7",
                                    "KESZLET": "1100",
                                    "MEGYS": "db",
                                    "FELVITTE": "Sára",
                                    "FELVITEL": "2016-07-12"
                                },
                                {
                                    "TERMEKKOD": "06040331T",
                                    "MEGNEVEZES": "Radír Tikky 40 ",
                                    "KAT_ID": "122",
                                    "LISTAAR": "49",
                                    "LEIRAS": "NULL",
                                    "RAKTAR_KOD": "8",
                                    "KESZLET": "200",
                                    "MEGYS": "db",
                                    "FELVITTE": "Sára",
                                    "FELVITEL": "2016-07-12"
                                },
                                {
                                    "TERMEKKOD": "06040347T",
                                    "MEGNEVEZES": "Rajzlap A/4 10db ffam.",
                                    "KAT_ID": "127",
                                    "LISTAAR": "28",
                                    "LEIRAS": "NULL",
                                    "RAKTAR_KOD": "5",
                                    "KESZLET": "200",
                                    "MEGYS": "csomag",
                                    "FELVITTE": "Sára",
                                    "FELVITEL": "2016-07-12"
                                },
                                {
                                    "TERMEKKOD": "06040350T",
                                    "MEGNEVEZES": "Regiszteres füzet A4",
                                    "KAT_ID": "129",
                                    "LISTAAR": "256",
                                    "LEIRAS": "NULL",
                                    "RAKTAR_KOD": "9",
                                    "KESZLET": "500",
                                    "MEGYS": "db",
                                    "FELVITTE": "Béla",
                                    "FELVITEL": "2016-07-12"
                                },
                                {
                                    "TERMEKKOD": "06040351T",
                                    "MEGNEVEZES": "Regiszteres füzet A5 Hightech",
                                    "KAT_ID": "129",
                                    "LISTAAR": "203",
                                    "LEIRAS": "NULL",
                                    "RAKTAR_KOD": "5",
                                    "KESZLET": "200",
                                    "MEGYS": "db",
                                    "FELVITTE": "Sára",
                                    "FELVITEL": "2016-07-11"
                                },
                                {
                                    "TERMEKKOD": "06040352T",
                                    "MEGNEVEZES": "Rovatolt papír 20 íves",
                                    "KAT_ID": "78",
                                    "LISTAAR": "103",
                                    "LEIRAS": "NULL",
                                    "RAKTAR_KOD": "6",
                                    "KESZLET": "0",
                                    "MEGYS": "db",
                                    "FELVITTE": "Mari",
                                    "FELVITEL": "2016-07-16"
                                },
                                {
                                    "TERMEKKOD": "06040353T",
                                    "MEGNEVEZES": "Sorvezető",
                                    "KAT_ID": "78",
                                    "LISTAAR": "8",
                                    "LEIRAS": "NULL",
                                    "RAKTAR_KOD": "5",
                                    "KESZLET": "600",
                                    "MEGYS": "db",
                                    "FELVITTE": "Béla",
                                    "FELVITEL": "2016-07-16"
                                },
                                {
                                    "TERMEKKOD": "06040354T",
                                    "MEGNEVEZES": "Sp.Füzet A/4  perforált, lyuk.",
                                    "KAT_ID": "45",
                                    "LISTAAR": "206",
                                    "LEIRAS": "NULL",
                                    "RAKTAR_KOD": "5",
                                    "KESZLET": "800",
                                    "MEGYS": "db",
                                    "FELVITTE": "Sára",
                                    "FELVITEL": "2016-07-20"
                                },
                                {
                                    "TERMEKKOD": "06040355T",
                                    "MEGNEVEZES": "Sp.Füzet A/4 70-as",
                                    "KAT_ID": "45",
                                    "LISTAAR": "155",
                                    "LEIRAS": "NULL",
                                    "RAKTAR_KOD": "8",
                                    "KESZLET": "600",
                                    "MEGYS": "db",
                                    "FELVITTE": "Béla",
                                    "FELVITEL": "2016-07-21"
                                },
                                {
                                    "TERMEKKOD": "06040356T",
                                    "MEGNEVEZES": "Sp.Füzet A/4  70es",
                                    "KAT_ID": "45",
                                    "LISTAAR": "144",
                                    "LEIRAS": "NULL",
                                    "RAKTAR_KOD": "8",
                                    "KESZLET": "100",
                                    "MEGYS": "db",
                                    "FELVITTE": "Mari",
                                    "FELVITEL": "2016-07-24"
                                },
                                {
                                    "TERMEKKOD": "06040357T",
                                    "MEGNEVEZES": "Sp.Füzet A/5 70-es",
                                    "KAT_ID": "45",
                                    "LISTAAR": "89",
                                    "LEIRAS": "NULL",
                                    "RAKTAR_KOD": "6",
                                    "KESZLET": "4400",
                                    "MEGYS": "db",
                                    "FELVITTE": "Mari",
                                    "FELVITEL": "2016-07-24"
                                },
                                {
                                    "TERMEKKOD": "06040378T",
                                    "MEGNEVEZES": "Szövegkiemelő vékony",
                                    "KAT_ID": "138",
                                    "LISTAAR": "89",
                                    "LEIRAS": "NULL",
                                    "RAKTAR_KOD": "8",
                                    "KESZLET": "100",
                                    "MEGYS": "db",
                                    "FELVITTE": "Mari",
                                    "FELVITEL": "2016-07-24"
                                },
                                {
                                    "TERMEKKOD": "06040379T",
                                    "MEGNEVEZES": "Szövegkiemelő ",
                                    "KAT_ID": "138",
                                    "LISTAAR": "93",
                                    "LEIRAS": "NULL",
                                    "RAKTAR_KOD": "9",
                                    "KESZLET": "200",
                                    "MEGYS": "db",
                                    "FELVITTE": "Béla",
                                    "FELVITEL": "2016-07-23"
                                },
                                {
                                    "TERMEKKOD": "06040380T",
                                    "MEGNEVEZES": "Szövegkiemelő",
                                    "KAT_ID": "138",
                                    "LISTAAR": "78",
                                    "LEIRAS": "NULL",
                                    "RAKTAR_KOD": "5",
                                    "KESZLET": "500",
                                    "MEGYS": "db",
                                    "FELVITTE": "Sára",
                                    "FELVITEL": "2016-07-20"
                                },
                                {
                                    "TERMEKKOD": "06040381T",
                                    "MEGNEVEZES": "Szövegkiemelő Videotip",
                                    "KAT_ID": "138",
                                    "LISTAAR": "103",
                                    "LEIRAS": "NULL",
                                    "RAKTAR_KOD": "6",
                                    "KESZLET": "100",
                                    "MEGYS": "csomag",
                                    "FELVITTE": "Béla",
                                    "FELVITEL": "2016-07-22"
                                },
                                {
                                    "TERMEKKOD": "06040382T",
                                    "MEGNEVEZES": "Táblafilc",
                                    "KAT_ID": "139",
                                    "LISTAAR": "633",
                                    "LEIRAS": "NULL",
                                    "RAKTAR_KOD": "9",
                                    "KESZLET": "500",
                                    "MEGYS": "csomag",
                                    "FELVITTE": "Béla",
                                    "FELVITEL": "2016-07-22"
                                },
                                {
                                    "TERMEKKOD": "06040383T",
                                    "MEGNEVEZES": "Taffet papír",
                                    "KAT_ID": "78",
                                    "LISTAAR": "19",
                                    "LEIRAS": "NULL",
                                    "RAKTAR_KOD": "6",
                                    "KESZLET": "300",
                                    "MEGYS": "db",
                                    "FELVITTE": "Béla",
                                    "FELVITEL": "2016-07-22"
                                },
                                {
                                    "TERMEKKOD": "06040384T",
                                    "MEGNEVEZES": "Technika cs. I-II-III-IV",
                                    "KAT_ID": "78",
                                    "LISTAAR": "58",
                                    "LEIRAS": "NULL",
                                    "RAKTAR_KOD": "5",
                                    "KESZLET": "500",
                                    "MEGYS": "db",
                                    "FELVITTE": "Béla",
                                    "FELVITEL": "2016-07-22"
                                },
                                {
                                    "TERMEKKOD": "06040385T",
                                    "MEGNEVEZES": "Tempera szóló ezüst",
                                    "KAT_ID": "141",
                                    "LISTAAR": "96",
                                    "LEIRAS": "NULL",
                                    "RAKTAR_KOD": "8",
                                    "KESZLET": "100",
                                    "MEGYS": "db",
                                    "FELVITTE": "Sára",
                                    "FELVITEL": "2016-07-24"
                                },
                                {
                                    "TERMEKKOD": "06040386T",
                                    "MEGNEVEZES": "Tempera szóló színes",
                                    "KAT_ID": "141",
                                    "LISTAAR": "48",
                                    "LEIRAS": "NULL",
                                    "RAKTAR_KOD": "8",
                                    "KESZLET": "100",
                                    "MEGYS": "db",
                                    "FELVITTE": "Mari",
                                    "FELVITEL": "2016-07-22"
                                },
                                {
                                    "TERMEKKOD": "06040392T",
                                    "MEGNEVEZES": "Tolltartó 1 zipzáros",
                                    "KAT_ID": "146",
                                    "LISTAAR": "728",
                                    "LEIRAS": "NULL",
                                    "RAKTAR_KOD": "7",
                                    "KESZLET": "400",
                                    "MEGYS": "db",
                                    "FELVITTE": "Sára",
                                    "FELVITEL": "2016-07-17"
                                },
                                {
                                    "TERMEKKOD": "06040393T",
                                    "MEGNEVEZES": "Tolltartó 2 részes NG.",
                                    "KAT_ID": "146",
                                    "LISTAAR": "765",
                                    "LEIRAS": "NULL",
                                    "RAKTAR_KOD": "9",
                                    "KESZLET": "1000",
                                    "MEGYS": "db",
                                    "FELVITTE": "Sára",
                                    "FELVITEL": "2016-07-19"
                                },
                                {
                                    "TERMEKKOD": "06040394T",
                                    "MEGNEVEZES": "Tolltartó zipzáras",
                                    "KAT_ID": "146",
                                    "LISTAAR": "324",
                                    "LEIRAS": "NULL",
                                    "RAKTAR_KOD": "5",
                                    "KESZLET": "100",
                                    "MEGYS": "db",
                                    "FELVITTE": "Béla",
                                    "FELVITEL": "2016-07-18"
                                },
                                {
                                    "TERMEKKOD": "06040395T",
                                    "MEGNEVEZES": "Tolltartó 2 zipzáros töltött",
                                    "KAT_ID": "146",
                                    "LISTAAR": "728",
                                    "LEIRAS": "NULL",
                                    "RAKTAR_KOD": "7",
                                    "KESZLET": "700",
                                    "MEGYS": "db",
                                    "FELVITTE": "Béla",
                                    "FELVITEL": "2016-07-18"
                                },
                                {
                                    "TERMEKKOD": "06040396T",
                                    "MEGNEVEZES": "Tolltartó Garfield",
                                    "KAT_ID": "146",
                                    "LISTAAR": "410",
                                    "LEIRAS": "NULL",
                                    "RAKTAR_KOD": "7",
                                    "KESZLET": "2900",
                                    "MEGYS": "db",
                                    "FELVITTE": "Béla",
                                    "FELVITEL": "2016-07-18"
                                },
                                {
                                    "TERMEKKOD": "06040397T",
                                    "MEGNEVEZES": "Tolltartó asztali",
                                    "KAT_ID": "146",
                                    "LISTAAR": "655",
                                    "LEIRAS": "NULL",
                                    "RAKTAR_KOD": "8",
                                    "KESZLET": "700",
                                    "MEGYS": "csomag",
                                    "FELVITTE": "Sára",
                                    "FELVITEL": "2016-07-17"
                                },
                                {
                                    "TERMEKKOD": "06040398T",
                                    "MEGNEVEZES": "Tolltartó hengeres ",
                                    "KAT_ID": "146",
                                    "LISTAAR": "411",
                                    "LEIRAS": "NULL",
                                    "RAKTAR_KOD": "5",
                                    "KESZLET": "100",
                                    "MEGYS": "db",
                                    "FELVITTE": "Sára",
                                    "FELVITEL": "2016-07-17"
                                },
                                {
                                    "TERMEKKOD": "06040399T",
                                    "MEGNEVEZES": "Tombola tömb",
                                    "KAT_ID": "78",
                                    "LISTAAR": "125",
                                    "LEIRAS": "NULL",
                                    "RAKTAR_KOD": "7",
                                    "KESZLET": "100",
                                    "MEGYS": "db",
                                    "FELVITTE": "Sára",
                                    "FELVITEL": "2016-07-17"
                                },
                                {
                                    "TERMEKKOD": "06040400T",
                                    "MEGNEVEZES": "Tornazsák",
                                    "KAT_ID": "78",
                                    "LISTAAR": "511",
                                    "LEIRAS": "NULL",
                                    "RAKTAR_KOD": "8",
                                    "KESZLET": "200",
                                    "MEGYS": "db",
                                    "FELVITTE": "Sára",
                                    "FELVITEL": "2016-07-17"
                                },
                                {
                                    "TERMEKKOD": "06040446T",
                                    "MEGNEVEZES": "Számológép tudományos",
                                    "KAT_ID": "134",
                                    "LISTAAR": "1173",
                                    "LEIRAS": "NULL",
                                    "RAKTAR_KOD": "5",
                                    "KESZLET": "200",
                                    "MEGYS": "db",
                                    "FELVITTE": "Sára",
                                    "FELVITEL": "2016-07-17"
                                },
                                {
                                    "TERMEKKOD": "06050249T",
                                    "MEGNEVEZES": "Krepp papír",
                                    "KAT_ID": "78",
                                    "LISTAAR": "73",
                                    "LEIRAS": "NULL",
                                    "RAKTAR_KOD": "5",
                                    "KESZLET": "500",
                                    "MEGYS": "db",
                                    "FELVITTE": "Mari",
                                    "FELVITEL": "2016-07-15"
                                },
                                {
                                    "TERMEKKOD": "06050301T",
                                    "MEGNEVEZES": "Olló gyerek ",
                                    "KAT_ID": "111",
                                    "LISTAAR": "133",
                                    "LEIRAS": "NULL",
                                    "RAKTAR_KOD": "8",
                                    "KESZLET": "100",
                                    "MEGYS": "db",
                                    "FELVITTE": "Mari",
                                    "FELVITEL": "2016-07-15"
                                },
                                {
                                    "TERMEKKOD": "06050302T",
                                    "MEGNEVEZES": "Olló Tagit 18 cm-es",
                                    "KAT_ID": "111",
                                    "LISTAAR": "176",
                                    "LEIRAS": "NULL",
                                    "RAKTAR_KOD": "5",
                                    "KESZLET": "400",
                                    "MEGYS": "db",
                                    "FELVITTE": "Mari",
                                    "FELVITEL": "2016-07-15"
                                },
                                {
                                    "TERMEKKOD": "06050303T",
                                    "MEGNEVEZES": "Olló, iskolai",
                                    "KAT_ID": "111",
                                    "LISTAAR": "161",
                                    "LEIRAS": "NULL",
                                    "RAKTAR_KOD": "7",
                                    "KESZLET": "100",
                                    "MEGYS": "db",
                                    "FELVITTE": "Sára",
                                    "FELVITEL": "2016-07-12"
                                },
                                {
                                    "TERMEKKOD": "06080116T",
                                    "MEGNEVEZES": "Füzet A5 1-8 osz.-ig",
                                    "KAT_ID": "45",
                                    "LISTAAR": "34",
                                    "LEIRAS": "NULL",
                                    "RAKTAR_KOD": "7",
                                    "KESZLET": "200",
                                    "MEGYS": "db",
                                    "FELVITTE": "Béla",
                                    "FELVITEL": "2016-07-13"
                                },
                                {
                                    "TERMEKKOD": "06080117T",
                                    "MEGNEVEZES": "Füzetborító A/4 átlátszó",
                                    "KAT_ID": "46",
                                    "LISTAAR": "10",
                                    "LEIRAS": "NULL",
                                    "RAKTAR_KOD": "6",
                                    "KESZLET": "600",
                                    "MEGYS": "db",
                                    "FELVITTE": "Mari",
                                    "FELVITEL": "2016-07-14"
                                },
                                {
                                    "TERMEKKOD": "06080118T",
                                    "MEGNEVEZES": "Füzetborító átlátszó A5",
                                    "KAT_ID": "46",
                                    "LISTAAR": "8",
                                    "LEIRAS": "NULL",
                                    "RAKTAR_KOD": "6",
                                    "KESZLET": "300",
                                    "MEGYS": "db",
                                    "FELVITTE": "Mari",
                                    "FELVITEL": "2016-07-09"
                                },
                                {
                                    "TERMEKKOD": "06080119T",
                                    "MEGNEVEZES": "Füzetborító mesefig.",
                                    "KAT_ID": "46",
                                    "LISTAAR": "19",
                                    "LEIRAS": "NULL",
                                    "RAKTAR_KOD": "2",
                                    "KESZLET": "100",
                                    "MEGYS": "db",
                                    "FELVITTE": "Mari",
                                    "FELVITEL": "2016-07-09"
                                },
                                {
                                    "TERMEKKOD": "06080120T",
                                    "MEGNEVEZES": "Füzetborító öntapadó kicsi",
                                    "KAT_ID": "46",
                                    "LISTAAR": "23",
                                    "LEIRAS": "NULL",
                                    "RAKTAR_KOD": "9",
                                    "KESZLET": "100",
                                    "MEGYS": "db",
                                    "FELVITTE": "Béla",
                                    "FELVITEL": "2016-07-08"
                                },
                                {
                                    "TERMEKKOD": "06080121T",
                                    "MEGNEVEZES": "Füzetborító öntapadó tekercses",
                                    "KAT_ID": "46",
                                    "LISTAAR": "195",
                                    "LEIRAS": "NULL",
                                    "RAKTAR_KOD": "7",
                                    "KESZLET": "300",
                                    "MEGYS": "csomag",
                                    "FELVITTE": "Béla",
                                    "FELVITEL": "2016-07-08"
                                },
                                {
                                    "TERMEKKOD": "06080122T",
                                    "MEGNEVEZES": "Füzetborító öntapadós nagy",
                                    "KAT_ID": "46",
                                    "LISTAAR": "19",
                                    "LEIRAS": "NULL",
                                    "RAKTAR_KOD": "7",
                                    "KESZLET": "300",
                                    "MEGYS": "db",
                                    "FELVITTE": "Béla",
                                    "FELVITEL": "2016-07-05"
                                },
                                {
                                    "TERMEKKOD": "06080123T",
                                    "MEGNEVEZES": "Füzettartó A/4 keménytáblás",
                                    "KAT_ID": "47",
                                    "LISTAAR": "551",
                                    "LEIRAS": "NULL",
                                    "RAKTAR_KOD": "6",
                                    "KESZLET": "2000",
                                    "MEGYS": "db",
                                    "FELVITTE": "Sára",
                                    "FELVITEL": "2016-07-10"
                                },
                                {
                                    "TERMEKKOD": "06080124T",
                                    "MEGNEVEZES": "Füzettartó A/4 keménytáblás",
                                    "KAT_ID": "47",
                                    "LISTAAR": "508",
                                    "LEIRAS": "NULL",
                                    "RAKTAR_KOD": "6",
                                    "KESZLET": "900",
                                    "MEGYS": "db",
                                    "FELVITTE": "Mari",
                                    "FELVITEL": "2016-07-14"
                                },
                                {
                                    "TERMEKKOD": "06080125T",
                                    "MEGNEVEZES": "Füzettartó A/5 vastag",
                                    "KAT_ID": "47",
                                    "LISTAAR": "411",
                                    "LEIRAS": "NULL",
                                    "RAKTAR_KOD": "7",
                                    "KESZLET": "400",
                                    "MEGYS": "db",
                                    "FELVITTE": "Mari",
                                    "FELVITEL": "2016-07-14"
                                },
                                {
                                    "TERMEKKOD": "06080126T",
                                    "MEGNEVEZES": "Füzettartó A/5  ",
                                    "KAT_ID": "47",
                                    "LISTAAR": "203",
                                    "LEIRAS": "NULL",
                                    "RAKTAR_KOD": "9",
                                    "KESZLET": "1500",
                                    "MEGYS": "db",
                                    "FELVITTE": "Mari",
                                    "FELVITEL": "2016-07-09"
                                },
                                {
                                    "TERMEKKOD": "06080188T",
                                    "MEGNEVEZES": "Hegyező gép",
                                    "KAT_ID": "64",
                                    "LISTAAR": "875",
                                    "LEIRAS": "NULL",
                                    "RAKTAR_KOD": "8",
                                    "KESZLET": "900",
                                    "MEGYS": "db",
                                    "FELVITTE": "Sára",
                                    "FELVITEL": "2016-07-14"
                                },
                                {
                                    "TERMEKKOD": "06080189T",
                                    "MEGNEVEZES": "Hegyező műanyag dupla",
                                    "KAT_ID": "64",
                                    "LISTAAR": "30",
                                    "LEIRAS": "NULL",
                                    "RAKTAR_KOD": "6",
                                    "KESZLET": "500",
                                    "MEGYS": "db",
                                    "FELVITTE": "Sára",
                                    "FELVITEL": "2016-07-09"
                                },
                                {
                                    "TERMEKKOD": "06080190T",
                                    "MEGNEVEZES": "Hegyező műanyag egyes",
                                    "KAT_ID": "64",
                                    "LISTAAR": "23",
                                    "LEIRAS": "NULL",
                                    "RAKTAR_KOD": "6",
                                    "KESZLET": "1000",
                                    "MEGYS": "db",
                                    "FELVITTE": "Sára",
                                    "FELVITEL": "2016-07-09"
                                },
                                {
                                    "TERMEKKOD": "06080191T",
                                    "MEGNEVEZES": "Hegyező tartályos egyes",
                                    "KAT_ID": "64",
                                    "LISTAAR": "30",
                                    "LEIRAS": "NULL",
                                    "RAKTAR_KOD": "8",
                                    "KESZLET": "300",
                                    "MEGYS": "db",
                                    "FELVITTE": "Sára",
                                    "FELVITEL": "2016-07-10"
                                },
                                {
                                    "TERMEKKOD": "06080192T",
                                    "MEGNEVEZES": "Hegyző fém 1 lyukú",
                                    "KAT_ID": "65",
                                    "LISTAAR": "70",
                                    "LEIRAS": "NULL",
                                    "RAKTAR_KOD": "9",
                                    "KESZLET": "200",
                                    "MEGYS": "db",
                                    "FELVITTE": "Sára",
                                    "FELVITEL": "2016-07-07"
                                },
                                {
                                    "TERMEKKOD": "06080193T",
                                    "MEGNEVEZES": "Hegyző fém 2 lyukú",
                                    "KAT_ID": "65",
                                    "LISTAAR": "180",
                                    "LEIRAS": "NULL",
                                    "RAKTAR_KOD": "7",
                                    "KESZLET": "100",
                                    "MEGYS": "db",
                                    "FELVITTE": "Sára",
                                    "FELVITEL": "2016-07-07"
                                },
                                {
                                    "TERMEKKOD": "06080259T",
                                    "MEGNEVEZES": "Leckefüzet",
                                    "KAT_ID": "78",
                                    "LISTAAR": "161",
                                    "LEIRAS": "NULL",
                                    "RAKTAR_KOD": "6",
                                    "KESZLET": "0",
                                    "MEGYS": "db",
                                    "FELVITTE": "Mari",
                                    "FELVITEL": "2016-07-02"
                                },
                                {
                                    "TERMEKKOD": "06080332T",
                                    "MEGNEVEZES": "Radírtoll betét ER100",
                                    "KAT_ID": "123",
                                    "LISTAAR": "74",
                                    "LEIRAS": "NULL",
                                    "RAKTAR_KOD": "5",
                                    "KESZLET": "1500",
                                    "MEGYS": "db",
                                    "FELVITTE": "Mari",
                                    "FELVITEL": "2016-07-02"
                                },
                                {
                                    "TERMEKKOD": "06080333T",
                                    "MEGNEVEZES": "Radírtoll betét vastag",
                                    "KAT_ID": "123",
                                    "LISTAAR": "119",
                                    "LEIRAS": "NULL",
                                    "RAKTAR_KOD": "7",
                                    "KESZLET": "500",
                                    "MEGYS": "db",
                                    "FELVITTE": "Béla",
                                    "FELVITEL": "2016-07-01"
                                },
                                {
                                    "TERMEKKOD": "06080334T",
                                    "MEGNEVEZES": "Ragasztó szalag KORES ",
                                    "KAT_ID": "124",
                                    "LISTAAR": "133",
                                    "LEIRAS": "NULL",
                                    "RAKTAR_KOD": "5",
                                    "KESZLET": "3000",
                                    "MEGYS": "db",
                                    "FELVITTE": "Mari",
                                    "FELVITEL": "2016-07-02"
                                },
                                {
                                    "TERMEKKOD": "06080335T",
                                    "MEGNEVEZES": "Ragasztó 9 g Pax",
                                    "KAT_ID": "124",
                                    "LISTAAR": "110",
                                    "LEIRAS": "NULL",
                                    "RAKTAR_KOD": "9",
                                    "KESZLET": "200",
                                    "MEGYS": "db",
                                    "FELVITTE": "Mari",
                                    "FELVITEL": "2016-07-02"
                                },
                                {
                                    "TERMEKKOD": "06080336T",
                                    "MEGNEVEZES": "Ragasztó 8 g Pritt",
                                    "KAT_ID": "124",
                                    "LISTAAR": "81",
                                    "LEIRAS": "NULL",
                                    "RAKTAR_KOD": "9",
                                    "KESZLET": "4900",
                                    "MEGYS": "db",
                                    "FELVITTE": "Mari",
                                    "FELVITEL": "2016-07-02"
                                },
                                {
                                    "TERMEKKOD": "06080337T",
                                    "MEGNEVEZES": "Ragasztó Gyurma",
                                    "KAT_ID": "124",
                                    "LISTAAR": "293",
                                    "LEIRAS": "NULL",
                                    "RAKTAR_KOD": "7",
                                    "KESZLET": "100",
                                    "MEGYS": "db",
                                    "FELVITTE": "Sára",
                                    "FELVITEL": "2016-07-06"
                                },
                                {
                                    "TERMEKKOD": "06080338T",
                                    "MEGNEVEZES": "Ragasztó kenőfejes Nebuló",
                                    "KAT_ID": "124",
                                    "LISTAAR": "101",
                                    "LEIRAS": "NULL",
                                    "RAKTAR_KOD": "8",
                                    "KESZLET": "3600",
                                    "MEGYS": "db",
                                    "FELVITTE": "Mari",
                                    "FELVITEL": "2016-07-08"
                                },
                                {
                                    "TERMEKKOD": "06080339T",
                                    "MEGNEVEZES": "Ragasztó kores",
                                    "KAT_ID": "124",
                                    "LISTAAR": "89",
                                    "LEIRAS": "NULL",
                                    "RAKTAR_KOD": "5",
                                    "KESZLET": "900",
                                    "MEGYS": "db",
                                    "FELVITTE": "Mari",
                                    "FELVITEL": "2016-07-11"
                                },
                                {
                                    "TERMEKKOD": "06080407T",
                                    "MEGNEVEZES": "Vízfesték  12 színű nagy",
                                    "KAT_ID": "151",
                                    "LISTAAR": "249",
                                    "LEIRAS": "NULL",
                                    "RAKTAR_KOD": "7",
                                    "KESZLET": "100",
                                    "MEGYS": "db",
                                    "FELVITTE": "Sára",
                                    "FELVITEL": "2016-07-14"
                                },
                                {
                                    "TERMEKKOD": "06080408T",
                                    "MEGNEVEZES": "Vízfesték 12 db-os ",
                                    "KAT_ID": "151",
                                    "LISTAAR": "210",
                                    "LEIRAS": "NULL",
                                    "RAKTAR_KOD": "7",
                                    "KESZLET": "100",
                                    "MEGYS": "db",
                                    "FELVITTE": "Sára",
                                    "FELVITEL": "2016-07-14"
                                },
                                {
                                    "TERMEKKOD": "06080409T",
                                    "MEGNEVEZES": "Vízfesték 12 színű kerek",
                                    "KAT_ID": "151",
                                    "LISTAAR": "180",
                                    "LEIRAS": "NULL",
                                    "RAKTAR_KOD": "6",
                                    "KESZLET": "100",
                                    "MEGYS": "db",
                                    "FELVITTE": "Sára",
                                    "FELVITEL": "2016-07-14"
                                },
                                {
                                    "TERMEKKOD": "06080410T",
                                    "MEGNEVEZES": "Vízfesték 12db-os kínai",
                                    "KAT_ID": "151",
                                    "LISTAAR": "176",
                                    "LEIRAS": "NULL",
                                    "RAKTAR_KOD": "6",
                                    "KESZLET": "100",
                                    "MEGYS": "db",
                                    "FELVITTE": "Béla",
                                    "FELVITEL": "2016-07-15"
                                },
                                {
                                    "TERMEKKOD": "06080411T",
                                    "MEGNEVEZES": "Vonalzó 15 cm-es ESSELTE",
                                    "KAT_ID": "152",
                                    "LISTAAR": "58",
                                    "LEIRAS": "NULL",
                                    "RAKTAR_KOD": "8",
                                    "KESZLET": "100",
                                    "MEGYS": "db",
                                    "FELVITTE": "Sára",
                                    "FELVITEL": "2016-07-18"
                                },
                                {
                                    "TERMEKKOD": "06080412T",
                                    "MEGNEVEZES": "Vonalzó 16 cm-es LIZZY",
                                    "KAT_ID": "152",
                                    "LISTAAR": "30",
                                    "LEIRAS": "NULL",
                                    "RAKTAR_KOD": "7",
                                    "KESZLET": "100",
                                    "MEGYS": "db",
                                    "FELVITTE": "Sára",
                                    "FELVITEL": "2016-07-15"
                                },
                                {
                                    "TERMEKKOD": "06080413T",
                                    "MEGNEVEZES": "Vonalzó 30 cm",
                                    "KAT_ID": "152",
                                    "LISTAAR": "30",
                                    "LEIRAS": "NULL",
                                    "RAKTAR_KOD": "8",
                                    "KESZLET": "100",
                                    "MEGYS": "db",
                                    "FELVITTE": "Sára",
                                    "FELVITEL": "2016-07-18"
                                },
                                {
                                    "TERMEKKOD": "06080414T",
                                    "MEGNEVEZES": "Vonalzó 20 cm-es ",
                                    "KAT_ID": "152",
                                    "LISTAAR": "30",
                                    "LEIRAS": "NULL",
                                    "RAKTAR_KOD": "8",
                                    "KESZLET": "2600",
                                    "MEGYS": "db",
                                    "FELVITTE": "Mari",
                                    "FELVITEL": "2016-07-22"
                                },
                                {
                                    "TERMEKKOD": "06080415T",
                                    "MEGNEVEZES": "Vonalzó 45 fokos",
                                    "KAT_ID": "152",
                                    "LISTAAR": "30",
                                    "LEIRAS": "NULL",
                                    "RAKTAR_KOD": "9",
                                    "KESZLET": "200",
                                    "MEGYS": "db",
                                    "FELVITTE": "Mari",
                                    "FELVITEL": "2016-07-22"
                                },
                                {
                                    "TERMEKKOD": "06080416T",
                                    "MEGNEVEZES": "Vonalzó 60 fokos",
                                    "KAT_ID": "152",
                                    "LISTAAR": "33",
                                    "LEIRAS": "NULL",
                                    "RAKTAR_KOD": "6",
                                    "KESZLET": "100",
                                    "MEGYS": "db",
                                    "FELVITTE": "Mari",
                                    "FELVITEL": "2016-07-22"
                                },
                                {
                                    "TERMEKKOD": "06080417T",
                                    "MEGNEVEZES": "Zászló papír",
                                    "KAT_ID": "153",
                                    "LISTAAR": "20",
                                    "LEIRAS": "NULL",
                                    "RAKTAR_KOD": "5",
                                    "KESZLET": "200",
                                    "MEGYS": "db",
                                    "FELVITTE": "Mari",
                                    "FELVITEL": "2016-07-22"
                                },
                                {
                                    "TERMEKKOD": "06080422T",
                                    "MEGNEVEZES": "Füzettartó A/4",
                                    "KAT_ID": "78",
                                    "LISTAAR": "324",
                                    "LEIRAS": "NULL",
                                    "RAKTAR_KOD": "7",
                                    "KESZLET": "200",
                                    "MEGYS": "db",
                                    "FELVITTE": "Mari",
                                    "FELVITEL": "2016-07-22"
                                },
                                {
                                    "TERMEKKOD": "06080423T",
                                    "MEGNEVEZES": "Beíró A/5 kockás",
                                    "KAT_ID": "12",
                                    "LISTAAR": "228",
                                    "LEIRAS": "NULL",
                                    "RAKTAR_KOD": "5",
                                    "KESZLET": "200",
                                    "MEGYS": "db",
                                    "FELVITTE": "Mari",
                                    "FELVITEL": "2016-07-22"
                                },
                                {
                                    "TERMEKKOD": "06080424T",
                                    "MEGNEVEZES": "Füzetborító A/4 mintás",
                                    "KAT_ID": "46",
                                    "LISTAAR": "24",
                                    "LEIRAS": "NULL",
                                    "RAKTAR_KOD": "9",
                                    "KESZLET": "500",
                                    "MEGYS": "db",
                                    "FELVITTE": "Béla",
                                    "FELVITEL": "2016-07-26"
                                },
                                {
                                    "TERMEKKOD": "06080425T",
                                    "MEGNEVEZES": "Miliméterpapír",
                                    "KAT_ID": "99",
                                    "LISTAAR": "8",
                                    "LEIRAS": "NULL",
                                    "RAKTAR_KOD": "6",
                                    "KESZLET": "400",
                                    "MEGYS": "db",
                                    "FELVITTE": "Sára",
                                    "FELVITEL": "2016-07-30"
                                },
                                {
                                    "TERMEKKOD": "06080426T",
                                    "MEGNEVEZES": "Szótárfüzet Lizzy",
                                    "KAT_ID": "45",
                                    "LISTAAR": "161",
                                    "LEIRAS": "NULL",
                                    "RAKTAR_KOD": "7",
                                    "KESZLET": "300",
                                    "MEGYS": "db",
                                    "FELVITTE": "Mari",
                                    "FELVITEL": "2016-07-27"
                                },
                                {
                                    "TERMEKKOD": "06080427T",
                                    "MEGNEVEZES": "Ablakkréta",
                                    "KAT_ID": "78",
                                    "LISTAAR": "161",
                                    "LEIRAS": "NULL",
                                    "RAKTAR_KOD": "9",
                                    "KESZLET": "200",
                                    "MEGYS": "db",
                                    "FELVITTE": "Sára",
                                    "FELVITEL": "2016-07-23"
                                },
                                {
                                    "TERMEKKOD": "06080428T",
                                    "MEGNEVEZES": "Ecsetkészlet",
                                    "KAT_ID": "30",
                                    "LISTAAR": "180",
                                    "LEIRAS": "NULL",
                                    "RAKTAR_KOD": "8",
                                    "KESZLET": "500",
                                    "MEGYS": "db",
                                    "FELVITTE": "Sára",
                                    "FELVITEL": "2016-07-23"
                                },
                                {
                                    "TERMEKKOD": "06080429T",
                                    "MEGNEVEZES": "Meghívó ballagási",
                                    "KAT_ID": "98",
                                    "LISTAAR": "63",
                                    "LEIRAS": "NULL",
                                    "RAKTAR_KOD": "6",
                                    "KESZLET": "400",
                                    "MEGYS": "db",
                                    "FELVITTE": "Sára",
                                    "FELVITEL": "2016-07-26"
                                },
                                {
                                    "TERMEKKOD": "06080430T",
                                    "MEGNEVEZES": "Öntapadős betűk",
                                    "KAT_ID": "78",
                                    "LISTAAR": "74",
                                    "LEIRAS": "NULL",
                                    "RAKTAR_KOD": "7",
                                    "KESZLET": "900",
                                    "MEGYS": "csomag",
                                    "FELVITTE": "Béla",
                                    "FELVITEL": "2016-07-22"
                                },
                                {
                                    "TERMEKKOD": "06080440T",
                                    "MEGNEVEZES": "Gyurma 12 szinű",
                                    "KAT_ID": "59",
                                    "LISTAAR": "161",
                                    "LEIRAS": "NULL",
                                    "RAKTAR_KOD": "5",
                                    "KESZLET": "1900",
                                    "MEGYS": "csomag",
                                    "FELVITTE": "Béla",
                                    "FELVITEL": "2016-07-20"
                                },
                                {
                                    "TERMEKKOD": "06080441T",
                                    "MEGNEVEZES": "Gyurmakés",
                                    "KAT_ID": "59",
                                    "LISTAAR": "121",
                                    "LEIRAS": "NULL",
                                    "RAKTAR_KOD": "9",
                                    "KESZLET": "300",
                                    "MEGYS": "csomag",
                                    "FELVITTE": "Béla",
                                    "FELVITEL": "2016-07-21"
                                },
                                {
                                    "TERMEKKOD": "07010136T",
                                    "MEGNEVEZES": "G.toll betét PAX",
                                    "KAT_ID": "145",
                                    "LISTAAR": "123",
                                    "LEIRAS": "NULL",
                                    "RAKTAR_KOD": "6",
                                    "KESZLET": "1800",
                                    "MEGYS": "db",
                                    "FELVITTE": "Béla",
                                    "FELVITEL": "2016-07-26"
                                },
                                {
                                    "TERMEKKOD": "07010137T",
                                    "MEGNEVEZES": "G.toll betét PAX tip.",
                                    "KAT_ID": "145",
                                    "LISTAAR": "48",
                                    "LEIRAS": "NULL",
                                    "RAKTAR_KOD": "6",
                                    "KESZLET": "600",
                                    "MEGYS": "db",
                                    "FELVITTE": "Sára",
                                    "FELVITEL": "2016-07-31"
                                },
                                {
                                    "TERMEKKOD": "07010138T",
                                    "MEGNEVEZES": "G.toll betét jumbo",
                                    "KAT_ID": "145",
                                    "LISTAAR": "33",
                                    "LEIRAS": "NULL",
                                    "RAKTAR_KOD": "8",
                                    "KESZLET": "1700",
                                    "MEGYS": "db",
                                    "FELVITTE": "Mari",
                                    "FELVITEL": "2016-08-02"
                                },
                                {
                                    "TERMEKKOD": "07010139T",
                                    "MEGNEVEZES": "G.toll betét S7L ",
                                    "KAT_ID": "145",
                                    "LISTAAR": "91",
                                    "LEIRAS": "NULL",
                                    "RAKTAR_KOD": "6",
                                    "KESZLET": "1000",
                                    "MEGYS": "db",
                                    "FELVITTE": "Mari",
                                    "FELVITEL": "2016-08-02"
                                },
                                {
                                    "TERMEKKOD": "07010140T",
                                    "MEGNEVEZES": "G.toll betét Stabilo",
                                    "KAT_ID": "145",
                                    "LISTAAR": "23",
                                    "LEIRAS": "NULL",
                                    "RAKTAR_KOD": "5",
                                    "KESZLET": "1200",
                                    "MEGYS": "db",
                                    "FELVITTE": "Béla",
                                    "FELVITEL": "2016-07-28"
                                },
                                {
                                    "TERMEKKOD": "07010141T",
                                    "MEGNEVEZES": "G.toll betét X20",
                                    "KAT_ID": "145",
                                    "LISTAAR": "15",
                                    "LEIRAS": "NULL",
                                    "RAKTAR_KOD": "7",
                                    "KESZLET": "600",
                                    "MEGYS": "db",
                                    "FELVITTE": "Béla",
                                    "FELVITEL": "2016-07-25"
                                },
                                {
                                    "TERMEKKOD": "07010142T",
                                    "MEGNEVEZES": "G.toll betét Zebra F-0.7",
                                    "KAT_ID": "145",
                                    "LISTAAR": "228",
                                    "LEIRAS": "NULL",
                                    "RAKTAR_KOD": "5",
                                    "KESZLET": "100",
                                    "MEGYS": "db",
                                    "FELVITTE": "Mari",
                                    "FELVITEL": "2016-07-28"
                                },
                                {
                                    "TERMEKKOD": "07010143T",
                                    "MEGNEVEZES": "G.toll betét Zebra H-0,7",
                                    "KAT_ID": "145",
                                    "LISTAAR": "78",
                                    "LEIRAS": "NULL",
                                    "RAKTAR_KOD": "7",
                                    "KESZLET": "200",
                                    "MEGYS": "db",
                                    "FELVITTE": "Mari",
                                    "FELVITEL": "2016-07-28"
                                },
                                {
                                    "TERMEKKOD": "07010144T",
                                    "MEGNEVEZES": "G.toll betét Zebra K-0,7",
                                    "KAT_ID": "145",
                                    "LISTAAR": "89",
                                    "LEIRAS": "NULL",
                                    "RAKTAR_KOD": "9",
                                    "KESZLET": "200",
                                    "MEGYS": "db",
                                    "FELVITTE": "Béla",
                                    "FELVITEL": "2016-07-25"
                                },
                                {
                                    "TERMEKKOD": "07010244T",
                                    "MEGNEVEZES": "Kerámiatoll",
                                    "KAT_ID": "144",
                                    "LISTAAR": "74",
                                    "LEIRAS": "NULL",
                                    "RAKTAR_KOD": "5",
                                    "KESZLET": "200",
                                    "MEGYS": "db",
                                    "FELVITTE": "Béla",
                                    "FELVITEL": "2016-07-25"
                                },
                                {
                                    "TERMEKKOD": "07010371T",
                                    "MEGNEVEZES": "Színes ceruza 6-os",
                                    "KAT_ID": "136",
                                    "LISTAAR": "99",
                                    "LEIRAS": "NULL",
                                    "RAKTAR_KOD": "8",
                                    "KESZLET": "2200",
                                    "MEGYS": "db",
                                    "FELVITTE": "Sára",
                                    "FELVITEL": "2016-07-25"
                                },
                                {
                                    "TERMEKKOD": "07010372T",
                                    "MEGNEVEZES": "Színes ceruza 12 szín",
                                    "KAT_ID": "136",
                                    "LISTAAR": "161",
                                    "LEIRAS": "NULL",
                                    "RAKTAR_KOD": "7",
                                    "KESZLET": "3000",
                                    "MEGYS": "db",
                                    "FELVITTE": "Sára",
                                    "FELVITEL": "2016-07-25"
                                },
                                {
                                    "TERMEKKOD": "07030103T",
                                    "MEGNEVEZES": "Filctoll TINTEN PEN",
                                    "KAT_ID": "41",
                                    "LISTAAR": "53",
                                    "LEIRAS": "NULL",
                                    "RAKTAR_KOD": "8",
                                    "KESZLET": "300",
                                    "MEGYS": "db",
                                    "FELVITTE": "Béla",
                                    "FELVITEL": "2016-07-22"
                                },
                                {
                                    "TERMEKKOD": "07030104T",
                                    "MEGNEVEZES": "Filctoll vastag ARTIP",
                                    "KAT_ID": "41",
                                    "LISTAAR": "76",
                                    "LEIRAS": "NULL",
                                    "RAKTAR_KOD": "8",
                                    "KESZLET": "400",
                                    "MEGYS": "db",
                                    "FELVITTE": "Sára",
                                    "FELVITEL": "2016-07-23"
                                },
                                {
                                    "TERMEKKOD": "07030105T",
                                    "MEGNEVEZES": "Filctoll, alkoholos Centropen",
                                    "KAT_ID": "41",
                                    "LISTAAR": "114",
                                    "LEIRAS": "NULL",
                                    "RAKTAR_KOD": "5",
                                    "KESZLET": "200",
                                    "MEGYS": "db",
                                    "FELVITTE": "Sára",
                                    "FELVITEL": "2016-07-23"
                                },
                                {
                                    "TERMEKKOD": "07030106T",
                                    "MEGNEVEZES": "Filctoll, alkoholosOHP F-M-C",
                                    "KAT_ID": "41",
                                    "LISTAAR": "103",
                                    "LEIRAS": "NULL",
                                    "RAKTAR_KOD": "9",
                                    "KESZLET": "700",
                                    "MEGYS": "db",
                                    "FELVITTE": "Mari",
                                    "FELVITEL": "2016-07-21"
                                },
                                {
                                    "TERMEKKOD": "07030107T",
                                    "MEGNEVEZES": "Filctoll, textil Edding 4500",
                                    "KAT_ID": "41",
                                    "LISTAAR": "276",
                                    "LEIRAS": "NULL",
                                    "RAKTAR_KOD": "5",
                                    "KESZLET": "1000",
                                    "MEGYS": "db",
                                    "FELVITTE": "Mari",
                                    "FELVITEL": "2016-07-21"
                                },
                                {
                                    "TERMEKKOD": "07030108T",
                                    "MEGNEVEZES": "Filctoll CD író",
                                    "KAT_ID": "41",
                                    "LISTAAR": "0",
                                    "LEIRAS": "NULL",
                                    "RAKTAR_KOD": "5",
                                    "KESZLET": "500",
                                    "MEGYS": "db",
                                    "FELVITTE": "Mari",
                                    "FELVITEL": "2016-07-21"
                                },
                                {
                                    "TERMEKKOD": "07040047T",
                                    "MEGNEVEZES": "Ceruza 2H-4B",
                                    "KAT_ID": "19",
                                    "LISTAAR": "39",
                                    "LEIRAS": "NULL",
                                    "RAKTAR_KOD": "5",
                                    "KESZLET": "200",
                                    "MEGYS": "db",
                                    "FELVITTE": "Mari",
                                    "FELVITEL": "2016-07-21"
                                },
                                {
                                    "TERMEKKOD": "07040048T",
                                    "MEGNEVEZES": "Ceruza arany, ezüst",
                                    "KAT_ID": "19",
                                    "LISTAAR": "55",
                                    "LEIRAS": "NULL",
                                    "RAKTAR_KOD": "6",
                                    "KESZLET": "1900",
                                    "MEGYS": "db",
                                    "FELVITTE": "Mari",
                                    "FELVITEL": "2016-07-21"
                                },
                                {
                                    "TERMEKKOD": "07040049T",
                                    "MEGNEVEZES": "Ceruza Conté zöld",
                                    "KAT_ID": "19",
                                    "LISTAAR": "40",
                                    "LEIRAS": "NULL",
                                    "RAKTAR_KOD": "9",
                                    "KESZLET": "100",
                                    "MEGYS": "db",
                                    "FELVITTE": "Mari",
                                    "FELVITEL": "2016-07-21"
                                },
                                {
                                    "TERMEKKOD": "07040050T",
                                    "MEGNEVEZES": "Ceruza Cseh",
                                    "KAT_ID": "19",
                                    "LISTAAR": "30",
                                    "LEIRAS": "NULL",
                                    "RAKTAR_KOD": "6",
                                    "KESZLET": "200",
                                    "MEGYS": "db",
                                    "FELVITTE": "Mari",
                                    "FELVITEL": "2016-07-21"
                                },
                                {
                                    "TERMEKKOD": "07040051T",
                                    "MEGNEVEZES": "Ceruza háromszög ",
                                    "KAT_ID": "19",
                                    "LISTAAR": "39",
                                    "LEIRAS": "NULL",
                                    "RAKTAR_KOD": "6",
                                    "KESZLET": "500",
                                    "MEGYS": "db",
                                    "FELVITTE": "Mari",
                                    "FELVITEL": "2016-07-21"
                                },
                                {
                                    "TERMEKKOD": "07040052T",
                                    "MEGNEVEZES": "Ceruza 2H-3B Koh-i-nor",
                                    "KAT_ID": "19",
                                    "LISTAAR": "53",
                                    "LEIRAS": "NULL",
                                    "RAKTAR_KOD": "5",
                                    "KESZLET": "100",
                                    "MEGYS": "db",
                                    "FELVITTE": "Sára",
                                    "FELVITEL": "2016-07-23"
                                },
                                {
                                    "TERMEKKOD": "07040053T",
                                    "MEGNEVEZES": "Ceruza HB radiros",
                                    "KAT_ID": "19",
                                    "LISTAAR": "23",
                                    "LEIRAS": "NULL",
                                    "RAKTAR_KOD": "5",
                                    "KESZLET": "200",
                                    "MEGYS": "db",
                                    "FELVITTE": "Sára",
                                    "FELVITEL": "2016-07-23"
                                },
                                {
                                    "TERMEKKOD": "07040054T",
                                    "MEGNEVEZES": "Ceruza kártyás",
                                    "KAT_ID": "19",
                                    "LISTAAR": "55",
                                    "LEIRAS": "NULL",
                                    "RAKTAR_KOD": "7",
                                    "KESZLET": "100",
                                    "MEGYS": "db",
                                    "FELVITTE": "Mari",
                                    "FELVITEL": "2016-07-28"
                                },
                                {
                                    "TERMEKKOD": "07040055T",
                                    "MEGNEVEZES": "Ceruza piros-kék",
                                    "KAT_ID": "19",
                                    "LISTAAR": "59",
                                    "LEIRAS": "NULL",
                                    "RAKTAR_KOD": "9",
                                    "KESZLET": "200",
                                    "MEGYS": "db",
                                    "FELVITTE": "Sára",
                                    "FELVITEL": "2016-08-02"
                                },
                                {
                                    "TERMEKKOD": "07040056T",
                                    "MEGNEVEZES": "Ceruza piros-kék vékony",
                                    "KAT_ID": "19",
                                    "LISTAAR": "40",
                                    "LEIRAS": "NULL",
                                    "RAKTAR_KOD": "7",
                                    "KESZLET": "500",
                                    "MEGYS": "db",
                                    "FELVITTE": "Sára",
                                    "FELVITEL": "2016-08-02"
                                },
                                {
                                    "TERMEKKOD": "07040057T",
                                    "MEGNEVEZES": "Ceruza Progresso",
                                    "KAT_ID": "19",
                                    "LISTAAR": "106",
                                    "LEIRAS": "NULL",
                                    "RAKTAR_KOD": "7",
                                    "KESZLET": "100",
                                    "MEGYS": "db",
                                    "FELVITTE": "Sára",
                                    "FELVITEL": "2016-08-02"
                                },
                                {
                                    "TERMEKKOD": "07040058T",
                                    "MEGNEVEZES": "Ceruza radíros kínai",
                                    "KAT_ID": "19",
                                    "LISTAAR": "11",
                                    "LEIRAS": "NULL",
                                    "RAKTAR_KOD": "7",
                                    "KESZLET": "200",
                                    "MEGYS": "db",
                                    "FELVITTE": "Sára",
                                    "FELVITEL": "2016-08-02"
                                },
                                {
                                    "TERMEKKOD": "07040059T",
                                    "MEGNEVEZES": "Ceruza smaragd",
                                    "KAT_ID": "19",
                                    "LISTAAR": "58",
                                    "LEIRAS": "NULL",
                                    "RAKTAR_KOD": "9",
                                    "KESZLET": "300",
                                    "MEGYS": "db",
                                    "FELVITTE": "Sára",
                                    "FELVITEL": "2016-08-02"
                                },
                                {
                                    "TERMEKKOD": "07040060T",
                                    "MEGNEVEZES": "Ceruza stabilo swano",
                                    "KAT_ID": "19",
                                    "LISTAAR": "36",
                                    "LEIRAS": "NULL",
                                    "RAKTAR_KOD": "6",
                                    "KESZLET": "100",
                                    "MEGYS": "db",
                                    "FELVITTE": "Sára",
                                    "FELVITEL": "2016-08-02"
                                },
                                {
                                    "TERMEKKOD": "07040061T",
                                    "MEGNEVEZES": "Ceruza stabilo opera",
                                    "KAT_ID": "19",
                                    "LISTAAR": "44",
                                    "LEIRAS": "NULL",
                                    "RAKTAR_KOD": "9",
                                    "KESZLET": "300",
                                    "MEGYS": "db",
                                    "FELVITTE": "Sára",
                                    "FELVITEL": "2016-07-30"
                                },
                                {
                                    "TERMEKKOD": "07040097T",
                                    "MEGNEVEZES": "Filctoll ",
                                    "KAT_ID": "41",
                                    "LISTAAR": "26",
                                    "LEIRAS": "NULL",
                                    "RAKTAR_KOD": "8",
                                    "KESZLET": "100",
                                    "MEGYS": "db",
                                    "FELVITTE": "Béla",
                                    "FELVITEL": "2016-07-29"
                                },
                                {
                                    "TERMEKKOD": "07040098T",
                                    "MEGNEVEZES": "Filctoll document pen",
                                    "KAT_ID": "41",
                                    "LISTAAR": "278",
                                    "LEIRAS": "NULL",
                                    "RAKTAR_KOD": "5",
                                    "KESZLET": "100",
                                    "MEGYS": "db",
                                    "FELVITTE": "Béla",
                                    "FELVITEL": "2016-07-29"
                                },
                                {
                                    "TERMEKKOD": "07040099T",
                                    "MEGNEVEZES": "Filctoll Edding 750",
                                    "KAT_ID": "41",
                                    "LISTAAR": "434",
                                    "LEIRAS": "NULL",
                                    "RAKTAR_KOD": "9",
                                    "KESZLET": "200",
                                    "MEGYS": "csomag",
                                    "FELVITTE": "Sára",
                                    "FELVITEL": "2016-07-29"
                                },
                                {
                                    "TERMEKKOD": "07040100T",
                                    "MEGNEVEZES": "Filctoll Marvy alkoholos",
                                    "KAT_ID": "41",
                                    "LISTAAR": "390",
                                    "LEIRAS": "NULL",
                                    "RAKTAR_KOD": "5",
                                    "KESZLET": "200",
                                    "MEGYS": "db",
                                    "FELVITTE": "Sára",
                                    "FELVITEL": "2016-07-29"
                                },
                                {
                                    "TERMEKKOD": "07040101T",
                                    "MEGNEVEZES": "Filctoll permanent vastag",
                                    "KAT_ID": "41",
                                    "LISTAAR": "140",
                                    "LEIRAS": "NULL",
                                    "RAKTAR_KOD": "9",
                                    "KESZLET": "700",
                                    "MEGYS": "db",
                                    "FELVITTE": "Sára",
                                    "FELVITEL": "2016-07-28"
                                },
                                {
                                    "TERMEKKOD": "07040102T",
                                    "MEGNEVEZES": "Filctoll supra fine",
                                    "KAT_ID": "41",
                                    "LISTAAR": "46",
                                    "LEIRAS": "NULL",
                                    "RAKTAR_KOD": "7",
                                    "KESZLET": "100",
                                    "MEGYS": "db",
                                    "FELVITTE": "Sára",
                                    "FELVITEL": "2016-07-28"
                                },
                                {
                                    "TERMEKKOD": "07040127T",
                                    "MEGNEVEZES": "G. toll betét mini",
                                    "KAT_ID": "145",
                                    "LISTAAR": "30",
                                    "LEIRAS": "NULL",
                                    "RAKTAR_KOD": "9",
                                    "KESZLET": "100",
                                    "MEGYS": "db",
                                    "FELVITTE": "Sára",
                                    "FELVITEL": "2016-07-28"
                                },
                                {
                                    "TERMEKKOD": "07040128T",
                                    "MEGNEVEZES": "G. toll betét mini fém",
                                    "KAT_ID": "145",
                                    "LISTAAR": "55",
                                    "LEIRAS": "NULL",
                                    "RAKTAR_KOD": "6",
                                    "KESZLET": "100",
                                    "MEGYS": "db",
                                    "FELVITTE": "Béla",
                                    "FELVITEL": "2016-07-31"
                                },
                                {
                                    "TERMEKKOD": "07040129T",
                                    "MEGNEVEZES": "G. toll betét réz",
                                    "KAT_ID": "145",
                                    "LISTAAR": "30",
                                    "LEIRAS": "NULL",
                                    "RAKTAR_KOD": "5",
                                    "KESZLET": "200",
                                    "MEGYS": "db",
                                    "FELVITTE": "Béla",
                                    "FELVITEL": "2016-07-31"
                                },
                                {
                                    "TERMEKKOD": "07040130T",
                                    "MEGNEVEZES": "G. toll betét S7S",
                                    "KAT_ID": "145",
                                    "LISTAAR": "80",
                                    "LEIRAS": "NULL",
                                    "RAKTAR_KOD": "6",
                                    "KESZLET": "200",
                                    "MEGYS": "db",
                                    "FELVITTE": "Béla",
                                    "FELVITEL": "2016-07-31"
                                },
                                {
                                    "TERMEKKOD": "07040131T",
                                    "MEGNEVEZES": "G. toll betét UNI lachnok Fine SA-7C",
                                    "KAT_ID": "145",
                                    "LISTAAR": "85",
                                    "LEIRAS": "NULL",
                                    "RAKTAR_KOD": "9",
                                    "KESZLET": "1900",
                                    "MEGYS": "db",
                                    "FELVITTE": "Mari",
                                    "FELVITEL": "2016-08-02"
                                },
                                {
                                    "TERMEKKOD": "07040132T",
                                    "MEGNEVEZES": "G.toll betét csavaros",
                                    "KAT_ID": "145",
                                    "LISTAAR": "55",
                                    "LEIRAS": "NULL",
                                    "RAKTAR_KOD": "8",
                                    "KESZLET": "500",
                                    "MEGYS": "db",
                                    "FELVITTE": "Mari",
                                    "FELVITEL": "2016-08-02"
                                },
                                {
                                    "TERMEKKOD": "07040133T",
                                    "MEGNEVEZES": "G.toll betét görbe hegyű",
                                    "KAT_ID": "145",
                                    "LISTAAR": "39",
                                    "LEIRAS": "NULL",
                                    "RAKTAR_KOD": "5",
                                    "KESZLET": "200",
                                    "MEGYS": "db",
                                    "FELVITTE": "Sára",
                                    "FELVITEL": "2016-08-05"
                                },
                                {
                                    "TERMEKKOD": "07040134T",
                                    "MEGNEVEZES": "G.toll betét illatos",
                                    "KAT_ID": "145",
                                    "LISTAAR": "44",
                                    "LEIRAS": "NULL",
                                    "RAKTAR_KOD": "7",
                                    "KESZLET": "3500",
                                    "MEGYS": "db",
                                    "FELVITTE": "Béla",
                                    "FELVITEL": "2016-08-04"
                                },
                                {
                                    "TERMEKKOD": "07040135T",
                                    "MEGNEVEZES": "G.toll betét Parker ",
                                    "KAT_ID": "145",
                                    "LISTAAR": "684",
                                    "LEIRAS": "NULL",
                                    "RAKTAR_KOD": "6",
                                    "KESZLET": "4300",
                                    "MEGYS": "db",
                                    "FELVITTE": "Mari",
                                    "FELVITEL": "2016-08-08"
                                },
                                {
                                    "TERMEKKOD": "07040165T",
                                    "MEGNEVEZES": "Golyóstoll UNI laknock",
                                    "KAT_ID": "52",
                                    "LISTAAR": "218",
                                    "LEIRAS": "NULL",
                                    "RAKTAR_KOD": "9",
                                    "KESZLET": "100",
                                    "MEGYS": "db",
                                    "FELVITTE": "Sára",
                                    "FELVITEL": "2016-08-12"
                                },
                                {
                                    "TERMEKKOD": "07040166T",
                                    "MEGNEVEZES": "Golyóstoll Zebra 301",
                                    "KAT_ID": "52",
                                    "LISTAAR": "455",
                                    "LEIRAS": "NULL",
                                    "RAKTAR_KOD": "8",
                                    "KESZLET": "1400",
                                    "MEGYS": "db",
                                    "FELVITTE": "Béla",
                                    "FELVITEL": "2016-08-10"
                                },
                                {
                                    "TERMEKKOD": "07040167T",
                                    "MEGNEVEZES": "Golyóstoll Zebra mini",
                                    "KAT_ID": "52",
                                    "LISTAAR": "655",
                                    "LEIRAS": "NULL",
                                    "RAKTAR_KOD": "9",
                                    "KESZLET": "400",
                                    "MEGYS": "db",
                                    "FELVITTE": "Béla",
                                    "FELVITEL": "2016-08-10"
                                },
                                {
                                    "TERMEKKOD": "07040168T",
                                    "MEGNEVEZES": "Golyóstoll Zebra new hard",
                                    "KAT_ID": "52",
                                    "LISTAAR": "189",
                                    "LEIRAS": "NULL",
                                    "RAKTAR_KOD": "8",
                                    "KESZLET": "400",
                                    "MEGYS": "db",
                                    "FELVITTE": "Béla",
                                    "FELVITEL": "2016-08-10"
                                },
                                {
                                    "TERMEKKOD": "07040169T",
                                    "MEGNEVEZES": "Golyóstoll Zodiák",
                                    "KAT_ID": "52",
                                    "LISTAAR": "94",
                                    "LEIRAS": "NULL",
                                    "RAKTAR_KOD": "8",
                                    "KESZLET": "1200",
                                    "MEGYS": "db",
                                    "FELVITTE": "Béla",
                                    "FELVITEL": "2016-08-14"
                                },
                                {
                                    "TERMEKKOD": "07040215T",
                                    "MEGNEVEZES": "Ironbél  2B ICO",
                                    "KAT_ID": "76",
                                    "LISTAAR": "74",
                                    "LEIRAS": "NULL",
                                    "RAKTAR_KOD": "7",
                                    "KESZLET": "200",
                                    "MEGYS": "db",
                                    "FELVITTE": "Béla",
                                    "FELVITEL": "2016-08-14"
                                },
                                {
                                    "TERMEKKOD": "07040216T",
                                    "MEGNEVEZES": "Ironbél B 0,5",
                                    "KAT_ID": "76",
                                    "LISTAAR": "36",
                                    "LEIRAS": "NULL",
                                    "RAKTAR_KOD": "5",
                                    "KESZLET": "400",
                                    "MEGYS": "db",
                                    "FELVITTE": "Mari",
                                    "FELVITEL": "2016-08-10"
                                },
                                {
                                    "TERMEKKOD": "07040217T",
                                    "MEGNEVEZES": "Ironbél H 0,5",
                                    "KAT_ID": "76",
                                    "LISTAAR": "59",
                                    "LEIRAS": "NULL",
                                    "RAKTAR_KOD": "6",
                                    "KESZLET": "200",
                                    "MEGYS": "db",
                                    "FELVITTE": "Béla",
                                    "FELVITEL": "2016-08-09"
                                },
                                {
                                    "TERMEKKOD": "07040218T",
                                    "MEGNEVEZES": "Ironbél HB 0,5",
                                    "KAT_ID": "76",
                                    "LISTAAR": "23",
                                    "LEIRAS": "NULL",
                                    "RAKTAR_KOD": "6",
                                    "KESZLET": "200",
                                    "MEGYS": "db",
                                    "FELVITTE": "Béla",
                                    "FELVITEL": "2016-08-13"
                                },
                                {
                                    "TERMEKKOD": "07040219T",
                                    "MEGNEVEZES": "Ironbél HI-POLIMER HB 0,7",
                                    "KAT_ID": "76",
                                    "LISTAAR": "78",
                                    "LEIRAS": "NULL",
                                    "RAKTAR_KOD": "6",
                                    "KESZLET": "100",
                                    "MEGYS": "db",
                                    "FELVITTE": "Béla",
                                    "FELVITEL": "2016-08-12"
                                },
                                {
                                    "TERMEKKOD": "07040257T",
                                    "MEGNEVEZES": "Lakk filc Edding 750",
                                    "KAT_ID": "41",
                                    "LISTAAR": "434",
                                    "LEIRAS": "NULL",
                                    "RAKTAR_KOD": "8",
                                    "KESZLET": "100",
                                    "MEGYS": "db",
                                    "FELVITTE": "Mari",
                                    "FELVITEL": "2016-08-11"
                                },
                                {
                                    "TERMEKKOD": "07040388T",
                                    "MEGNEVEZES": "Tintapatron /kék/",
                                    "KAT_ID": "143",
                                    "LISTAAR": "9",
                                    "LEIRAS": "NULL",
                                    "RAKTAR_KOD": "7",
                                    "KESZLET": "200",
                                    "MEGYS": "csomag",
                                    "FELVITTE": "Mari",
                                    "FELVITEL": "2016-08-11"
                                },
                                {
                                    "TERMEKKOD": "07040389T",
                                    "MEGNEVEZES": "Tintapatron 30 db-os kék",
                                    "KAT_ID": "143",
                                    "LISTAAR": "360",
                                    "LEIRAS": "NULL",
                                    "RAKTAR_KOD": "7",
                                    "KESZLET": "200",
                                    "MEGYS": "db",
                                    "FELVITTE": "Mari",
                                    "FELVITEL": "2016-08-11"
                                },
                                {
                                    "TERMEKKOD": "07040390T",
                                    "MEGNEVEZES": "Tintapatron színes",
                                    "KAT_ID": "143",
                                    "LISTAAR": "11",
                                    "LEIRAS": "NULL",
                                    "RAKTAR_KOD": "9",
                                    "KESZLET": "200",
                                    "MEGYS": "db",
                                    "FELVITTE": "Mari",
                                    "FELVITEL": "2016-08-11"
                                },
                                {
                                    "TERMEKKOD": "07040391T",
                                    "MEGNEVEZES": "Toll Centropen roller",
                                    "KAT_ID": "144",
                                    "LISTAAR": "80",
                                    "LEIRAS": "NULL",
                                    "RAKTAR_KOD": "9",
                                    "KESZLET": "200",
                                    "MEGYS": "db",
                                    "FELVITTE": "Mari",
                                    "FELVITEL": "2016-08-11"
                                },
                                {
                                    "TERMEKKOD": "07050462T",
                                    "MEGNEVEZES": "Töltőtoll tinta ",
                                    "KAT_ID": "148",
                                    "LISTAAR": "493",
                                    "LEIRAS": "NULL",
                                    "RAKTAR_KOD": "5",
                                    "KESZLET": "300",
                                    "MEGYS": "üveg",
                                    "FELVITTE": "Mari",
                                    "FELVITEL": "2016-08-13"
                                },
                                {
                                    "TERMEKKOD": "07050463T",
                                    "MEGNEVEZES": "Ceruzafogó",
                                    "KAT_ID": "78",
                                    "LISTAAR": "36",
                                    "LEIRAS": "NULL",
                                    "RAKTAR_KOD": "8",
                                    "KESZLET": "700",
                                    "MEGYS": "db",
                                    "FELVITTE": "Sára",
                                    "FELVITEL": "2016-08-13"
                                },
                                {
                                    "TERMEKKOD": "07050464T",
                                    "MEGNEVEZES": "Szövegkiemelő Staedtler",
                                    "KAT_ID": "138",
                                    "LISTAAR": "140",
                                    "LEIRAS": "NULL",
                                    "RAKTAR_KOD": "7",
                                    "KESZLET": "900",
                                    "MEGYS": "db",
                                    "FELVITTE": "Sára",
                                    "FELVITEL": "2016-08-13"
                                },
                                {
                                    "TERMEKKOD": "07080062T",
                                    "MEGNEVEZES": "Ceruza szén",
                                    "KAT_ID": "19",
                                    "LISTAAR": "146",
                                    "LEIRAS": "NULL",
                                    "RAKTAR_KOD": "5",
                                    "KESZLET": "200",
                                    "MEGYS": "db",
                                    "FELVITTE": "Sára",
                                    "FELVITEL": "2016-08-12"
                                },
                                {
                                    "TERMEKKOD": "07080063T",
                                    "MEGNEVEZES": "Ceruza szorzótáblás",
                                    "KAT_ID": "19",
                                    "LISTAAR": "35",
                                    "LEIRAS": "NULL",
                                    "RAKTAR_KOD": "7",
                                    "KESZLET": "100",
                                    "MEGYS": "db",
                                    "FELVITTE": "Sára",
                                    "FELVITEL": "2016-08-12"
                                },
                                {
                                    "TERMEKKOD": "07080064T",
                                    "MEGNEVEZES": "Ceruza zöld színű",
                                    "KAT_ID": "19",
                                    "LISTAAR": "40",
                                    "LEIRAS": "NULL",
                                    "RAKTAR_KOD": "6",
                                    "KESZLET": "200",
                                    "MEGYS": "db",
                                    "FELVITTE": "Béla",
                                    "FELVITEL": "2016-08-17"
                                },
                                {
                                    "TERMEKKOD": "07080065T",
                                    "MEGNEVEZES": "Ceruza kínai",
                                    "KAT_ID": "19",
                                    "LISTAAR": "11",
                                    "LEIRAS": "NULL",
                                    "RAKTAR_KOD": "8",
                                    "KESZLET": "100",
                                    "MEGYS": "db",
                                    "FELVITTE": "Béla",
                                    "FELVITEL": "2016-08-17"
                                },
                                {
                                    "TERMEKKOD": "07080150T",
                                    "MEGNEVEZES": "Golyóstoll",
                                    "KAT_ID": "52",
                                    "LISTAAR": "51",
                                    "LEIRAS": "NULL",
                                    "RAKTAR_KOD": "6",
                                    "KESZLET": "100",
                                    "MEGYS": "db",
                                    "FELVITTE": "Béla",
                                    "FELVITEL": "2016-08-17"
                                },
                                {
                                    "TERMEKKOD": "07080151T",
                                    "MEGNEVEZES": "Golyóstoll + ceruza Twister 2in1",
                                    "KAT_ID": "52",
                                    "LISTAAR": "390",
                                    "LEIRAS": "NULL",
                                    "RAKTAR_KOD": "9",
                                    "KESZLET": "200",
                                    "MEGYS": "db",
                                    "FELVITTE": "Béla",
                                    "FELVITEL": "2016-08-17"
                                },
                                {
                                    "TERMEKKOD": "07080152T",
                                    "MEGNEVEZES": "Golyóstoll 3 funkciós ",
                                    "KAT_ID": "52",
                                    "LISTAAR": "1019",
                                    "LEIRAS": "NULL",
                                    "RAKTAR_KOD": "5",
                                    "KESZLET": "400",
                                    "MEGYS": "db",
                                    "FELVITTE": "Béla",
                                    "FELVITEL": "2016-08-20"
                                },
                                {
                                    "TERMEKKOD": "07080153T",
                                    "MEGNEVEZES": "Golyóstoll illatos ICO",
                                    "KAT_ID": "52",
                                    "LISTAAR": "41",
                                    "LEIRAS": "NULL",
                                    "RAKTAR_KOD": "8",
                                    "KESZLET": "100",
                                    "MEGYS": "db",
                                    "FELVITTE": "Béla",
                                    "FELVITEL": "2016-08-20"
                                },
                                {
                                    "TERMEKKOD": "07080154T",
                                    "MEGNEVEZES": "Golyóstoll INOXCROM",
                                    "KAT_ID": "52",
                                    "LISTAAR": "401",
                                    "LEIRAS": "NULL",
                                    "RAKTAR_KOD": "6",
                                    "KESZLET": "300",
                                    "MEGYS": "db",
                                    "FELVITTE": "Béla",
                                    "FELVITEL": "2016-08-20"
                                },
                                {
                                    "TERMEKKOD": "07080155T",
                                    "MEGNEVEZES": "Golyóstoll",
                                    "KAT_ID": "52",
                                    "LISTAAR": "33",
                                    "LEIRAS": "NULL",
                                    "RAKTAR_KOD": "5",
                                    "KESZLET": "100",
                                    "MEGYS": "db",
                                    "FELVITTE": "Béla",
                                    "FELVITEL": "2016-08-20"
                                },
                                {
                                    "TERMEKKOD": "07080156T",
                                    "MEGNEVEZES": "Golyóstoll kupakos piros",
                                    "KAT_ID": "52",
                                    "LISTAAR": "23",
                                    "LEIRAS": "NULL",
                                    "RAKTAR_KOD": "8",
                                    "KESZLET": "900",
                                    "MEGYS": "db",
                                    "FELVITTE": "Béla",
                                    "FELVITEL": "2016-08-20"
                                },
                                {
                                    "TERMEKKOD": "07080157T",
                                    "MEGNEVEZES": "Golyóstoll Montex Hytone",
                                    "KAT_ID": "52",
                                    "LISTAAR": "93",
                                    "LEIRAS": "NULL",
                                    "RAKTAR_KOD": "7",
                                    "KESZLET": "500",
                                    "MEGYS": "db",
                                    "FELVITTE": "Béla",
                                    "FELVITEL": "2016-08-20"
                                },
                                {
                                    "TERMEKKOD": "07080158T",
                                    "MEGNEVEZES": "Golyóstoll Parker tokban",
                                    "KAT_ID": "52",
                                    "LISTAAR": "773",
                                    "LEIRAS": "NULL",
                                    "RAKTAR_KOD": "5",
                                    "KESZLET": "2000",
                                    "MEGYS": "db",
                                    "FELVITTE": "Béla",
                                    "FELVITEL": "2016-08-20"
                                },
                                {
                                    "TERMEKKOD": "07080159T",
                                    "MEGNEVEZES": "Golyóstoll Pax tip.",
                                    "KAT_ID": "52",
                                    "LISTAAR": "63",
                                    "LEIRAS": "NULL",
                                    "RAKTAR_KOD": "8",
                                    "KESZLET": "200",
                                    "MEGYS": "db",
                                    "FELVITTE": "Béla",
                                    "FELVITEL": "2016-08-20"
                                },
                                {
                                    "TERMEKKOD": "07080160T",
                                    "MEGNEVEZES": "Golyóstoll penac",
                                    "KAT_ID": "52",
                                    "LISTAAR": "239",
                                    "LEIRAS": "NULL",
                                    "RAKTAR_KOD": "7",
                                    "KESZLET": "200",
                                    "MEGYS": "db",
                                    "FELVITTE": "Béla",
                                    "FELVITEL": "2016-08-15"
                                },
                                {
                                    "TERMEKKOD": "07080161T",
                                    "MEGNEVEZES": "Golyóstoll kétszínű",
                                    "KAT_ID": "52",
                                    "LISTAAR": "44",
                                    "LEIRAS": "NULL",
                                    "RAKTAR_KOD": "9",
                                    "KESZLET": "100",
                                    "MEGYS": "db",
                                    "FELVITTE": "Béla",
                                    "FELVITEL": "2016-08-16"
                                },
                                {
                                    "TERMEKKOD": "07080162T",
                                    "MEGNEVEZES": "Golyóstoll Stabilo piros",
                                    "KAT_ID": "52",
                                    "LISTAAR": "101",
                                    "LEIRAS": "NULL",
                                    "RAKTAR_KOD": "6",
                                    "KESZLET": "700",
                                    "MEGYS": "db",
                                    "FELVITTE": "Mari",
                                    "FELVITEL": "2016-08-19"
                                },
                                {
                                    "TERMEKKOD": "07080163T",
                                    "MEGNEVEZES": "Golyóstoll UNI átlátszó",
                                    "KAT_ID": "52",
                                    "LISTAAR": "230",
                                    "LEIRAS": "NULL",
                                    "RAKTAR_KOD": "5",
                                    "KESZLET": "6000",
                                    "MEGYS": "db",
                                    "FELVITTE": "Mari",
                                    "FELVITEL": "2016-08-21"
                                },
                                {
                                    "TERMEKKOD": "07080164T",
                                    "MEGNEVEZES": "Golyóstoll UNI gumis",
                                    "KAT_ID": "52",
                                    "LISTAAR": "231",
                                    "LEIRAS": "NULL",
                                    "RAKTAR_KOD": "6",
                                    "KESZLET": "30000",
                                    "MEGYS": "db",
                                    "FELVITTE": "Mari",
                                    "FELVITEL": "2016-08-21"
                                },
                                {
                                    "TERMEKKOD": "07080311T",
                                    "MEGNEVEZES": "Pixiron  UNI",
                                    "KAT_ID": "118",
                                    "LISTAAR": "276",
                                    "LEIRAS": "NULL",
                                    "RAKTAR_KOD": "8",
                                    "KESZLET": "22000",
                                    "MEGYS": "db",
                                    "FELVITTE": "Mari",
                                    "FELVITEL": "2016-08-21"
                                },
                                {
                                    "TERMEKKOD": "07080312T",
                                    "MEGNEVEZES": "Pixiron 0,7 Handy",
                                    "KAT_ID": "118",
                                    "LISTAAR": "125",
                                    "LEIRAS": "NULL",
                                    "RAKTAR_KOD": "5",
                                    "KESZLET": "2000",
                                    "MEGYS": "db",
                                    "FELVITTE": "Mari",
                                    "FELVITEL": "2016-08-21"
                                },
                                {
                                    "TERMEKKOD": "07080313T",
                                    "MEGNEVEZES": "Pixiron Centrum",
                                    "KAT_ID": "118",
                                    "LISTAAR": "59",
                                    "LEIRAS": "NULL",
                                    "RAKTAR_KOD": "9",
                                    "KESZLET": "12500",
                                    "MEGYS": "db",
                                    "FELVITTE": "Mari",
                                    "FELVITEL": "2016-08-21"
                                },
                                {
                                    "TERMEKKOD": "07080314T",
                                    "MEGNEVEZES": "Pixiron Handy fém",
                                    "KAT_ID": "118",
                                    "LISTAAR": "133",
                                    "LEIRAS": "NULL",
                                    "RAKTAR_KOD": "8",
                                    "KESZLET": "12000",
                                    "MEGYS": "db",
                                    "FELVITTE": "Mari",
                                    "FELVITEL": "2016-08-21"
                                },
                                {
                                    "TERMEKKOD": "07080315T",
                                    "MEGNEVEZES": "Pixiron Handy műanyag",
                                    "KAT_ID": "118",
                                    "LISTAAR": "94",
                                    "LEIRAS": "NULL",
                                    "RAKTAR_KOD": "8",
                                    "KESZLET": "25000",
                                    "MEGYS": "db",
                                    "FELVITTE": "Mari",
                                    "FELVITEL": "2016-08-22"
                                },
                                {
                                    "TERMEKKOD": "07080316T",
                                    "MEGNEVEZES": "Pixiron KOH-I-NOOR",
                                    "KAT_ID": "118",
                                    "LISTAAR": "468",
                                    "LEIRAS": "NULL",
                                    "RAKTAR_KOD": "8",
                                    "KESZLET": "700",
                                    "MEGYS": "db",
                                    "FELVITTE": "Sára",
                                    "FELVITEL": "2016-08-25"
                                },
                                {
                                    "TERMEKKOD": "07080317T",
                                    "MEGNEVEZES": "Pixiron mini ",
                                    "KAT_ID": "118",
                                    "LISTAAR": "59",
                                    "LEIRAS": "NULL",
                                    "RAKTAR_KOD": "5",
                                    "KESZLET": "2000",
                                    "MEGYS": "db",
                                    "FELVITTE": "Béla",
                                    "FELVITEL": "2016-08-26"
                                },
                                {
                                    "TERMEKKOD": "07080318T",
                                    "MEGNEVEZES": "Pixiron Penac",
                                    "KAT_ID": "118",
                                    "LISTAAR": "235",
                                    "LEIRAS": "NULL",
                                    "RAKTAR_KOD": "5",
                                    "KESZLET": "8000",
                                    "MEGYS": "db",
                                    "FELVITTE": "Béla",
                                    "FELVITEL": "2016-08-26"
                                },
                                {
                                    "TERMEKKOD": "07080319T",
                                    "MEGNEVEZES": "Pixiron Pentel színes",
                                    "KAT_ID": "118",
                                    "LISTAAR": "299",
                                    "LEIRAS": "NULL",
                                    "RAKTAR_KOD": "7",
                                    "KESZLET": "4000",
                                    "MEGYS": "db",
                                    "FELVITTE": "Béla",
                                    "FELVITEL": "2016-08-26"
                                },
                                {
                                    "TERMEKKOD": "07080418T",
                                    "MEGNEVEZES": "Zselés toll ",
                                    "KAT_ID": "154",
                                    "LISTAAR": "95",
                                    "LEIRAS": "NULL",
                                    "RAKTAR_KOD": "7",
                                    "KESZLET": "4000",
                                    "MEGYS": "db",
                                    "FELVITTE": "Béla",
                                    "FELVITEL": "2016-08-26"
                                },
                                {
                                    "TERMEKKOD": "07080419T",
                                    "MEGNEVEZES": "Zselés toll MICRO",
                                    "KAT_ID": "154",
                                    "LISTAAR": "66",
                                    "LEIRAS": "NULL",
                                    "RAKTAR_KOD": "9",
                                    "KESZLET": "6000",
                                    "MEGYS": "db",
                                    "FELVITTE": "Sára",
                                    "FELVITEL": "2016-08-22"
                                },
                                {
                                    "TERMEKKOD": "07080420T",
                                    "MEGNEVEZES": "Zselés toll Muhnwa",
                                    "KAT_ID": "154",
                                    "LISTAAR": "161",
                                    "LEIRAS": "NULL",
                                    "RAKTAR_KOD": "7",
                                    "KESZLET": "2000",
                                    "MEGYS": "db",
                                    "FELVITTE": "Mari",
                                    "FELVITEL": "2016-08-21"
                                },
                                {
                                    "TERMEKKOD": "07080421T",
                                    "MEGNEVEZES": "Zseléstoll Lizzy Card",
                                    "KAT_ID": "154",
                                    "LISTAAR": "228",
                                    "LEIRAS": "NULL",
                                    "RAKTAR_KOD": "7",
                                    "KESZLET": "100",
                                    "MEGYS": "csomag",
                                    "FELVITTE": "Mari",
                                    "FELVITEL": "2016-08-21"
                                },
                                {
                                    "TERMEKKOD": "07080466T",
                                    "MEGNEVEZES": "Golyóstoll Stabiló 308",
                                    "KAT_ID": "52",
                                    "LISTAAR": "81",
                                    "LEIRAS": "NULL",
                                    "RAKTAR_KOD": "9",
                                    "KESZLET": "1000",
                                    "MEGYS": "db",
                                    "FELVITTE": "Sára",
                                    "FELVITEL": "2016-08-26"
                                },
                                {
                                    "TERMEKKOD": "07080467T",
                                    "MEGNEVEZES": "Golyóstoll kétfunkciós ICO",
                                    "KAT_ID": "52",
                                    "LISTAAR": "273",
                                    "LEIRAS": "NULL",
                                    "RAKTAR_KOD": "8",
                                    "KESZLET": "8000",
                                    "MEGYS": "db",
                                    "FELVITTE": "Sára",
                                    "FELVITEL": "2016-08-22"
                                },
                                {
                                    "TERMEKKOD": "07080468T",
                                    "MEGNEVEZES": "Golyóstoll háromfunkciós",
                                    "KAT_ID": "52",
                                    "LISTAAR": "110",
                                    "LEIRAS": "NULL",
                                    "RAKTAR_KOD": "6",
                                    "KESZLET": "7200",
                                    "MEGYS": "db",
                                    "FELVITTE": "Sára",
                                    "FELVITEL": "2016-08-22"
                                },
                                {
                                    "TERMEKKOD": "07080469T",
                                    "MEGNEVEZES": "Golyóstoll UNIBALL 07",
                                    "KAT_ID": "52",
                                    "LISTAAR": "364",
                                    "LEIRAS": "NULL",
                                    "RAKTAR_KOD": "8",
                                    "KESZLET": "35000",
                                    "MEGYS": "db",
                                    "FELVITTE": "Sára",
                                    "FELVITEL": "2016-08-22"
                                },
                                {
                                    "TERMEKKOD": "07080470T",
                                    "MEGNEVEZES": "Golyóstoll háromszög",
                                    "KAT_ID": "52",
                                    "LISTAAR": "188",
                                    "LEIRAS": "NULL",
                                    "RAKTAR_KOD": "7",
                                    "KESZLET": "15000",
                                    "MEGYS": "db",
                                    "FELVITTE": "Sára",
                                    "FELVITEL": "2016-08-21"
                                },
                                {
                                    "TERMEKKOD": "07080471T",
                                    "MEGNEVEZES": "Golyóstoll levélbontós",
                                    "KAT_ID": "52",
                                    "LISTAAR": "294",
                                    "LEIRAS": "NULL",
                                    "RAKTAR_KOD": "7",
                                    "KESZLET": "50000",
                                    "MEGYS": "db",
                                    "FELVITTE": "Béla",
                                    "FELVITEL": "2016-08-23"
                                },
                                {
                                    "TERMEKKOD": "08070472T",
                                    "MEGNEVEZES": "A föld amelyen élünk - Európa földrajza",
                                    "KAT_ID": "4",
                                    "LISTAAR": "1089",
                                    "LEIRAS": "NULL",
                                    "RAKTAR_KOD": "8",
                                    "KESZLET": "100",
                                    "MEGYS": "db",
                                    "FELVITTE": "Béla",
                                    "FELVITEL": "2016-08-23"
                                },
                                {
                                    "TERMEKKOD": "08070473T",
                                    "MEGNEVEZES": "A föld amelyen élünk - Távoli földrészek",
                                    "KAT_ID": "4",
                                    "LISTAAR": "1089",
                                    "LEIRAS": "NULL",
                                    "RAKTAR_KOD": "6",
                                    "KESZLET": "200",
                                    "MEGYS": "db",
                                    "FELVITTE": "Mari",
                                    "FELVITEL": "2016-08-27"
                                },
                                {
                                    "TERMEKKOD": "08070474T",
                                    "MEGNEVEZES": "A föld amelyen élünk - Hazánk földrajza",
                                    "KAT_ID": "4",
                                    "LISTAAR": "1089",
                                    "LEIRAS": "NULL",
                                    "RAKTAR_KOD": "5",
                                    "KESZLET": "100",
                                    "MEGYS": "db",
                                    "FELVITTE": "Béla",
                                    "FELVITEL": "2016-08-29"
                                },
                                {
                                    "TERMEKKOD": "08070475T",
                                    "MEGNEVEZES": "A föld amelyen élünk - munkafüzet",
                                    "KAT_ID": "100",
                                    "LISTAAR": "440",
                                    "LEIRAS": "NULL",
                                    "RAKTAR_KOD": "5",
                                    "KESZLET": "9000",
                                    "MEGYS": "db",
                                    "FELVITTE": "Béla",
                                    "FELVITEL": "2016-08-29"
                                },
                                {
                                    "TERMEKKOD": "08070476T",
                                    "MEGNEVEZES": "Anyanyelvi gyakorló 2",
                                    "KAT_ID": "100",
                                    "LISTAAR": "293",
                                    "LEIRAS": "NULL",
                                    "RAKTAR_KOD": "6",
                                    "KESZLET": "3900",
                                    "MEGYS": "db",
                                    "FELVITTE": "Béla",
                                    "FELVITEL": "2016-08-29"
                                },
                                {
                                    "TERMEKKOD": "08070477T",
                                    "MEGNEVEZES": "Anyanyelvi gyakorló 3",
                                    "KAT_ID": "100",
                                    "LISTAAR": "353",
                                    "LEIRAS": "NULL",
                                    "RAKTAR_KOD": "6",
                                    "KESZLET": "1400",
                                    "MEGYS": "db",
                                    "FELVITTE": "Sára",
                                    "FELVITEL": "2016-09-03"
                                },
                                {
                                    "TERMEKKOD": "08070478T",
                                    "MEGNEVEZES": "Összefoglaló feladatgyüjtemény számtech.",
                                    "KAT_ID": "100",
                                    "LISTAAR": "785",
                                    "LEIRAS": "NULL",
                                    "RAKTAR_KOD": "8",
                                    "KESZLET": "900",
                                    "MEGYS": "db",
                                    "FELVITTE": "Béla",
                                    "FELVITEL": "2016-08-29"
                                },
                                {
                                    "TERMEKKOD": "08070479T",
                                    "MEGNEVEZES": "Fizika",
                                    "KAT_ID": "4",
                                    "LISTAAR": "674",
                                    "LEIRAS": "NULL",
                                    "RAKTAR_KOD": "7",
                                    "KESZLET": "200",
                                    "MEGYS": "db",
                                    "FELVITTE": "Béla",
                                    "FELVITEL": "2016-08-29"
                                },
                                {
                                    "TERMEKKOD": "08070480T",
                                    "MEGNEVEZES": "Fizika 13 éveseknek",
                                    "KAT_ID": "4",
                                    "LISTAAR": "308",
                                    "LEIRAS": "NULL",
                                    "RAKTAR_KOD": "8",
                                    "KESZLET": "5000",
                                    "MEGYS": "db",
                                    "FELVITTE": "Béla",
                                    "FELVITEL": "2016-08-29"
                                },
                                {
                                    "TERMEKKOD": "08070481T",
                                    "MEGNEVEZES": "Fizika munkafüzet 13 év.",
                                    "KAT_ID": "100",
                                    "LISTAAR": "198",
                                    "LEIRAS": "NULL",
                                    "RAKTAR_KOD": "7",
                                    "KESZLET": "500",
                                    "MEGYS": "db",
                                    "FELVITTE": "Béla",
                                    "FELVITEL": "2016-08-24"
                                },
                                {
                                    "TERMEKKOD": "08070482T",
                                    "MEGNEVEZES": "Fizika munkafüzet 14 év.",
                                    "KAT_ID": "100",
                                    "LISTAAR": "190",
                                    "LEIRAS": "NULL",
                                    "RAKTAR_KOD": "5",
                                    "KESZLET": "500",
                                    "MEGYS": "db",
                                    "FELVITTE": "Mari",
                                    "FELVITEL": "2016-08-28"
                                },
                                {
                                    "TERMEKKOD": "08070483T",
                                    "MEGNEVEZES": "Fizikai feladatok és tévedések",
                                    "KAT_ID": "4",
                                    "LISTAAR": "324",
                                    "LEIRAS": "NULL",
                                    "RAKTAR_KOD": "5",
                                    "KESZLET": "100",
                                    "MEGYS": "db",
                                    "FELVITTE": "Béla",
                                    "FELVITEL": "2016-08-25"
                                },
                                {
                                    "TERMEKKOD": "08070484T",
                                    "MEGNEVEZES": "Fogalmazás lépésről lépésre",
                                    "KAT_ID": "4",
                                    "LISTAAR": "345",
                                    "LEIRAS": "NULL",
                                    "RAKTAR_KOD": "8",
                                    "KESZLET": "100",
                                    "MEGYS": "db",
                                    "FELVITTE": "Béla",
                                    "FELVITEL": "2016-08-24"
                                },
                                {
                                    "TERMEKKOD": "08070485T",
                                    "MEGNEVEZES": "Jól felkészültem-e - Fizika",
                                    "KAT_ID": "4",
                                    "LISTAAR": "291",
                                    "LEIRAS": "NULL",
                                    "RAKTAR_KOD": "6",
                                    "KESZLET": "200",
                                    "MEGYS": "db",
                                    "FELVITTE": "Béla",
                                    "FELVITEL": "2016-08-22"
                                },
                                {
                                    "TERMEKKOD": "08070486T",
                                    "MEGNEVEZES": "Matematika gyakorló 2",
                                    "KAT_ID": "100",
                                    "LISTAAR": "403",
                                    "LEIRAS": "NULL",
                                    "RAKTAR_KOD": "6",
                                    "KESZLET": "100",
                                    "MEGYS": "db",
                                    "FELVITTE": "Béla",
                                    "FELVITEL": "2016-08-19"
                                },
                                {
                                    "TERMEKKOD": "08070487T",
                                    "MEGNEVEZES": "Matematika gyakorló 3",
                                    "KAT_ID": "100",
                                    "LISTAAR": "403",
                                    "LEIRAS": "NULL",
                                    "RAKTAR_KOD": "6",
                                    "KESZLET": "200",
                                    "MEGYS": "db",
                                    "FELVITTE": "Mari",
                                    "FELVITEL": "2016-08-17"
                                },
                                {
                                    "TERMEKKOD": "08070488T",
                                    "MEGNEVEZES": "Matematika gyakorló 4",
                                    "KAT_ID": "100",
                                    "LISTAAR": "403",
                                    "LEIRAS": "NULL",
                                    "RAKTAR_KOD": "9",
                                    "KESZLET": "2000",
                                    "MEGYS": "db",
                                    "FELVITTE": "Mari",
                                    "FELVITEL": "2016-08-17"
                                },
                                {
                                    "TERMEKKOD": "08070489T",
                                    "MEGNEVEZES": "RAMba zárt világ",
                                    "KAT_ID": "4",
                                    "LISTAAR": "868",
                                    "LEIRAS": "NULL",
                                    "RAKTAR_KOD": "8",
                                    "KESZLET": "4400",
                                    "MEGYS": "db",
                                    "FELVITTE": "Mari",
                                    "FELVITEL": "2016-08-17"
                                },
                                {
                                    "TERMEKKOD": "08070490T",
                                    "MEGNEVEZES": "Szövegszerkesztés",
                                    "KAT_ID": "4",
                                    "LISTAAR": "691",
                                    "LEIRAS": "NULL",
                                    "RAKTAR_KOD": "8",
                                    "KESZLET": "100",
                                    "MEGYS": "db",
                                    "FELVITTE": "Sára",
                                    "FELVITEL": "2016-08-20"
                                },
                                {
                                    "TERMEKKOD": "08070491T",
                                    "MEGNEVEZES": "Szám.tech. kicsiknek",
                                    "KAT_ID": "4",
                                    "LISTAAR": "214",
                                    "LEIRAS": "NULL",
                                    "RAKTAR_KOD": "8",
                                    "KESZLET": "1300",
                                    "MEGYS": "db",
                                    "FELVITTE": "Sára",
                                    "FELVITEL": "2016-08-20"
                                },
                                {
                                    "TERMEKKOD": "08070492T",
                                    "MEGNEVEZES": "Informatika",
                                    "KAT_ID": "4",
                                    "LISTAAR": "735",
                                    "LEIRAS": "NULL",
                                    "RAKTAR_KOD": "9",
                                    "KESZLET": "100",
                                    "MEGYS": "db",
                                    "FELVITTE": "Sára",
                                    "FELVITEL": "2016-08-20"
                                },
                                {
                                    "TERMEKKOD": "08070493T",
                                    "MEGNEVEZES": "Érettségi felv. fel. Matematika",
                                    "KAT_ID": "4",
                                    "LISTAAR": "720",
                                    "LEIRAS": "NULL",
                                    "RAKTAR_KOD": "5",
                                    "KESZLET": "100",
                                    "MEGYS": "db",
                                    "FELVITTE": "Sára",
                                    "FELVITEL": "2016-08-20"
                                },
                                {
                                    "TERMEKKOD": "08070494T",
                                    "MEGNEVEZES": "Érettségi felv. fel. Fizika",
                                    "KAT_ID": "4",
                                    "LISTAAR": "440",
                                    "LEIRAS": "NULL",
                                    "RAKTAR_KOD": "6",
                                    "KESZLET": "400",
                                    "MEGYS": "db",
                                    "FELVITTE": "Sára",
                                    "FELVITEL": "2016-08-20"
                                },
                                {
                                    "TERMEKKOD": "08070495T",
                                    "MEGNEVEZES": "Érettségi felv. fel. Biológia",
                                    "KAT_ID": "4",
                                    "LISTAAR": "440",
                                    "LEIRAS": "NULL",
                                    "RAKTAR_KOD": "9",
                                    "KESZLET": "100",
                                    "MEGYS": "db",
                                    "FELVITTE": "Sára",
                                    "FELVITEL": "2016-08-18"
                                },
                                {
                                    "TERMEKKOD": "F001-KB101",
                                    "MEGNEVEZES": "férfi szövet kabát",
                                    "KAT_ID": "38",
                                    "LISTAAR": "22000",
                                    "LEIRAS": "fekete (szövet) ",
                                    "RAKTAR_KOD": "1",
                                    "KESZLET": "173",
                                    "MEGYS": "db",
                                    "FELVITTE": "Sára",
                                    "FELVITEL": "2016-08-13"
                                },
                                {
                                    "TERMEKKOD": "F007-NA201",
                                    "MEGNEVEZES": "férfi farmer nadrág",
                                    "KAT_ID": "39",
                                    "LISTAAR": "7890",
                                    "LEIRAS": "kék (farmer) ",
                                    "RAKTAR_KOD": "3",
                                    "KESZLET": "105",
                                    "MEGYS": "db",
                                    "FELVITTE": "Sára",
                                    "FELVITEL": "2016-08-13"
                                },
                                {
                                    "TERMEKKOD": "F013-NA207",
                                    "MEGNEVEZES": "férfi szövet nadrág",
                                    "KAT_ID": "39",
                                    "LISTAAR": "11900",
                                    "LEIRAS": "barna (szövet) ",
                                    "RAKTAR_KOD": "1",
                                    "KESZLET": "389",
                                    "MEGYS": "db",
                                    "FELVITTE": "Sára",
                                    "FELVITEL": "2016-08-13"
                                },
                                {
                                    "TERMEKKOD": "F021-IN215",
                                    "MEGNEVEZES": "férfi ing",
                                    "KAT_ID": "37",
                                    "LISTAAR": "6490",
                                    "LEIRAS": "kék (pamut) ",
                                    "RAKTAR_KOD": "1",
                                    "KESZLET": "381",
                                    "MEGYS": "db",
                                    "FELVITTE": "Mari",
                                    "FELVITEL": "2016-08-13"
                                },
                                {
                                    "TERMEKKOD": "G001-KB101",
                                    "MEGNEVEZES": "gyermek kabát (fiú)",
                                    "KAT_ID": "55",
                                    "LISTAAR": "8900",
                                    "LEIRAS": "NULL",
                                    "RAKTAR_KOD": "1",
                                    "KESZLET": "396",
                                    "MEGYS": "db",
                                    "FELVITTE": "Sára",
                                    "FELVITEL": "2016-08-08"
                                },
                                {
                                    "TERMEKKOD": "G013-NA201",
                                    "MEGNEVEZES": "gyermek farmer nadrág (fiú)",
                                    "KAT_ID": "56",
                                    "LISTAAR": "4990",
                                    "LEIRAS": "farmer ",
                                    "RAKTAR_KOD": "3",
                                    "KESZLET": "200",
                                    "MEGYS": "db",
                                    "FELVITTE": "Sára",
                                    "FELVITEL": "2016-08-13"
                                },
                                {
                                    "TERMEKKOD": "G019-NA207",
                                    "MEGNEVEZES": "gyermek pamut nadrág (fiú)",
                                    "KAT_ID": "56",
                                    "LISTAAR": "1290",
                                    "LEIRAS": "pamut ",
                                    "RAKTAR_KOD": "3",
                                    "KESZLET": "182",
                                    "MEGYS": "db",
                                    "FELVITTE": "Sára",
                                    "FELVITEL": "2016-08-13"
                                },
                                {
                                    "TERMEKKOD": "G023-FE301",
                                    "MEGNEVEZES": "fiú alsó",
                                    "KAT_ID": "35",
                                    "LISTAAR": "390",
                                    "LEIRAS": "mintás (pamut) ",
                                    "RAKTAR_KOD": "3",
                                    "KESZLET": "328",
                                    "MEGYS": "db",
                                    "FELVITTE": "Sára",
                                    "FELVITEL": "2016-08-13"
                                },
                                {
                                    "TERMEKKOD": "G029-FE307",
                                    "MEGNEVEZES": "fiú zokni",
                                    "KAT_ID": "35",
                                    "LISTAAR": "240",
                                    "LEIRAS": "mintás (pamut) ",
                                    "RAKTAR_KOD": "4",
                                    "KESZLET": "468",
                                    "MEGYS": "db",
                                    "FELVITTE": "Sára",
                                    "FELVITEL": "2016-08-13"
                                },
                                {
                                    "TERMEKKOD": "G038-FE316",
                                    "MEGNEVEZES": "fiú harisnya",
                                    "KAT_ID": "35",
                                    "LISTAAR": "990",
                                    "LEIRAS": "pókemeberes  ",
                                    "RAKTAR_KOD": "3",
                                    "KESZLET": "205",
                                    "MEGYS": "db",
                                    "FELVITTE": "Sára",
                                    "FELVITEL": "2016-08-13"
                                },
                                {
                                    "TERMEKKOD": "G041-AL211",
                                    "MEGNEVEZES": "fiú ünneplős ruha",
                                    "KAT_ID": "8",
                                    "LISTAAR": "16900",
                                    "LEIRAS": "NULL",
                                    "RAKTAR_KOD": "4",
                                    "KESZLET": "297",
                                    "MEGYS": "db",
                                    "FELVITTE": "Mari",
                                    "FELVITEL": "2016-08-10"
                                },
                                {
                                    "TERMEKKOD": "G048-PO218",
                                    "MEGNEVEZES": "gyermek póló (fiú)",
                                    "KAT_ID": "57",
                                    "LISTAAR": "3900",
                                    "LEIRAS": "pókemeberes (pamut) ",
                                    "RAKTAR_KOD": "3",
                                    "KESZLET": "355",
                                    "MEGYS": "db",
                                    "FELVITTE": "Mari",
                                    "FELVITEL": "2016-08-10"
                                },
                                {
                                    "TERMEKKOD": "G064-CI401",
                                    "MEGNEVEZES": "gyermek szandál (fiú)",
                                    "KAT_ID": "54",
                                    "LISTAAR": "6900",
                                    "LEIRAS": "NULL",
                                    "RAKTAR_KOD": "1",
                                    "KESZLET": "376",
                                    "MEGYS": "db",
                                    "FELVITTE": "Sára",
                                    "FELVITEL": "2016-08-05"
                                },
                                {
                                    "TERMEKKOD": "G073-CI410",
                                    "MEGNEVEZES": "gyermek cipő (fiú)",
                                    "KAT_ID": "54",
                                    "LISTAAR": "7900",
                                    "LEIRAS": "NULL",
                                    "RAKTAR_KOD": "2",
                                    "KESZLET": "406",
                                    "MEGYS": "db",
                                    "FELVITTE": "Sára",
                                    "FELVITEL": "2016-08-03"
                                },
                                {
                                    "TERMEKKOD": "G082-CI419",
                                    "MEGNEVEZES": "gyermek csizma (fiú)",
                                    "KAT_ID": "54",
                                    "LISTAAR": "8000",
                                    "LEIRAS": "NULL",
                                    "RAKTAR_KOD": "3",
                                    "KESZLET": "229",
                                    "MEGYS": "db",
                                    "FELVITTE": "Sára",
                                    "FELVITEL": "2016-08-03"
                                },
                                {
                                    "TERMEKKOD": "L001-KB101",
                                    "MEGNEVEZES": "gyermek kabát (lány)",
                                    "KAT_ID": "55",
                                    "LISTAAR": "8900",
                                    "LEIRAS": "rózsaszín  ",
                                    "RAKTAR_KOD": "1",
                                    "KESZLET": "78",
                                    "MEGYS": "db",
                                    "FELVITTE": "Sára",
                                    "FELVITEL": "2016-08-03"
                                },
                                {
                                    "TERMEKKOD": "L013-NA201",
                                    "MEGNEVEZES": "gyermek farmer nadrág (lány)",
                                    "KAT_ID": "56",
                                    "LISTAAR": "4990",
                                    "LEIRAS": "kék (farmer) ",
                                    "RAKTAR_KOD": "3",
                                    "KESZLET": "449",
                                    "MEGYS": "db",
                                    "FELVITTE": "Béla",
                                    "FELVITEL": "2016-08-02"
                                },
                                {
                                    "TERMEKKOD": "L019-NA207",
                                    "MEGNEVEZES": "gyermek pamut nadrág (lány)",
                                    "KAT_ID": "56",
                                    "LISTAAR": "1290",
                                    "LEIRAS": "rózsaszín (pamut) ",
                                    "RAKTAR_KOD": "1",
                                    "KESZLET": "162",
                                    "MEGYS": "db",
                                    "FELVITTE": "Mari",
                                    "FELVITEL": "2016-07-29"
                                },
                                {
                                    "TERMEKKOD": "L023-FE301",
                                    "MEGNEVEZES": "lány alsó",
                                    "KAT_ID": "35",
                                    "LISTAAR": "390",
                                    "LEIRAS": "pamut ",
                                    "RAKTAR_KOD": "1",
                                    "KESZLET": "369",
                                    "MEGYS": "db",
                                    "FELVITTE": "Béla",
                                    "FELVITEL": "2016-07-26"
                                },
                                {
                                    "TERMEKKOD": "L029-FE307",
                                    "MEGNEVEZES": "lány zokni",
                                    "KAT_ID": "35",
                                    "LISTAAR": "240",
                                    "LEIRAS": "fehér (pamut) ",
                                    "RAKTAR_KOD": "4",
                                    "KESZLET": "470",
                                    "MEGYS": "db",
                                    "FELVITTE": "Béla",
                                    "FELVITEL": "2016-07-27"
                                },
                                {
                                    "TERMEKKOD": "L033-FE311",
                                    "MEGNEVEZES": "lány harisnya",
                                    "KAT_ID": "35",
                                    "LISTAAR": "990",
                                    "LEIRAS": "fehér  ",
                                    "RAKTAR_KOD": "3",
                                    "KESZLET": "373",
                                    "MEGYS": "db",
                                    "FELVITTE": "Sára",
                                    "FELVITEL": "2016-07-23"
                                },
                                {
                                    "TERMEKKOD": "L041-AL211",
                                    "MEGNEVEZES": "lány ünneplős ruha",
                                    "KAT_ID": "8",
                                    "LISTAAR": "16900",
                                    "LEIRAS": "NULL",
                                    "RAKTAR_KOD": "3",
                                    "KESZLET": "325",
                                    "MEGYS": "db",
                                    "FELVITTE": "Sára",
                                    "FELVITEL": "2016-07-20"
                                },
                                {
                                    "TERMEKKOD": "L048-PO218",
                                    "MEGNEVEZES": "gyermek póló (lány)",
                                    "KAT_ID": "57",
                                    "LISTAAR": "3900",
                                    "LEIRAS": "hercegnős (pamut) ",
                                    "RAKTAR_KOD": "3",
                                    "KESZLET": "113",
                                    "MEGYS": "db",
                                    "FELVITTE": "Sára",
                                    "FELVITEL": "2016-07-20"
                                },
                                {
                                    "TERMEKKOD": "L064-CI401",
                                    "MEGNEVEZES": "gyermek szandál (lány)",
                                    "KAT_ID": "54",
                                    "LISTAAR": "6900",
                                    "LEIRAS": "NULL",
                                    "RAKTAR_KOD": "3",
                                    "KESZLET": "119",
                                    "MEGYS": "db",
                                    "FELVITTE": "Mari",
                                    "FELVITEL": "2016-07-17"
                                },
                                {
                                    "TERMEKKOD": "L073-CI410",
                                    "MEGNEVEZES": "gyermek cipő (lány)",
                                    "KAT_ID": "54",
                                    "LISTAAR": "7900",
                                    "LEIRAS": "NULL",
                                    "RAKTAR_KOD": "3",
                                    "KESZLET": "323",
                                    "MEGYS": "db",
                                    "FELVITTE": "Sára",
                                    "FELVITEL": "2016-07-19"
                                },
                                {
                                    "TERMEKKOD": "L082-CI419",
                                    "MEGNEVEZES": "gyermek csizma (lány)",
                                    "KAT_ID": "54",
                                    "LISTAAR": "8000",
                                    "LEIRAS": "NULL",
                                    "RAKTAR_KOD": "1",
                                    "KESZLET": "264",
                                    "MEGYS": "db",
                                    "FELVITTE": "Sára",
                                    "FELVITEL": "2016-07-19"
                                },
                                {
                                    "TERMEKKOD": "N001-KB101",
                                    "MEGNEVEZES": "női szövet kabát",
                                    "KAT_ID": "107",
                                    "LISTAAR": "24000",
                                    "LEIRAS": "piros (szövet) ",
                                    "RAKTAR_KOD": "1",
                                    "KESZLET": "77",
                                    "MEGYS": "db",
                                    "FELVITTE": "Béla",
                                    "FELVITEL": "2016-07-18"
                                },
                                {
                                    "TERMEKKOD": "N008-NA201",
                                    "MEGNEVEZES": "női farmer nadrág",
                                    "KAT_ID": "108",
                                    "LISTAAR": "8290",
                                    "LEIRAS": "kék (farmer) ",
                                    "RAKTAR_KOD": "2",
                                    "KESZLET": "289",
                                    "MEGYS": "db",
                                    "FELVITTE": "Mari",
                                    "FELVITEL": "2016-07-18"
                                },
                                {
                                    "TERMEKKOD": "N019-FE301",
                                    "MEGNEVEZES": "női alsó",
                                    "KAT_ID": "35",
                                    "LISTAAR": "690",
                                    "LEIRAS": "fekete (pamut) ",
                                    "RAKTAR_KOD": "2",
                                    "KESZLET": "53",
                                    "MEGYS": "db",
                                    "FELVITTE": "Mari",
                                    "FELVITEL": "2016-07-18"
                                },
                                {
                                    "TERMEKKOD": "N029-AL212",
                                    "MEGNEVEZES": "női koktélruha",
                                    "KAT_ID": "8",
                                    "LISTAAR": "32000",
                                    "LEIRAS": "fekete  ",
                                    "RAKTAR_KOD": "4",
                                    "KESZLET": "283",
                                    "MEGYS": "db",
                                    "FELVITTE": "Mari",
                                    "FELVITEL": "2016-07-18"
                                },
                                {
                                    "TERMEKKOD": "N035-AL218",
                                    "MEGNEVEZES": "kosztüm (rövid)",
                                    "KAT_ID": "88",
                                    "LISTAAR": "39000",
                                    "LEIRAS": "szürke  ",
                                    "RAKTAR_KOD": "3",
                                    "KESZLET": "369",
                                    "MEGYS": "db",
                                    "FELVITTE": "Sára",
                                    "FELVITEL": "2016-07-15"
                                },
                                {
                                    "TERMEKKOD": "N039-AL222",
                                    "MEGNEVEZES": "kosztüm (hosszú)",
                                    "KAT_ID": "88",
                                    "LISTAAR": "46000",
                                    "LEIRAS": "tört fehér  ",
                                    "RAKTAR_KOD": "2",
                                    "KESZLET": "238",
                                    "MEGYS": "db",
                                    "FELVITTE": "Mari",
                                    "FELVITEL": "2016-07-20"
                                },
                                {
                                    "TERMEKKOD": "U001-KI501",
                                    "MEGNEVEZES": "sál",
                                    "KAT_ID": "130",
                                    "LISTAAR": "1990",
                                    "LEIRAS": "sárga (kötött) ",
                                    "RAKTAR_KOD": "1",
                                    "KESZLET": "77",
                                    "MEGYS": "db",
                                    "FELVITTE": "Mari",
                                    "FELVITEL": "2016-07-15"
                                }
                            ]
                        },
                        "text/html": [
                            "<table>",
                            "<tr><th>TERMEKKOD</th><th>MEGNEVEZES</th><th>KAT_ID</th><th>LISTAAR</th><th>LEIRAS</th><th>RAKTAR_KOD</th><th>KESZLET</th><th>MEGYS</th><th>FELVITTE</th><th>FELVITEL</th></tr>",
                            "<tr><td>01010001T</td><td>félfamentes rajzlap A4 (10 lap)</td><td>127</td><td>342</td><td>NULL</td><td>9</td><td>3000</td><td>csomag</td><td>Béla</td><td>2016-07-12</td></tr>",
                            "<tr><td>01010110T</td><td>Fotópapír A/4 fényes</td><td>44</td><td>30</td><td>NULL</td><td>9</td><td>200</td><td>db</td><td>Béla</td><td>2016-07-12</td></tr>",
                            "<tr><td>01010304T</td><td>Öntapadós hologramos papír A/4</td><td>112</td><td>59</td><td>NULL</td><td>8</td><td>1100</td><td>db</td><td>Sára</td><td>2016-07-11</td></tr>",
                            "<tr><td>01020299T</td><td>Oklevél A/4 egyszínű</td><td>110</td><td>48</td><td>NULL</td><td>9</td><td>6600</td><td>db</td><td>Béla</td><td>2016-07-07</td></tr>",
                            "<tr><td>01020300T</td><td>Oklevél A/4 színes</td><td>110</td><td>55</td><td>NULL</td><td>9</td><td>200</td><td>db</td><td>Béla</td><td>2016-07-12</td></tr>",
                            "<tr><td>01030091T</td><td>Emléklap A/5</td><td>33</td><td>26</td><td>NULL</td><td>7</td><td>200</td><td>db</td><td>Béla</td><td>2016-07-12</td></tr>",
                            "<tr><td>01030092T</td><td>Esküvői meghívó</td><td>98</td><td>59</td><td>NULL</td><td>9</td><td>100</td><td>db</td><td>Sára</td><td>2016-07-13</td></tr>",
                            "<tr><td>01040307T</td><td>Pausz papír A/4</td><td>115</td><td>15</td><td>NULL</td><td>8</td><td>200</td><td>ív</td><td>Sára</td><td>2016-07-13</td></tr>",
                            "<tr><td>01040502T</td><td>Előlap spirálhoz</td><td>31</td><td>25</td><td>NULL</td><td>5</td><td>100</td><td>db</td><td>Sára</td><td>2016-07-13</td></tr>",
                            "<tr><td>01080093T</td><td>Fax papír 15 m</td><td>34</td><td>161</td><td>NULL</td><td>9</td><td>300</td><td>db</td><td>Sára</td><td>2016-07-13</td></tr>",
                            "<tr><td>01080512T</td><td>Öntapadó A/4</td><td>112</td><td>4575</td><td>NULL</td><td>5</td><td>100</td><td>doboz</td><td>Sára</td><td>2016-07-13</td></tr>",
                            "<tr><td>01080513T</td><td>Selyemfényű karton A/4</td><td>83</td><td>38</td><td>NULL</td><td>8</td><td>100</td><td>ív</td><td>Sára</td><td>2016-07-11</td></tr>",
                            "<tr><td>01090498T</td><td>Műnyomó 300g 17,5*20</td><td>101</td><td>3</td><td>NULL</td><td>8</td><td>1800</td><td>ív</td><td>Mari</td><td>2016-07-06</td></tr>",
                            "<tr><td>01090499T</td><td>Color Copy A/4 250 g</td><td>21</td><td>15</td><td>NULL</td><td>6</td><td>1500</td><td>Ív</td><td>Sára</td><td>2016-07-09</td></tr>",
                            "<tr><td>01090500T</td><td>Color Copy A4 200 g</td><td>21</td><td>14</td><td>NULL</td><td>9</td><td>100</td><td>Ív</td><td>Béla</td><td>2016-07-04</td></tr>",
                            "<tr><td>01090501T</td><td>Kreatív A/4 300g </td><td>90</td><td>4</td><td>NULL</td><td>8</td><td>100</td><td>Ív</td><td>Béla</td><td>2016-07-01</td></tr>",
                            "<tr><td>01090515T</td><td>Színes A/3 160 gr IQ</td><td>83</td><td>11</td><td>NULL</td><td>5</td><td>400</td><td>ív</td><td>Béla</td><td>2016-07-01</td></tr>",
                            "<tr><td>01090516T</td><td>Színes karton A4</td><td>83</td><td>25</td><td>NULL</td><td>9</td><td>1000</td><td>ív</td><td>Béla</td><td>2016-07-01</td></tr>",
                            "<tr><td>01090517T</td><td>Színes ofszet B/4</td><td>109</td><td>4</td><td>NULL</td><td>7</td><td>1000</td><td>ív</td><td>Béla</td><td>2016-07-01</td></tr>",
                            "<tr><td>01100070T</td><td>Dekorációs karton</td><td>83</td><td>73</td><td>NULL</td><td>5</td><td>600</td><td>ív</td><td>Béla</td><td>2016-07-05</td></tr>",
                            "<tr><td>01100071T</td><td>Dekorációs karton arany, ezüst</td><td>83</td><td>89</td><td>NULL</td><td>7</td><td>3100</td><td>ív</td><td>Sára</td><td>2016-07-06</td></tr>",
                            "<tr><td>01100072T</td><td>Dipa A/4 keretezett</td><td>26</td><td>9</td><td>NULL</td><td>9</td><td>400</td><td>ív</td><td>Sára</td><td>2016-07-06</td></tr>",
                            "<tr><td>01100094T</td><td>Fénymásoló papír DataCopy</td><td>36</td><td>845</td><td>NULL</td><td>9</td><td>300</td><td>csomag</td><td>Sára</td><td>2016-07-02</td></tr>",
                            "<tr><td>01100095T</td><td>Fénymásoló papír GetCopy</td><td>36</td><td>728</td><td>NULL</td><td>9</td><td>200</td><td>csomag</td><td>Sára</td><td>2016-07-01</td></tr>",
                            "<tr><td>01100096T</td><td>Fénymásoló papír Qconnect</td><td>36</td><td>728</td><td>NULL</td><td>5</td><td>500</td><td>csomag</td><td>Sára</td><td>2016-07-01</td></tr>",
                            "<tr><td>01100496T</td><td>Színes másoló a/4 80g</td><td>21</td><td>1500</td><td>NULL</td><td>5</td><td>300</td><td>csomag</td><td>Sára</td><td>2016-07-01</td></tr>",
                            "<tr><td>01100497T</td><td>Color Copy 160 g-os </td><td>21</td><td>14</td><td>NULL</td><td>5</td><td>100</td><td>ív</td><td>Béla</td><td>2016-07-05</td></tr>",
                            "<tr><td>01100503T</td><td>Color Copy A4 120 g</td><td>21</td><td>10</td><td>NULL</td><td>6</td><td>900</td><td>ív</td><td>Béla</td><td>2016-07-05</td></tr>",
                            "<tr><td>01100504T</td><td>Fehér másoló A/3</td><td>36</td><td>1488</td><td>NULL</td><td>6</td><td>1000</td><td>csomag</td><td>Sára</td><td>2016-07-10</td></tr>",
                            "<tr><td>01100505T</td><td>Fehér másoló A/4</td><td>36</td><td>686</td><td>NULL</td><td>6</td><td>200</td><td>csomag</td><td>Sára</td><td>2016-07-10</td></tr>",
                            "<tr><td>01100509T</td><td>Márványos A/4</td><td>83</td><td>40</td><td>NULL</td><td>6</td><td>100</td><td>ív</td><td>Sára</td><td>2016-07-12</td></tr>",
                            "<tr><td>01100510T</td><td>Kreatív A/4 120g </td><td>90</td><td>13</td><td>NULL</td><td>5</td><td>200</td><td>ív</td><td>Sára</td><td>2016-07-12</td></tr>",
                            "<tr><td>02010028T</td><td>Árazószalag </td><td>10</td><td>106</td><td>NULL</td><td>9</td><td>100</td><td>db</td><td>Sára</td><td>2016-07-16</td></tr>",
                            "<tr><td>02020029T</td><td>Átírótömb A/6</td><td>11</td><td>115</td><td>NULL</td><td>8</td><td>200</td><td>db</td><td>Sára</td><td>2016-07-19</td></tr>",
                            "<tr><td>02020032T</td><td>Beírókönyv A5 </td><td>13</td><td>133</td><td>NULL</td><td>8</td><td>200</td><td>db</td><td>Sára</td><td>2016-07-16</td></tr>",
                            "<tr><td>02020033T</td><td>Beírókönyv A4</td><td>13</td><td>328</td><td>NULL</td><td>5</td><td>100</td><td>db</td><td>Sára</td><td>2016-07-11</td></tr>",
                            "<tr><td>02020037T</td><td>Bevételi pénztárbizonylat 3×25</td><td>116</td><td>144</td><td>NULL</td><td>6</td><td>300</td><td>db</td><td>Sára</td><td>2016-07-11</td></tr>",
                            "<tr><td>02020245T</td><td>Kiadási pénztárbizonylat 2×25</td><td>116</td><td>103</td><td>NULL</td><td>7</td><td>400</td><td>db</td><td>Sára</td><td>2016-07-11</td></tr>",
                            "<tr><td>02020444T</td><td>Határidő napló A/6</td><td>62</td><td>464</td><td>NULL</td><td>9</td><td>2700</td><td>db</td><td>Sára</td><td>2016-07-11</td></tr>",
                            "<tr><td>02030040T</td><td>Boríték LA 4 francia</td><td>16</td><td>6</td><td>NULL</td><td>6</td><td>100</td><td>db</td><td>Sára</td><td>2016-07-11</td></tr>",
                            "<tr><td>02030041T</td><td>Boríték LC 5</td><td>16</td><td>6</td><td>NULL</td><td>9</td><td>2000</td><td>db</td><td>Mari</td><td>2016-07-12</td></tr>",
                            "<tr><td>02030042T</td><td>Boríték LC 6</td><td>16</td><td>3</td><td>NULL</td><td>6</td><td>2000</td><td>db</td><td>Mari</td><td>2016-07-15</td></tr>",
                            "<tr><td>02030043T</td><td>Boríték légp. kicsi</td><td>16</td><td>39</td><td>NULL</td><td>7</td><td>2500</td><td>db</td><td>Sára</td><td>2016-07-20</td></tr>",
                            "<tr><td>02030044T</td><td>Boríték mintás</td><td>16</td><td>15</td><td>NULL</td><td>6</td><td>10000</td><td>db</td><td>Béla</td><td>2016-07-23</td></tr>",
                            "<tr><td>02040002T</td><td>irodai tűzőgép</td><td>149</td><td>2100</td><td>NULL</td><td>6</td><td>10000</td><td>db</td><td>Béla</td><td>2016-07-23</td></tr>",
                            "<tr><td>02040025T</td><td>Álló irattartó karton</td><td>70</td><td>133</td><td>NULL</td><td>8</td><td>200</td><td>db</td><td>Béla</td><td>2016-07-23</td></tr>",
                            "<tr><td>02040145T</td><td>Gemkapocs 28 mm</td><td>48</td><td>30</td><td>NULL</td><td>8</td><td>400</td><td>db</td><td>Béla</td><td>2016-07-23</td></tr>",
                            "<tr><td>02040146T</td><td>Gemkapocs ICO</td><td>48</td><td>48</td><td>NULL</td><td>7</td><td>3200</td><td>db</td><td>Béla</td><td>2016-07-23</td></tr>",
                            "<tr><td>02040147T</td><td>Genotherm lefűzhető A/5</td><td>51</td><td>8</td><td>NULL</td><td>8</td><td>1500</td><td>db</td><td>Béla</td><td>2016-07-23</td></tr>",
                            "<tr><td>02040148T</td><td>Genotherm lefűzhető A4 10db-os</td><td>51</td><td>63</td><td>NULL</td><td>9</td><td>200</td><td>csomag</td><td>Béla</td><td>2016-07-18</td></tr>",
                            "<tr><td>02040149T</td><td>Genotherm A4 10db-os</td><td>51</td><td>110</td><td>NULL</td><td>7</td><td>4700</td><td>csomag</td><td>Béla</td><td>2016-07-18</td></tr>",
                            "<tr><td>02040176T</td><td>Gyorsfűző dosszié fehér</td><td>58</td><td>18</td><td>NULL</td><td>7</td><td>1200</td><td>db</td><td>Sára</td><td>2016-07-23</td></tr>",
                            "<tr><td>02040177T</td><td>Gyorsfűző műa.</td><td>58</td><td>30</td><td>NULL</td><td>5</td><td>200</td><td>db</td><td>Béla</td><td>2016-07-21</td></tr>",
                            "<tr><td>02040178T</td><td>Gyorsfűző műa.</td><td>58</td><td>35</td><td>NULL</td><td>8</td><td>1000</td><td>db</td><td>Béla</td><td>2016-07-21</td></tr>",
                            "<tr><td>02040194T</td><td>Hibajav.roll.Pritt 4,2mm</td><td>66</td><td>794</td><td>NULL</td><td>8</td><td>500</td><td>db</td><td>Béla</td><td>2016-07-21</td></tr>",
                            "<tr><td>02040195T</td><td>Hibajavító ecsetes Aqua</td><td>66</td><td>185</td><td>NULL</td><td>5</td><td>400</td><td>db</td><td>Béla</td><td>2016-07-19</td></tr>",
                            "<tr><td>02040196T</td><td>Hibajavító készlet Blanco</td><td>66</td><td>273</td><td>NULL</td><td>7</td><td>100</td><td>db</td><td>Béla</td><td>2016-07-19</td></tr>",
                            "<tr><td>02040197T</td><td>Hibajavító lap </td><td>66</td><td>81</td><td>NULL</td><td>9</td><td>100</td><td>db</td><td>Béla</td><td>2016-07-19</td></tr>",
                            "<tr><td>02040198T</td><td>Hibajavító roller 5 mm</td><td>66</td><td>133</td><td>NULL</td><td>7</td><td>200</td><td>db</td><td>Béla</td><td>2016-07-19</td></tr>",
                            "<tr><td>02040199T</td><td>Hibajavító roller Pax</td><td>66</td><td>286</td><td>NULL</td><td>7</td><td>300</td><td>db</td><td>Béla</td><td>2016-07-19</td></tr>",
                            "<tr><td>02040200T</td><td>Hibajavító Kores mini pen</td><td>66</td><td>278</td><td>NULL</td><td>6</td><td>300</td><td>db</td><td>Mari</td><td>2016-07-14</td></tr>",
                            "<tr><td>02040206T</td><td>Írásvetítő fólia</td><td>155</td><td>81</td><td>NULL</td><td>8</td><td>100</td><td>db</td><td>Mari</td><td>2016-07-14</td></tr>",
                            "<tr><td>02040207T</td><td>Iratgyűjtő ESSELTE ablakos</td><td>70</td><td>19</td><td>NULL</td><td>6</td><td>1500</td><td>db</td><td>Mari</td><td>2016-07-14</td></tr>",
                            "<tr><td>02040208T</td><td>Iratgyűjtő fehér</td><td>70</td><td>19</td><td>NULL</td><td>8</td><td>400</td><td>db</td><td>Mari</td><td>2016-07-19</td></tr>",
                            "<tr><td>02040209T</td><td>Iratsín fehér</td><td>72</td><td>44</td><td>NULL</td><td>7</td><td>600</td><td>db</td><td>Mari</td><td>2016-07-19</td></tr>",
                            "<tr><td>02040210T</td><td>Iratsín kék</td><td>72</td><td>89</td><td>NULL</td><td>6</td><td>2500</td><td>db</td><td>Mari</td><td>2016-07-19</td></tr>",
                            "<tr><td>02040211T</td><td>Iratrendező ESSELTE</td><td>71</td><td>243</td><td>NULL</td><td>9</td><td>700</td><td>db</td><td>Béla</td><td>2016-07-14</td></tr>",
                            "<tr><td>02040214T</td><td>Iromány fedél feles</td><td>74</td><td>59</td><td>NULL</td><td>5</td><td>300</td><td>db</td><td>Mari</td><td>2016-07-11</td></tr>",
                            "<tr><td>02040290T</td><td>Naptár 24-es</td><td>103</td><td>89</td><td>NULL</td><td>8</td><td>300</td><td>db</td><td>Mari</td><td>2016-07-10</td></tr>",
                            "<tr><td>02040291T</td><td>Naptárhát kicsi</td><td>104</td><td>15</td><td>NULL</td><td>8</td><td>1400</td><td>db</td><td>Mari</td><td>2016-07-10</td></tr>",
                            "<tr><td>02040292T</td><td>Naptárhát nagy</td><td>104</td><td>78</td><td>NULL</td><td>9</td><td>6900</td><td>db</td><td>Sára</td><td>2016-07-09</td></tr>",
                            "<tr><td>02040293T</td><td>Névjegytartó kicsi</td><td>105</td><td>310</td><td>NULL</td><td>9</td><td>9000</td><td>db</td><td>Sára</td><td>2016-07-09</td></tr>",
                            "<tr><td>02040294T</td><td>Notesz A/5 sima</td><td>106</td><td>103</td><td>NULL</td><td>5</td><td>300</td><td>db</td><td>Béla</td><td>2016-07-07</td></tr>",
                            "<tr><td>02040295T</td><td>Notesz A/5 sima spirál</td><td>106</td><td>89</td><td>NULL</td><td>9</td><td>4100</td><td>db</td><td>Mari</td><td>2016-07-11</td></tr>",
                            "<tr><td>02040296T</td><td>Notesz A/6 College</td><td>106</td><td>56</td><td>NULL</td><td>6</td><td>2000</td><td>db</td><td>Mari</td><td>2016-07-14</td></tr>",
                            "<tr><td>02040297T</td><td>Notesz sima spirál College</td><td>106</td><td>103</td><td>NULL</td><td>9</td><td>1900</td><td>db</td><td>Mari</td><td>2016-07-14</td></tr>",
                            "<tr><td>02040298T</td><td>Notesz mintás</td><td>106</td><td>44</td><td>NULL</td><td>6</td><td>300</td><td>db</td><td>Mari</td><td>2016-07-14</td></tr>",
                            "<tr><td>02040308T</td><td>Pénztárgépsz. 2 pl. nem öníró</td><td>117</td><td>81</td><td>NULL</td><td>9</td><td>300</td><td>db</td><td>Mari</td><td>2016-07-16</td></tr>",
                            "<tr><td>02040309T</td><td>Pénztárgépszalag 2pl SC 57.5/60</td><td>117</td><td>93</td><td>NULL</td><td>6</td><td>100</td><td>db</td><td>Mari</td><td>2016-07-16</td></tr>",
                            "<tr><td>02040401T</td><td>Tűzőgép Boxer 10</td><td>149</td><td>339</td><td>NULL</td><td>8</td><td>300</td><td>db</td><td>Mari</td><td>2016-07-21</td></tr>",
                            "<tr><td>02040402T</td><td>Tűzőgép Boxer </td><td>149</td><td>286</td><td>NULL</td><td>5</td><td>900</td><td>db</td><td>Mari</td><td>2016-07-21</td></tr>",
                            "<tr><td>02040403T</td><td>Tűzőgép SAX 239</td><td>149</td><td>1351</td><td>NULL</td><td>5</td><td>1100</td><td>db</td><td>Mari</td><td>2016-07-21</td></tr>",
                            "<tr><td>02040404T</td><td>Tűzőgép EAGLE</td><td>149</td><td>405</td><td>NULL</td><td>8</td><td>300</td><td>db</td><td>Mari</td><td>2016-07-21</td></tr>",
                            "<tr><td>02040405T</td><td>Tűzőkapocs 10-es</td><td>150</td><td>44</td><td>NULL</td><td>7</td><td>300</td><td>csomag</td><td>Mari</td><td>2016-07-22</td></tr>",
                            "<tr><td>02040406T</td><td>Tűzőkapocs 24/6</td><td>150</td><td>34</td><td>NULL</td><td>9</td><td>4200</td><td>csomag</td><td>Mari</td><td>2016-07-21</td></tr>",
                            "<tr><td>02040506T</td><td>Fólia tasakos A4 125 mik.</td><td>43</td><td>44</td><td>NULL</td><td>9</td><td>100</td><td>ív</td><td>Mari</td><td>2016-07-24</td></tr>",
                            "<tr><td>02040507T</td><td>Fólia tasakos A4 80 mik.</td><td>43</td><td>40</td><td>NULL</td><td>8</td><td>100</td><td>ív</td><td>Mari</td><td>2016-07-23</td></tr>",
                            "<tr><td>02040508T</td><td>Fólia tasakos A4100 mik.</td><td>43</td><td>44</td><td>NULL</td><td>8</td><td>100</td><td>ív</td><td>Sára</td><td>2016-07-28</td></tr>",
                            "<tr><td>02050460T</td><td>Boríték C/4-es</td><td>16</td><td>15</td><td>NULL</td><td>5</td><td>200</td><td>db</td><td>Mari</td><td>2016-07-26</td></tr>",
                            "<tr><td>02050461T</td><td>Boríték B/4-es</td><td>16</td><td>18</td><td>NULL</td><td>8</td><td>100</td><td>db</td><td>Béla</td><td>2016-07-23</td></tr>",
                            "<tr><td>02060034T</td><td>Bélyegzőfesték </td><td>15</td><td>297</td><td>NULL</td><td>9</td><td>700</td><td>db</td><td>Béla</td><td>2016-07-23</td></tr>",
                            "<tr><td>02060038T</td><td>Bélyegző IDEAL 50</td><td>14</td><td>780</td><td>NULL</td><td>8</td><td>100</td><td>db</td><td>Béla</td><td>2016-07-23</td></tr>",
                            "<tr><td>02060039T</td><td>Bélyegző párna</td><td>14</td><td>650</td><td>NULL</td><td>6</td><td>100</td><td>db</td><td>Béla</td><td>2016-07-26</td></tr>",
                            "<tr><td>02060447T</td><td>Bélyegző pocket</td><td>14</td><td>1377</td><td>NULL</td><td>6</td><td>900</td><td>db</td><td>Mari</td><td>2016-07-27</td></tr>",
                            "<tr><td>02060448T</td><td>Bélyegző RP 18-47</td><td>14</td><td>1147</td><td>NULL</td><td>7</td><td>1200</td><td>db</td><td>Sára</td><td>2016-07-29</td></tr>",
                            "<tr><td>02080069T</td><td>CD tartó tok</td><td>17</td><td>30</td><td>NULL</td><td>8</td><td>400</td><td>db</td><td>Sára</td><td>2016-07-29</td></tr>",
                            "<tr><td>02080081T</td><td>Dvd</td><td>29</td><td>133</td><td>NULL</td><td>9</td><td>1300</td><td>db</td><td>Sára</td><td>2016-07-24</td></tr>",
                            "<tr><td>02080109T</td><td>Floppy lemez</td><td>42</td><td>51</td><td>NULL</td><td>7</td><td>500</td><td>db</td><td>Mari</td><td>2016-07-27</td></tr>",
                            "<tr><td>02080226T</td><td>Kapocskiszedő</td><td>82</td><td>106</td><td>NULL</td><td>8</td><td>1300</td><td>db</td><td>Béla</td><td>2016-07-29</td></tr>",
                            "<tr><td>02080431T</td><td>Álló irattartó</td><td>73</td><td>214</td><td>NULL</td><td>8</td><td>200</td><td>db</td><td>Sára</td><td>2016-07-28</td></tr>",
                            "<tr><td>02080432T</td><td>Tokos iratrendező</td><td>71</td><td>259</td><td>NULL</td><td>5</td><td>1100</td><td>db</td><td>Sára</td><td>2016-07-28</td></tr>",
                            "<tr><td>02080433T</td><td>Ragasztószalag 19 mm-es</td><td>125</td><td>55</td><td>NULL</td><td>9</td><td>200</td><td>db</td><td>Sára</td><td>2016-07-28</td></tr>",
                            "<tr><td>02080434T</td><td>Mappa müa A/4</td><td>96</td><td>210</td><td>NULL</td><td>8</td><td>600</td><td>db</td><td>Mari</td><td>2016-07-26</td></tr>",
                            "<tr><td>02080435T</td><td>Mappa bemutató</td><td>96</td><td>184</td><td>NULL</td><td>9</td><td>10000</td><td>db</td><td>Sára</td><td>2016-07-28</td></tr>",
                            "<tr><td>02080436T</td><td>Irattartó müa. boríték A/4</td><td>73</td><td>66</td><td>NULL</td><td>7</td><td>800</td><td>db</td><td>Mari</td><td>2016-07-25</td></tr>",
                            "<tr><td>02080449T</td><td>Térképtű színes</td><td>142</td><td>103</td><td>NULL</td><td>6</td><td>100</td><td>csomag</td><td>Mari</td><td>2016-07-23</td></tr>",
                            "<tr><td>02080450T</td><td>Gémkapocs 28-as színes</td><td>49</td><td>44</td><td>NULL</td><td>8</td><td>200</td><td>csomag</td><td>Mari</td><td>2016-07-23</td></tr>",
                            "<tr><td>02080451T</td><td>Gémkapocs 50-es</td><td>49</td><td>103</td><td>NULL</td><td>5</td><td>100</td><td>csomag</td><td>Mari</td><td>2016-07-23</td></tr>",
                            "<tr><td>02080452T</td><td>Tűzőgép mini</td><td>149</td><td>438</td><td>NULL</td><td>6</td><td>200</td><td>db</td><td>Mari</td><td>2016-07-18</td></tr>",
                            "<tr><td>02080453T</td><td>Lyukasztó EAGLE</td><td>95</td><td>526</td><td>NULL</td><td>7</td><td>600</td><td>db</td><td>Mari</td><td>2016-07-19</td></tr>",
                            "<tr><td>02080454T</td><td>Lyukasztó BOXER</td><td>95</td><td>765</td><td>NULL</td><td>9</td><td>400</td><td>db</td><td>Sára</td><td>2016-07-24</td></tr>",
                            "<tr><td>02080455T</td><td>Festékpatron BCI-3BK</td><td>40</td><td>625</td><td>NULL</td><td>6</td><td>900</td><td>db</td><td>Mari</td><td>2016-07-22</td></tr>",
                            "<tr><td>02080456T</td><td>Genoterm HERLITZ 10-es</td><td>50</td><td>89</td><td>NULL</td><td>7</td><td>500</td><td>csomag</td><td>Béla</td><td>2016-07-21</td></tr>",
                            "<tr><td>02080511T</td><td>Oki toner C</td><td>147</td><td>14250</td><td>NULL</td><td>8</td><td>100</td><td>db</td><td>Béla</td><td>2016-07-20</td></tr>",
                            "<tr><td>02080514T</td><td>Spirál 1/4 </td><td>131</td><td>45</td><td>NULL</td><td>9</td><td>300</td><td>db</td><td>Béla</td><td>2016-07-20</td></tr>",
                            "<tr><td>03010342T</td><td>Ragasztószalag  TIXO</td><td>125</td><td>15</td><td>NULL</td><td>9</td><td>100</td><td>db</td><td>Béla</td><td>2016-07-25</td></tr>",
                            "<tr><td>03010344T</td><td>Ragasztószalag nagy 12 mm</td><td>125</td><td>63</td><td>NULL</td><td>7</td><td>1100</td><td>db</td><td>Béla</td><td>2016-07-25</td></tr>",
                            "<tr><td>03010345T</td><td>Ragasztószalag széles barna</td><td>125</td><td>166</td><td>NULL</td><td>6</td><td>500</td><td>db</td><td>Béla</td><td>2016-07-25</td></tr>",
                            "<tr><td>03050076T</td><td>Díszkötöző szalag metál nagy</td><td>28</td><td>26</td><td>NULL</td><td>8</td><td>800</td><td>db</td><td>Béla</td><td>2016-07-25</td></tr>",
                            "<tr><td>03050077T</td><td>Diszkötöző szalag arany</td><td>28</td><td>44</td><td>NULL</td><td>8</td><td>100</td><td>db</td><td>Mari</td><td>2016-07-24</td></tr>",
                            "<tr><td>03050078T</td><td>Díszkötöző szalag metál kicsi</td><td>28</td><td>15</td><td>NULL</td><td>8</td><td>100</td><td>db</td><td>Mari</td><td>2016-07-21</td></tr>",
                            "<tr><td>03050079T</td><td>Díszkötöző szalag vékony</td><td>28</td><td>15</td><td>NULL</td><td>8</td><td>40000</td><td>db</td><td>Mari</td><td>2016-07-20</td></tr>",
                            "<tr><td>03050080T</td><td>Diszkötöző széles szalag</td><td>28</td><td>81</td><td>NULL</td><td>6</td><td>26000</td><td>db</td><td>Béla</td><td>2016-07-17</td></tr>",
                            "<tr><td>03050457T</td><td>Ajándék cs. tasak kicsi</td><td>6</td><td>26</td><td>NULL</td><td>6</td><td>50000</td><td>db</td><td>Béla</td><td>2016-07-17</td></tr>",
                            "<tr><td>03050458T</td><td>Ajándék cs. 2×100×70</td><td>6</td><td>148</td><td>NULL</td><td>7</td><td>8000</td><td>tekercs</td><td>Sára</td><td>2016-07-22</td></tr>",
                            "<tr><td>03050459T</td><td>Talpas tasak</td><td>6</td><td>40</td><td>NULL</td><td>8</td><td>2600</td><td>db</td><td>Sára</td><td>2016-07-22</td></tr>",
                            "<tr><td>03080003T</td><td>Ajándék cs. tasak italos</td><td>6</td><td>185</td><td>NULL</td><td>6</td><td>400</td><td>db</td><td>Sára</td><td>2016-07-22</td></tr>",
                            "<tr><td>03080004T</td><td>Ajándék cs. tasak italos, fólia</td><td>6</td><td>19</td><td>NULL</td><td>6</td><td>200</td><td>db</td><td>Sára</td><td>2016-07-22</td></tr>",
                            "<tr><td>03080005T</td><td>Ajándék cs. tasak virágos nagy</td><td>6</td><td>290</td><td>NULL</td><td>8</td><td>2500</td><td>db</td><td>Sára</td><td>2016-07-27</td></tr>",
                            "<tr><td>03080006T</td><td>Ajándék cs. tasak mintás kicsi</td><td>6</td><td>26</td><td>NULL</td><td>8</td><td>100</td><td>db</td><td>Mari</td><td>2016-07-31</td></tr>",
                            "<tr><td>03080007T</td><td>Ajándék cs. tasak mintás nagy</td><td>6</td><td>206</td><td>NULL</td><td>9</td><td>2000</td><td>db</td><td>Mari</td><td>2016-07-27</td></tr>",
                            "<tr><td>03080008T</td><td>Ajándék cs. tasak kicsi</td><td>6</td><td>103</td><td>NULL</td><td>7</td><td>2200</td><td>db</td><td>Mari</td><td>2016-07-27</td></tr>",
                            "<tr><td>03080009T</td><td>Ajándék csom. 100x70 metál</td><td>6</td><td>148</td><td>NULL</td><td>8</td><td>700</td><td>db</td><td>Mari</td><td>2016-07-27</td></tr>",
                            "<tr><td>03080010T</td><td>Ajándék csom. 150x70</td><td>6</td><td>206</td><td>NULL</td><td>9</td><td>1900</td><td>db</td><td>Mari</td><td>2016-07-30</td></tr>",
                            "<tr><td>03080011T</td><td>Ajándék cs. tasak közepes</td><td>6</td><td>148</td><td>NULL</td><td>6</td><td>2300</td><td>db</td><td>Mari</td><td>2016-07-28</td></tr>",
                            "<tr><td>03080012T</td><td>Ajándék csom. 200x70</td><td>6</td><td>125</td><td>NULL</td><td>8</td><td>300</td><td>db</td><td>Mari</td><td>2016-07-28</td></tr>",
                            "<tr><td>03080013T</td><td>Ajándék csom. 50x70 húsvéti</td><td>6</td><td>64</td><td>NULL</td><td>6</td><td>600</td><td>db</td><td>Béla</td><td>2016-07-23</td></tr>",
                            "<tr><td>03080014T</td><td>Ajándék csom. 70x50 metál</td><td>6</td><td>81</td><td>NULL</td><td>8</td><td>1000</td><td>db</td><td>Béla</td><td>2016-07-23</td></tr>",
                            "<tr><td>03080015T</td><td>Ajándék csom. gyűrt</td><td>6</td><td>169</td><td>NULL</td><td>9</td><td>1300</td><td>db</td><td>Béla</td><td>2016-07-24</td></tr>",
                            "<tr><td>03080016T</td><td>házt.csom.  5 ív</td><td>22</td><td>110</td><td>NULL</td><td>8</td><td>200</td><td>csomag</td><td>Béla</td><td>2016-07-24</td></tr>",
                            "<tr><td>03080017T</td><td>iskolai csomagoló papír</td><td>24</td><td>148</td><td>NULL</td><td>9</td><td>100</td><td>db</td><td>Sára</td><td>2016-07-29</td></tr>",
                            "<tr><td>03080018T</td><td>Ajándék csom. gyűrt 50x70 </td><td>24</td><td>121</td><td>NULL</td><td>5</td><td>2600</td><td>ív</td><td>Sára</td><td>2016-07-29</td></tr>",
                            "<tr><td>03080019T</td><td>Ajándék csom. Krepp</td><td>24</td><td>56</td><td>NULL</td><td>5</td><td>600</td><td>db</td><td>Béla</td><td>2016-07-27</td></tr>",
                            "<tr><td>03080020T</td><td>Ajándék csom. nagy  </td><td>24</td><td>44</td><td>NULL</td><td>9</td><td>800</td><td>ív</td><td>Sára</td><td>2016-07-22</td></tr>",
                            "<tr><td>03080021T</td><td>Ajándék csom. vékony</td><td>24</td><td>23</td><td>NULL</td><td>7</td><td>200</td><td>db</td><td>Béla</td><td>2016-07-26</td></tr>",
                            "<tr><td>03080030T</td><td>Ajándék cs. húsvéti 200x70</td><td>24</td><td>220</td><td>NULL</td><td>7</td><td>800</td><td>db</td><td>Mari</td><td>2016-07-22</td></tr>",
                            "<tr><td>03080031T</td><td>Ajándék cs. húsvéti</td><td>24</td><td>106</td><td>NULL</td><td>6</td><td>2100</td><td>db</td><td>Sára</td><td>2016-07-27</td></tr>",
                            "<tr><td>03080437T</td><td>Ajándék csomagoló tasak</td><td>6</td><td>185</td><td>NULL</td><td>7</td><td>3600</td><td>db</td><td>Sára</td><td>2016-07-27</td></tr>",
                            "<tr><td>03080438T</td><td>Ajándék csomagoló tasak lézeres</td><td>6</td><td>214</td><td>NULL</td><td>7</td><td>3900</td><td>db</td><td>Sára</td><td>2016-07-28</td></tr>",
                            "<tr><td>03080439T</td><td>Italtartó doboz</td><td>6</td><td>114</td><td>NULL</td><td>8</td><td>1100</td><td>db</td><td>Sára</td><td>2016-07-28</td></tr>",
                            "<tr><td>04020445T</td><td>Határidő napló 2010-s</td><td>62</td><td>728</td><td>NULL</td><td>9</td><td>600</td><td>db</td><td>Sára</td><td>2016-07-24</td></tr>",
                            "<tr><td>04030234T</td><td>Képeslap karácsonyi</td><td>85</td><td>30</td><td>NULL</td><td>5</td><td>2100</td><td>db</td><td>Béla</td><td>2016-07-22</td></tr>",
                            "<tr><td>04030235T</td><td>Képeslap karácsonyi borítékos</td><td>85</td><td>73</td><td>NULL</td><td>7</td><td>900</td><td>db</td><td>Béla</td><td>2016-07-22</td></tr>",
                            "<tr><td>04030236T</td><td>Képeslap karácsonyi WD</td><td>85</td><td>15</td><td>NULL</td><td>6</td><td>10000</td><td>db</td><td>Béla</td><td>2016-07-22</td></tr>",
                            "<tr><td>04030237T</td><td>Képeslap kerek</td><td>85</td><td>36</td><td>NULL</td><td>9</td><td>100</td><td>db</td><td>Béla</td><td>2016-07-17</td></tr>",
                            "<tr><td>04030238T</td><td>Képeslap stancolt</td><td>85</td><td>59</td><td>NULL</td><td>9</td><td>300</td><td>db</td><td>Sára</td><td>2016-07-18</td></tr>",
                            "<tr><td>04030239T</td><td>Képeslap stancolt szív</td><td>85</td><td>48</td><td>NULL</td><td>9</td><td>400</td><td>db</td><td>Béla</td><td>2016-07-21</td></tr>",
                            "<tr><td>04030240T</td><td>Képeslap virágos</td><td>85</td><td>14</td><td>NULL</td><td>7</td><td>1600</td><td>db</td><td>Sára</td><td>2016-07-20</td></tr>",
                            "<tr><td>04030241T</td><td>Képeslap virágos +boríték</td><td>85</td><td>44</td><td>NULL</td><td>8</td><td>2300</td><td>db</td><td>Mari</td><td>2016-07-25</td></tr>",
                            "<tr><td>04030242T</td><td>Képeslap WD +boríték</td><td>85</td><td>118</td><td>NULL</td><td>8</td><td>2300</td><td>db</td><td>Mari</td><td>2016-07-25</td></tr>",
                            "<tr><td>04030243T</td><td>Képkirakó Dirib-darab</td><td>86</td><td>195</td><td>NULL</td><td>7</td><td>1000</td><td>db</td><td>Mari</td><td>2016-07-25</td></tr>",
                            "<tr><td>04030260T</td><td>Levélpapír A/4</td><td>93</td><td>15</td><td>NULL</td><td>6</td><td>1600</td><td>db</td><td>Béla</td><td>2016-07-26</td></tr>",
                            "<tr><td>04030261T</td><td>Levélpapír állatos</td><td>93</td><td>140</td><td>NULL</td><td>6</td><td>1000</td><td>csomag</td><td>Béla</td><td>2016-07-26</td></tr>",
                            "<tr><td>04030262T</td><td>Levélpapír sima</td><td>93</td><td>56</td><td>NULL</td><td>6</td><td>600</td><td>csomag</td><td>Sára</td><td>2016-07-29</td></tr>",
                            "<tr><td>04030263T</td><td>Levélpapír szett</td><td>93</td><td>89</td><td>NULL</td><td>7</td><td>1300</td><td>db</td><td>Sára</td><td>2016-07-29</td></tr>",
                            "<tr><td>04030264T</td><td>Levélpapír szett </td><td>93</td><td>74</td><td>NULL</td><td>6</td><td>300</td><td>db</td><td>Mari</td><td>2016-07-30</td></tr>",
                            "<tr><td>04030265T</td><td>Levélpapír szett natur, mintás</td><td>93</td><td>103</td><td>NULL</td><td>6</td><td>200</td><td>db</td><td>Mari</td><td>2016-07-30</td></tr>",
                            "<tr><td>04030266T</td><td>Levélpapír szett virágos</td><td>93</td><td>169</td><td>NULL</td><td>7</td><td>500</td><td>db</td><td>Mari</td><td>2016-07-30</td></tr>",
                            "<tr><td>04030285T</td><td>Mikulás zacskó</td><td>6</td><td>11</td><td>NULL</td><td>8</td><td>300</td><td>db</td><td>Mari</td><td>2016-07-30</td></tr>",
                            "<tr><td>04030286T</td><td>Műanyag állatok</td><td>25</td><td>44</td><td>NULL</td><td>5</td><td>300</td><td>db</td><td>Mari</td><td>2016-07-30</td></tr>",
                            "<tr><td>04030287T</td><td>Műanyag foszforeszkáló állat</td><td>25</td><td>23</td><td>NULL</td><td>8</td><td>5100</td><td>db</td><td>Béla</td><td>2016-07-26</td></tr>",
                            "<tr><td>04030288T</td><td>Műanyag pohár 1 dl-es</td><td>25</td><td>3</td><td>NULL</td><td>7</td><td>100</td><td>db</td><td>Béla</td><td>2016-07-26</td></tr>",
                            "<tr><td>04030289T</td><td>Műanyag pohár 5 cl-es</td><td>25</td><td>15</td><td>NULL</td><td>6</td><td>2400</td><td>db</td><td>Béla</td><td>2016-07-23</td></tr>",
                            "<tr><td>04040090T</td><td>Emlékkönyv</td><td>32</td><td>526</td><td>NULL</td><td>6</td><td>7700</td><td>db</td><td>Béla</td><td>2016-07-23</td></tr>",
                            "<tr><td>04040387T</td><td>Tenisz labda</td><td>92</td><td>81</td><td>NULL</td><td>8</td><td>600</td><td>db</td><td>Béla</td><td>2016-07-22</td></tr>",
                            "<tr><td>04050022T</td><td>Álarc</td><td>7</td><td>89</td><td>NULL</td><td>8</td><td>500</td><td>db</td><td>Béla</td><td>2016-07-22</td></tr>",
                            "<tr><td>04050023T</td><td>Álarc fejdísz</td><td>7</td><td>144</td><td>NULL</td><td>8</td><td>1000</td><td>db</td><td>Sára</td><td>2016-07-27</td></tr>",
                            "<tr><td>04050024T</td><td>Álarc szemüveg</td><td>7</td><td>144</td><td>NULL</td><td>7</td><td>1000</td><td>db</td><td>Sára</td><td>2016-07-27</td></tr>",
                            "<tr><td>04050035T</td><td>Bérlet tok</td><td>5</td><td>24</td><td>NULL</td><td>5</td><td>1500</td><td>db</td><td>Sára</td><td>2016-07-27</td></tr>",
                            "<tr><td>04050073T</td><td>Díszdoboz kar.</td><td>27</td><td>61</td><td>NULL</td><td>9</td><td>300</td><td>db</td><td>Béla</td><td>2016-08-01</td></tr>",
                            "<tr><td>04050074T</td><td>Díszdoboz tollnak 2 db-os</td><td>27</td><td>66</td><td>NULL</td><td>7</td><td>100</td><td>db</td><td>Mari</td><td>2016-07-28</td></tr>",
                            "<tr><td>04050075T</td><td>Díszdoboz tollnak 2 db-os keskeny</td><td>27</td><td>44</td><td>NULL</td><td>5</td><td>100</td><td>db</td><td>Béla</td><td>2016-07-23</td></tr>",
                            "<tr><td>04050171T</td><td>Gumilabda közepes</td><td>92</td><td>110</td><td>NULL</td><td>7</td><td>500</td><td>db</td><td>Béla</td><td>2016-07-23</td></tr>",
                            "<tr><td>04050187T</td><td>Hajgumi macis</td><td>61</td><td>66</td><td>NULL</td><td>8</td><td>700</td><td>db</td><td>Béla</td><td>2016-07-23</td></tr>",
                            "<tr><td>04050203T</td><td>Hűtőmágnes</td><td>67</td><td>24</td><td>NULL</td><td>7</td><td>300</td><td>db</td><td>Mari</td><td>2016-07-22</td></tr>",
                            "<tr><td>04050204T</td><td>Hűtőmágnes WD</td><td>67</td><td>169</td><td>NULL</td><td>8</td><td>300</td><td>db</td><td>Mari</td><td>2016-07-22</td></tr>",
                            "<tr><td>04050220T</td><td>Játék autó</td><td>79</td><td>65</td><td>NULL</td><td>7</td><td>400</td><td>db</td><td>Mari</td><td>2016-07-27</td></tr>",
                            "<tr><td>04050221T</td><td>Játékautó Blisteres</td><td>79</td><td>133</td><td>NULL</td><td>7</td><td>500</td><td>db</td><td>Mari</td><td>2016-07-27</td></tr>",
                            "<tr><td>04050222T</td><td>Játékautó elemes</td><td>79</td><td>165</td><td>NULL</td><td>7</td><td>100</td><td>db</td><td>Mari</td><td>2016-07-27</td></tr>",
                            "<tr><td>04050223T</td><td>Játékautó mini</td><td>79</td><td>73</td><td>NULL</td><td>7</td><td>400</td><td>db</td><td>Sára</td><td>2016-08-01</td></tr>",
                            "<tr><td>04050224T</td><td>Jelzőkréta</td><td>80</td><td>48</td><td>NULL</td><td>5</td><td>800</td><td>db</td><td>Sára</td><td>2016-08-01</td></tr>",
                            "<tr><td>04050225T</td><td>Kártya mini Magyar</td><td>84</td><td>131</td><td>NULL</td><td>6</td><td>2800</td><td>db</td><td>Sára</td><td>2016-08-01</td></tr>",
                            "<tr><td>04050250T</td><td>Kulcstartó autós</td><td>91</td><td>115</td><td>NULL</td><td>8</td><td>3700</td><td>db</td><td>Béla</td><td>2016-08-05</td></tr>",
                            "<tr><td>04050251T</td><td>Kulcstartó billiárd golyós</td><td>91</td><td>148</td><td>NULL</td><td>8</td><td>3500</td><td>db</td><td>Béla</td><td>2016-08-09</td></tr>",
                            "<tr><td>04050252T</td><td>Kulcstartó Csőrikés</td><td>91</td><td>124</td><td>NULL</td><td>8</td><td>1000</td><td>db</td><td>Béla</td><td>2016-08-05</td></tr>",
                            "<tr><td>04050253T</td><td>Kulcstartó figurás</td><td>91</td><td>103</td><td>NULL</td><td>8</td><td>1200</td><td>db</td><td>Mari</td><td>2016-08-06</td></tr>",
                            "<tr><td>04050254T</td><td>Kulcstartó intarziás állatos</td><td>91</td><td>155</td><td>NULL</td><td>9</td><td>800</td><td>db</td><td>Mari</td><td>2016-08-06</td></tr>",
                            "<tr><td>04050255T</td><td>Kulcstartó mesefigurás</td><td>91</td><td>36</td><td>NULL</td><td>9</td><td>2010</td><td>db</td><td>Mari</td><td>2016-08-09</td></tr>",
                            "<tr><td>04050256T</td><td>Kulcstartó nagyítós</td><td>91</td><td>129</td><td>NULL</td><td>9</td><td>2500</td><td>db</td><td>Mari</td><td>2016-08-09</td></tr>",
                            "<tr><td>04050267T</td><td>Logikai készlet</td><td>5</td><td>129</td><td>NULL</td><td>5</td><td>2000</td><td>db</td><td>Mari</td><td>2016-08-09</td></tr>",
                            "<tr><td>04050268T</td><td>Lufi formázható</td><td>94</td><td>15</td><td>NULL</td><td>7</td><td>3000</td><td>db</td><td>Béla</td><td>2016-08-13</td></tr>",
                            "<tr><td>04050269T</td><td>Lufi hullámos</td><td>94</td><td>11</td><td>NULL</td><td>6</td><td>1300</td><td>db</td><td>Béla</td><td>2016-08-13</td></tr>",
                            "<tr><td>04050320T</td><td>Plüss  QX állatok</td><td>119</td><td>173</td><td>NULL</td><td>9</td><td>500</td><td>db</td><td>Sára</td><td>2016-08-12</td></tr>",
                            "<tr><td>04050321T</td><td>Plüss kicsi</td><td>119</td><td>161</td><td>NULL</td><td>7</td><td>2000</td><td>db</td><td>Sára</td><td>2016-08-12</td></tr>",
                            "<tr><td>04050322T</td><td>Plüss sárkány</td><td>119</td><td>314</td><td>NULL</td><td>5</td><td>100</td><td>db</td><td>Sára</td><td>2016-08-12</td></tr>",
                            "<tr><td>04050358T</td><td>Strandlabda </td><td>132</td><td>356</td><td>NULL</td><td>8</td><td>100</td><td>db</td><td>Sára</td><td>2016-08-08</td></tr>",
                            "<tr><td>04080270T</td><td>Mappa bőr A5</td><td>96</td><td>1765</td><td>NULL</td><td>6</td><td>200</td><td>db</td><td>Sára</td><td>2016-08-08</td></tr>",
                            "<tr><td>04080271T</td><td>Mappa PVC villámzáras</td><td>96</td><td>264</td><td>NULL</td><td>8</td><td>100</td><td>db</td><td>Sára</td><td>2016-08-07</td></tr>",
                            "<tr><td>04080272T</td><td>Mappa PVC villámzáras  képes</td><td>96</td><td>360</td><td>NULL</td><td>9</td><td>1000</td><td>db</td><td>Mari</td><td>2016-08-11</td></tr>",
                            "<tr><td>04080442T</td><td>Emlékkönyv</td><td>32</td><td>316</td><td>NULL</td><td>7</td><td>3000</td><td>db</td><td>Mari</td><td>2016-08-11</td></tr>",
                            "<tr><td>04080443T</td><td>Emlékkönyv lakatos</td><td>32</td><td>449</td><td>NULL</td><td>7</td><td>1000</td><td>db</td><td>Sára</td><td>2016-08-06</td></tr>",
                            "<tr><td>04110066T</td><td>Címke 8 db-os</td><td>20</td><td>26</td><td>NULL</td><td>7</td><td>700</td><td>db</td><td>Sára</td><td>2016-08-06</td></tr>",
                            "<tr><td>04110067T</td><td>Címke WD. állat</td><td>20</td><td>31</td><td>NULL</td><td>7</td><td>300</td><td>db</td><td>Sára</td><td>2016-08-09</td></tr>",
                            "<tr><td>04110068T</td><td>Címke egyszínű</td><td>20</td><td>20</td><td>NULL</td><td>9</td><td>200</td><td>db</td><td>Béla</td><td>2016-08-05</td></tr>",
                            "<tr><td>04110227T</td><td>Képeslap  borítékos</td><td>85</td><td>33</td><td>NULL</td><td>6</td><td>100</td><td>db</td><td>Mari</td><td>2016-08-10</td></tr>",
                            "<tr><td>04110228T</td><td>Képeslap &quot;Nászajándék&quot;</td><td>85</td><td>184</td><td>NULL</td><td>9</td><td>600</td><td>db</td><td>Béla</td><td>2016-08-10</td></tr>",
                            "<tr><td>04110229T</td><td>Képeslap &quot;Részvét&quot;</td><td>85</td><td>33</td><td>NULL</td><td>5</td><td>200</td><td>db</td><td>Béla</td><td>2016-08-10</td></tr>",
                            "<tr><td>04110230T</td><td>Képeslap humoros </td><td>85</td><td>55</td><td>NULL</td><td>6</td><td>1000</td><td>db</td><td>Mari</td><td>2016-08-13</td></tr>",
                            "<tr><td>04110231T</td><td>Képeslap humoros borítékos</td><td>85</td><td>81</td><td>NULL</td><td>5</td><td>1000</td><td>db</td><td>Mari</td><td>2016-08-13</td></tr>",
                            "<tr><td>04110232T</td><td>Képeslap humoros kaparós</td><td>85</td><td>51</td><td>NULL</td><td>8</td><td>900</td><td>db</td><td>Mari</td><td>2016-08-12</td></tr>",
                            "<tr><td>04110233T</td><td>Képeslap humoros</td><td>85</td><td>89</td><td>NULL</td><td>5</td><td>700</td><td>db</td><td>Béla</td><td>2016-08-07</td></tr>",
                            "<tr><td>04110258T</td><td>Lampion</td><td>5</td><td>73</td><td>NULL</td><td>9</td><td>1000</td><td>db</td><td>Mari</td><td>2016-08-03</td></tr>",
                            "<tr><td>04110273T</td><td>Matrica állatos</td><td>97</td><td>55</td><td>NULL</td><td>5</td><td>6200</td><td>db</td><td>Mari</td><td>2016-07-29</td></tr>",
                            "<tr><td>04110274T</td><td>Matrica autóra H</td><td>97</td><td>49</td><td>NULL</td><td>5</td><td>300</td><td>db</td><td>Béla</td><td>2016-07-24</td></tr>",
                            "<tr><td>04110275T</td><td>Matrica motoros kicsi</td><td>97</td><td>49</td><td>NULL</td><td>9</td><td>200</td><td>db</td><td>Mari</td><td>2016-07-22</td></tr>",
                            "<tr><td>04110276T</td><td>Matrica Stickers nagy állatos</td><td>97</td><td>109</td><td>NULL</td><td>9</td><td>400</td><td>db</td><td>Mari</td><td>2016-07-22</td></tr>",
                            "<tr><td>04110277T</td><td>Matrica Stickers szíves</td><td>97</td><td>93</td><td>NULL</td><td>6</td><td>900</td><td>db</td><td>Béla</td><td>2016-07-21</td></tr>",
                            "<tr><td>04110278T</td><td>Matrica Test ékszer tattoo</td><td>97</td><td>161</td><td>NULL</td><td>8</td><td>500</td><td>db</td><td>Béla</td><td>2016-07-21</td></tr>",
                            "<tr><td>04110279T</td><td>Matrica tetoválás</td><td>97</td><td>168</td><td>NULL</td><td>7</td><td>700</td><td>db</td><td>Béla</td><td>2016-07-21</td></tr>",
                            "<tr><td>04110280T</td><td>Matrica tetoválós kicsi</td><td>97</td><td>148</td><td>NULL</td><td>9</td><td>300</td><td>db</td><td>Mari</td><td>2016-07-23</td></tr>",
                            "<tr><td>04110281T</td><td>Matrica világítós </td><td>97</td><td>175</td><td>NULL</td><td>9</td><td>100</td><td>db</td><td>Sára</td><td>2016-07-25</td></tr>",
                            "<tr><td>04110282T</td><td>Matrica WD kicsi</td><td>97</td><td>56</td><td>NULL</td><td>5</td><td>300</td><td>db</td><td>Sára</td><td>2016-07-25</td></tr>",
                            "<tr><td>04110283T</td><td>Meghívó állatos</td><td>98</td><td>155</td><td>NULL</td><td>5</td><td>100</td><td>db</td><td>Sára</td><td>2016-07-23</td></tr>",
                            "<tr><td>04110284T</td><td>Meghívó borítékos</td><td>98</td><td>169</td><td>NULL</td><td>5</td><td>100</td><td>db</td><td>Sára</td><td>2016-07-26</td></tr>",
                            "<tr><td>04110362T</td><td>Szalvéta gyűjtőknek</td><td>133</td><td>183</td><td>NULL</td><td>5</td><td>1200</td><td>csomag</td><td>Sára</td><td>2016-07-26</td></tr>",
                            "<tr><td>05010026T</td><td>Alufólia 10 m-es</td><td>9</td><td>118</td><td>NULL</td><td>9</td><td>100</td><td>db</td><td>Sára</td><td>2016-07-26</td></tr>",
                            "<tr><td>05010027T</td><td>Alufólia 20 m-es</td><td>9</td><td>214</td><td>NULL</td><td>6</td><td>5900</td><td>db</td><td>Mari</td><td>2016-07-29</td></tr>",
                            "<tr><td>05010306T</td><td>Papízsebkendő,10db Szindy</td><td>114</td><td>20</td><td>NULL</td><td>8</td><td>5000</td><td>csomag</td><td>Sára</td><td>2016-08-03</td></tr>",
                            "<tr><td>05010369T</td><td>Szemetes zsák 60 literes</td><td>135</td><td>129</td><td>NULL</td><td>7</td><td>300</td><td>csomag</td><td>Sára</td><td>2016-08-03</td></tr>",
                            "<tr><td>05010370T</td><td>Szilvia csomagoló</td><td>22</td><td>89</td><td>NULL</td><td>7</td><td>100</td><td>db</td><td>Sára</td><td>2016-08-03</td></tr>",
                            "<tr><td>05040310T</td><td>Pill.ragasztó</td><td>124</td><td>103</td><td>NULL</td><td>8</td><td>300</td><td>db</td><td>Béla</td><td>2016-07-30</td></tr>",
                            "<tr><td>05040348T</td><td>Rajzszeg színes</td><td>128</td><td>106</td><td>NULL</td><td>8</td><td>200</td><td>csomag</td><td>Béla</td><td>2016-07-30</td></tr>",
                            "<tr><td>05040349T</td><td>Rajzszeg</td><td>128</td><td>63</td><td>NULL</td><td>6</td><td>600</td><td>db</td><td>Béla</td><td>2016-07-30</td></tr>",
                            "<tr><td>05050045T</td><td>Celofán</td><td>18</td><td>46</td><td>NULL</td><td>8</td><td>200</td><td>csomag</td><td>Béla</td><td>2016-07-30</td></tr>",
                            "<tr><td>05050046T</td><td>Celofán 50 db-os</td><td>18</td><td>73</td><td>NULL</td><td>8</td><td>100</td><td>db</td><td>Béla</td><td>2016-08-03</td></tr>",
                            "<tr><td>05050170T</td><td>Gumigyűrű</td><td>53</td><td>19</td><td>NULL</td><td>9</td><td>400</td><td>csomag</td><td>Béla</td><td>2016-08-08</td></tr>",
                            "<tr><td>05050346T</td><td>Rágógumi Orbit</td><td>126</td><td>89</td><td>NULL</td><td>9</td><td>400</td><td>csomag</td><td>Béla</td><td>2016-08-08</td></tr>",
                            "<tr><td>05050465T</td><td>Tapétavágó kés</td><td>140</td><td>40</td><td>NULL</td><td>6</td><td>1600</td><td>db</td><td>Mari</td><td>2016-08-09</td></tr>",
                            "<tr><td>05080340T</td><td>Ragasztó, Technokol 35g kék</td><td>124</td><td>144</td><td>NULL</td><td>8</td><td>200</td><td>db</td><td>Mari</td><td>2016-08-09</td></tr>",
                            "<tr><td>05080341T</td><td>Ragasztó, Technokol 35g piros</td><td>124</td><td>144</td><td>NULL</td><td>6</td><td>1100</td><td>db</td><td>Mari</td><td>2016-08-09</td></tr>",
                            "<tr><td>05110359T</td><td>Szalvéta </td><td>133</td><td>176</td><td>NULL</td><td>8</td><td>100</td><td>csomag</td><td>Mari</td><td>2016-08-09</td></tr>",
                            "<tr><td>05110360T</td><td>Szalvéta egyszínű</td><td>133</td><td>118</td><td>NULL</td><td>6</td><td>1000</td><td>csomag</td><td>Béla</td><td>2016-08-06</td></tr>",
                            "<tr><td>05110361T</td><td>Szalvéta Goma húsvéti</td><td>133</td><td>175</td><td>NULL</td><td>7</td><td>1500</td><td>csomag</td><td>Béla</td><td>2016-08-06</td></tr>",
                            "<tr><td>05110363T</td><td>Szalvéta dekor</td><td>133</td><td>133</td><td>NULL</td><td>9</td><td>100</td><td>csomag</td><td>Béla</td><td>2016-08-06</td></tr>",
                            "<tr><td>05110364T</td><td>Szalvéta kicsi virágos</td><td>133</td><td>161</td><td>NULL</td><td>8</td><td>300</td><td>csomag</td><td>Mari</td><td>2016-08-11</td></tr>",
                            "<tr><td>06010036T</td><td>Betűtartó sin</td><td>78</td><td>33</td><td>NULL</td><td>7</td><td>300</td><td>db</td><td>Béla</td><td>2016-08-08</td></tr>",
                            "<tr><td>06010082T</td><td>Ecset Centrum 10,11,12</td><td>30</td><td>40</td><td>NULL</td><td>8</td><td>200</td><td>db</td><td>Béla</td><td>2016-08-08</td></tr>",
                            "<tr><td>06010083T</td><td>Ecset Centrum 7,8,9</td><td>30</td><td>33</td><td>NULL</td><td>6</td><td>900</td><td>db</td><td>Sára</td><td>2016-08-09</td></tr>",
                            "<tr><td>06010084T</td><td>Ecset Deák 2-es</td><td>30</td><td>60</td><td>NULL</td><td>9</td><td>200</td><td>db</td><td>Sára</td><td>2016-08-09</td></tr>",
                            "<tr><td>06010085T</td><td>Ecset Lizzy 10-es</td><td>30</td><td>65</td><td>NULL</td><td>5</td><td>200</td><td>db</td><td>Sára</td><td>2016-08-09</td></tr>",
                            "<tr><td>06010086T</td><td>Ecset Nebulo 4-es</td><td>30</td><td>36</td><td>NULL</td><td>8</td><td>3600</td><td>db</td><td>Mari</td><td>2016-08-08</td></tr>",
                            "<tr><td>06010111T</td><td>Füzet  A/4 </td><td>45</td><td>68</td><td>NULL</td><td>9</td><td>600</td><td>db</td><td>Mari</td><td>2016-08-08</td></tr>",
                            "<tr><td>06010112T</td><td>Füzet  A4 mintás</td><td>45</td><td>78</td><td>NULL</td><td>9</td><td>1500</td><td>db</td><td>Mari</td><td>2016-08-06</td></tr>",
                            "<tr><td>06010113T</td><td>Füzet 31-32 szótár</td><td>45</td><td>34</td><td>NULL</td><td>8</td><td>4500</td><td>db</td><td>Sára</td><td>2016-08-11</td></tr>",
                            "<tr><td>06010114T</td><td>Füzet A/5 hangjegy 36/16</td><td>45</td><td>30</td><td>NULL</td><td>6</td><td>800</td><td>db</td><td>Béla</td><td>2016-08-11</td></tr>",
                            "<tr><td>06010115T</td><td>Füzet A/5, mintás</td><td>45</td><td>48</td><td>NULL</td><td>9</td><td>100</td><td>db</td><td>Béla</td><td>2016-08-08</td></tr>",
                            "<tr><td>06010201T</td><td>Hőmérő, műa.</td><td>78</td><td>36</td><td>NULL</td><td>6</td><td>1400</td><td>db</td><td>Mari</td><td>2016-08-10</td></tr>",
                            "<tr><td>06010202T</td><td>Hurkapálca 10 db-os</td><td>78</td><td>23</td><td>NULL</td><td>6</td><td>150</td><td>csomag</td><td>Béla</td><td>2016-08-12</td></tr>",
                            "<tr><td>06010305T</td><td>Papírcenti 100 cm-es</td><td>78</td><td>9</td><td>NULL</td><td>6</td><td>100</td><td>db</td><td>Béla</td><td>2016-08-12</td></tr>",
                            "<tr><td>06010343T</td><td>Ragasztószalag 19 mm-es SCOTCH+ tépő</td><td>124</td><td>426</td><td>NULL</td><td>6</td><td>1600</td><td>db</td><td>Béla</td><td>2016-08-12</td></tr>",
                            "<tr><td>06010365T</td><td>Számegyenes</td><td>78</td><td>36</td><td>NULL</td><td>8</td><td>900</td><td>db</td><td>Béla</td><td>2016-08-10</td></tr>",
                            "<tr><td>06010366T</td><td>Számológép Roxin</td><td>134</td><td>508</td><td>NULL</td><td>6</td><td>300</td><td>db</td><td>Béla</td><td>2016-08-11</td></tr>",
                            "<tr><td>06010367T</td><td>Számolókorong</td><td>78</td><td>35</td><td>NULL</td><td>6</td><td>300</td><td>csomag</td><td>Béla</td><td>2016-08-11</td></tr>",
                            "<tr><td>06010368T</td><td>Számolópálca</td><td>78</td><td>61</td><td>NULL</td><td>5</td><td>900</td><td>csomag</td><td>Sára</td><td>2016-08-10</td></tr>",
                            "<tr><td>06010373T</td><td>Színes papír I.II-IV.V-VIII-ig</td><td>78</td><td>43</td><td>NULL</td><td>8</td><td>2200</td><td>db</td><td>Sára</td><td>2016-08-10</td></tr>",
                            "<tr><td>06010374T</td><td>Szorzótábla műanyag</td><td>78</td><td>45</td><td>NULL</td><td>8</td><td>1600</td><td>db</td><td>Béla</td><td>2016-08-08</td></tr>",
                            "<tr><td>06010375T</td><td>Szögmérő 180 fokos műa.</td><td>137</td><td>24</td><td>NULL</td><td>6</td><td>200</td><td>db</td><td>Béla</td><td>2016-08-08</td></tr>",
                            "<tr><td>06010376T</td><td>Szögmérő papír</td><td>137</td><td>11</td><td>NULL</td><td>6</td><td>100</td><td>db</td><td>Béla</td><td>2016-08-03</td></tr>",
                            "<tr><td>06010377T</td><td>Szögmérő színes</td><td>137</td><td>8</td><td>NULL</td><td>9</td><td>200</td><td>db</td><td>Mari</td><td>2016-08-01</td></tr>",
                            "<tr><td>06040087T</td><td>Ecset Nebuló 10-es</td><td>30</td><td>79</td><td>NULL</td><td>7</td><td>4000</td><td>db</td><td>Mari</td><td>2016-08-01</td></tr>",
                            "<tr><td>06040088T</td><td>Egészségügyi könyv</td><td>78</td><td>51</td><td>NULL</td><td>7</td><td>4400</td><td>db</td><td>Sára</td><td>2016-08-01</td></tr>",
                            "<tr><td>06040089T</td><td>Ellenőrzőborító</td><td>78</td><td>5</td><td>NULL</td><td>7</td><td>200</td><td>db</td><td>Sára</td><td>2016-08-01</td></tr>",
                            "<tr><td>06040172T</td><td>Gumis mappa csomagolt</td><td>96</td><td>195</td><td>NULL</td><td>7</td><td>2000</td><td>db</td><td>Mari</td><td>2016-08-06</td></tr>",
                            "<tr><td>06040173T</td><td>Gumis mappa fóliázott állatos</td><td>96</td><td>211</td><td>NULL</td><td>7</td><td>1800</td><td>db</td><td>Mari</td><td>2016-08-06</td></tr>",
                            "<tr><td>06040174T</td><td>Gumis mappa </td><td>96</td><td>148</td><td>NULL</td><td>6</td><td>7000</td><td>db</td><td>Sára</td><td>2016-08-01</td></tr>",
                            "<tr><td>06040175T</td><td>Gumis mappa Köbüki</td><td>96</td><td>191</td><td>NULL</td><td>8</td><td>400</td><td>db</td><td>Sára</td><td>2016-08-01</td></tr>",
                            "<tr><td>06040179T</td><td>Gyurma színes 200 g-os</td><td>59</td><td>180</td><td>NULL</td><td>6</td><td>100</td><td>db</td><td>Sára</td><td>2016-08-01</td></tr>",
                            "<tr><td>06040180T</td><td>Gyurma színes natúr</td><td>59</td><td>228</td><td>NULL</td><td>8</td><td>400</td><td>db</td><td>Mari</td><td>2016-08-04</td></tr>",
                            "<tr><td>06040181T</td><td>Gyűjtőlap A/4</td><td>78</td><td>8</td><td>NULL</td><td>6</td><td>2600</td><td>db</td><td>Mari</td><td>2016-08-01</td></tr>",
                            "<tr><td>06040182T</td><td>Gyűrűskönyv bet. A/4</td><td>60</td><td>184</td><td>NULL</td><td>7</td><td>2600</td><td>db</td><td>Mari</td><td>2016-08-01</td></tr>",
                            "<tr><td>06040183T</td><td>Gyűrűskönyv bet. A/5</td><td>60</td><td>95</td><td>NULL</td><td>9</td><td>200</td><td>db</td><td>Mari</td><td>2016-08-01</td></tr>",
                            "<tr><td>06040184T</td><td>Gyűrűskönyv betét A/5</td><td>60</td><td>218</td><td>NULL</td><td>9</td><td>100</td><td>db</td><td>Mari</td><td>2016-07-27</td></tr>",
                            "<tr><td>06040185T</td><td>Gyűrűskönyv</td><td>60</td><td>581</td><td>NULL</td><td>9</td><td>1800</td><td>db</td><td>Mari</td><td>2016-07-27</td></tr>",
                            "<tr><td>06040186T</td><td>Gyűrűskönyv színes</td><td>60</td><td>699</td><td>NULL</td><td>6</td><td>700</td><td>db</td><td>Sára</td><td>2016-07-27</td></tr>",
                            "<tr><td>06040205T</td><td>Indigó Pelikán</td><td>68</td><td>15</td><td>NULL</td><td>5</td><td>200</td><td>db</td><td>Sára</td><td>2016-07-28</td></tr>",
                            "<tr><td>06040206T</td><td>kék indigó</td><td>68</td><td>12</td><td>NULL</td><td>5</td><td>100</td><td>db</td><td>Sára</td><td>2016-12-11</td></tr>",
                            "<tr><td>06040212T</td><td>Írólap 10-50 ffam.</td><td>75</td><td>29</td><td>NULL</td><td>8</td><td>400</td><td>db</td><td>Sára</td><td>2016-08-01</td></tr>",
                            "<tr><td>06040213T</td><td>Írólap 20-50 </td><td>75</td><td>34</td><td>NULL</td><td>8</td><td>100</td><td>db</td><td>Sára</td><td>2016-07-28</td></tr>",
                            "<tr><td>06040246T</td><td>Körző</td><td>89</td><td>161</td><td>NULL</td><td>5</td><td>100</td><td>db</td><td>Béla</td><td>2016-07-24</td></tr>",
                            "<tr><td>06040247T</td><td>Körzőhegy grafit</td><td>89</td><td>30</td><td>NULL</td><td>8</td><td>2200</td><td>db</td><td>Béla</td><td>2016-07-24</td></tr>",
                            "<tr><td>06040248T</td><td>Körző maped</td><td>89</td><td>243</td><td>NULL</td><td>6</td><td>300</td><td>db</td><td>Béla</td><td>2016-07-21</td></tr>",
                            "<tr><td>06040323T</td><td>Post-it 51×38 100 lapos</td><td>121</td><td>36</td><td>NULL</td><td>8</td><td>200</td><td>db</td><td>Béla</td><td>2016-07-23</td></tr>",
                            "<tr><td>06040324T</td><td>Post-it 75×75 100 lapos</td><td>121</td><td>89</td><td>NULL</td><td>7</td><td>1500</td><td>db</td><td>Sára</td><td>2016-07-23</td></tr>",
                            "<tr><td>06040325T</td><td>Radír gyümölcsös</td><td>122</td><td>40</td><td>NULL</td><td>9</td><td>2600</td><td>db</td><td>Béla</td><td>2016-07-20</td></tr>",
                            "<tr><td>06040326T</td><td>Radír KOH-I-NOR 80</td><td>122</td><td>19</td><td>NULL</td><td>8</td><td>100</td><td>db</td><td>Béla</td><td>2016-07-20</td></tr>",
                            "<tr><td>06040327T</td><td>Radír Koh-i-nor 40</td><td>122</td><td>36</td><td>NULL</td><td>9</td><td>2200</td><td>db</td><td>Béla</td><td>2016-07-17</td></tr>",
                            "<tr><td>06040328T</td><td>Radír Maped</td><td>122</td><td>44</td><td>NULL</td><td>8</td><td>2400</td><td>db</td><td>Béla</td><td>2016-07-17</td></tr>",
                            "<tr><td>06040329T</td><td>Radír stabilo</td><td>122</td><td>44</td><td>NULL</td><td>6</td><td>1700</td><td>db</td><td>Béla</td><td>2016-07-17</td></tr>",
                            "<tr><td>06040330T</td><td>Radír Tikky 30 </td><td>122</td><td>50</td><td>NULL</td><td>7</td><td>1100</td><td>db</td><td>Sára</td><td>2016-07-12</td></tr>",
                            "<tr><td>06040331T</td><td>Radír Tikky 40 </td><td>122</td><td>49</td><td>NULL</td><td>8</td><td>200</td><td>db</td><td>Sára</td><td>2016-07-12</td></tr>",
                            "<tr><td>06040347T</td><td>Rajzlap A/4 10db ffam.</td><td>127</td><td>28</td><td>NULL</td><td>5</td><td>200</td><td>csomag</td><td>Sára</td><td>2016-07-12</td></tr>",
                            "<tr><td>06040350T</td><td>Regiszteres füzet A4</td><td>129</td><td>256</td><td>NULL</td><td>9</td><td>500</td><td>db</td><td>Béla</td><td>2016-07-12</td></tr>",
                            "<tr><td>06040351T</td><td>Regiszteres füzet A5 Hightech</td><td>129</td><td>203</td><td>NULL</td><td>5</td><td>200</td><td>db</td><td>Sára</td><td>2016-07-11</td></tr>",
                            "<tr><td>06040352T</td><td>Rovatolt papír 20 íves</td><td>78</td><td>103</td><td>NULL</td><td>6</td><td>0</td><td>db</td><td>Mari</td><td>2016-07-16</td></tr>",
                            "<tr><td>06040353T</td><td>Sorvezető</td><td>78</td><td>8</td><td>NULL</td><td>5</td><td>600</td><td>db</td><td>Béla</td><td>2016-07-16</td></tr>",
                            "<tr><td>06040354T</td><td>Sp.Füzet A/4  perforált, lyuk.</td><td>45</td><td>206</td><td>NULL</td><td>5</td><td>800</td><td>db</td><td>Sára</td><td>2016-07-20</td></tr>",
                            "<tr><td>06040355T</td><td>Sp.Füzet A/4 70-as</td><td>45</td><td>155</td><td>NULL</td><td>8</td><td>600</td><td>db</td><td>Béla</td><td>2016-07-21</td></tr>",
                            "<tr><td>06040356T</td><td>Sp.Füzet A/4  70es</td><td>45</td><td>144</td><td>NULL</td><td>8</td><td>100</td><td>db</td><td>Mari</td><td>2016-07-24</td></tr>",
                            "<tr><td>06040357T</td><td>Sp.Füzet A/5 70-es</td><td>45</td><td>89</td><td>NULL</td><td>6</td><td>4400</td><td>db</td><td>Mari</td><td>2016-07-24</td></tr>",
                            "<tr><td>06040378T</td><td>Szövegkiemelő vékony</td><td>138</td><td>89</td><td>NULL</td><td>8</td><td>100</td><td>db</td><td>Mari</td><td>2016-07-24</td></tr>",
                            "<tr><td>06040379T</td><td>Szövegkiemelő </td><td>138</td><td>93</td><td>NULL</td><td>9</td><td>200</td><td>db</td><td>Béla</td><td>2016-07-23</td></tr>",
                            "<tr><td>06040380T</td><td>Szövegkiemelő</td><td>138</td><td>78</td><td>NULL</td><td>5</td><td>500</td><td>db</td><td>Sára</td><td>2016-07-20</td></tr>",
                            "<tr><td>06040381T</td><td>Szövegkiemelő Videotip</td><td>138</td><td>103</td><td>NULL</td><td>6</td><td>100</td><td>csomag</td><td>Béla</td><td>2016-07-22</td></tr>",
                            "<tr><td>06040382T</td><td>Táblafilc</td><td>139</td><td>633</td><td>NULL</td><td>9</td><td>500</td><td>csomag</td><td>Béla</td><td>2016-07-22</td></tr>",
                            "<tr><td>06040383T</td><td>Taffet papír</td><td>78</td><td>19</td><td>NULL</td><td>6</td><td>300</td><td>db</td><td>Béla</td><td>2016-07-22</td></tr>",
                            "<tr><td>06040384T</td><td>Technika cs. I-II-III-IV</td><td>78</td><td>58</td><td>NULL</td><td>5</td><td>500</td><td>db</td><td>Béla</td><td>2016-07-22</td></tr>",
                            "<tr><td>06040385T</td><td>Tempera szóló ezüst</td><td>141</td><td>96</td><td>NULL</td><td>8</td><td>100</td><td>db</td><td>Sára</td><td>2016-07-24</td></tr>",
                            "<tr><td>06040386T</td><td>Tempera szóló színes</td><td>141</td><td>48</td><td>NULL</td><td>8</td><td>100</td><td>db</td><td>Mari</td><td>2016-07-22</td></tr>",
                            "<tr><td>06040392T</td><td>Tolltartó 1 zipzáros</td><td>146</td><td>728</td><td>NULL</td><td>7</td><td>400</td><td>db</td><td>Sára</td><td>2016-07-17</td></tr>",
                            "<tr><td>06040393T</td><td>Tolltartó 2 részes NG.</td><td>146</td><td>765</td><td>NULL</td><td>9</td><td>1000</td><td>db</td><td>Sára</td><td>2016-07-19</td></tr>",
                            "<tr><td>06040394T</td><td>Tolltartó zipzáras</td><td>146</td><td>324</td><td>NULL</td><td>5</td><td>100</td><td>db</td><td>Béla</td><td>2016-07-18</td></tr>",
                            "<tr><td>06040395T</td><td>Tolltartó 2 zipzáros töltött</td><td>146</td><td>728</td><td>NULL</td><td>7</td><td>700</td><td>db</td><td>Béla</td><td>2016-07-18</td></tr>",
                            "<tr><td>06040396T</td><td>Tolltartó Garfield</td><td>146</td><td>410</td><td>NULL</td><td>7</td><td>2900</td><td>db</td><td>Béla</td><td>2016-07-18</td></tr>",
                            "<tr><td>06040397T</td><td>Tolltartó asztali</td><td>146</td><td>655</td><td>NULL</td><td>8</td><td>700</td><td>csomag</td><td>Sára</td><td>2016-07-17</td></tr>",
                            "<tr><td>06040398T</td><td>Tolltartó hengeres </td><td>146</td><td>411</td><td>NULL</td><td>5</td><td>100</td><td>db</td><td>Sára</td><td>2016-07-17</td></tr>",
                            "<tr><td>06040399T</td><td>Tombola tömb</td><td>78</td><td>125</td><td>NULL</td><td>7</td><td>100</td><td>db</td><td>Sára</td><td>2016-07-17</td></tr>",
                            "<tr><td>06040400T</td><td>Tornazsák</td><td>78</td><td>511</td><td>NULL</td><td>8</td><td>200</td><td>db</td><td>Sára</td><td>2016-07-17</td></tr>",
                            "<tr><td>06040446T</td><td>Számológép tudományos</td><td>134</td><td>1173</td><td>NULL</td><td>5</td><td>200</td><td>db</td><td>Sára</td><td>2016-07-17</td></tr>",
                            "<tr><td>06050249T</td><td>Krepp papír</td><td>78</td><td>73</td><td>NULL</td><td>5</td><td>500</td><td>db</td><td>Mari</td><td>2016-07-15</td></tr>",
                            "<tr><td>06050301T</td><td>Olló gyerek </td><td>111</td><td>133</td><td>NULL</td><td>8</td><td>100</td><td>db</td><td>Mari</td><td>2016-07-15</td></tr>",
                            "<tr><td>06050302T</td><td>Olló Tagit 18 cm-es</td><td>111</td><td>176</td><td>NULL</td><td>5</td><td>400</td><td>db</td><td>Mari</td><td>2016-07-15</td></tr>",
                            "<tr><td>06050303T</td><td>Olló, iskolai</td><td>111</td><td>161</td><td>NULL</td><td>7</td><td>100</td><td>db</td><td>Sára</td><td>2016-07-12</td></tr>",
                            "<tr><td>06080116T</td><td>Füzet A5 1-8 osz.-ig</td><td>45</td><td>34</td><td>NULL</td><td>7</td><td>200</td><td>db</td><td>Béla</td><td>2016-07-13</td></tr>",
                            "<tr><td>06080117T</td><td>Füzetborító A/4 átlátszó</td><td>46</td><td>10</td><td>NULL</td><td>6</td><td>600</td><td>db</td><td>Mari</td><td>2016-07-14</td></tr>",
                            "<tr><td>06080118T</td><td>Füzetborító átlátszó A5</td><td>46</td><td>8</td><td>NULL</td><td>6</td><td>300</td><td>db</td><td>Mari</td><td>2016-07-09</td></tr>",
                            "<tr><td>06080119T</td><td>Füzetborító mesefig.</td><td>46</td><td>19</td><td>NULL</td><td>2</td><td>100</td><td>db</td><td>Mari</td><td>2016-07-09</td></tr>",
                            "<tr><td>06080120T</td><td>Füzetborító öntapadó kicsi</td><td>46</td><td>23</td><td>NULL</td><td>9</td><td>100</td><td>db</td><td>Béla</td><td>2016-07-08</td></tr>",
                            "<tr><td>06080121T</td><td>Füzetborító öntapadó tekercses</td><td>46</td><td>195</td><td>NULL</td><td>7</td><td>300</td><td>csomag</td><td>Béla</td><td>2016-07-08</td></tr>",
                            "<tr><td>06080122T</td><td>Füzetborító öntapadós nagy</td><td>46</td><td>19</td><td>NULL</td><td>7</td><td>300</td><td>db</td><td>Béla</td><td>2016-07-05</td></tr>",
                            "<tr><td>06080123T</td><td>Füzettartó A/4 keménytáblás</td><td>47</td><td>551</td><td>NULL</td><td>6</td><td>2000</td><td>db</td><td>Sára</td><td>2016-07-10</td></tr>",
                            "<tr><td>06080124T</td><td>Füzettartó A/4 keménytáblás</td><td>47</td><td>508</td><td>NULL</td><td>6</td><td>900</td><td>db</td><td>Mari</td><td>2016-07-14</td></tr>",
                            "<tr><td>06080125T</td><td>Füzettartó A/5 vastag</td><td>47</td><td>411</td><td>NULL</td><td>7</td><td>400</td><td>db</td><td>Mari</td><td>2016-07-14</td></tr>",
                            "<tr><td>06080126T</td><td>Füzettartó A/5  </td><td>47</td><td>203</td><td>NULL</td><td>9</td><td>1500</td><td>db</td><td>Mari</td><td>2016-07-09</td></tr>",
                            "<tr><td>06080188T</td><td>Hegyező gép</td><td>64</td><td>875</td><td>NULL</td><td>8</td><td>900</td><td>db</td><td>Sára</td><td>2016-07-14</td></tr>",
                            "<tr><td>06080189T</td><td>Hegyező műanyag dupla</td><td>64</td><td>30</td><td>NULL</td><td>6</td><td>500</td><td>db</td><td>Sára</td><td>2016-07-09</td></tr>",
                            "<tr><td>06080190T</td><td>Hegyező műanyag egyes</td><td>64</td><td>23</td><td>NULL</td><td>6</td><td>1000</td><td>db</td><td>Sára</td><td>2016-07-09</td></tr>",
                            "<tr><td>06080191T</td><td>Hegyező tartályos egyes</td><td>64</td><td>30</td><td>NULL</td><td>8</td><td>300</td><td>db</td><td>Sára</td><td>2016-07-10</td></tr>",
                            "<tr><td>06080192T</td><td>Hegyző fém 1 lyukú</td><td>65</td><td>70</td><td>NULL</td><td>9</td><td>200</td><td>db</td><td>Sára</td><td>2016-07-07</td></tr>",
                            "<tr><td>06080193T</td><td>Hegyző fém 2 lyukú</td><td>65</td><td>180</td><td>NULL</td><td>7</td><td>100</td><td>db</td><td>Sára</td><td>2016-07-07</td></tr>",
                            "<tr><td>06080259T</td><td>Leckefüzet</td><td>78</td><td>161</td><td>NULL</td><td>6</td><td>0</td><td>db</td><td>Mari</td><td>2016-07-02</td></tr>",
                            "<tr><td>06080332T</td><td>Radírtoll betét ER100</td><td>123</td><td>74</td><td>NULL</td><td>5</td><td>1500</td><td>db</td><td>Mari</td><td>2016-07-02</td></tr>",
                            "<tr><td>06080333T</td><td>Radírtoll betét vastag</td><td>123</td><td>119</td><td>NULL</td><td>7</td><td>500</td><td>db</td><td>Béla</td><td>2016-07-01</td></tr>",
                            "<tr><td>06080334T</td><td>Ragasztó szalag KORES </td><td>124</td><td>133</td><td>NULL</td><td>5</td><td>3000</td><td>db</td><td>Mari</td><td>2016-07-02</td></tr>",
                            "<tr><td>06080335T</td><td>Ragasztó 9 g Pax</td><td>124</td><td>110</td><td>NULL</td><td>9</td><td>200</td><td>db</td><td>Mari</td><td>2016-07-02</td></tr>",
                            "<tr><td>06080336T</td><td>Ragasztó 8 g Pritt</td><td>124</td><td>81</td><td>NULL</td><td>9</td><td>4900</td><td>db</td><td>Mari</td><td>2016-07-02</td></tr>",
                            "<tr><td>06080337T</td><td>Ragasztó Gyurma</td><td>124</td><td>293</td><td>NULL</td><td>7</td><td>100</td><td>db</td><td>Sára</td><td>2016-07-06</td></tr>",
                            "<tr><td>06080338T</td><td>Ragasztó kenőfejes Nebuló</td><td>124</td><td>101</td><td>NULL</td><td>8</td><td>3600</td><td>db</td><td>Mari</td><td>2016-07-08</td></tr>",
                            "<tr><td>06080339T</td><td>Ragasztó kores</td><td>124</td><td>89</td><td>NULL</td><td>5</td><td>900</td><td>db</td><td>Mari</td><td>2016-07-11</td></tr>",
                            "<tr><td>06080407T</td><td>Vízfesték  12 színű nagy</td><td>151</td><td>249</td><td>NULL</td><td>7</td><td>100</td><td>db</td><td>Sára</td><td>2016-07-14</td></tr>",
                            "<tr><td>06080408T</td><td>Vízfesték 12 db-os </td><td>151</td><td>210</td><td>NULL</td><td>7</td><td>100</td><td>db</td><td>Sára</td><td>2016-07-14</td></tr>",
                            "<tr><td>06080409T</td><td>Vízfesték 12 színű kerek</td><td>151</td><td>180</td><td>NULL</td><td>6</td><td>100</td><td>db</td><td>Sára</td><td>2016-07-14</td></tr>",
                            "<tr><td>06080410T</td><td>Vízfesték 12db-os kínai</td><td>151</td><td>176</td><td>NULL</td><td>6</td><td>100</td><td>db</td><td>Béla</td><td>2016-07-15</td></tr>",
                            "<tr><td>06080411T</td><td>Vonalzó 15 cm-es ESSELTE</td><td>152</td><td>58</td><td>NULL</td><td>8</td><td>100</td><td>db</td><td>Sára</td><td>2016-07-18</td></tr>",
                            "<tr><td>06080412T</td><td>Vonalzó 16 cm-es LIZZY</td><td>152</td><td>30</td><td>NULL</td><td>7</td><td>100</td><td>db</td><td>Sára</td><td>2016-07-15</td></tr>",
                            "<tr><td>06080413T</td><td>Vonalzó 30 cm</td><td>152</td><td>30</td><td>NULL</td><td>8</td><td>100</td><td>db</td><td>Sára</td><td>2016-07-18</td></tr>",
                            "<tr><td>06080414T</td><td>Vonalzó 20 cm-es </td><td>152</td><td>30</td><td>NULL</td><td>8</td><td>2600</td><td>db</td><td>Mari</td><td>2016-07-22</td></tr>",
                            "<tr><td>06080415T</td><td>Vonalzó 45 fokos</td><td>152</td><td>30</td><td>NULL</td><td>9</td><td>200</td><td>db</td><td>Mari</td><td>2016-07-22</td></tr>",
                            "<tr><td>06080416T</td><td>Vonalzó 60 fokos</td><td>152</td><td>33</td><td>NULL</td><td>6</td><td>100</td><td>db</td><td>Mari</td><td>2016-07-22</td></tr>",
                            "<tr><td>06080417T</td><td>Zászló papír</td><td>153</td><td>20</td><td>NULL</td><td>5</td><td>200</td><td>db</td><td>Mari</td><td>2016-07-22</td></tr>",
                            "<tr><td>06080422T</td><td>Füzettartó A/4</td><td>78</td><td>324</td><td>NULL</td><td>7</td><td>200</td><td>db</td><td>Mari</td><td>2016-07-22</td></tr>",
                            "<tr><td>06080423T</td><td>Beíró A/5 kockás</td><td>12</td><td>228</td><td>NULL</td><td>5</td><td>200</td><td>db</td><td>Mari</td><td>2016-07-22</td></tr>",
                            "<tr><td>06080424T</td><td>Füzetborító A/4 mintás</td><td>46</td><td>24</td><td>NULL</td><td>9</td><td>500</td><td>db</td><td>Béla</td><td>2016-07-26</td></tr>",
                            "<tr><td>06080425T</td><td>Miliméterpapír</td><td>99</td><td>8</td><td>NULL</td><td>6</td><td>400</td><td>db</td><td>Sára</td><td>2016-07-30</td></tr>",
                            "<tr><td>06080426T</td><td>Szótárfüzet Lizzy</td><td>45</td><td>161</td><td>NULL</td><td>7</td><td>300</td><td>db</td><td>Mari</td><td>2016-07-27</td></tr>",
                            "<tr><td>06080427T</td><td>Ablakkréta</td><td>78</td><td>161</td><td>NULL</td><td>9</td><td>200</td><td>db</td><td>Sára</td><td>2016-07-23</td></tr>",
                            "<tr><td>06080428T</td><td>Ecsetkészlet</td><td>30</td><td>180</td><td>NULL</td><td>8</td><td>500</td><td>db</td><td>Sára</td><td>2016-07-23</td></tr>",
                            "<tr><td>06080429T</td><td>Meghívó ballagási</td><td>98</td><td>63</td><td>NULL</td><td>6</td><td>400</td><td>db</td><td>Sára</td><td>2016-07-26</td></tr>",
                            "<tr><td>06080430T</td><td>Öntapadős betűk</td><td>78</td><td>74</td><td>NULL</td><td>7</td><td>900</td><td>csomag</td><td>Béla</td><td>2016-07-22</td></tr>",
                            "<tr><td>06080440T</td><td>Gyurma 12 szinű</td><td>59</td><td>161</td><td>NULL</td><td>5</td><td>1900</td><td>csomag</td><td>Béla</td><td>2016-07-20</td></tr>",
                            "<tr><td>06080441T</td><td>Gyurmakés</td><td>59</td><td>121</td><td>NULL</td><td>9</td><td>300</td><td>csomag</td><td>Béla</td><td>2016-07-21</td></tr>",
                            "<tr><td>07010136T</td><td>G.toll betét PAX</td><td>145</td><td>123</td><td>NULL</td><td>6</td><td>1800</td><td>db</td><td>Béla</td><td>2016-07-26</td></tr>",
                            "<tr><td>07010137T</td><td>G.toll betét PAX tip.</td><td>145</td><td>48</td><td>NULL</td><td>6</td><td>600</td><td>db</td><td>Sára</td><td>2016-07-31</td></tr>",
                            "<tr><td>07010138T</td><td>G.toll betét jumbo</td><td>145</td><td>33</td><td>NULL</td><td>8</td><td>1700</td><td>db</td><td>Mari</td><td>2016-08-02</td></tr>",
                            "<tr><td>07010139T</td><td>G.toll betét S7L </td><td>145</td><td>91</td><td>NULL</td><td>6</td><td>1000</td><td>db</td><td>Mari</td><td>2016-08-02</td></tr>",
                            "<tr><td>07010140T</td><td>G.toll betét Stabilo</td><td>145</td><td>23</td><td>NULL</td><td>5</td><td>1200</td><td>db</td><td>Béla</td><td>2016-07-28</td></tr>",
                            "<tr><td>07010141T</td><td>G.toll betét X20</td><td>145</td><td>15</td><td>NULL</td><td>7</td><td>600</td><td>db</td><td>Béla</td><td>2016-07-25</td></tr>",
                            "<tr><td>07010142T</td><td>G.toll betét Zebra F-0.7</td><td>145</td><td>228</td><td>NULL</td><td>5</td><td>100</td><td>db</td><td>Mari</td><td>2016-07-28</td></tr>",
                            "<tr><td>07010143T</td><td>G.toll betét Zebra H-0,7</td><td>145</td><td>78</td><td>NULL</td><td>7</td><td>200</td><td>db</td><td>Mari</td><td>2016-07-28</td></tr>",
                            "<tr><td>07010144T</td><td>G.toll betét Zebra K-0,7</td><td>145</td><td>89</td><td>NULL</td><td>9</td><td>200</td><td>db</td><td>Béla</td><td>2016-07-25</td></tr>",
                            "<tr><td>07010244T</td><td>Kerámiatoll</td><td>144</td><td>74</td><td>NULL</td><td>5</td><td>200</td><td>db</td><td>Béla</td><td>2016-07-25</td></tr>",
                            "<tr><td>07010371T</td><td>Színes ceruza 6-os</td><td>136</td><td>99</td><td>NULL</td><td>8</td><td>2200</td><td>db</td><td>Sára</td><td>2016-07-25</td></tr>",
                            "<tr><td>07010372T</td><td>Színes ceruza 12 szín</td><td>136</td><td>161</td><td>NULL</td><td>7</td><td>3000</td><td>db</td><td>Sára</td><td>2016-07-25</td></tr>",
                            "<tr><td>07030103T</td><td>Filctoll TINTEN PEN</td><td>41</td><td>53</td><td>NULL</td><td>8</td><td>300</td><td>db</td><td>Béla</td><td>2016-07-22</td></tr>",
                            "<tr><td>07030104T</td><td>Filctoll vastag ARTIP</td><td>41</td><td>76</td><td>NULL</td><td>8</td><td>400</td><td>db</td><td>Sára</td><td>2016-07-23</td></tr>",
                            "<tr><td>07030105T</td><td>Filctoll, alkoholos Centropen</td><td>41</td><td>114</td><td>NULL</td><td>5</td><td>200</td><td>db</td><td>Sára</td><td>2016-07-23</td></tr>",
                            "<tr><td>07030106T</td><td>Filctoll, alkoholosOHP F-M-C</td><td>41</td><td>103</td><td>NULL</td><td>9</td><td>700</td><td>db</td><td>Mari</td><td>2016-07-21</td></tr>",
                            "<tr><td>07030107T</td><td>Filctoll, textil Edding 4500</td><td>41</td><td>276</td><td>NULL</td><td>5</td><td>1000</td><td>db</td><td>Mari</td><td>2016-07-21</td></tr>",
                            "<tr><td>07030108T</td><td>Filctoll CD író</td><td>41</td><td>0</td><td>NULL</td><td>5</td><td>500</td><td>db</td><td>Mari</td><td>2016-07-21</td></tr>",
                            "<tr><td>07040047T</td><td>Ceruza 2H-4B</td><td>19</td><td>39</td><td>NULL</td><td>5</td><td>200</td><td>db</td><td>Mari</td><td>2016-07-21</td></tr>",
                            "<tr><td>07040048T</td><td>Ceruza arany, ezüst</td><td>19</td><td>55</td><td>NULL</td><td>6</td><td>1900</td><td>db</td><td>Mari</td><td>2016-07-21</td></tr>",
                            "<tr><td>07040049T</td><td>Ceruza Conté zöld</td><td>19</td><td>40</td><td>NULL</td><td>9</td><td>100</td><td>db</td><td>Mari</td><td>2016-07-21</td></tr>",
                            "<tr><td>07040050T</td><td>Ceruza Cseh</td><td>19</td><td>30</td><td>NULL</td><td>6</td><td>200</td><td>db</td><td>Mari</td><td>2016-07-21</td></tr>",
                            "<tr><td>07040051T</td><td>Ceruza háromszög </td><td>19</td><td>39</td><td>NULL</td><td>6</td><td>500</td><td>db</td><td>Mari</td><td>2016-07-21</td></tr>",
                            "<tr><td>07040052T</td><td>Ceruza 2H-3B Koh-i-nor</td><td>19</td><td>53</td><td>NULL</td><td>5</td><td>100</td><td>db</td><td>Sára</td><td>2016-07-23</td></tr>",
                            "<tr><td>07040053T</td><td>Ceruza HB radiros</td><td>19</td><td>23</td><td>NULL</td><td>5</td><td>200</td><td>db</td><td>Sára</td><td>2016-07-23</td></tr>",
                            "<tr><td>07040054T</td><td>Ceruza kártyás</td><td>19</td><td>55</td><td>NULL</td><td>7</td><td>100</td><td>db</td><td>Mari</td><td>2016-07-28</td></tr>",
                            "<tr><td>07040055T</td><td>Ceruza piros-kék</td><td>19</td><td>59</td><td>NULL</td><td>9</td><td>200</td><td>db</td><td>Sára</td><td>2016-08-02</td></tr>",
                            "<tr><td>07040056T</td><td>Ceruza piros-kék vékony</td><td>19</td><td>40</td><td>NULL</td><td>7</td><td>500</td><td>db</td><td>Sára</td><td>2016-08-02</td></tr>",
                            "<tr><td>07040057T</td><td>Ceruza Progresso</td><td>19</td><td>106</td><td>NULL</td><td>7</td><td>100</td><td>db</td><td>Sára</td><td>2016-08-02</td></tr>",
                            "<tr><td>07040058T</td><td>Ceruza radíros kínai</td><td>19</td><td>11</td><td>NULL</td><td>7</td><td>200</td><td>db</td><td>Sára</td><td>2016-08-02</td></tr>",
                            "<tr><td>07040059T</td><td>Ceruza smaragd</td><td>19</td><td>58</td><td>NULL</td><td>9</td><td>300</td><td>db</td><td>Sára</td><td>2016-08-02</td></tr>",
                            "<tr><td>07040060T</td><td>Ceruza stabilo swano</td><td>19</td><td>36</td><td>NULL</td><td>6</td><td>100</td><td>db</td><td>Sára</td><td>2016-08-02</td></tr>",
                            "<tr><td>07040061T</td><td>Ceruza stabilo opera</td><td>19</td><td>44</td><td>NULL</td><td>9</td><td>300</td><td>db</td><td>Sára</td><td>2016-07-30</td></tr>",
                            "<tr><td>07040097T</td><td>Filctoll </td><td>41</td><td>26</td><td>NULL</td><td>8</td><td>100</td><td>db</td><td>Béla</td><td>2016-07-29</td></tr>",
                            "<tr><td>07040098T</td><td>Filctoll document pen</td><td>41</td><td>278</td><td>NULL</td><td>5</td><td>100</td><td>db</td><td>Béla</td><td>2016-07-29</td></tr>",
                            "<tr><td>07040099T</td><td>Filctoll Edding 750</td><td>41</td><td>434</td><td>NULL</td><td>9</td><td>200</td><td>csomag</td><td>Sára</td><td>2016-07-29</td></tr>",
                            "<tr><td>07040100T</td><td>Filctoll Marvy alkoholos</td><td>41</td><td>390</td><td>NULL</td><td>5</td><td>200</td><td>db</td><td>Sára</td><td>2016-07-29</td></tr>",
                            "<tr><td>07040101T</td><td>Filctoll permanent vastag</td><td>41</td><td>140</td><td>NULL</td><td>9</td><td>700</td><td>db</td><td>Sára</td><td>2016-07-28</td></tr>",
                            "<tr><td>07040102T</td><td>Filctoll supra fine</td><td>41</td><td>46</td><td>NULL</td><td>7</td><td>100</td><td>db</td><td>Sára</td><td>2016-07-28</td></tr>",
                            "<tr><td>07040127T</td><td>G. toll betét mini</td><td>145</td><td>30</td><td>NULL</td><td>9</td><td>100</td><td>db</td><td>Sára</td><td>2016-07-28</td></tr>",
                            "<tr><td>07040128T</td><td>G. toll betét mini fém</td><td>145</td><td>55</td><td>NULL</td><td>6</td><td>100</td><td>db</td><td>Béla</td><td>2016-07-31</td></tr>",
                            "<tr><td>07040129T</td><td>G. toll betét réz</td><td>145</td><td>30</td><td>NULL</td><td>5</td><td>200</td><td>db</td><td>Béla</td><td>2016-07-31</td></tr>",
                            "<tr><td>07040130T</td><td>G. toll betét S7S</td><td>145</td><td>80</td><td>NULL</td><td>6</td><td>200</td><td>db</td><td>Béla</td><td>2016-07-31</td></tr>",
                            "<tr><td>07040131T</td><td>G. toll betét UNI lachnok Fine SA-7C</td><td>145</td><td>85</td><td>NULL</td><td>9</td><td>1900</td><td>db</td><td>Mari</td><td>2016-08-02</td></tr>",
                            "<tr><td>07040132T</td><td>G.toll betét csavaros</td><td>145</td><td>55</td><td>NULL</td><td>8</td><td>500</td><td>db</td><td>Mari</td><td>2016-08-02</td></tr>",
                            "<tr><td>07040133T</td><td>G.toll betét görbe hegyű</td><td>145</td><td>39</td><td>NULL</td><td>5</td><td>200</td><td>db</td><td>Sára</td><td>2016-08-05</td></tr>",
                            "<tr><td>07040134T</td><td>G.toll betét illatos</td><td>145</td><td>44</td><td>NULL</td><td>7</td><td>3500</td><td>db</td><td>Béla</td><td>2016-08-04</td></tr>",
                            "<tr><td>07040135T</td><td>G.toll betét Parker </td><td>145</td><td>684</td><td>NULL</td><td>6</td><td>4300</td><td>db</td><td>Mari</td><td>2016-08-08</td></tr>",
                            "<tr><td>07040165T</td><td>Golyóstoll UNI laknock</td><td>52</td><td>218</td><td>NULL</td><td>9</td><td>100</td><td>db</td><td>Sára</td><td>2016-08-12</td></tr>",
                            "<tr><td>07040166T</td><td>Golyóstoll Zebra 301</td><td>52</td><td>455</td><td>NULL</td><td>8</td><td>1400</td><td>db</td><td>Béla</td><td>2016-08-10</td></tr>",
                            "<tr><td>07040167T</td><td>Golyóstoll Zebra mini</td><td>52</td><td>655</td><td>NULL</td><td>9</td><td>400</td><td>db</td><td>Béla</td><td>2016-08-10</td></tr>",
                            "<tr><td>07040168T</td><td>Golyóstoll Zebra new hard</td><td>52</td><td>189</td><td>NULL</td><td>8</td><td>400</td><td>db</td><td>Béla</td><td>2016-08-10</td></tr>",
                            "<tr><td>07040169T</td><td>Golyóstoll Zodiák</td><td>52</td><td>94</td><td>NULL</td><td>8</td><td>1200</td><td>db</td><td>Béla</td><td>2016-08-14</td></tr>",
                            "<tr><td>07040215T</td><td>Ironbél  2B ICO</td><td>76</td><td>74</td><td>NULL</td><td>7</td><td>200</td><td>db</td><td>Béla</td><td>2016-08-14</td></tr>",
                            "<tr><td>07040216T</td><td>Ironbél B 0,5</td><td>76</td><td>36</td><td>NULL</td><td>5</td><td>400</td><td>db</td><td>Mari</td><td>2016-08-10</td></tr>",
                            "<tr><td>07040217T</td><td>Ironbél H 0,5</td><td>76</td><td>59</td><td>NULL</td><td>6</td><td>200</td><td>db</td><td>Béla</td><td>2016-08-09</td></tr>",
                            "<tr><td>07040218T</td><td>Ironbél HB 0,5</td><td>76</td><td>23</td><td>NULL</td><td>6</td><td>200</td><td>db</td><td>Béla</td><td>2016-08-13</td></tr>",
                            "<tr><td>07040219T</td><td>Ironbél HI-POLIMER HB 0,7</td><td>76</td><td>78</td><td>NULL</td><td>6</td><td>100</td><td>db</td><td>Béla</td><td>2016-08-12</td></tr>",
                            "<tr><td>07040257T</td><td>Lakk filc Edding 750</td><td>41</td><td>434</td><td>NULL</td><td>8</td><td>100</td><td>db</td><td>Mari</td><td>2016-08-11</td></tr>",
                            "<tr><td>07040388T</td><td>Tintapatron /kék/</td><td>143</td><td>9</td><td>NULL</td><td>7</td><td>200</td><td>csomag</td><td>Mari</td><td>2016-08-11</td></tr>",
                            "<tr><td>07040389T</td><td>Tintapatron 30 db-os kék</td><td>143</td><td>360</td><td>NULL</td><td>7</td><td>200</td><td>db</td><td>Mari</td><td>2016-08-11</td></tr>",
                            "<tr><td>07040390T</td><td>Tintapatron színes</td><td>143</td><td>11</td><td>NULL</td><td>9</td><td>200</td><td>db</td><td>Mari</td><td>2016-08-11</td></tr>",
                            "<tr><td>07040391T</td><td>Toll Centropen roller</td><td>144</td><td>80</td><td>NULL</td><td>9</td><td>200</td><td>db</td><td>Mari</td><td>2016-08-11</td></tr>",
                            "<tr><td>07050462T</td><td>Töltőtoll tinta </td><td>148</td><td>493</td><td>NULL</td><td>5</td><td>300</td><td>üveg</td><td>Mari</td><td>2016-08-13</td></tr>",
                            "<tr><td>07050463T</td><td>Ceruzafogó</td><td>78</td><td>36</td><td>NULL</td><td>8</td><td>700</td><td>db</td><td>Sára</td><td>2016-08-13</td></tr>",
                            "<tr><td>07050464T</td><td>Szövegkiemelő Staedtler</td><td>138</td><td>140</td><td>NULL</td><td>7</td><td>900</td><td>db</td><td>Sára</td><td>2016-08-13</td></tr>",
                            "<tr><td>07080062T</td><td>Ceruza szén</td><td>19</td><td>146</td><td>NULL</td><td>5</td><td>200</td><td>db</td><td>Sára</td><td>2016-08-12</td></tr>",
                            "<tr><td>07080063T</td><td>Ceruza szorzótáblás</td><td>19</td><td>35</td><td>NULL</td><td>7</td><td>100</td><td>db</td><td>Sára</td><td>2016-08-12</td></tr>",
                            "<tr><td>07080064T</td><td>Ceruza zöld színű</td><td>19</td><td>40</td><td>NULL</td><td>6</td><td>200</td><td>db</td><td>Béla</td><td>2016-08-17</td></tr>",
                            "<tr><td>07080065T</td><td>Ceruza kínai</td><td>19</td><td>11</td><td>NULL</td><td>8</td><td>100</td><td>db</td><td>Béla</td><td>2016-08-17</td></tr>",
                            "<tr><td>07080150T</td><td>Golyóstoll</td><td>52</td><td>51</td><td>NULL</td><td>6</td><td>100</td><td>db</td><td>Béla</td><td>2016-08-17</td></tr>",
                            "<tr><td>07080151T</td><td>Golyóstoll + ceruza Twister 2in1</td><td>52</td><td>390</td><td>NULL</td><td>9</td><td>200</td><td>db</td><td>Béla</td><td>2016-08-17</td></tr>",
                            "<tr><td>07080152T</td><td>Golyóstoll 3 funkciós </td><td>52</td><td>1019</td><td>NULL</td><td>5</td><td>400</td><td>db</td><td>Béla</td><td>2016-08-20</td></tr>",
                            "<tr><td>07080153T</td><td>Golyóstoll illatos ICO</td><td>52</td><td>41</td><td>NULL</td><td>8</td><td>100</td><td>db</td><td>Béla</td><td>2016-08-20</td></tr>",
                            "<tr><td>07080154T</td><td>Golyóstoll INOXCROM</td><td>52</td><td>401</td><td>NULL</td><td>6</td><td>300</td><td>db</td><td>Béla</td><td>2016-08-20</td></tr>",
                            "<tr><td>07080155T</td><td>Golyóstoll</td><td>52</td><td>33</td><td>NULL</td><td>5</td><td>100</td><td>db</td><td>Béla</td><td>2016-08-20</td></tr>",
                            "<tr><td>07080156T</td><td>Golyóstoll kupakos piros</td><td>52</td><td>23</td><td>NULL</td><td>8</td><td>900</td><td>db</td><td>Béla</td><td>2016-08-20</td></tr>",
                            "<tr><td>07080157T</td><td>Golyóstoll Montex Hytone</td><td>52</td><td>93</td><td>NULL</td><td>7</td><td>500</td><td>db</td><td>Béla</td><td>2016-08-20</td></tr>",
                            "<tr><td>07080158T</td><td>Golyóstoll Parker tokban</td><td>52</td><td>773</td><td>NULL</td><td>5</td><td>2000</td><td>db</td><td>Béla</td><td>2016-08-20</td></tr>",
                            "<tr><td>07080159T</td><td>Golyóstoll Pax tip.</td><td>52</td><td>63</td><td>NULL</td><td>8</td><td>200</td><td>db</td><td>Béla</td><td>2016-08-20</td></tr>",
                            "<tr><td>07080160T</td><td>Golyóstoll penac</td><td>52</td><td>239</td><td>NULL</td><td>7</td><td>200</td><td>db</td><td>Béla</td><td>2016-08-15</td></tr>",
                            "<tr><td>07080161T</td><td>Golyóstoll kétszínű</td><td>52</td><td>44</td><td>NULL</td><td>9</td><td>100</td><td>db</td><td>Béla</td><td>2016-08-16</td></tr>",
                            "<tr><td>07080162T</td><td>Golyóstoll Stabilo piros</td><td>52</td><td>101</td><td>NULL</td><td>6</td><td>700</td><td>db</td><td>Mari</td><td>2016-08-19</td></tr>",
                            "<tr><td>07080163T</td><td>Golyóstoll UNI átlátszó</td><td>52</td><td>230</td><td>NULL</td><td>5</td><td>6000</td><td>db</td><td>Mari</td><td>2016-08-21</td></tr>",
                            "<tr><td>07080164T</td><td>Golyóstoll UNI gumis</td><td>52</td><td>231</td><td>NULL</td><td>6</td><td>30000</td><td>db</td><td>Mari</td><td>2016-08-21</td></tr>",
                            "<tr><td>07080311T</td><td>Pixiron  UNI</td><td>118</td><td>276</td><td>NULL</td><td>8</td><td>22000</td><td>db</td><td>Mari</td><td>2016-08-21</td></tr>",
                            "<tr><td>07080312T</td><td>Pixiron 0,7 Handy</td><td>118</td><td>125</td><td>NULL</td><td>5</td><td>2000</td><td>db</td><td>Mari</td><td>2016-08-21</td></tr>",
                            "<tr><td>07080313T</td><td>Pixiron Centrum</td><td>118</td><td>59</td><td>NULL</td><td>9</td><td>12500</td><td>db</td><td>Mari</td><td>2016-08-21</td></tr>",
                            "<tr><td>07080314T</td><td>Pixiron Handy fém</td><td>118</td><td>133</td><td>NULL</td><td>8</td><td>12000</td><td>db</td><td>Mari</td><td>2016-08-21</td></tr>",
                            "<tr><td>07080315T</td><td>Pixiron Handy műanyag</td><td>118</td><td>94</td><td>NULL</td><td>8</td><td>25000</td><td>db</td><td>Mari</td><td>2016-08-22</td></tr>",
                            "<tr><td>07080316T</td><td>Pixiron KOH-I-NOOR</td><td>118</td><td>468</td><td>NULL</td><td>8</td><td>700</td><td>db</td><td>Sára</td><td>2016-08-25</td></tr>",
                            "<tr><td>07080317T</td><td>Pixiron mini </td><td>118</td><td>59</td><td>NULL</td><td>5</td><td>2000</td><td>db</td><td>Béla</td><td>2016-08-26</td></tr>",
                            "<tr><td>07080318T</td><td>Pixiron Penac</td><td>118</td><td>235</td><td>NULL</td><td>5</td><td>8000</td><td>db</td><td>Béla</td><td>2016-08-26</td></tr>",
                            "<tr><td>07080319T</td><td>Pixiron Pentel színes</td><td>118</td><td>299</td><td>NULL</td><td>7</td><td>4000</td><td>db</td><td>Béla</td><td>2016-08-26</td></tr>",
                            "<tr><td>07080418T</td><td>Zselés toll </td><td>154</td><td>95</td><td>NULL</td><td>7</td><td>4000</td><td>db</td><td>Béla</td><td>2016-08-26</td></tr>",
                            "<tr><td>07080419T</td><td>Zselés toll MICRO</td><td>154</td><td>66</td><td>NULL</td><td>9</td><td>6000</td><td>db</td><td>Sára</td><td>2016-08-22</td></tr>",
                            "<tr><td>07080420T</td><td>Zselés toll Muhnwa</td><td>154</td><td>161</td><td>NULL</td><td>7</td><td>2000</td><td>db</td><td>Mari</td><td>2016-08-21</td></tr>",
                            "<tr><td>07080421T</td><td>Zseléstoll Lizzy Card</td><td>154</td><td>228</td><td>NULL</td><td>7</td><td>100</td><td>csomag</td><td>Mari</td><td>2016-08-21</td></tr>",
                            "<tr><td>07080466T</td><td>Golyóstoll Stabiló 308</td><td>52</td><td>81</td><td>NULL</td><td>9</td><td>1000</td><td>db</td><td>Sára</td><td>2016-08-26</td></tr>",
                            "<tr><td>07080467T</td><td>Golyóstoll kétfunkciós ICO</td><td>52</td><td>273</td><td>NULL</td><td>8</td><td>8000</td><td>db</td><td>Sára</td><td>2016-08-22</td></tr>",
                            "<tr><td>07080468T</td><td>Golyóstoll háromfunkciós</td><td>52</td><td>110</td><td>NULL</td><td>6</td><td>7200</td><td>db</td><td>Sára</td><td>2016-08-22</td></tr>",
                            "<tr><td>07080469T</td><td>Golyóstoll UNIBALL 07</td><td>52</td><td>364</td><td>NULL</td><td>8</td><td>35000</td><td>db</td><td>Sára</td><td>2016-08-22</td></tr>",
                            "<tr><td>07080470T</td><td>Golyóstoll háromszög</td><td>52</td><td>188</td><td>NULL</td><td>7</td><td>15000</td><td>db</td><td>Sára</td><td>2016-08-21</td></tr>",
                            "<tr><td>07080471T</td><td>Golyóstoll levélbontós</td><td>52</td><td>294</td><td>NULL</td><td>7</td><td>50000</td><td>db</td><td>Béla</td><td>2016-08-23</td></tr>",
                            "<tr><td>08070472T</td><td>A föld amelyen élünk - Európa földrajza</td><td>4</td><td>1089</td><td>NULL</td><td>8</td><td>100</td><td>db</td><td>Béla</td><td>2016-08-23</td></tr>",
                            "<tr><td>08070473T</td><td>A föld amelyen élünk - Távoli földrészek</td><td>4</td><td>1089</td><td>NULL</td><td>6</td><td>200</td><td>db</td><td>Mari</td><td>2016-08-27</td></tr>",
                            "<tr><td>08070474T</td><td>A föld amelyen élünk - Hazánk földrajza</td><td>4</td><td>1089</td><td>NULL</td><td>5</td><td>100</td><td>db</td><td>Béla</td><td>2016-08-29</td></tr>",
                            "<tr><td>08070475T</td><td>A föld amelyen élünk - munkafüzet</td><td>100</td><td>440</td><td>NULL</td><td>5</td><td>9000</td><td>db</td><td>Béla</td><td>2016-08-29</td></tr>",
                            "<tr><td>08070476T</td><td>Anyanyelvi gyakorló 2</td><td>100</td><td>293</td><td>NULL</td><td>6</td><td>3900</td><td>db</td><td>Béla</td><td>2016-08-29</td></tr>",
                            "<tr><td>08070477T</td><td>Anyanyelvi gyakorló 3</td><td>100</td><td>353</td><td>NULL</td><td>6</td><td>1400</td><td>db</td><td>Sára</td><td>2016-09-03</td></tr>",
                            "<tr><td>08070478T</td><td>Összefoglaló feladatgyüjtemény számtech.</td><td>100</td><td>785</td><td>NULL</td><td>8</td><td>900</td><td>db</td><td>Béla</td><td>2016-08-29</td></tr>",
                            "<tr><td>08070479T</td><td>Fizika</td><td>4</td><td>674</td><td>NULL</td><td>7</td><td>200</td><td>db</td><td>Béla</td><td>2016-08-29</td></tr>",
                            "<tr><td>08070480T</td><td>Fizika 13 éveseknek</td><td>4</td><td>308</td><td>NULL</td><td>8</td><td>5000</td><td>db</td><td>Béla</td><td>2016-08-29</td></tr>",
                            "<tr><td>08070481T</td><td>Fizika munkafüzet 13 év.</td><td>100</td><td>198</td><td>NULL</td><td>7</td><td>500</td><td>db</td><td>Béla</td><td>2016-08-24</td></tr>",
                            "<tr><td>08070482T</td><td>Fizika munkafüzet 14 év.</td><td>100</td><td>190</td><td>NULL</td><td>5</td><td>500</td><td>db</td><td>Mari</td><td>2016-08-28</td></tr>",
                            "<tr><td>08070483T</td><td>Fizikai feladatok és tévedések</td><td>4</td><td>324</td><td>NULL</td><td>5</td><td>100</td><td>db</td><td>Béla</td><td>2016-08-25</td></tr>",
                            "<tr><td>08070484T</td><td>Fogalmazás lépésről lépésre</td><td>4</td><td>345</td><td>NULL</td><td>8</td><td>100</td><td>db</td><td>Béla</td><td>2016-08-24</td></tr>",
                            "<tr><td>08070485T</td><td>Jól felkészültem-e - Fizika</td><td>4</td><td>291</td><td>NULL</td><td>6</td><td>200</td><td>db</td><td>Béla</td><td>2016-08-22</td></tr>",
                            "<tr><td>08070486T</td><td>Matematika gyakorló 2</td><td>100</td><td>403</td><td>NULL</td><td>6</td><td>100</td><td>db</td><td>Béla</td><td>2016-08-19</td></tr>",
                            "<tr><td>08070487T</td><td>Matematika gyakorló 3</td><td>100</td><td>403</td><td>NULL</td><td>6</td><td>200</td><td>db</td><td>Mari</td><td>2016-08-17</td></tr>",
                            "<tr><td>08070488T</td><td>Matematika gyakorló 4</td><td>100</td><td>403</td><td>NULL</td><td>9</td><td>2000</td><td>db</td><td>Mari</td><td>2016-08-17</td></tr>",
                            "<tr><td>08070489T</td><td>RAMba zárt világ</td><td>4</td><td>868</td><td>NULL</td><td>8</td><td>4400</td><td>db</td><td>Mari</td><td>2016-08-17</td></tr>",
                            "<tr><td>08070490T</td><td>Szövegszerkesztés</td><td>4</td><td>691</td><td>NULL</td><td>8</td><td>100</td><td>db</td><td>Sára</td><td>2016-08-20</td></tr>",
                            "<tr><td>08070491T</td><td>Szám.tech. kicsiknek</td><td>4</td><td>214</td><td>NULL</td><td>8</td><td>1300</td><td>db</td><td>Sára</td><td>2016-08-20</td></tr>",
                            "<tr><td>08070492T</td><td>Informatika</td><td>4</td><td>735</td><td>NULL</td><td>9</td><td>100</td><td>db</td><td>Sára</td><td>2016-08-20</td></tr>",
                            "<tr><td>08070493T</td><td>Érettségi felv. fel. Matematika</td><td>4</td><td>720</td><td>NULL</td><td>5</td><td>100</td><td>db</td><td>Sára</td><td>2016-08-20</td></tr>",
                            "<tr><td>08070494T</td><td>Érettségi felv. fel. Fizika</td><td>4</td><td>440</td><td>NULL</td><td>6</td><td>400</td><td>db</td><td>Sára</td><td>2016-08-20</td></tr>",
                            "<tr><td>08070495T</td><td>Érettségi felv. fel. Biológia</td><td>4</td><td>440</td><td>NULL</td><td>9</td><td>100</td><td>db</td><td>Sára</td><td>2016-08-18</td></tr>",
                            "<tr><td>F001-KB101</td><td>férfi szövet kabát</td><td>38</td><td>22000</td><td>fekete (szövet) </td><td>1</td><td>173</td><td>db</td><td>Sára</td><td>2016-08-13</td></tr>",
                            "<tr><td>F007-NA201</td><td>férfi farmer nadrág</td><td>39</td><td>7890</td><td>kék (farmer) </td><td>3</td><td>105</td><td>db</td><td>Sára</td><td>2016-08-13</td></tr>",
                            "<tr><td>F013-NA207</td><td>férfi szövet nadrág</td><td>39</td><td>11900</td><td>barna (szövet) </td><td>1</td><td>389</td><td>db</td><td>Sára</td><td>2016-08-13</td></tr>",
                            "<tr><td>F021-IN215</td><td>férfi ing</td><td>37</td><td>6490</td><td>kék (pamut) </td><td>1</td><td>381</td><td>db</td><td>Mari</td><td>2016-08-13</td></tr>",
                            "<tr><td>G001-KB101</td><td>gyermek kabát (fiú)</td><td>55</td><td>8900</td><td>NULL</td><td>1</td><td>396</td><td>db</td><td>Sára</td><td>2016-08-08</td></tr>",
                            "<tr><td>G013-NA201</td><td>gyermek farmer nadrág (fiú)</td><td>56</td><td>4990</td><td>farmer </td><td>3</td><td>200</td><td>db</td><td>Sára</td><td>2016-08-13</td></tr>",
                            "<tr><td>G019-NA207</td><td>gyermek pamut nadrág (fiú)</td><td>56</td><td>1290</td><td>pamut </td><td>3</td><td>182</td><td>db</td><td>Sára</td><td>2016-08-13</td></tr>",
                            "<tr><td>G023-FE301</td><td>fiú alsó</td><td>35</td><td>390</td><td>mintás (pamut) </td><td>3</td><td>328</td><td>db</td><td>Sára</td><td>2016-08-13</td></tr>",
                            "<tr><td>G029-FE307</td><td>fiú zokni</td><td>35</td><td>240</td><td>mintás (pamut) </td><td>4</td><td>468</td><td>db</td><td>Sára</td><td>2016-08-13</td></tr>",
                            "<tr><td>G038-FE316</td><td>fiú harisnya</td><td>35</td><td>990</td><td>pókemeberes  </td><td>3</td><td>205</td><td>db</td><td>Sára</td><td>2016-08-13</td></tr>",
                            "<tr><td>G041-AL211</td><td>fiú ünneplős ruha</td><td>8</td><td>16900</td><td>NULL</td><td>4</td><td>297</td><td>db</td><td>Mari</td><td>2016-08-10</td></tr>",
                            "<tr><td>G048-PO218</td><td>gyermek póló (fiú)</td><td>57</td><td>3900</td><td>pókemeberes (pamut) </td><td>3</td><td>355</td><td>db</td><td>Mari</td><td>2016-08-10</td></tr>",
                            "<tr><td>G064-CI401</td><td>gyermek szandál (fiú)</td><td>54</td><td>6900</td><td>NULL</td><td>1</td><td>376</td><td>db</td><td>Sára</td><td>2016-08-05</td></tr>",
                            "<tr><td>G073-CI410</td><td>gyermek cipő (fiú)</td><td>54</td><td>7900</td><td>NULL</td><td>2</td><td>406</td><td>db</td><td>Sára</td><td>2016-08-03</td></tr>",
                            "<tr><td>G082-CI419</td><td>gyermek csizma (fiú)</td><td>54</td><td>8000</td><td>NULL</td><td>3</td><td>229</td><td>db</td><td>Sára</td><td>2016-08-03</td></tr>",
                            "<tr><td>L001-KB101</td><td>gyermek kabát (lány)</td><td>55</td><td>8900</td><td>rózsaszín  </td><td>1</td><td>78</td><td>db</td><td>Sára</td><td>2016-08-03</td></tr>",
                            "<tr><td>L013-NA201</td><td>gyermek farmer nadrág (lány)</td><td>56</td><td>4990</td><td>kék (farmer) </td><td>3</td><td>449</td><td>db</td><td>Béla</td><td>2016-08-02</td></tr>",
                            "<tr><td>L019-NA207</td><td>gyermek pamut nadrág (lány)</td><td>56</td><td>1290</td><td>rózsaszín (pamut) </td><td>1</td><td>162</td><td>db</td><td>Mari</td><td>2016-07-29</td></tr>",
                            "<tr><td>L023-FE301</td><td>lány alsó</td><td>35</td><td>390</td><td>pamut </td><td>1</td><td>369</td><td>db</td><td>Béla</td><td>2016-07-26</td></tr>",
                            "<tr><td>L029-FE307</td><td>lány zokni</td><td>35</td><td>240</td><td>fehér (pamut) </td><td>4</td><td>470</td><td>db</td><td>Béla</td><td>2016-07-27</td></tr>",
                            "<tr><td>L033-FE311</td><td>lány harisnya</td><td>35</td><td>990</td><td>fehér  </td><td>3</td><td>373</td><td>db</td><td>Sára</td><td>2016-07-23</td></tr>",
                            "<tr><td>L041-AL211</td><td>lány ünneplős ruha</td><td>8</td><td>16900</td><td>NULL</td><td>3</td><td>325</td><td>db</td><td>Sára</td><td>2016-07-20</td></tr>",
                            "<tr><td>L048-PO218</td><td>gyermek póló (lány)</td><td>57</td><td>3900</td><td>hercegnős (pamut) </td><td>3</td><td>113</td><td>db</td><td>Sára</td><td>2016-07-20</td></tr>",
                            "<tr><td>L064-CI401</td><td>gyermek szandál (lány)</td><td>54</td><td>6900</td><td>NULL</td><td>3</td><td>119</td><td>db</td><td>Mari</td><td>2016-07-17</td></tr>",
                            "<tr><td>L073-CI410</td><td>gyermek cipő (lány)</td><td>54</td><td>7900</td><td>NULL</td><td>3</td><td>323</td><td>db</td><td>Sára</td><td>2016-07-19</td></tr>",
                            "<tr><td>L082-CI419</td><td>gyermek csizma (lány)</td><td>54</td><td>8000</td><td>NULL</td><td>1</td><td>264</td><td>db</td><td>Sára</td><td>2016-07-19</td></tr>",
                            "<tr><td>N001-KB101</td><td>női szövet kabát</td><td>107</td><td>24000</td><td>piros (szövet) </td><td>1</td><td>77</td><td>db</td><td>Béla</td><td>2016-07-18</td></tr>",
                            "<tr><td>N008-NA201</td><td>női farmer nadrág</td><td>108</td><td>8290</td><td>kék (farmer) </td><td>2</td><td>289</td><td>db</td><td>Mari</td><td>2016-07-18</td></tr>",
                            "<tr><td>N019-FE301</td><td>női alsó</td><td>35</td><td>690</td><td>fekete (pamut) </td><td>2</td><td>53</td><td>db</td><td>Mari</td><td>2016-07-18</td></tr>",
                            "<tr><td>N029-AL212</td><td>női koktélruha</td><td>8</td><td>32000</td><td>fekete  </td><td>4</td><td>283</td><td>db</td><td>Mari</td><td>2016-07-18</td></tr>",
                            "<tr><td>N035-AL218</td><td>kosztüm (rövid)</td><td>88</td><td>39000</td><td>szürke  </td><td>3</td><td>369</td><td>db</td><td>Sára</td><td>2016-07-15</td></tr>",
                            "<tr><td>N039-AL222</td><td>kosztüm (hosszú)</td><td>88</td><td>46000</td><td>tört fehér  </td><td>2</td><td>238</td><td>db</td><td>Mari</td><td>2016-07-20</td></tr>",
                            "<tr><td>U001-KI501</td><td>sál</td><td>130</td><td>1990</td><td>sárga (kötött) </td><td>1</td><td>77</td><td>db</td><td>Mari</td><td>2016-07-15</td></tr>",
                            "</table>"
                        ]
                    }
                }
            ],
            "execution_count": 15
        },
        {
            "cell_type": "markdown",
            "source": [
                "4. <span style=\"color: rgb(36, 41, 47); font-family: -apple-system, BlinkMacSystemFont, &quot;Segoe UI&quot;, Helvetica, Arial, sans-serif, &quot;Apple Color Emoji&quot;, &quot;Segoe UI Emoji&quot;; font-size: 16px;\">Készítsünk listát a megrendelt termékek legkisebb és legnagyobb egységáráról szállítási dátum, azon belül szállítási mód szerinti bontásban!</span>\n",
                "\n",
                "1. A lista csak a 2015 májusi szállításokat tartalmazza!\n",
                "2. Jelenítsük meg a részösszegeket és a végösszeget is!"
            ],
            "metadata": {
                "azdata_cell_guid": "8e7fef82-8022-49a0-8255-fc2846c2134b"
            },
            "attachments": {}
        },
        {
            "cell_type": "code",
            "source": [
                ""
            ],
            "metadata": {
                "azdata_cell_guid": "36f7b396-4a1f-45e5-8720-2302537c91bc",
                "language": "sql"
            },
            "outputs": [],
            "execution_count": null
        },
        {
            "cell_type": "markdown",
            "source": [
                "5. <span style=\"color: rgb(36, 41, 47); font-family: -apple-system, BlinkMacSystemFont, &quot;Segoe UI&quot;, Helvetica, Arial, sans-serif, &quot;Apple Color Emoji&quot;, &quot;Segoe UI Emoji&quot;; font-size: 16px;\">Készítsünk csoportot a termékek listaára alapján a következők szerint:&nbsp;<br></span> <span style=\"color: rgb(36, 41, 47); font-family: -apple-system, BlinkMacSystemFont, &quot;Segoe UI&quot;, Helvetica, Arial, sans-serif, &quot;Apple Color Emoji&quot;, &quot;Segoe UI Emoji&quot;; font-size: 16px;\">Az \"olcsó\" termékek legyenek azok, amelyek listaára 3000 alatt van.<br>&nbsp;A \"drága\" termékek legyenek az 5000 felettiek, a többi legyen \"közepes\".</span>\n",
                "\n",
                "1. Listázzuk az egyes csoportokat, és a csoportokba tartozó termékek darabszámát!\n",
                "2. A lista jelenítse meg a végösszeget is!"
            ],
            "metadata": {
                "azdata_cell_guid": "84239ca2-6b5e-49f5-9860-d44c11d6de32"
            },
            "attachments": {}
        },
        {
            "cell_type": "code",
            "source": [
                ""
            ],
            "metadata": {
                "azdata_cell_guid": "06d9a62b-9430-424b-a135-d80e675f0eb3",
                "language": "sql"
            },
            "outputs": [],
            "execution_count": null
        },
        {
            "cell_type": "markdown",
            "source": [
                "6. <span style=\"font-weight: 600; color: rgb(36, 41, 47); font-family: -apple-system, BlinkMacSystemFont, &quot;Segoe UI&quot;, Helvetica, Arial, sans-serif, &quot;Apple Color Emoji&quot;, &quot;Segoe UI Emoji&quot;; font-size: 16px;\">Készítsünk listát az ügyfelek adatairól név szerinti sorrendben.</span>\n",
                "\n",
                "1. Minden sorban jelenjen meg a sorrend szerint előző, illetve következő ügyfél neve is.\n",
                "2. Ha nincs előző vagy következő ügyfél, akkor a 'Nincs' jelenjen meg!"
            ],
            "metadata": {
                "azdata_cell_guid": "b0d15045-3c43-4f3a-b8d4-76b4f24e5546"
            },
            "attachments": {}
        },
        {
            "cell_type": "code",
            "source": [
                ""
            ],
            "metadata": {
                "azdata_cell_guid": "f2b7400d-1255-40ac-9250-4d57f9da5357",
                "language": "sql"
            },
            "outputs": [],
            "execution_count": null
        },
        {
            "cell_type": "markdown",
            "source": [
                "7. <span style=\"font-weight: 600; color: rgb(36, 41, 47); font-family: -apple-system, BlinkMacSystemFont, &quot;Segoe UI&quot;, Helvetica, Arial, sans-serif, &quot;Apple Color Emoji&quot;, &quot;Segoe UI Emoji&quot;; font-size: 16px;\">Készítsünk lekérdezést, amely megmutatja, hogy melyik termékkategóriába hány termék tartozik. A lista a kategória nevét és a darabszámot jelenítse meg.</span>\n",
                "\n",
                "1. A lista ne tartalmazzon duplikált sorokat.\n",
                "2. A feladatot partíciók segítségével oldjuk meg!"
            ],
            "metadata": {
                "azdata_cell_guid": "7ebf7ddd-1bd2-4246-815a-be8ae37e3b5b"
            },
            "attachments": {}
        },
        {
            "cell_type": "code",
            "source": [
                ""
            ],
            "metadata": {
                "azdata_cell_guid": "84b7e896-f36e-4985-88f5-e0f706494fef",
                "language": "sql"
            },
            "outputs": [],
            "execution_count": null
        },
        {
            "cell_type": "markdown",
            "source": [
                "8. <span style=\"font-weight: 600; color: rgb(36, 41, 47); font-family: -apple-system, BlinkMacSystemFont, &quot;Segoe UI&quot;, Helvetica, Arial, sans-serif, &quot;Apple Color Emoji&quot;, &quot;Segoe UI Emoji&quot;; font-size: 16px;\">Készítsünk listát a rendelési tételekről. Az egyes rendelési tételeket termékenként soroljuk be 4 osztályba a rendelés mennyisége alapján. Jelenítsük meg ezt az információt is egy új oszlopban, az oszlop neve legyen 'Mennyiségi kategória'.</span>\n",
                "\n",
                "1. A lista csak a 100 Ft feletti egységárú rendelési tételeket vegye figyelembe!"
            ],
            "metadata": {
                "azdata_cell_guid": "27a3d3dc-eafb-4a5e-b103-9f465b9eda8f"
            },
            "attachments": {}
        },
        {
            "cell_type": "code",
            "source": [
                ""
            ],
            "metadata": {
                "azdata_cell_guid": "f09edb3f-649b-4a96-958e-9e12774ae8b7",
                "language": "sql"
            },
            "outputs": [],
            "execution_count": null
        },
        {
            "cell_type": "markdown",
            "source": [
                "9. <span style=\"font-weight: 600; color: rgb(36, 41, 47); font-family: -apple-system, BlinkMacSystemFont, &quot;Segoe UI&quot;, Helvetica, Arial, sans-serif, &quot;Apple Color Emoji&quot;, &quot;Segoe UI Emoji&quot;; font-size: 16px;\">Listázzuk a termékek kódját, megnevezését, kategóriájának nevét, és listaárát.</span>\n",
                "\n",
                "1. A listát egészítsük ki két új oszloppal, amelyek a kategória legolcsóbb, illetve legdrágább termékének árát tartalmazzák.\n",
                "2. A két új oszlop létrehozásánál partíciókkal dolgozzunk!"
            ],
            "metadata": {
                "azdata_cell_guid": "f12a331a-0e26-4d3d-9c68-812316286577"
            },
            "attachments": {}
        },
        {
            "cell_type": "code",
            "source": [
                ""
            ],
            "metadata": {
                "azdata_cell_guid": "10a77fc9-e61a-46fc-a401-59720d82bc50",
                "language": "sql"
            },
            "outputs": [],
            "execution_count": null
        },
        {
            "cell_type": "markdown",
            "source": [
                "10. <span style=\"font-weight: 600; color: rgb(36, 41, 47); font-family: -apple-system, BlinkMacSystemFont, &quot;Segoe UI&quot;, Helvetica, Arial, sans-serif, &quot;Apple Color Emoji&quot;, &quot;Segoe UI Emoji&quot;; font-size: 16px;\">Készítsünk listát a rendelésekről. A lista legyen rendezve ügyfelenként (LOGIN), azon belül a rendelés dátuma szerint. A listához készítsünk sorszámozást is. A sorszám a következő formában jelenjen meg: sorszám_év_login. Pl: 1_2015_adam1</span>\n",
                "\n",
                "1. A számozás login-onként, azon belül rendelési évenként kezdődjön újra.\n",
                "2. A sorszám oszlop neve legyen Azonosító"
            ],
            "metadata": {
                "azdata_cell_guid": "9229e2b6-e200-4499-b95b-2d0222149831"
            },
            "attachments": {}
        },
        {
            "cell_type": "code",
            "source": [
                ""
            ],
            "metadata": {
                "azdata_cell_guid": "8b49ed67-28c6-4880-82a8-cd369e5bba99",
                "language": "sql"
            },
            "outputs": [],
            "execution_count": null
        },
        {
            "cell_type": "markdown",
            "source": [
                "11. <span style=\"color: rgb(36, 41, 47); font-family: -apple-system, BlinkMacSystemFont, &quot;Segoe UI&quot;, Helvetica, Arial, sans-serif, &quot;Apple Color Emoji&quot;, &quot;Segoe UI Emoji&quot;; font-size: 16px;\">Készítsünk listát a termékek adatairól listaár szerint növekvő sorrendben! A lista jelenítse meg két új oszlopban a sorrend szerint előző, illetve következő termék listaárát is a termék saját kategóriájában és raktárában!</span>\n",
                "\n",
                "1. Ahol nincs előző vagy következő érték, ott 0 jelenjen meg!\n",
                "2. Az oszlopokat nevezzük el értelemszerűen!"
            ],
            "metadata": {
                "azdata_cell_guid": "7f5fc7a7-3b6a-4d89-b292-490830afb0c6"
            },
            "attachments": {}
        },
        {
            "cell_type": "code",
            "source": [
                ""
            ],
            "metadata": {
                "azdata_cell_guid": "4a9ece40-f782-4c0d-92cd-9c21969067ed",
                "language": "sql"
            },
            "outputs": [],
            "execution_count": null
        },
        {
            "cell_type": "markdown",
            "source": [
                "12. <span style=\"color: rgb(36, 41, 47); font-family: -apple-system, BlinkMacSystemFont, &quot;Segoe UI&quot;, Helvetica, Arial, sans-serif, &quot;Apple Color Emoji&quot;, &quot;Segoe UI Emoji&quot;; font-size: 16px;\">Listázzuk a termékek kódját, nevét és listaárát listaár szerinti sorrendben!</span>\n",
                "\n",
                "1. Vegyünk fel egy új oszlopot Mozgóátlag néven, amely minden esetben az aktuális termék, az előző, és a következő termék átlagárát tartalmazza!\n",
                "2. A mozgóátlagot kerekítsük két tizedesre!"
            ],
            "metadata": {
                "azdata_cell_guid": "5a483c52-bb98-44bb-bd03-1146d4b0abfa"
            },
            "attachments": {}
        },
        {
            "cell_type": "code",
            "source": [
                ""
            ],
            "metadata": {
                "azdata_cell_guid": "dd6e89bd-08f9-4b18-8460-03c45b503df0",
                "language": "sql"
            },
            "outputs": [],
            "execution_count": null
        },
        {
            "cell_type": "markdown",
            "source": [
                "13. <span style=\"color: rgb(36, 41, 47); font-family: -apple-system, BlinkMacSystemFont, &quot;Segoe UI&quot;, Helvetica, Arial, sans-serif, &quot;Apple Color Emoji&quot;, &quot;Segoe UI Emoji&quot;; font-size: 16px;\">Készítsünk listát, amely a rendelések sorszámát és a rendelés értékét tartalmazza. A listát egészítsük ki egy új oszloppal, amely minden rendelés esetén addigi rendelések összegét tartalmazza (az aktuálisat is beleértve)!</span>\n",
                "\n",
                "1. A listát rendezzük sorszám szerint növekvő sorrendbe.\n",
                "2. A lista ne tartalmazzon duplikált sorokat!"
            ],
            "metadata": {
                "azdata_cell_guid": "85d5cb66-96c6-42de-99cf-85ab22d08548"
            },
            "attachments": {}
        },
        {
            "cell_type": "code",
            "source": [
                ""
            ],
            "metadata": {
                "azdata_cell_guid": "cb07d64b-0eaa-498b-b4d2-0b46971e95ce",
                "language": "sql"
            },
            "outputs": [],
            "execution_count": null
        },
        {
            "cell_type": "markdown",
            "source": [
                "14. <span style=\"color: rgb(36, 41, 47); font-family: -apple-system, BlinkMacSystemFont, &quot;Segoe UI&quot;, Helvetica, Arial, sans-serif, &quot;Apple Color Emoji&quot;, &quot;Segoe UI Emoji&quot;; font-size: 16px;\">Készítsünk listát a termékek kódjáról, nevéről, kategória azonosítójáról, raktár azonosítójáról és listaáráról, valamint a termék adott szempontok szerinti rangsorokban elfoglalt helyezéseiről. (Szempontonként külön oszlopban, a helyezéseknél növekvő sorrendet feltételezve). A szempontok a következők legyenek: listaár, kategória szerinti listaár, és raktárkód szerinti listaár.</span>\n",
                "\n",
                "1. Az oszlopokat nevezzük el értelemszerűen.\n",
                "2. A helyezések egyenlőség esetén \"sűrűn\" kövessék egymást.\n",
                "3. A lista legyen rendezett kategória azonosító, azon belül listaár szerint!"
            ],
            "metadata": {
                "azdata_cell_guid": "f95ad665-a807-4099-bf06-64ed974f866f"
            },
            "attachments": {}
        },
        {
            "cell_type": "code",
            "source": [
                ""
            ],
            "metadata": {
                "azdata_cell_guid": "74c7ec8a-ae4a-4d03-b1c4-e8f6bb1be12c",
                "language": "sql"
            },
            "outputs": [],
            "execution_count": null
        },
        {
            "cell_type": "markdown",
            "source": [
                "15. <span style=\"color: rgb(36, 41, 47); font-family: -apple-system, BlinkMacSystemFont, &quot;Segoe UI&quot;, Helvetica, Arial, sans-serif, &quot;Apple Color Emoji&quot;, &quot;Segoe UI Emoji&quot;; font-size: 16px;\">Készítsünk listát a rendelési tételekről, amely minden sor esetén göngyölítve tartalmazza az ügyfél adott rendelési tételig meglévő rendelési tételeinek összértékét!</span>\n",
                "\n",
                "1. Az új oszlop neve legyen Eddigi rendelési tételek összértéke!\n",
                "2. Az ügyfél neve is jelenjen meg!"
            ],
            "metadata": {
                "azdata_cell_guid": "93552388-ffec-49ff-99e5-ae8dc8072601"
            },
            "attachments": {}
        },
        {
            "cell_type": "code",
            "source": [
                ""
            ],
            "metadata": {
                "azdata_cell_guid": "0e7f547f-7d96-4611-b1c2-0fa84a581e79",
                "language": "sql"
            },
            "outputs": [],
            "execution_count": null
        }
    ]
}